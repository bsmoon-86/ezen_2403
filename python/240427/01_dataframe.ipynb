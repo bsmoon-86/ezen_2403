{
 "cells": [
  {
   "cell_type": "markdown",
   "metadata": {},
   "source": [
    "### 데이터프레임의 결합\n",
    "- 유니언 결합 \n",
    "    - 단순하게 행을 결합하거나 열을 결합\n",
    "    - pandas 안에 있는 concat()\n",
    "        - 첫번째 인자 : 결합한 데이터프레임을 리스트 형태\n",
    "        - axis 매개변수 : 0(행을 추가하는 결합), 1(열을 추가하는 결합)\n",
    "        - ignore_index : False(기본값) (axis를 기준으로 행을 초기화 할것인가 열을 초기화할것인가 지정)\n",
    "- 조인 결합\n",
    "    - 특정한 조건에 맞춰서 데이터프레임을 열을 추가하는 결합 \n",
    "    - 데이터프레임 + 데이터프레임 -> 특정 컬럼의 데이터들이 같은 값들로 이루어져있는 경우 열을 추가\n",
    "    - pandas 안에 있는 merge()\n",
    "        - 첫번째 인자 : 데이터프레임명\n",
    "        - 두번째 인자 : 데이터프레임명 \n",
    "        - on 매개변수 : 조건식(컬럼의 이름)\n",
    "            - left_on : 첫번째 데이터프레임의 컬럼명\n",
    "            - right_on : 두번째 데이터프레임의 컬럼명\n",
    "        - how 매개변수 : left, right, inner, outer"
   ]
  },
  {
   "cell_type": "code",
   "execution_count": null,
   "metadata": {},
   "outputs": [],
   "source": [
    "import pandas as pd"
   ]
  },
  {
   "cell_type": "code",
   "execution_count": null,
   "metadata": {},
   "outputs": [],
   "source": [
    "data = {\n",
    "    'name' : ['test', 'test2', 'test3'], \n",
    "    'age' : [20, 30, 40]\n",
    "}\n",
    "df1 = pd.DataFrame(data)\n",
    "df1"
   ]
  },
  {
   "cell_type": "code",
   "execution_count": null,
   "metadata": {},
   "outputs": [],
   "source": [
    "data2 = {\n",
    "    'name' : ['test4', 'test5'], \n",
    "    'loc' : ['seoul', 'busan']\n",
    "}\n",
    "df2 = pd.DataFrame(data2)\n",
    "df2"
   ]
  },
  {
   "cell_type": "code",
   "execution_count": null,
   "metadata": {},
   "outputs": [],
   "source": [
    "# 유니언 결합 (단순한 행 결합)\n",
    "pd.concat( [df1, df2], axis=0, ignore_index=True )"
   ]
  },
  {
   "cell_type": "code",
   "execution_count": null,
   "metadata": {},
   "outputs": [],
   "source": [
    "# 유니언 결합 (단순한 열 결합)\n",
    "pd.concat( [df1, df2], axis=1, ignore_index=True )"
   ]
  },
  {
   "cell_type": "code",
   "execution_count": null,
   "metadata": {},
   "outputs": [],
   "source": [
    "data3 = {\n",
    "    'name' : ['test6', 'test7'], \n",
    "    'age' : [25, 35], \n",
    "    'loc' : ['ulsan', 'sangju']\n",
    "}\n",
    "df3 = pd.DataFrame(data3)\n",
    "df3"
   ]
  },
  {
   "cell_type": "code",
   "execution_count": null,
   "metadata": {},
   "outputs": [],
   "source": [
    "# 3개의 데이터프레임을 결합(행 결합)\n",
    "pd.concat( [df1, df2, df3], axis=0, ignore_index=True)"
   ]
  },
  {
   "cell_type": "code",
   "execution_count": null,
   "metadata": {},
   "outputs": [],
   "source": [
    "data4 = {\n",
    "    'id' : ['test', 'test2', 'test3', 'test4'], \n",
    "    'item' : ['A', 'B', 'A', 'D']\n",
    "}\n",
    "df4 = pd.DataFrame(data4)\n",
    "df4"
   ]
  },
  {
   "cell_type": "code",
   "execution_count": null,
   "metadata": {},
   "outputs": [],
   "source": [
    "data5 = {\n",
    "    'item' : ['A', 'B', 'C'], \n",
    "    'price' : [1000, 2000, 3000]\n",
    "}\n",
    "df5 = pd.DataFrame(data5)\n",
    "df5"
   ]
  },
  {
   "cell_type": "code",
   "execution_count": null,
   "metadata": {},
   "outputs": [],
   "source": [
    "# 조인결합 (특정 조건에 맞춰서 열을 결합) : 2개의 데이터프레임을 결합\n",
    "pd.merge( df4, df5, on = 'item', how='right' )"
   ]
  },
  {
   "cell_type": "code",
   "execution_count": null,
   "metadata": {},
   "outputs": [],
   "source": [
    "data6 = {\n",
    "    'id' : ['test', 'test4', 'test3', 'test2'], \n",
    "    'name' : ['kim', 'park', 'lee', 'choi']\n",
    "}\n",
    "df6 = pd.DataFrame(data6)\n",
    "df6"
   ]
  },
  {
   "cell_type": "code",
   "execution_count": null,
   "metadata": {},
   "outputs": [],
   "source": [
    "# 조인결합을 이용하여 3개의 데이터프레임을 결합\n",
    "# 조인결합은 2개의 데이터프레임만 결합이 가능하기 때문에 merge함수를 2번 사용\n",
    "join_df = pd.merge(df4, df5, on='item', how='left')\n",
    "join_df"
   ]
  },
  {
   "cell_type": "code",
   "execution_count": null,
   "metadata": {},
   "outputs": [],
   "source": [
    "pd.merge(join_df, df6, on='id', how='right')"
   ]
  },
  {
   "cell_type": "code",
   "execution_count": null,
   "metadata": {},
   "outputs": [],
   "source": [
    "from glob import glob"
   ]
  },
  {
   "cell_type": "code",
   "execution_count": null,
   "metadata": {},
   "outputs": [],
   "source": [
    "# 파일의 목록 로드 \n",
    "file_list = glob('../csv/2017/*.csv')\n",
    "file_list"
   ]
  },
  {
   "cell_type": "code",
   "execution_count": null,
   "metadata": {},
   "outputs": [],
   "source": [
    "# 비어있는 데이터프레임을 생성\n",
    "df2017 = pd.DataFrame()\n",
    "# file_list를 이용하여 반복문을 생성 \n",
    "for file in file_list:\n",
    "    # print(file)\n",
    "    df = pd.read_csv(file)\n",
    "    # df2017에 df 데이터를 추가(df2017과 df를 단순한 행 결합)\n",
    "    df2017 = pd.concat([df2017, df], axis=0, ignore_index=True)"
   ]
  },
  {
   "cell_type": "code",
   "execution_count": null,
   "metadata": {},
   "outputs": [],
   "source": [
    "df2017.info()"
   ]
  },
  {
   "cell_type": "code",
   "execution_count": null,
   "metadata": {},
   "outputs": [],
   "source": [
    "import os"
   ]
  },
  {
   "cell_type": "code",
   "execution_count": null,
   "metadata": {},
   "outputs": [],
   "source": [
    "## 특정 디렉토리의 데이터 파일들을 결합하는 함수 생성\n",
    "# 매개변수\n",
    "    # 특정 경로 (_path)\n",
    "    # encoding engine (_encoding = 'UTF-8')\n",
    "def dir_load(_path, _encoding = 'UTF-8'):\n",
    "    # _path에서 확장자 부분만 따로 추출\n",
    "    # 경로와 파일의 이름을 분리 \n",
    "    # ex) ../csv/corona.csv -> (../csv/, corona.csv)\n",
    "    dir, file_name = os.path.split(_path)\n",
    "    # print(dir, file_name)\n",
    "    # 파일의 이름에서 확장자를 분리\n",
    "    # ex) corona.csv -> (corona, .csv)\n",
    "    head, tail = os.path.splitext(file_name)\n",
    "    # print(head, tail)\n",
    "\n",
    "    # 비어있는 데이터프레임 생성\n",
    "    result = pd.DataFrame()\n",
    "\n",
    "    # _path를 이용하여 파일의 목록을 로드 \n",
    "    file_list = glob(_path)\n",
    "    # print(file_list)\n",
    "\n",
    "    # file_list를 기준으로 반복문을 생성 \n",
    "    for file in file_list:\n",
    "        # tail이 csv라면 read_csv()를 이용\n",
    "        if tail == '.csv':\n",
    "            df = pd.read_csv(file, encoding=_encoding)\n",
    "        # tail이 json이라면 read_json()을 이용\n",
    "        elif tail == '.json':\n",
    "            df = pd.read_json(file, encoding=_encoding)\n",
    "        # tail이 xml이라면 read_xml()을 이용\n",
    "        elif tail == '.xml':\n",
    "            df = pd.read_xml(file, encoding=_encoding)\n",
    "        # tail이 .xlsx이거나 .xls라면 read_excel()을 이용\n",
    "        # elif (tail == '.xlsx') | (tail == '.xls'):\n",
    "        elif tail in ['.xlsx', 'xls']:\n",
    "            df = pd.read_excel(file)\n",
    "        else:\n",
    "            print('지원하지 않는 확장자입니다.')\n",
    "            break\n",
    "        # df를 result에 단순한 행 결합 \n",
    "        result = pd.concat([result, df], axis=0)\n",
    "    # result의 인덱스를 초기화하고 기존의 인덱스는 제거 \n",
    "    result.reset_index(drop=True, inplace=True)\n",
    "    # result를 되돌려준다\n",
    "    return result"
   ]
  },
  {
   "cell_type": "code",
   "execution_count": null,
   "metadata": {},
   "outputs": [],
   "source": [
    "df_2017 = dir_load(\"../csv/2017/*.csv\")"
   ]
  },
  {
   "cell_type": "code",
   "execution_count": null,
   "metadata": {},
   "outputs": [],
   "source": [
    "df_2017.info()"
   ]
  },
  {
   "cell_type": "code",
   "execution_count": null,
   "metadata": {},
   "outputs": [],
   "source": [
    "df_2021 = dir_load(\"../csv/2021/*.json\")"
   ]
  },
  {
   "cell_type": "code",
   "execution_count": null,
   "metadata": {},
   "outputs": [],
   "source": [
    "df_2021.info()"
   ]
  },
  {
   "cell_type": "code",
   "execution_count": null,
   "metadata": {},
   "outputs": [],
   "source": [
    "df_2021.head()"
   ]
  },
  {
   "cell_type": "code",
   "execution_count": null,
   "metadata": {},
   "outputs": [],
   "source": [
    "card_df = dir_load('../csv/card/*.csv', _encoding='cp949')"
   ]
  },
  {
   "cell_type": "code",
   "execution_count": null,
   "metadata": {},
   "outputs": [],
   "source": [
    "card_df"
   ]
  },
  {
   "cell_type": "code",
   "execution_count": null,
   "metadata": {},
   "outputs": [],
   "source": [
    "# 모듈을 로드 \n",
    "import data_load as dl"
   ]
  },
  {
   "cell_type": "code",
   "execution_count": null,
   "metadata": {},
   "outputs": [],
   "source": [
    "dl.dir_load('../csv/2018/*.csv')"
   ]
  },
  {
   "cell_type": "code",
   "execution_count": null,
   "metadata": {},
   "outputs": [],
   "source": []
  }
 ],
 "metadata": {
  "kernelspec": {
   "display_name": "Python 3",
   "language": "python",
   "name": "python3"
  },
  "language_info": {
   "codemirror_mode": {
    "name": "ipython",
    "version": 3
   },
   "file_extension": ".py",
   "mimetype": "text/x-python",
   "name": "python",
   "nbconvert_exporter": "python",
   "pygments_lexer": "ipython3",
   "version": "3.11.4"
  }
 },
 "nbformat": 4,
 "nbformat_minor": 2
}
