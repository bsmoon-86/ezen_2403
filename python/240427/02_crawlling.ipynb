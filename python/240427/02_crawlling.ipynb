{
 "cells": [
  {
   "cell_type": "markdown",
   "metadata": {},
   "source": [
    "### 웹 크롤링 \n",
    "- 특정 주소로 요청을 보내고 받아온 응답 메시지(html)안에서 특정 위치의 데이터를 추출 \n",
    "- 사용이 되는 라이브러리 : requests, bs4 (정적 웹페이지), selenium (동적 웹페이지)\n",
    "\n",
    "### bs4\n",
    "- bs4 라이브러리 안에 있는 BeautifulSoup Class를 사용\n",
    "- html로 이루어진 문자형 데이터를 parsing(데이터의 형태를 변환) 작업을 하여 데이터를 쉽게 추출하기 위한 Class\n",
    "- html의 TAG를 기준으로 데이터(contents)에 쉽게 접근 \n",
    "- 웹의 구조를 어느정도 인지하고 사용을 하게 되면 쉽게 사용\n",
    "- Parser를 활용하여 python에서 접근이 쉽게 객체(변수+함수)의 형태로 제공"
   ]
  },
  {
   "cell_type": "code",
   "execution_count": null,
   "metadata": {},
   "outputs": [],
   "source": [
    "import requests"
   ]
  },
  {
   "cell_type": "code",
   "execution_count": null,
   "metadata": {},
   "outputs": [],
   "source": [
    "# 요청을 보낼 주소를 변수에 저장 \n",
    "url = 'https://www.naver.com'\n",
    "# 요청을 보내고 응답 메시지를 변수에 저장 \n",
    "response = requests.get(url)"
   ]
  },
  {
   "cell_type": "code",
   "execution_count": null,
   "metadata": {},
   "outputs": [],
   "source": [
    "from pprint import pprint"
   ]
  },
  {
   "cell_type": "code",
   "execution_count": null,
   "metadata": {},
   "outputs": [],
   "source": [
    "pprint(response.text)"
   ]
  },
  {
   "cell_type": "code",
   "execution_count": null,
   "metadata": {},
   "outputs": [],
   "source": [
    "print(type(response.text))"
   ]
  },
  {
   "cell_type": "code",
   "execution_count": null,
   "metadata": {},
   "outputs": [],
   "source": [
    "html_data = response.text"
   ]
  },
  {
   "cell_type": "code",
   "execution_count": null,
   "metadata": {},
   "outputs": [],
   "source": [
    "# html_data에서 '네이버' 문자열을 추출\n",
    "# '네이버'의 위치를 확인 \n",
    "print(html_data.index('네이버'))\n",
    "print(html_data.find('네이버'))"
   ]
  },
  {
   "cell_type": "code",
   "execution_count": null,
   "metadata": {},
   "outputs": [],
   "source": [
    "html_data[378:400]"
   ]
  },
  {
   "cell_type": "code",
   "execution_count": null,
   "metadata": {},
   "outputs": [],
   "source": [
    "# bs4 라이브러리 설치 \n",
    "# !pip install bs4"
   ]
  },
  {
   "cell_type": "code",
   "execution_count": null,
   "metadata": {},
   "outputs": [],
   "source": [
    "from bs4 import BeautifulSoup as bs"
   ]
  },
  {
   "cell_type": "code",
   "execution_count": null,
   "metadata": {},
   "outputs": [],
   "source": [
    "# html로 이루어진 문자열 데이터를 bs Class에 대입 \n",
    "# 생성자 함수에는 2개의 인자값 대입 \n",
    "# html로 이루어진 문자열, Parser 지정 \n",
    "soup = bs(html_data, 'html.parser')"
   ]
  },
  {
   "cell_type": "code",
   "execution_count": null,
   "metadata": {},
   "outputs": [],
   "source": [
    "type(soup)"
   ]
  },
  {
   "cell_type": "markdown",
   "metadata": {},
   "source": [
    "- BeautifulSoup Class\n",
    "    - soup.태그명 : 해당 태그명의 첫번째 태그를 출력\n",
    "    - soup.태그명.string : 첫번째 태그에서 contents를 출력\n",
    "        - ex) `<p>test</p>` --> test\n",
    "    - soup.태그명['속성명'] : 첫번째 태그에서 해당 속성의 값을 출력 \n",
    "        - ex) `<a href='https://www.google.com'>구글</a>` --> https://www.google.com"
   ]
  },
  {
   "cell_type": "code",
   "execution_count": null,
   "metadata": {},
   "outputs": [],
   "source": [
    "soup.a"
   ]
  },
  {
   "cell_type": "code",
   "execution_count": null,
   "metadata": {},
   "outputs": [],
   "source": [
    "soup.a.string"
   ]
  },
  {
   "cell_type": "code",
   "execution_count": null,
   "metadata": {},
   "outputs": [],
   "source": [
    "soup.a['href']"
   ]
  },
  {
   "cell_type": "markdown",
   "metadata": {},
   "source": [
    "- Class 안에 함수 \n",
    "    - find()\n",
    "        - html 데이터에서 특정 태그의 첫번째 정보를 출력\n",
    "        - find(속성명 = 속성값) : 태그들 중에 해당 속성명과 속성의 값이 같은 첫번째 태그의 정보를 출력 \n",
    "        - 결과 값의 타입이 TAG 형태로 출력 \n",
    "        - find 함수는 TAG, BeautifulSoup 형태의 데이터에서 사용이 가능\n",
    "    - find_all()\n",
    "        - html 데이터에서 특정 태그의 모든 정보를 출력 \n",
    "        - limit 매개변수 : 출력하는 데이터의 개수를 지정 \n",
    "        - 결과 값의 타입이 TAG들이 모여있는 리스트와 흡사한 ResultSet 형태로 출력\n",
    "    - get_text()\n",
    "        - TAG형태의 데이터에서 contents만 추출"
   ]
  },
  {
   "cell_type": "code",
   "execution_count": null,
   "metadata": {},
   "outputs": [],
   "source": [
    "print(soup.find('a'))\n",
    "print(soup.a)\n",
    "print(type(soup.find('a')))\n",
    "print(type(soup.a))"
   ]
  },
  {
   "cell_type": "code",
   "execution_count": null,
   "metadata": {},
   "outputs": [],
   "source": [
    "print(type(soup.find_all('a')))\n",
    "print(soup.find_all('a'))\n",
    "print(soup.find_all('a')[1])\n",
    "print(type(soup.find_all('a')[1]))"
   ]
  },
  {
   "cell_type": "code",
   "execution_count": null,
   "metadata": {},
   "outputs": [],
   "source": [
    "# a태그들을 모두 찾아서 안에 텍스트를 추출하여 새로운 리스트에 대입\n",
    "a_list = soup.find_all('a')\n",
    "a_list"
   ]
  },
  {
   "cell_type": "code",
   "execution_count": null,
   "metadata": {},
   "outputs": [],
   "source": [
    "a_list[1].get_text()"
   ]
  },
  {
   "cell_type": "code",
   "execution_count": null,
   "metadata": {},
   "outputs": [],
   "source": [
    "# 비어있는 리스트 생성\n",
    "a_data = []\n",
    "for a in a_list:\n",
    "    # print(a)\n",
    "    # print(type(a))\n",
    "    # print(a.get_text())\n",
    "    # a_data에 a.get_text()의 결과를 추가 \n",
    "    a_data.append( a.get_text() )"
   ]
  },
  {
   "cell_type": "code",
   "execution_count": null,
   "metadata": {},
   "outputs": [],
   "source": [
    "a_data"
   ]
  },
  {
   "cell_type": "code",
   "execution_count": null,
   "metadata": {},
   "outputs": [],
   "source": [
    "# map 함수 + lambda 함수 \n",
    "list(\n",
    "    map(\n",
    "        lambda a : a.get_text(), \n",
    "        a_list\n",
    "    )\n",
    ")"
   ]
  },
  {
   "cell_type": "code",
   "execution_count": null,
   "metadata": {},
   "outputs": [],
   "source": [
    "soup.find_all('img')"
   ]
  },
  {
   "cell_type": "code",
   "execution_count": null,
   "metadata": {},
   "outputs": [],
   "source": [
    "# 네이버 증권 주소로 요청 보낸다. \n",
    "url2 = 'https://finance.naver.com/'\n",
    "\n",
    "# requests를 이용하여 요청 보낸다. \n",
    "res = requests.get(url2)\n",
    "\n",
    "# 응답 메시지를 문자형 데이터로 저장\n",
    "html_data2 = res.text"
   ]
  },
  {
   "cell_type": "code",
   "execution_count": null,
   "metadata": {},
   "outputs": [],
   "source": [
    "html_data2"
   ]
  },
  {
   "cell_type": "code",
   "execution_count": null,
   "metadata": {},
   "outputs": [],
   "source": [
    "# bs Class를 이용하여 데이터 파싱 \n",
    "soup2 = bs(html_data2, 'html.parser')"
   ]
  },
  {
   "cell_type": "code",
   "execution_count": null,
   "metadata": {},
   "outputs": [],
   "source": [
    "soup2.find('title')"
   ]
  },
  {
   "cell_type": "code",
   "execution_count": null,
   "metadata": {},
   "outputs": [],
   "source": [
    "# table 태그중에 class가 tbl_home인 태그만 찾는다. \n",
    "soup2.find_all('table', attrs={\n",
    "    'class' : 'tbl_home'\n",
    "})"
   ]
  },
  {
   "cell_type": "code",
   "execution_count": null,
   "metadata": {},
   "outputs": [],
   "source": [
    "# table 태그중 class가 tbl_home인 태그의 개수를 확인\n",
    "len(\n",
    "    soup2.find_all('table', attrs={\n",
    "        'class' : 'tbl_home'\n",
    "    })\n",
    ")"
   ]
  },
  {
   "cell_type": "code",
   "execution_count": null,
   "metadata": {},
   "outputs": [],
   "source": [
    "# div 태그 중에 class가 section_sise_top인 태그의 개수를 확인 \n",
    "len(\n",
    "    soup2.find_all(\n",
    "        'div', \n",
    "        attrs={\n",
    "            'class' : 'section_sise_top'\n",
    "        }\n",
    "    )\n",
    ")"
   ]
  },
  {
   "cell_type": "code",
   "execution_count": null,
   "metadata": {},
   "outputs": [],
   "source": [
    "# div 태그의 개수가 1인 것을 확인\n",
    "# div 태그를 변수에 저장 \n",
    "div_data = soup2.find(\n",
    "    'div', \n",
    "    attrs={\n",
    "        'class' : 'section_sise_top'\n",
    "    }\n",
    ")"
   ]
  },
  {
   "cell_type": "code",
   "execution_count": null,
   "metadata": {},
   "outputs": [],
   "source": [
    "type(div_data)"
   ]
  },
  {
   "cell_type": "code",
   "execution_count": null,
   "metadata": {},
   "outputs": [],
   "source": [
    "# Tag 타입의 데이터에서는 find() 함수가 사용 가능\n",
    "len(\n",
    "    div_data.find_all(\n",
    "        'table', \n",
    "        attrs={\n",
    "            'class' : 'tbl_home'\n",
    "        }\n",
    "    )\n",
    ")"
   ]
  },
  {
   "cell_type": "code",
   "execution_count": null,
   "metadata": {},
   "outputs": [],
   "source": [
    "# 4개의 테이블 중 첫번째 테이블의 정보를 출력\n",
    "tables = div_data.find_all(\n",
    "    'table', \n",
    "    attrs = {\n",
    "        'class' : 'tbl_home'\n",
    "    }\n",
    ")\n",
    "table_data = tables[0]"
   ]
  },
  {
   "cell_type": "code",
   "execution_count": null,
   "metadata": {},
   "outputs": [],
   "source": [
    "table_data"
   ]
  },
  {
   "cell_type": "code",
   "execution_count": null,
   "metadata": {},
   "outputs": [],
   "source": [
    "# table_data에서 thead 태그를 추출 \n",
    "thead_data = table_data.find('thead')\n",
    "thead_data"
   ]
  },
  {
   "cell_type": "code",
   "execution_count": 52,
   "metadata": {},
   "outputs": [
    {
     "data": {
      "text/plain": [
       "[<th scope=\"col\">종목명</th>,\n",
       " <th scope=\"col\">현재가</th>,\n",
       " <th scope=\"col\">전일대비</th>,\n",
       " <th scope=\"col\">등락률</th>]"
      ]
     },
     "execution_count": 52,
     "metadata": {},
     "output_type": "execute_result"
    }
   ],
   "source": [
    "# thead_data에서 th 태그를 모두 찾는다. \n",
    "th_list = thead_data.find_all('th')\n",
    "th_list"
   ]
  },
  {
   "cell_type": "code",
   "execution_count": 53,
   "metadata": {},
   "outputs": [
    {
     "data": {
      "text/plain": [
       "['종목명', '현재가', '전일대비', '등락률']"
      ]
     },
     "execution_count": 53,
     "metadata": {},
     "output_type": "execute_result"
    }
   ],
   "source": [
    "# map함수를 이용하여 th_list에서 contents들을 추출 \n",
    "cols = list(\n",
    "    map(\n",
    "        lambda x : x.get_text(), \n",
    "        th_list\n",
    "    )\n",
    ")\n",
    "cols"
   ]
  },
  {
   "cell_type": "code",
   "execution_count": 54,
   "metadata": {},
   "outputs": [],
   "source": [
    "# tbody 태그를 추출 \n",
    "tbody_data = table_data.find('tbody')"
   ]
  },
  {
   "cell_type": "code",
   "execution_count": 55,
   "metadata": {},
   "outputs": [],
   "source": [
    "# tbody_data에서 tr 태그를 모두 찾는다. \n",
    "tr_list = tbody_data.find_all('tr')"
   ]
  },
  {
   "cell_type": "code",
   "execution_count": 58,
   "metadata": {},
   "outputs": [],
   "source": [
    "tr_data = tr_list[0]"
   ]
  },
  {
   "cell_type": "code",
   "execution_count": 66,
   "metadata": {},
   "outputs": [
    {
     "data": {
      "text/plain": [
       "['KODEX 200선물인버스2X']"
      ]
     },
     "execution_count": 66,
     "metadata": {},
     "output_type": "execute_result"
    }
   ],
   "source": [
    "\n",
    "# tr_data에서 th태그를 찾는다.\n",
    "th_data = tr_data.find('th')\n",
    "# th_data의 텍스트를 리스트로 생성하여 변수에 저장\n",
    "row_data = [th_data.get_text()]\n",
    "row_data"
   ]
  },
  {
   "cell_type": "code",
   "execution_count": null,
   "metadata": {},
   "outputs": [],
   "source": [
    "# tr_data에서 td태그를 모두 찾는다. \n",
    "td_list = tr_data.find_all('td')\n",
    "td_list"
   ]
  },
  {
   "cell_type": "code",
   "execution_count": 67,
   "metadata": {},
   "outputs": [],
   "source": [
    "for td in td_list:\n",
    "    # print(td)\n",
    "    # print(td.get_text().strip())\n",
    "    row_data.append(td.get_text().strip())\n",
    "    # print(td.string)"
   ]
  },
  {
   "cell_type": "code",
   "execution_count": 68,
   "metadata": {},
   "outputs": [
    {
     "data": {
      "text/plain": [
       "['KODEX 200선물인버스2X', '2,140', '하락 50', '-2.28%']"
      ]
     },
     "execution_count": 68,
     "metadata": {},
     "output_type": "execute_result"
    }
   ],
   "source": [
    "row_data"
   ]
  },
  {
   "cell_type": "code",
   "execution_count": 73,
   "metadata": {},
   "outputs": [],
   "source": [
    "# 비어있는 리스트 생성\n",
    "values = []\n",
    "# row_data를 만드는 과정을 tr_list의 길이만큼 반복실행\n",
    "for tr_data in tr_list:\n",
    "    # print(tr_data)\n",
    "    # tr_data에서 th태그를 추출\n",
    "    th_data = tr_data.find('th')\n",
    "    row_data = [th_data.get_text()]\n",
    "\n",
    "    # tr_data에서 td태그를 모두 추출\n",
    "    td_list = tr_data.find_all('td')\n",
    "    for td in td_list:\n",
    "        row_data.append(\n",
    "            td.get_text().strip()\n",
    "        )\n",
    "    # print(row_data)\n",
    "    values.append(row_data)"
   ]
  },
  {
   "cell_type": "code",
   "execution_count": null,
   "metadata": {},
   "outputs": [],
   "source": [
    "values"
   ]
  },
  {
   "cell_type": "code",
   "execution_count": 75,
   "metadata": {},
   "outputs": [],
   "source": [
    "import pandas as pd"
   ]
  },
  {
   "cell_type": "code",
   "execution_count": null,
   "metadata": {},
   "outputs": [],
   "source": [
    "# cols, values를 이용하여 데이터프레임을 생성\n",
    "df = pd.DataFrame(values)\n",
    "df.columns = cols\n",
    "df"
   ]
  },
  {
   "cell_type": "code",
   "execution_count": null,
   "metadata": {},
   "outputs": [],
   "source": [
    "df2 = pd.DataFrame(values, columns=cols)\n",
    "df2"
   ]
  },
  {
   "cell_type": "code",
   "execution_count": null,
   "metadata": {},
   "outputs": [],
   "source": [
    "!pip install openpyxl"
   ]
  },
  {
   "cell_type": "code",
   "execution_count": 78,
   "metadata": {},
   "outputs": [],
   "source": [
    "# 데이터프레임을 excel 파일로 저장 \n",
    "df.to_excel('finance.xlsx')"
   ]
  },
  {
   "cell_type": "code",
   "execution_count": 80,
   "metadata": {},
   "outputs": [],
   "source": [
    "df2.to_csv('finance.csv', encoding='cp949')"
   ]
  },
  {
   "cell_type": "code",
   "execution_count": null,
   "metadata": {},
   "outputs": [],
   "source": [
    "!pip install lxml"
   ]
  },
  {
   "cell_type": "code",
   "execution_count": 83,
   "metadata": {},
   "outputs": [],
   "source": [
    "# pandas의 read_html() 함수를 이용하여 table태그의 정보를 데이터프레임으로 저장 \n",
    "# Tag data를 문자열 데이터로 변경 (div_data를 문자열로 변환)\n",
    "div_str = str(div_data)\n",
    "dfs = pd.read_html(div_str)"
   ]
  },
  {
   "cell_type": "code",
   "execution_count": 89,
   "metadata": {},
   "outputs": [
    {
     "data": {
      "text/html": [
       "<div>\n",
       "<style scoped>\n",
       "    .dataframe tbody tr th:only-of-type {\n",
       "        vertical-align: middle;\n",
       "    }\n",
       "\n",
       "    .dataframe tbody tr th {\n",
       "        vertical-align: top;\n",
       "    }\n",
       "\n",
       "    .dataframe thead th {\n",
       "        text-align: right;\n",
       "    }\n",
       "</style>\n",
       "<table border=\"1\" class=\"dataframe\">\n",
       "  <thead>\n",
       "    <tr style=\"text-align: right;\">\n",
       "      <th></th>\n",
       "      <th>종목명</th>\n",
       "      <th>현재가</th>\n",
       "      <th>전일대비</th>\n",
       "      <th>등락률</th>\n",
       "    </tr>\n",
       "  </thead>\n",
       "  <tbody>\n",
       "    <tr>\n",
       "      <th>0</th>\n",
       "      <td>삼성전자</td>\n",
       "      <td>76700</td>\n",
       "      <td>상승 400</td>\n",
       "      <td>+0.52%</td>\n",
       "    </tr>\n",
       "    <tr>\n",
       "      <th>1</th>\n",
       "      <td>SK하이닉스</td>\n",
       "      <td>177800</td>\n",
       "      <td>상승 7,200</td>\n",
       "      <td>+4.22%</td>\n",
       "    </tr>\n",
       "    <tr>\n",
       "      <th>2</th>\n",
       "      <td>LG에너지솔루션</td>\n",
       "      <td>372000</td>\n",
       "      <td>하락 500</td>\n",
       "      <td>-0.13%</td>\n",
       "    </tr>\n",
       "    <tr>\n",
       "      <th>3</th>\n",
       "      <td>삼성바이오로직스</td>\n",
       "      <td>770000</td>\n",
       "      <td>하락 10,000</td>\n",
       "      <td>-1.28%</td>\n",
       "    </tr>\n",
       "    <tr>\n",
       "      <th>4</th>\n",
       "      <td>삼성전자우</td>\n",
       "      <td>64300</td>\n",
       "      <td>상승 200</td>\n",
       "      <td>+0.31%</td>\n",
       "    </tr>\n",
       "    <tr>\n",
       "      <th>5</th>\n",
       "      <td>현대차</td>\n",
       "      <td>249500</td>\n",
       "      <td>하락 500</td>\n",
       "      <td>-0.20%</td>\n",
       "    </tr>\n",
       "    <tr>\n",
       "      <th>6</th>\n",
       "      <td>기아</td>\n",
       "      <td>118200</td>\n",
       "      <td>상승 1,600</td>\n",
       "      <td>+1.37%</td>\n",
       "    </tr>\n",
       "    <tr>\n",
       "      <th>7</th>\n",
       "      <td>셀트리온</td>\n",
       "      <td>176600</td>\n",
       "      <td>하락 800</td>\n",
       "      <td>-0.45%</td>\n",
       "    </tr>\n",
       "    <tr>\n",
       "      <th>8</th>\n",
       "      <td>POSCO홀딩스</td>\n",
       "      <td>394500</td>\n",
       "      <td>상승 2,000</td>\n",
       "      <td>+0.51%</td>\n",
       "    </tr>\n",
       "    <tr>\n",
       "      <th>9</th>\n",
       "      <td>KB금융</td>\n",
       "      <td>76000</td>\n",
       "      <td>상승 6,700</td>\n",
       "      <td>+9.67%</td>\n",
       "    </tr>\n",
       "    <tr>\n",
       "      <th>10</th>\n",
       "      <td>NAVER</td>\n",
       "      <td>181500</td>\n",
       "      <td>하락 1,200</td>\n",
       "      <td>-0.66%</td>\n",
       "    </tr>\n",
       "    <tr>\n",
       "      <th>11</th>\n",
       "      <td>삼성SDI</td>\n",
       "      <td>408500</td>\n",
       "      <td>하락 5,000</td>\n",
       "      <td>-1.21%</td>\n",
       "    </tr>\n",
       "    <tr>\n",
       "      <th>12</th>\n",
       "      <td>삼성물산</td>\n",
       "      <td>151100</td>\n",
       "      <td>상승 1,000</td>\n",
       "      <td>+0.67%</td>\n",
       "    </tr>\n",
       "    <tr>\n",
       "      <th>13</th>\n",
       "      <td>LG화학</td>\n",
       "      <td>373500</td>\n",
       "      <td>상승 500</td>\n",
       "      <td>+0.13%</td>\n",
       "    </tr>\n",
       "    <tr>\n",
       "      <th>14</th>\n",
       "      <td>신한지주</td>\n",
       "      <td>46750</td>\n",
       "      <td>상승 3,250</td>\n",
       "      <td>+7.47%</td>\n",
       "    </tr>\n",
       "  </tbody>\n",
       "</table>\n",
       "</div>"
      ],
      "text/plain": [
       "         종목명     현재가       전일대비     등락률\n",
       "0       삼성전자   76700     상승 400  +0.52%\n",
       "1     SK하이닉스  177800   상승 7,200  +4.22%\n",
       "2   LG에너지솔루션  372000     하락 500  -0.13%\n",
       "3   삼성바이오로직스  770000  하락 10,000  -1.28%\n",
       "4      삼성전자우   64300     상승 200  +0.31%\n",
       "5        현대차  249500     하락 500  -0.20%\n",
       "6         기아  118200   상승 1,600  +1.37%\n",
       "7       셀트리온  176600     하락 800  -0.45%\n",
       "8   POSCO홀딩스  394500   상승 2,000  +0.51%\n",
       "9       KB금융   76000   상승 6,700  +9.67%\n",
       "10     NAVER  181500   하락 1,200  -0.66%\n",
       "11     삼성SDI  408500   하락 5,000  -1.21%\n",
       "12      삼성물산  151100   상승 1,000  +0.67%\n",
       "13      LG화학  373500     상승 500  +0.13%\n",
       "14      신한지주   46750   상승 3,250  +7.47%"
      ]
     },
     "execution_count": 89,
     "metadata": {},
     "output_type": "execute_result"
    }
   ],
   "source": [
    "dfs[3]"
   ]
  }
 ],
 "metadata": {
  "kernelspec": {
   "display_name": "Python 3",
   "language": "python",
   "name": "python3"
  },
  "language_info": {
   "codemirror_mode": {
    "name": "ipython",
    "version": 3
   },
   "file_extension": ".py",
   "mimetype": "text/x-python",
   "name": "python",
   "nbconvert_exporter": "python",
   "pygments_lexer": "ipython3",
   "version": "3.11.4"
  }
 },
 "nbformat": 4,
 "nbformat_minor": 2
}
