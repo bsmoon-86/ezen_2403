{
 "cells": [
  {
   "cell_type": "markdown",
   "metadata": {},
   "source": [
    "### 웹 크롤링 \n",
    "- 특정 주소로 요청을 보내고 받아온 응답 메시지(html)안에서 특정 위치의 데이터를 추출 \n",
    "- 사용이 되는 라이브러리 : requests, bs4 (정적 웹페이지), selenium (동적 웹페이지)\n",
    "\n",
    "### bs4\n",
    "- bs4 라이브러리 안에 있는 BeautifulSoup Class를 사용\n",
    "- html로 이루어진 문자형 데이터를 parsing(데이터의 형태를 변환) 작업을 하여 데이터를 쉽게 추출하기 위한 Class\n",
    "- html의 TAG를 기준으로 데이터(contents)에 쉽게 접근 \n",
    "- 웹의 구조를 어느정도 인지하고 사용을 하게 되면 쉽게 사용\n",
    "- Parser를 활용하여 python에서 접근이 쉽게 객체(변수+함수)의 형태로 제공"
   ]
  },
  {
   "cell_type": "code",
   "execution_count": 1,
   "metadata": {},
   "outputs": [],
   "source": [
    "import requests"
   ]
  },
  {
   "cell_type": "code",
   "execution_count": 2,
   "metadata": {},
   "outputs": [],
   "source": [
    "# 요청을 보낼 주소를 변수에 저장 \n",
    "url = 'https://www.naver.com'\n",
    "# 요청을 보내고 응답 메시지를 변수에 저장 \n",
    "response = requests.get(url)"
   ]
  },
  {
   "cell_type": "code",
   "execution_count": 3,
   "metadata": {},
   "outputs": [],
   "source": [
    "from pprint import pprint"
   ]
  },
  {
   "cell_type": "code",
   "execution_count": null,
   "metadata": {},
   "outputs": [],
   "source": [
    "pprint(response.text)"
   ]
  },
  {
   "cell_type": "code",
   "execution_count": 5,
   "metadata": {},
   "outputs": [
    {
     "name": "stdout",
     "output_type": "stream",
     "text": [
      "<class 'str'>\n"
     ]
    }
   ],
   "source": [
    "print(type(response.text))"
   ]
  },
  {
   "cell_type": "code",
   "execution_count": 6,
   "metadata": {},
   "outputs": [],
   "source": [
    "html_data = response.text"
   ]
  },
  {
   "cell_type": "code",
   "execution_count": 7,
   "metadata": {},
   "outputs": [
    {
     "name": "stdout",
     "output_type": "stream",
     "text": [
      "378\n",
      "378\n"
     ]
    }
   ],
   "source": [
    "# html_data에서 '네이버' 문자열을 추출\n",
    "# '네이버'의 위치를 확인 \n",
    "print(html_data.index('네이버'))\n",
    "print(html_data.find('네이버'))"
   ]
  },
  {
   "cell_type": "code",
   "execution_count": 9,
   "metadata": {},
   "outputs": [
    {
     "data": {
      "text/plain": [
       "'네이버 메인에서 다양한 정보와 유용한 컨'"
      ]
     },
     "execution_count": 9,
     "metadata": {},
     "output_type": "execute_result"
    }
   ],
   "source": [
    "html_data[378:400]"
   ]
  },
  {
   "cell_type": "code",
   "execution_count": null,
   "metadata": {},
   "outputs": [],
   "source": [
    "# bs4 라이브러리 설치 \n",
    "# !pip install bs4"
   ]
  },
  {
   "cell_type": "code",
   "execution_count": 11,
   "metadata": {},
   "outputs": [],
   "source": [
    "from bs4 import BeautifulSoup as bs"
   ]
  },
  {
   "cell_type": "code",
   "execution_count": 12,
   "metadata": {},
   "outputs": [],
   "source": [
    "# html로 이루어진 문자열 데이터를 bs Class에 대입 \n",
    "# 생성자 함수에는 2개의 인자값 대입 \n",
    "# html로 이루어진 문자열, Parser 지정 \n",
    "soup = bs(html_data, 'html.parser')"
   ]
  },
  {
   "cell_type": "code",
   "execution_count": 14,
   "metadata": {},
   "outputs": [
    {
     "data": {
      "text/plain": [
       "bs4.BeautifulSoup"
      ]
     },
     "execution_count": 14,
     "metadata": {},
     "output_type": "execute_result"
    }
   ],
   "source": [
    "type(soup)"
   ]
  },
  {
   "cell_type": "markdown",
   "metadata": {},
   "source": [
    "- BeautifulSoup Class\n",
    "    - soup.태그명 : 해당 태그명의 첫번째 태그를 출력\n",
    "    - soup.태그명.string : 첫번째 태그에서 contents를 출력\n",
    "        - ex) `<p>test</p>` --> test\n",
    "    - soup.태그명['속성명'] : 첫번째 태그에서 해당 속성의 값을 출력 \n",
    "        - ex) `<a href='https://www.google.com'>구글</a>` --> https://www.google.com"
   ]
  },
  {
   "cell_type": "code",
   "execution_count": 15,
   "metadata": {},
   "outputs": [
    {
     "data": {
      "text/plain": [
       "<a href=\"#topAsideButton\"><span>상단영역 바로가기</span></a>"
      ]
     },
     "execution_count": 15,
     "metadata": {},
     "output_type": "execute_result"
    }
   ],
   "source": [
    "soup.a"
   ]
  },
  {
   "cell_type": "code",
   "execution_count": 16,
   "metadata": {},
   "outputs": [
    {
     "data": {
      "text/plain": [
       "'상단영역 바로가기'"
      ]
     },
     "execution_count": 16,
     "metadata": {},
     "output_type": "execute_result"
    }
   ],
   "source": [
    "soup.a.string"
   ]
  },
  {
   "cell_type": "code",
   "execution_count": 18,
   "metadata": {},
   "outputs": [
    {
     "data": {
      "text/plain": [
       "'#topAsideButton'"
      ]
     },
     "execution_count": 18,
     "metadata": {},
     "output_type": "execute_result"
    }
   ],
   "source": [
    "soup.a['href']"
   ]
  },
  {
   "cell_type": "markdown",
   "metadata": {},
   "source": [
    "- Class 안에 함수 \n",
    "    - find()\n",
    "        - html 데이터에서 특정 태그의 첫번째 정보를 출력\n",
    "        - find(속성명 = 속성값) : 태그들 중에 해당 속성명과 속성의 값이 같은 첫번째 태그의 정보를 출력 \n",
    "        - 결과 값의 타입이 TAG 형태로 출력 \n",
    "        - find 함수는 TAG, BeautifulSoup 형태의 데이터에서 사용이 가능\n",
    "    - find_all()\n",
    "        - html 데이터에서 특정 태그의 모든 정보를 출력 \n",
    "        - limit 매개변수 : 출력하는 데이터의 개수를 지정 \n",
    "        - 결과 값의 타입이 TAG들이 모여있는 리스트와 흡사한 ResultSet 형태로 출력\n",
    "    - get_text()\n",
    "        - TAG형태의 데이터에서 contents만 추출"
   ]
  },
  {
   "cell_type": "code",
   "execution_count": 20,
   "metadata": {},
   "outputs": [
    {
     "name": "stdout",
     "output_type": "stream",
     "text": [
      "<a href=\"#topAsideButton\"><span>상단영역 바로가기</span></a>\n",
      "<a href=\"#topAsideButton\"><span>상단영역 바로가기</span></a>\n",
      "<class 'bs4.element.Tag'>\n",
      "<class 'bs4.element.Tag'>\n"
     ]
    }
   ],
   "source": [
    "print(soup.find('a'))\n",
    "print(soup.a)\n",
    "print(type(soup.find('a')))\n",
    "print(type(soup.a))"
   ]
  },
  {
   "cell_type": "code",
   "execution_count": 22,
   "metadata": {},
   "outputs": [
    {
     "name": "stdout",
     "output_type": "stream",
     "text": [
      "<class 'bs4.element.ResultSet'>\n",
      "[<a href=\"#topAsideButton\"><span>상단영역 바로가기</span></a>, <a href=\"#shortcutArea\"><span>서비스 메뉴 바로가기</span></a>, <a href=\"#newsstand\"><span>새소식 블록 바로가기</span></a>, <a href=\"#shopping\"><span>쇼핑 블록 바로가기</span></a>, <a href=\"#feed\"><span>관심사 블록 바로가기</span></a>, <a href=\"#account\"><span>MY 영역 바로가기</span></a>, <a href=\"#widgetboard\"><span>위젯 보드 바로가기</span></a>, <a href=\"#viewSetting\"><span>보기 설정 바로가기</span></a>, <a aria-pressed=\"false\" class=\"item _delAll\" href=\"#\" role=\"button\">전체삭제</a>, <a class=\"kwd_help\" data-clk=\"sly.help\" href=\"https://help.naver.com/alias/search/word/word_35.naver\" target=\"_blank\">도움말</a>, <a class=\"kwd_help\" data-clk=\"sly.help\" href=\"https://help.naver.com/alias/search/word/word_35.naver\" target=\"_blank\">도움말</a>, <a class=\"close _keywordOnOff\" href=\"#\">자동저장 끄기</a>, <a data-clk=\"sly.help\" href=\"https://help.naver.com/alias/search/word/word_35.naver\" target=\"_blank\">도움말</a>, <a class=\"close _close\" href=\"#\">닫기</a>, <a aria-pressed=\"false\" class=\"btn_help _tg_btn\" href=\"#\" role=\"button\"><i class=\"imgsvg ico_alert\">이 정보가 표시된 이유</i></a>, <a class=\"btn_close _tg_btn\" href=\"#\" role=\"button\"><i class=\"imgsvg ico_close\">레이어 닫기</i></a>, <a class=\"link _alert_link\" href=\"#\" target=\"_blank\">자세히보기</a>, <a class=\"link_dsc\" data-clk=\"sug.cxhelp\" href=\"https://help.naver.com/alias/search/word/word_16.naver\" target=\"_blank\">관심사를 반영한 컨텍스트 자동완성<i class=\"imgsvg ico_help\">도움말</i></a>, <a aria-pressed=\"false\" class=\"bt_switch active _plus_btn\" href=\"#\" role=\"button\"><i class=\"imgsvg ico_option\">컨텍스트 자동완성</i></a>, <a class=\"link_view\" data-clk=\"sug.cxlink\" href=\"https://help.naver.com/alias/search/word/word_16.naver\" target=\"_blank\">자세히 보기</a>, <a class=\"link_view\" data-clk=\"sug.cxlink\" href=\"https://help.naver.com/support/alias/search/word/word_16.naver\" target=\"_blank\">자세히 보기</a>, <a class=\"btn btn_login\" data-clk=\"sug.cxlogin\" href=\"https://nid.naver.com/nidlogin.login\"><i class=\"imgsvg ico_naver\">네이버</i>로그인</a>, <a class=\"btn_close _plus_layer_close\" href=\"#\" role=\"button\"><i class=\"imgsvg ico_close\">컨텍스트 자동완성 레이어 닫기</i></a>, <a class=\"close _suggestOnOff\" href=\"#\">자동완성 끄기</a>, <a data-clk=\"sug.help\" href=\"https://help.naver.com/alias/search/word/word_17.naver\" target=\"_blank\">도움말</a>, <a class=\"report\" data-clk=\"sug.report\" href=\"https://help.naver.com/alias/search/word/word_18.naver\" target=\"_blank\">신고</a>, <a class=\"close _close\" href=\"#\">닫기</a>]\n",
      "<a href=\"#shortcutArea\"><span>서비스 메뉴 바로가기</span></a>\n",
      "<class 'bs4.element.Tag'>\n"
     ]
    }
   ],
   "source": [
    "print(type(soup.find_all('a')))\n",
    "print(soup.find_all('a'))\n",
    "print(soup.find_all('a')[1])\n",
    "print(type(soup.find_all('a')[1]))"
   ]
  },
  {
   "cell_type": "code",
   "execution_count": null,
   "metadata": {},
   "outputs": [],
   "source": [
    "# a태그들을 모두 찾아서 안에 텍스트를 추출하여 새로운 리스트에 대입\n",
    "a_list = soup.find_all('a')\n",
    "a_list"
   ]
  },
  {
   "cell_type": "code",
   "execution_count": 26,
   "metadata": {},
   "outputs": [
    {
     "data": {
      "text/plain": [
       "'서비스 메뉴 바로가기'"
      ]
     },
     "execution_count": 26,
     "metadata": {},
     "output_type": "execute_result"
    }
   ],
   "source": [
    "a_list[1].get_text()"
   ]
  },
  {
   "cell_type": "code",
   "execution_count": 29,
   "metadata": {},
   "outputs": [],
   "source": [
    "# 비어있는 리스트 생성\n",
    "a_data = []\n",
    "for a in a_list:\n",
    "    # print(a)\n",
    "    # print(type(a))\n",
    "    # print(a.get_text())\n",
    "    # a_data에 a.get_text()의 결과를 추가 \n",
    "    a_data.append( a.get_text() )"
   ]
  },
  {
   "cell_type": "code",
   "execution_count": 30,
   "metadata": {},
   "outputs": [
    {
     "data": {
      "text/plain": [
       "['상단영역 바로가기',\n",
       " '서비스 메뉴 바로가기',\n",
       " '새소식 블록 바로가기',\n",
       " '쇼핑 블록 바로가기',\n",
       " '관심사 블록 바로가기',\n",
       " 'MY 영역 바로가기',\n",
       " '위젯 보드 바로가기',\n",
       " '보기 설정 바로가기',\n",
       " '전체삭제',\n",
       " '도움말',\n",
       " '도움말',\n",
       " '자동저장 끄기',\n",
       " '도움말',\n",
       " '닫기',\n",
       " '이 정보가 표시된 이유',\n",
       " '레이어 닫기',\n",
       " '자세히보기',\n",
       " '관심사를 반영한 컨텍스트 자동완성도움말',\n",
       " '컨텍스트 자동완성',\n",
       " '자세히 보기',\n",
       " '자세히 보기',\n",
       " '네이버로그인',\n",
       " '컨텍스트 자동완성 레이어 닫기',\n",
       " '자동완성 끄기',\n",
       " '도움말',\n",
       " '신고',\n",
       " '닫기']"
      ]
     },
     "execution_count": 30,
     "metadata": {},
     "output_type": "execute_result"
    }
   ],
   "source": [
    "a_data"
   ]
  },
  {
   "cell_type": "code",
   "execution_count": null,
   "metadata": {},
   "outputs": [],
   "source": []
  }
 ],
 "metadata": {
  "kernelspec": {
   "display_name": "Python 3",
   "language": "python",
   "name": "python3"
  },
  "language_info": {
   "codemirror_mode": {
    "name": "ipython",
    "version": 3
   },
   "file_extension": ".py",
   "mimetype": "text/x-python",
   "name": "python",
   "nbconvert_exporter": "python",
   "pygments_lexer": "ipython3",
   "version": "3.11.4"
  }
 },
 "nbformat": 4,
 "nbformat_minor": 2
}
