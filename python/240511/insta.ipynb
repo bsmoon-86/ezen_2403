{
 "cells": [
  {
   "cell_type": "markdown",
   "metadata": {},
   "source": [
    "## 인스타그램 크롤링"
   ]
  },
  {
   "cell_type": "code",
   "execution_count": 1,
   "metadata": {},
   "outputs": [],
   "source": [
    "# 라이브러리 로드 \n",
    "import requests\n",
    "from selenium import webdriver\n",
    "from selenium.webdriver.common.by import By\n",
    "from selenium.webdriver.common.keys import Keys\n",
    "import pandas as pd\n",
    "import os\n",
    "from dotenv import load_dotenv"
   ]
  },
  {
   "cell_type": "code",
   "execution_count": null,
   "metadata": {},
   "outputs": [],
   "source": [
    "# 라이브러리 설치\n",
    "# !pip install selenium \n",
    "# !pip install python-dotenv\n",
    "# !pip install pansdas\n",
    "# !pip install requests"
   ]
  },
  {
   "cell_type": "code",
   "execution_count": 2,
   "metadata": {},
   "outputs": [
    {
     "data": {
      "text/plain": [
       "True"
      ]
     },
     "execution_count": 2,
     "metadata": {},
     "output_type": "execute_result"
    }
   ],
   "source": [
    "# .env 파일을 적용 \n",
    "load_dotenv()"
   ]
  },
  {
   "cell_type": "code",
   "execution_count": 3,
   "metadata": {},
   "outputs": [],
   "source": [
    "# selenium 라이브러리 이용하여 Chrome 브라우져 실행\n",
    "driver = webdriver.Chrome()"
   ]
  },
  {
   "cell_type": "code",
   "execution_count": 4,
   "metadata": {},
   "outputs": [],
   "source": [
    "# 인스타그램에 접속 \n",
    "driver.get(\"https://www.instagram.com\")"
   ]
  },
  {
   "cell_type": "code",
   "execution_count": 5,
   "metadata": {},
   "outputs": [],
   "source": [
    "import time"
   ]
  },
  {
   "cell_type": "code",
   "execution_count": 6,
   "metadata": {},
   "outputs": [],
   "source": [
    "# 페이지가 로드 될때까지 대기 \n",
    "# case1 : selenium -> 페이지가 로드될때까지 대기(로드가 완료되면 바로 실행) -> ex) 10초 대기를 설정하고 3초만에 로드가 완료되면 바로 실행\n",
    "driver.implicitly_wait(10)\n",
    "# case2 : time -> 강제적으로 코드의 실행을 중지 -> ex) 10초 대기를 설정하면 10초를 대기하고 다음 코드 실행\n",
    "time.sleep(1)\n",
    "# 인스타그램 로그인하기 위해 id, password를 입력\n",
    "# id를 입력하는 태그를 선택 \n",
    "id_element = driver.find_element(\n",
    "    By.CSS_SELECTOR, \n",
    "    'input[name=\"username\"]'\n",
    ")\n",
    "# env에 있는 id를 id_element에 입력\n",
    "id_element.send_keys(os.getenv('id'))\n"
   ]
  },
  {
   "cell_type": "code",
   "execution_count": 7,
   "metadata": {},
   "outputs": [],
   "source": [
    "# password를 입력하는 태그를 선택 \n",
    "pass_element = driver.find_element(\n",
    "    By.CSS_SELECTOR, \n",
    "    'input[name=\"password\"]'\n",
    ")\n",
    "# pass_element에 env에 있는 password를 입력\n",
    "pass_element.send_keys(os.getenv('password'))\n",
    "# pass_element에서 ENTER키 이벤트를 발생\n",
    "pass_element.send_keys(Keys.ENTER)"
   ]
  },
  {
   "cell_type": "code",
   "execution_count": null,
   "metadata": {},
   "outputs": [],
   "source": []
  }
 ],
 "metadata": {
  "kernelspec": {
   "display_name": "Python 3",
   "language": "python",
   "name": "python3"
  },
  "language_info": {
   "codemirror_mode": {
    "name": "ipython",
    "version": 3
   },
   "file_extension": ".py",
   "mimetype": "text/x-python",
   "name": "python",
   "nbconvert_exporter": "python",
   "pygments_lexer": "ipython3",
   "version": "3.11.4"
  }
 },
 "nbformat": 4,
 "nbformat_minor": 2
}
