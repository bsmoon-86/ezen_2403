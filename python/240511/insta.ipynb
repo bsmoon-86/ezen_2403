{
 "cells": [
  {
   "cell_type": "markdown",
   "metadata": {},
   "source": [
    "## 인스타그램 크롤링"
   ]
  },
  {
   "cell_type": "code",
   "execution_count": 1,
   "metadata": {},
   "outputs": [],
   "source": [
    "# 라이브러리 로드 \n",
    "import requests\n",
    "from selenium import webdriver\n",
    "from selenium.webdriver.common.by import By\n",
    "from selenium.webdriver.common.keys import Keys\n",
    "import pandas as pd\n",
    "import os\n",
    "from dotenv import load_dotenv"
   ]
  },
  {
   "cell_type": "code",
   "execution_count": null,
   "metadata": {},
   "outputs": [],
   "source": [
    "# 라이브러리 설치\n",
    "# !pip install selenium \n",
    "# !pip install python-dotenv\n",
    "# !pip install pansdas\n",
    "# !pip install requests"
   ]
  },
  {
   "cell_type": "code",
   "execution_count": 2,
   "metadata": {},
   "outputs": [
    {
     "data": {
      "text/plain": [
       "True"
      ]
     },
     "execution_count": 2,
     "metadata": {},
     "output_type": "execute_result"
    }
   ],
   "source": [
    "# .env 파일을 적용 \n",
    "load_dotenv()"
   ]
  },
  {
   "cell_type": "code",
   "execution_count": 3,
   "metadata": {},
   "outputs": [],
   "source": [
    "# selenium 라이브러리 이용하여 Chrome 브라우져 실행\n",
    "driver = webdriver.Chrome()"
   ]
  },
  {
   "cell_type": "code",
   "execution_count": 4,
   "metadata": {},
   "outputs": [],
   "source": [
    "# 인스타그램에 접속 \n",
    "driver.get(\"https://www.instagram.com\")"
   ]
  },
  {
   "cell_type": "code",
   "execution_count": 5,
   "metadata": {},
   "outputs": [],
   "source": [
    "import time"
   ]
  },
  {
   "cell_type": "code",
   "execution_count": 6,
   "metadata": {},
   "outputs": [],
   "source": [
    "# 페이지가 로드 될때까지 대기 \n",
    "# case1 : selenium -> 페이지가 로드될때까지 대기(로드가 완료되면 바로 실행) -> ex) 10초 대기를 설정하고 3초만에 로드가 완료되면 바로 실행\n",
    "driver.implicitly_wait(10)\n",
    "# case2 : time -> 강제적으로 코드의 실행을 중지 -> ex) 10초 대기를 설정하면 10초를 대기하고 다음 코드 실행\n",
    "time.sleep(1)\n",
    "# 인스타그램 로그인하기 위해 id, password를 입력\n",
    "# id를 입력하는 태그를 선택 \n",
    "id_element = driver.find_element(\n",
    "    By.CSS_SELECTOR, \n",
    "    'input[name=\"username\"]'\n",
    ")\n",
    "# env에 있는 id를 id_element에 입력\n",
    "id_element.send_keys(os.getenv('id'))\n"
   ]
  },
  {
   "cell_type": "code",
   "execution_count": 7,
   "metadata": {},
   "outputs": [],
   "source": [
    "# password를 입력하는 태그를 선택 \n",
    "pass_element = driver.find_element(\n",
    "    By.CSS_SELECTOR, \n",
    "    'input[name=\"password\"]'\n",
    ")\n",
    "# pass_element에 env에 있는 password를 입력\n",
    "pass_element.send_keys(os.getenv('password'))\n",
    "# pass_element에서 ENTER키 이벤트를 발생\n",
    "pass_element.send_keys(Keys.ENTER)"
   ]
  },
  {
   "cell_type": "code",
   "execution_count": 8,
   "metadata": {},
   "outputs": [],
   "source": [
    "driver.implicitly_wait(10)\n",
    "time.sleep(1)\n",
    "# 검색 아이콘 태그를 선택 \n",
    "search_element = driver.find_element(\n",
    "    By.CSS_SELECTOR, \n",
    "    'svg[aria-label=\"검색\"]'\n",
    ")\n",
    "# 검색 아이콘을 클릭 이벤트를 발생\n",
    "search_element.click()"
   ]
  },
  {
   "cell_type": "code",
   "execution_count": 10,
   "metadata": {},
   "outputs": [],
   "source": [
    "driver.implicitly_wait(10)\n",
    "\n",
    "# 검색어를 입력하는 태그를 선택 \n",
    "search_input = driver.find_element(\n",
    "    By.CSS_SELECTOR, \n",
    "    'input[aria-label=\"입력 검색\"]'\n",
    ")\n",
    "# 검색어를 입력 \n",
    "search_input.send_keys('강남역 맛집')"
   ]
  },
  {
   "cell_type": "code",
   "execution_count": 11,
   "metadata": {},
   "outputs": [
    {
     "name": "stdout",
     "output_type": "stream",
     "text": [
      "105\n"
     ]
    }
   ],
   "source": [
    "# 검색 리스트가 포함되어있는 태그를 선택\n",
    "# CSS_SELECTOR -> \n",
    "#   태그명[속성명=속성값]\n",
    "#   class의 이름으로 검색 -> .class명\n",
    "#   id의 값으로 검색 -> #id값\n",
    "#   div 태그 안에 a 태그 -> div a\n",
    "list_element = driver.find_elements(\n",
    "    By.CSS_SELECTOR, \n",
    "    '.x9f619.x78zum5.xdt5ytf.x1iyjqo2.x6ikm8r.x1odjw0f.xh8yej3.xocp1fn a'\n",
    ")\n",
    "# list_element의 원소의 개수 \n",
    "print(len(list_element))"
   ]
  },
  {
   "cell_type": "code",
   "execution_count": 12,
   "metadata": {},
   "outputs": [],
   "source": [
    "# list_element에서 첫번째 a태그를 클릭\n",
    "list_element[0].click()"
   ]
  },
  {
   "cell_type": "code",
   "execution_count": 18,
   "metadata": {},
   "outputs": [
    {
     "name": "stdout",
     "output_type": "stream",
     "text": [
      "33\n"
     ]
    }
   ],
   "source": [
    "driver.implicitly_wait(10)\n",
    "time.sleep(1)\n",
    "# 게시글 태그를 모두 찾는다. \n",
    "imgs = driver.find_elements(\n",
    "    By.CLASS_NAME, \n",
    "    '_aagw'\n",
    ")\n",
    "# imgs의 원소의 개수를 출력 \n",
    "print(len(imgs))"
   ]
  },
  {
   "cell_type": "code",
   "execution_count": 19,
   "metadata": {},
   "outputs": [],
   "source": [
    "# imgs에 첫번째 태그를 클릭 \n",
    "imgs[0].click()"
   ]
  },
  {
   "cell_type": "code",
   "execution_count": 26,
   "metadata": {},
   "outputs": [],
   "source": [
    "# 아이디가 입력되어있는 태그들 \n",
    "ids = driver.find_elements(\n",
    "    By.CLASS_NAME, \n",
    "    '_a9zc'\n",
    ")\n",
    "contents = driver.find_elements(\n",
    "    By.CLASS_NAME, \n",
    "    '_a9zs'\n",
    ")\n",
    "# id 값들과 contents 값들을 변수에 저장 \n",
    "data = {\n",
    "    'ID' : [], \n",
    "    'contents' : []\n",
    "}\n",
    "# ids, contents 값을 반복문을 이용하여 텍스트를 추출\n",
    "for id, content in zip(ids, contents):\n",
    "    # data 변수에 id 키에 대응이되는 value에 id의 텍스트르 추가 \n",
    "    data['ID'].append(id.text)\n",
    "    data['contents'].append(content.text.replace('\\n', ' '))\n"
   ]
  },
  {
   "cell_type": "code",
   "execution_count": 27,
   "metadata": {},
   "outputs": [
    {
     "data": {
      "text/plain": [
       "{'ID': ['station3_food.zip', 'izakayanamu_snue'],\n",
       " 'contents': ['#저녁기록 23.12월  🏠상호명: #오징어청춘 🎈위치: 역삼역 8출 도보 7분 🍽메뉴: 모듬회 大(6.0)  💫 퇴근 후 술자리 2,3차로 가기 좋은 오징어청춘! 테이블별로 간격이 좁아 좀 시끌벅쩍 하지만 그래도 생각보다 회나 다른 음식맛이 괜찮은 편이라 n차로 추천.  근데 여기 해물라면이 찐이에요 🦀🦐🦑🐟  #역삼점심 #역삼역맛집 #강남점심 #선릉맛집 #선릉점심 #역삼저녁 #역삼역저녁추천 #역삼술집 #역삼역회식 #역삼횟집',\n",
       "  '안녕하세요 정갈한 맛과 분위기가 있는 이자카야 나무 교대점입니다 여러가지 이벤트 준비 중에 있습니다 많은 이용 부탁드립니다 🙂']}"
      ]
     },
     "execution_count": 27,
     "metadata": {},
     "output_type": "execute_result"
    }
   ],
   "source": [
    "data"
   ]
  },
  {
   "cell_type": "code",
   "execution_count": null,
   "metadata": {},
   "outputs": [],
   "source": []
  }
 ],
 "metadata": {
  "kernelspec": {
   "display_name": "Python 3",
   "language": "python",
   "name": "python3"
  },
  "language_info": {
   "codemirror_mode": {
    "name": "ipython",
    "version": 3
   },
   "file_extension": ".py",
   "mimetype": "text/x-python",
   "name": "python",
   "nbconvert_exporter": "python",
   "pygments_lexer": "ipython3",
   "version": "3.11.4"
  }
 },
 "nbformat": 4,
 "nbformat_minor": 2
}
