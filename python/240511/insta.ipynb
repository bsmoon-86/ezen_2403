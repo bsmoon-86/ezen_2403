{
 "cells": [
  {
   "cell_type": "markdown",
   "metadata": {},
   "source": [
    "## 인스타그램 크롤링"
   ]
  },
  {
   "cell_type": "code",
   "execution_count": 1,
   "metadata": {},
   "outputs": [],
   "source": [
    "# 라이브러리 로드 \n",
    "import requests\n",
    "from selenium import webdriver\n",
    "from selenium.webdriver.common.by import By\n",
    "from selenium.webdriver.common.keys import Keys\n",
    "import pandas as pd\n",
    "import os\n",
    "from dotenv import load_dotenv"
   ]
  },
  {
   "cell_type": "code",
   "execution_count": null,
   "metadata": {},
   "outputs": [],
   "source": [
    "# 라이브러리 설치\n",
    "# !pip install selenium \n",
    "# !pip install python-dotenv\n",
    "# !pip install pansdas\n",
    "# !pip install requests"
   ]
  },
  {
   "cell_type": "code",
   "execution_count": 2,
   "metadata": {},
   "outputs": [
    {
     "data": {
      "text/plain": [
       "True"
      ]
     },
     "execution_count": 2,
     "metadata": {},
     "output_type": "execute_result"
    }
   ],
   "source": [
    "# .env 파일을 적용 \n",
    "load_dotenv()"
   ]
  },
  {
   "cell_type": "code",
   "execution_count": 3,
   "metadata": {},
   "outputs": [],
   "source": [
    "# selenium 라이브러리 이용하여 Chrome 브라우져 실행\n",
    "driver = webdriver.Chrome()"
   ]
  },
  {
   "cell_type": "code",
   "execution_count": 4,
   "metadata": {},
   "outputs": [],
   "source": [
    "# 인스타그램에 접속 \n",
    "driver.get(\"https://www.instagram.com\")"
   ]
  },
  {
   "cell_type": "code",
   "execution_count": 5,
   "metadata": {},
   "outputs": [],
   "source": [
    "import time"
   ]
  },
  {
   "cell_type": "code",
   "execution_count": 6,
   "metadata": {},
   "outputs": [],
   "source": [
    "# 페이지가 로드 될때까지 대기 \n",
    "# case1 : selenium -> 페이지가 로드될때까지 대기(로드가 완료되면 바로 실행) -> ex) 10초 대기를 설정하고 3초만에 로드가 완료되면 바로 실행\n",
    "driver.implicitly_wait(10)\n",
    "# case2 : time -> 강제적으로 코드의 실행을 중지 -> ex) 10초 대기를 설정하면 10초를 대기하고 다음 코드 실행\n",
    "time.sleep(1)\n",
    "# 인스타그램 로그인하기 위해 id, password를 입력\n",
    "# id를 입력하는 태그를 선택 \n",
    "id_element = driver.find_element(\n",
    "    By.CSS_SELECTOR, \n",
    "    'input[name=\"username\"]'\n",
    ")\n",
    "# env에 있는 id를 id_element에 입력\n",
    "id_element.send_keys(os.getenv('id'))\n"
   ]
  },
  {
   "cell_type": "code",
   "execution_count": 7,
   "metadata": {},
   "outputs": [],
   "source": [
    "# password를 입력하는 태그를 선택 \n",
    "pass_element = driver.find_element(\n",
    "    By.CSS_SELECTOR, \n",
    "    'input[name=\"password\"]'\n",
    ")\n",
    "# pass_element에 env에 있는 password를 입력\n",
    "pass_element.send_keys(os.getenv('password'))\n",
    "# pass_element에서 ENTER키 이벤트를 발생\n",
    "pass_element.send_keys(Keys.ENTER)"
   ]
  },
  {
   "cell_type": "code",
   "execution_count": 8,
   "metadata": {},
   "outputs": [],
   "source": [
    "driver.implicitly_wait(10)\n",
    "time.sleep(1)\n",
    "# 검색 아이콘 태그를 선택 \n",
    "search_element = driver.find_element(\n",
    "    By.CSS_SELECTOR, \n",
    "    'svg[aria-label=\"검색\"]'\n",
    ")\n",
    "# 검색 아이콘을 클릭 이벤트를 발생\n",
    "search_element.click()"
   ]
  },
  {
   "cell_type": "code",
   "execution_count": 10,
   "metadata": {},
   "outputs": [],
   "source": [
    "driver.implicitly_wait(10)\n",
    "\n",
    "# 검색어를 입력하는 태그를 선택 \n",
    "search_input = driver.find_element(\n",
    "    By.CSS_SELECTOR, \n",
    "    'input[aria-label=\"입력 검색\"]'\n",
    ")\n",
    "# 검색어를 입력 \n",
    "search_input.send_keys('강남역 맛집')"
   ]
  },
  {
   "cell_type": "code",
   "execution_count": 11,
   "metadata": {},
   "outputs": [
    {
     "name": "stdout",
     "output_type": "stream",
     "text": [
      "105\n"
     ]
    }
   ],
   "source": [
    "# 검색 리스트가 포함되어있는 태그를 선택\n",
    "# CSS_SELECTOR -> \n",
    "#   태그명[속성명=속성값]\n",
    "#   class의 이름으로 검색 -> .class명\n",
    "#   id의 값으로 검색 -> #id값\n",
    "#   div 태그 안에 a 태그 -> div a\n",
    "list_element = driver.find_elements(\n",
    "    By.CSS_SELECTOR, \n",
    "    '.x9f619.x78zum5.xdt5ytf.x1iyjqo2.x6ikm8r.x1odjw0f.xh8yej3.xocp1fn a'\n",
    ")\n",
    "# list_element의 원소의 개수 \n",
    "print(len(list_element))"
   ]
  },
  {
   "cell_type": "code",
   "execution_count": 12,
   "metadata": {},
   "outputs": [],
   "source": [
    "# list_element에서 첫번째 a태그를 클릭\n",
    "list_element[0].click()"
   ]
  },
  {
   "cell_type": "code",
   "execution_count": 18,
   "metadata": {},
   "outputs": [
    {
     "name": "stdout",
     "output_type": "stream",
     "text": [
      "33\n"
     ]
    }
   ],
   "source": [
    "driver.implicitly_wait(10)\n",
    "time.sleep(1)\n",
    "# 게시글 태그를 모두 찾는다. \n",
    "imgs = driver.find_elements(\n",
    "    By.CLASS_NAME, \n",
    "    '_aagw'\n",
    ")\n",
    "# imgs의 원소의 개수를 출력 \n",
    "print(len(imgs))"
   ]
  },
  {
   "cell_type": "code",
   "execution_count": 19,
   "metadata": {},
   "outputs": [],
   "source": [
    "# imgs에 첫번째 태그를 클릭 \n",
    "imgs[0].click()"
   ]
  },
  {
   "cell_type": "code",
   "execution_count": 26,
   "metadata": {},
   "outputs": [],
   "source": [
    "# 아이디가 입력되어있는 태그들 \n",
    "ids = driver.find_elements(\n",
    "    By.CLASS_NAME, \n",
    "    '_a9zc'\n",
    ")\n",
    "contents = driver.find_elements(\n",
    "    By.CLASS_NAME, \n",
    "    '_a9zs'\n",
    ")\n",
    "# id 값들과 contents 값들을 변수에 저장 \n",
    "data = {\n",
    "    'ID' : [], \n",
    "    'contents' : []\n",
    "}\n",
    "# ids, contents 값을 반복문을 이용하여 텍스트를 추출\n",
    "for id, content in zip(ids, contents):\n",
    "    # data 변수에 id 키에 대응이되는 value에 id의 텍스트르 추가 \n",
    "    data['ID'].append(id.text)\n",
    "    data['contents'].append(content.text.replace('\\n', ' '))\n"
   ]
  },
  {
   "cell_type": "code",
   "execution_count": 27,
   "metadata": {},
   "outputs": [
    {
     "data": {
      "text/plain": [
       "{'ID': ['station3_food.zip', 'izakayanamu_snue'],\n",
       " 'contents': ['#저녁기록 23.12월  🏠상호명: #오징어청춘 🎈위치: 역삼역 8출 도보 7분 🍽메뉴: 모듬회 大(6.0)  💫 퇴근 후 술자리 2,3차로 가기 좋은 오징어청춘! 테이블별로 간격이 좁아 좀 시끌벅쩍 하지만 그래도 생각보다 회나 다른 음식맛이 괜찮은 편이라 n차로 추천.  근데 여기 해물라면이 찐이에요 🦀🦐🦑🐟  #역삼점심 #역삼역맛집 #강남점심 #선릉맛집 #선릉점심 #역삼저녁 #역삼역저녁추천 #역삼술집 #역삼역회식 #역삼횟집',\n",
       "  '안녕하세요 정갈한 맛과 분위기가 있는 이자카야 나무 교대점입니다 여러가지 이벤트 준비 중에 있습니다 많은 이용 부탁드립니다 🙂']}"
      ]
     },
     "execution_count": 27,
     "metadata": {},
     "output_type": "execute_result"
    }
   ],
   "source": [
    "data"
   ]
  },
  {
   "cell_type": "code",
   "execution_count": 28,
   "metadata": {},
   "outputs": [],
   "source": [
    "# 다음 게시물로 이동\n",
    "next_element = driver.find_element(\n",
    "    By.CSS_SELECTOR, \n",
    "    'svg[aria-label=\"다음\"]'\n",
    ")\n",
    "# next_element를 클릭 이벤트 \n",
    "next_element.click()"
   ]
  },
  {
   "cell_type": "code",
   "execution_count": 29,
   "metadata": {},
   "outputs": [],
   "source": [
    "# 게시물 닫기 태그를 선택 \n",
    "close_element = driver.find_element(\n",
    "    By.CSS_SELECTOR, \n",
    "    'svg[aria-label=\"닫기\"]'\n",
    ")\n",
    "close_element.click()"
   ]
  },
  {
   "cell_type": "code",
   "execution_count": 31,
   "metadata": {},
   "outputs": [
    {
     "name": "stdout",
     "output_type": "stream",
     "text": [
      "{'ID': ['station3_food.zip', 'izakayanamu_snue', 'station3_food.zip', 'station3_food.zip', 'station3_food.zip'], 'contents': ['#저녁기록 23.12월  🏠상호명: #오징어청춘 🎈위치: 역삼역 8출 도보 7분 🍽메뉴: 모듬회 大(6.0)  💫 퇴근 후 술자리 2,3차로 가기 좋은 오징어청춘! 테이블별로 간격이 좁아 좀 시끌벅쩍 하지만 그래도 생각보다 회나 다른 음식맛이 괜찮은 편이라 n차로 추천.  근데 여기 해물라면이 찐이에요 🦀🦐🦑🐟  #역삼점심 #역삼역맛집 #강남점심 #선릉맛집 #선릉점심 #역삼저녁 #역삼역저녁추천 #역삼술집 #역삼역회식 #역삼횟집', '안녕하세요 정갈한 맛과 분위기가 있는 이자카야 나무 교대점입니다 여러가지 이벤트 준비 중에 있습니다 많은 이용 부탁드립니다 🙂', '#점심기록 231212  🏠상호명: #샐러드시티 역삼점 🎈위치: 배달주문🛵 🍽메뉴:  #훈제오리마늘파스타 (11.5)  그리너에 이은 새로운 파스타샐러드맛집🥗🍝 #샐러드시티역삼점 다이어트용 파스타샐러드/포케/파스타/플래터 등 종류가 많아 골라먹는 재미도 있다.  💫개인적으론 파스타는 수비드목살 파스타 추천! (오리훈제는 오리고기 양이 쬐금 적은 느낌)  #역삼점심 #역삼역맛집 #역삼샐러드배단 #역삼역샐러드맛집 #강남점심 #강남샐러드 #선릉맛집 ##선릉샐러드맛집 #샐러드맛집추천', '#점심기록 231206  🏠상호명: #Chai797 역삼GFC점 🎈위치: 역삼역 2출. GFC몰 지하1층 🍽메뉴: 딤섬플래터6ps(11.5), 짜장면(10.0)  찾았다 역삼 딤섬맛집!! 짜장이나 볶음밥같은 일반 메뉴들은 맛은 쏘쏘. 먹을만한 정도! GFC 내부에 있어서 그런지 분위기는 전반적으로 조용하고 생각보다 고급졌다. 메뉴는 가격대 꽤 있는 음식이나 코스요리도 있어서 술 없는 💫점심회식이나 외부 미팅💫으로 와도 괜찮을 듯!  #Chai797역삼GFC점 #역삼점심 #역삼역맛집 #역삼딤섬 #역삼중식추천 #역삼역중식 #선릉중식 #강남점심 #강남딤섬맛집 #선릉맛집 #선릉점심 #역삼저녁 #역삼역저녁추천', '강남역 새로생긴 #라일품마라탕 JMT 마라맛도 진한게 너무맛있드이ㅏ 자주와야지 🥰🥰🥰  #강남라일품마라탕 #강남맛집 #라1품마라탕 #강남마라탕맛집 #강남마라탕']}\n"
     ]
    }
   ],
   "source": [
    "# 게시물 목록을 생성 \n",
    "imgs = driver.find_elements(\n",
    "    By.CLASS_NAME, \n",
    "    '_aagw'\n",
    ")\n",
    "# 게시물 중 첫번째 태그를 선택하여 클릭\n",
    "imgs[0].click()\n",
    "\n",
    "# data를 저장할 변수를 생성 \n",
    "data = {\n",
    "    'ID' : [], \n",
    "    'contents' : []\n",
    "}\n",
    "# 대기 시간\n",
    "driver.implicitly_wait(10)\n",
    "time.sleep(1)\n",
    "# 몇개의 게시물에 데이터를 가져올것인가? 반복문을 이용하여 생성\n",
    "# 반복 횟수(3회)\n",
    "i = 0\n",
    "end_val = 3\n",
    "while True:\n",
    "    # 게시물에 있는 데이터를 data변수에 대입 \n",
    "    driver.implicitly_wait(10)\n",
    "    time.sleep(1)\n",
    "    ids = driver.find_elements(\n",
    "        By.CLASS_NAME, \n",
    "        '_a9zc'\n",
    "    )\n",
    "    contents = driver.find_elements(\n",
    "        By.CLASS_NAME, \n",
    "        '_a9zs'\n",
    "    )\n",
    "    # ids, contents 기준으로 반복문을 실행\n",
    "    for id, content in zip(ids, contents):\n",
    "        data['ID'].append(id.text)\n",
    "        data['contents'].append(content.text.replace('\\n', ' '))\n",
    "    # 만약에 i이 end_val보다 같다면 -> 반복문을 종료\n",
    "    if i == end_val:\n",
    "        break\n",
    "    # i의 값은 1씩 증가\n",
    "    i += 1\n",
    "    # 다음 버튼이 존재하지 않는다면 -> 반복문을 종료\n",
    "    try:\n",
    "        next_element = driver.find_element(\n",
    "            By.CSS_SELECTOR, \n",
    "            'svg[aria-label=\"다음\"]'\n",
    "        )\n",
    "        next_element.click()\n",
    "    except:\n",
    "        print('next error')\n",
    "        break\n",
    "# 게시물 닫기 \n",
    "close_element = driver.find_element(\n",
    "    By.CSS_SELECTOR, \n",
    "    'svg[aria-label=\"닫기\"]'\n",
    ")\n",
    "close_element.click()\n",
    "# 만들어진 data 출력\n",
    "print(data)"
   ]
  },
  {
   "cell_type": "code",
   "execution_count": null,
   "metadata": {},
   "outputs": [],
   "source": [
    "# data 변수를 데이터프레임으로 변환\n",
    "df = pd.DataFrame(data)\n",
    "df"
   ]
  },
  {
   "cell_type": "code",
   "execution_count": 33,
   "metadata": {},
   "outputs": [],
   "source": [
    "# df를 csv 파일로 저장 \n",
    "df.to_csv('insta.csv')"
   ]
  },
  {
   "cell_type": "code",
   "execution_count": 35,
   "metadata": {},
   "outputs": [],
   "source": [
    "# 이미지를 저장하는 함수를 생성 \n",
    "# 매개변수 3개 : 이미지의 주소, 저장되는 위치, 파일의 이름 \n",
    "def image_save(img_path, save_path, file_name):\n",
    "    html_data = requests.get(img_path)\n",
    "    # 파일이 저장되는 경로와 파일의 이름은 지정\n",
    "    imageFile = open(\n",
    "        os.path.join(\n",
    "            save_path, \n",
    "            file_name\n",
    "        ), \n",
    "        'wb'\n",
    "    )\n",
    "    # 이미지 데이터의 크기 지정\n",
    "    chunk_size = 100000000\n",
    "    for chunk in html_data.iter_content(chunk_size):\n",
    "        imageFile.write(chunk)\n",
    "        imageFile.close()\n",
    "    print(f'{file_name} 저장 완료')\n"
   ]
  },
  {
   "cell_type": "code",
   "execution_count": 38,
   "metadata": {},
   "outputs": [
    {
     "data": {
      "text/plain": [
       "2"
      ]
     },
     "execution_count": 38,
     "metadata": {},
     "output_type": "execute_result"
    }
   ],
   "source": [
    "# 첫번째 게시물을 기준으로 img태그의 개수 확인 \n",
    "len(\n",
    "    driver.find_elements(\n",
    "        By.CSS_SELECTOR, \n",
    "        '._aagu._aato ._aagv img'\n",
    "    )\n",
    ")"
   ]
  },
  {
   "cell_type": "code",
   "execution_count": null,
   "metadata": {},
   "outputs": [],
   "source": [
    "# 이미지가 여러개인 경우 다음 버튼을 클릭 \n",
    "img_next = driver.find_element(\n",
    "    By.CSS_SELECTOR, \n",
    "    'button[aria-label=\"다음\"]'\n",
    ")\n",
    "img_next.click()"
   ]
  },
  {
   "cell_type": "code",
   "execution_count": 47,
   "metadata": {},
   "outputs": [],
   "source": [
    "# 인스타그램에 있는 이미지 태그를 모두 찾는다. \n",
    "img_elements = driver.find_elements(\n",
    "    By.CSS_SELECTOR, \n",
    "    '._aagu._aato ._aagv img'\n",
    ")\n",
    "# img_elements 중 첫번째 태그의 src 속성의 값\n",
    "# selenium을 이용하여 태그의 src 속성의 값을 출력 \n",
    "img_src = img_elements[0].get_attribute('src')"
   ]
  },
  {
   "cell_type": "code",
   "execution_count": 48,
   "metadata": {},
   "outputs": [
    {
     "name": "stdout",
     "output_type": "stream",
     "text": [
      "test.png 저장 완료\n"
     ]
    }
   ],
   "source": [
    "image_save(img_src, './imgs', 'test.png')"
   ]
  },
  {
   "cell_type": "code",
   "execution_count": 50,
   "metadata": {},
   "outputs": [],
   "source": [
    "imgs = driver.find_elements(\n",
    "    By.CLASS_NAME, \n",
    "    '_aagw'\n",
    ")\n",
    "imgs[0].click()\n",
    "\n",
    "i = 0 \n",
    "end_val = 3\n",
    "# 이미지의 주소들이 추가가 될 빈 리스트 생성\n",
    "img_list = []\n",
    "# 게시글 반복\n",
    "while True:\n",
    "    # 대기 \n",
    "    driver.implicitly_wait(10)\n",
    "    time.sleep(1)\n",
    "    # 이미지 다음버튼이 존재할때 반복 실행(무한실행)\n",
    "    while True:\n",
    "        driver.implicitly_wait(10)\n",
    "        # 이미지 태그를 모두 찾는다. \n",
    "        img_elements = driver.find_elements(\n",
    "            By.CSS_SELECTOR, \n",
    "            '._aagu._aato ._aagv img'\n",
    "        )\n",
    "        for img_element in img_elements:\n",
    "            # img_element에 src 속성의 값을 img_list에 추가 (img_list에 존재하지 않는 경우에만)\n",
    "            src_data = img_element.get_attribute('src')\n",
    "            if src_data not in img_list:\n",
    "                img_list.append(src_data)\n",
    "        try:\n",
    "            # 이미지에서 다음버튼 클릭 \n",
    "            img_next = driver.find_element(\n",
    "                By.CSS_SELECTOR, \n",
    "                'button[aria-label=\"다음\"]'\n",
    "            )\n",
    "            img_next.click()\n",
    "        except:\n",
    "            # 두번째 while문을 강제 종료\n",
    "            break\n",
    "    # i와 end_val가 같다면 반복문 종료\n",
    "    if i == end_val:\n",
    "        # 첫번째 while문을 강제 종료\n",
    "        break\n",
    "    i += 1\n",
    "    # 다음 게시물로 이동 \n",
    "    next_element = driver.find_element(\n",
    "        By.CSS_SELECTOR, \n",
    "        'svg[aria-label=\"다음\"]'\n",
    "    )\n",
    "    next_element.click()\n",
    "    "
   ]
  },
  {
   "cell_type": "code",
   "execution_count": 51,
   "metadata": {},
   "outputs": [
    {
     "data": {
      "text/plain": [
       "['https://scontent.cdninstagram.com/v/t51.29350-15/417835408_391570983402376_2944839164864280992_n.heic?stp=dst-jpg_e35&efg=eyJ2ZW5jb2RlX3RhZyI6ImltYWdlX3VybGdlbi4xNDQweDE0NDAuc2RyLmYyOTM1MCJ9&_nc_ht=scontent.cdninstagram.com&_nc_cat=104&_nc_ohc=SWZhrrVnQukQ7kNvgGDV1c8&edm=APs17CUBAAAA&ccb=7-5&ig_cache_key=MzI3Njc5NjA2MTg0NzA3ODU2MQ%3D%3D.2-ccb7-5&oh=00_AYBgOt5Y2zybq6Uuind8hK20y-gDQ0Mo4WwJFlm09apyWQ&oe=6642B4EB&_nc_sid=10d13b',\n",
       " 'https://scontent.cdninstagram.com/v/t51.29350-15/412393004_219678341185279_5936613697750762324_n.heic?stp=dst-jpg_e35&efg=eyJ2ZW5jb2RlX3RhZyI6ImltYWdlX3VybGdlbi4xNDQweDE0NDAuc2RyLmYyOTM1MCJ9&_nc_ht=scontent.cdninstagram.com&_nc_cat=107&_nc_ohc=6rc8IE4s4n4Q7kNvgGSpfdJ&edm=APs17CUBAAAA&ccb=7-5&ig_cache_key=MzI2NDgyNTM4MTI1MjY3NjEwMw%3D%3D.2-ccb7-5&oh=00_AYAOBMV5PjmpJpkuUPkBtD0aLGB6ymOT_q6nBQk6oUbLAQ&oe=6642BB87&_nc_sid=10d13b',\n",
       " 'https://scontent.cdninstagram.com/v/t51.29350-15/412615892_1359879044917654_5129382049029557824_n.heic?stp=dst-jpg_e35&efg=eyJ2ZW5jb2RlX3RhZyI6ImltYWdlX3VybGdlbi4xNDQweDE0NDAuc2RyLmYyOTM1MCJ9&_nc_ht=scontent.cdninstagram.com&_nc_cat=110&_nc_ohc=Ez56PnjmN1AQ7kNvgFEqJYW&edm=APs17CUBAAAA&ccb=7-5&ig_cache_key=MzI2NDgyMDM0NTExODM0NzcyMw%3D%3D.2-ccb7-5&oh=00_AYBCtAOQ-s8getpI7z1uqqbYIIhbms9Wu-OzfBvaty9vKQ&oe=6644976D&_nc_sid=10d13b',\n",
       " 'https://scontent.cdninstagram.com/v/t51.29350-15/413376626_908574977494396_4742079015384526034_n.heic?stp=dst-jpg_e35&efg=eyJ2ZW5jb2RlX3RhZyI6ImltYWdlX3VybGdlbi4xNDQweDE0NDAuc2RyLmYyOTM1MCJ9&_nc_ht=scontent.cdninstagram.com&_nc_cat=104&_nc_ohc=m1X5cQ6SDe4Q7kNvgEPSaZB&edm=APs17CUBAAAA&ccb=7-5&ig_cache_key=MzI2NDgyMDM0NTExODM1MDM3MQ%3D%3D.2-ccb7-5&oh=00_AYDqZFsOcpKcmS2yYJo4dw-MPRyV5_pjyuy_ChpeOHvDGA&oe=6644C401&_nc_sid=10d13b',\n",
       " 'https://scontent.cdninstagram.com/v/t51.29350-15/377326386_1523385331799590_5999702936077305666_n.heic?stp=dst-jpg_e35&efg=eyJ2ZW5jb2RlX3RhZyI6ImltYWdlX3VybGdlbi4xNDQweDE0NDAuc2RyLmYyOTM1MCJ9&_nc_ht=scontent.cdninstagram.com&_nc_cat=110&_nc_ohc=db8qPU1CysoQ7kNvgEzhYoz&edm=APs17CUBAAAA&ccb=7-5&ig_cache_key=MzE5MDkxNzUxODExMzY4NjA0MA%3D%3D.2-ccb7-5&oh=00_AYALsmwEt9NkDN3XWhAjOIXP4A8vdvDmElPJ_G9oez9wWw&oe=6644BA22&_nc_sid=10d13b',\n",
       " 'https://scontent.cdninstagram.com/v/t51.29350-15/376771416_1669846456862353_649694717807728266_n.heic?stp=dst-jpg_e35&efg=eyJ2ZW5jb2RlX3RhZyI6ImltYWdlX3VybGdlbi4xNDQweDE0NDAuc2RyLmYyOTM1MCJ9&_nc_ht=scontent.cdninstagram.com&_nc_cat=101&_nc_ohc=3bkvNzr6OFwQ7kNvgHdhCkK&edm=APs17CUBAAAA&ccb=7-5&ig_cache_key=MzE5MDkxNzUxODExMzcyNjI2OA%3D%3D.2-ccb7-5&oh=00_AYARkkrytG5t7uPZHg-no8v6hrrqeIMs9yVesuwPiVXYOA&oe=664497AB&_nc_sid=10d13b']"
      ]
     },
     "execution_count": 51,
     "metadata": {},
     "output_type": "execute_result"
    }
   ],
   "source": [
    "img_list"
   ]
  },
  {
   "cell_type": "code",
   "execution_count": null,
   "metadata": {},
   "outputs": [],
   "source": []
  }
 ],
 "metadata": {
  "kernelspec": {
   "display_name": "Python 3",
   "language": "python",
   "name": "python3"
  },
  "language_info": {
   "codemirror_mode": {
    "name": "ipython",
    "version": 3
   },
   "file_extension": ".py",
   "mimetype": "text/x-python",
   "name": "python",
   "nbconvert_exporter": "python",
   "pygments_lexer": "ipython3",
   "version": "3.11.4"
  }
 },
 "nbformat": 4,
 "nbformat_minor": 2
}
