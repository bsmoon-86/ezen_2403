{
 "cells": [
  {
   "cell_type": "markdown",
   "metadata": {},
   "source": [
    "#### python 내장함수 "
   ]
  },
  {
   "cell_type": "code",
   "execution_count": null,
   "metadata": {},
   "outputs": [],
   "source": [
    "## 길이를 출력하는 함수 \n",
    "a = \"Hello\"\n",
    "## 문자열에서는 문자의 개수를 출력\n",
    "print(len(a))"
   ]
  },
  {
   "cell_type": "code",
   "execution_count": null,
   "metadata": {},
   "outputs": [],
   "source": [
    "## 자료형 데이터에서 len()\n",
    "_list = [1,2,3,4,5]\n",
    "## 원소의 개수를 출력\n",
    "print(len(_list))"
   ]
  },
  {
   "cell_type": "code",
   "execution_count": null,
   "metadata": {},
   "outputs": [],
   "source": [
    "## 문자 데이터에서 모든 문자를 대문자로 변경 \n",
    "a = \"Hello world\"\n",
    "print(a.upper())"
   ]
  },
  {
   "cell_type": "code",
   "execution_count": null,
   "metadata": {},
   "outputs": [],
   "source": [
    "## 모든 문자를 소문자로 변경 \n",
    "print(a.lower())"
   ]
  },
  {
   "cell_type": "code",
   "execution_count": null,
   "metadata": {},
   "outputs": [],
   "source": [
    "# 대문자를 소문자로 변경, 소문자를 대문자로 변경 \n",
    "print(a.swapcase())"
   ]
  },
  {
   "cell_type": "code",
   "execution_count": null,
   "metadata": {},
   "outputs": [],
   "source": [
    "# 단어의 시작을 대문자로 변경 \n",
    "print(a.title())"
   ]
  },
  {
   "cell_type": "code",
   "execution_count": 14,
   "metadata": {},
   "outputs": [
    {
     "name": "stdout",
     "output_type": "stream",
     "text": [
      "  Hello world  \n"
     ]
    }
   ],
   "source": [
    "# 문자열에서 좌우의 공백을 제거 \n",
    "a = \"  Hello world  \"\n",
    "print(a)"
   ]
  },
  {
   "cell_type": "code",
   "execution_count": null,
   "metadata": {},
   "outputs": [],
   "source": [
    "# strip()\n",
    "a.strip()"
   ]
  },
  {
   "cell_type": "code",
   "execution_count": null,
   "metadata": {},
   "outputs": [],
   "source": [
    "# 왼쪽의 공백을 제거 \n",
    "a.lstrip()"
   ]
  },
  {
   "cell_type": "code",
   "execution_count": null,
   "metadata": {},
   "outputs": [],
   "source": [
    "# 오른쪽의 공백을 제거 \n",
    "a.rstrip()"
   ]
  },
  {
   "cell_type": "code",
   "execution_count": null,
   "metadata": {},
   "outputs": [],
   "source": [
    "cost = \"1000원\"\n",
    "cost2 = \"2000원\"\n",
    "print(cost + cost2)"
   ]
  },
  {
   "cell_type": "code",
   "execution_count": null,
   "metadata": {},
   "outputs": [],
   "source": [
    "# 에러 발생 : cost에 '원' 데이터는 숫자로 변경이 불가능\n",
    "print(int(cost) + int(cost2))"
   ]
  },
  {
   "cell_type": "code",
   "execution_count": null,
   "metadata": {},
   "outputs": [],
   "source": [
    "cost = cost.rstrip('원')\n",
    "cost2 = cost2.rstrip('원')"
   ]
  },
  {
   "cell_type": "code",
   "execution_count": null,
   "metadata": {},
   "outputs": [],
   "source": [
    "print(int(cost) + int(cost2))"
   ]
  },
  {
   "cell_type": "code",
   "execution_count": null,
   "metadata": {},
   "outputs": [],
   "source": [
    "cost = \"1,000원\"\n",
    "cost2 = \"2,000원\""
   ]
  },
  {
   "cell_type": "code",
   "execution_count": null,
   "metadata": {},
   "outputs": [],
   "source": [
    "cost = cost.rstrip('원')\n",
    "cost2 = cost2.rstrip('원')"
   ]
  },
  {
   "cell_type": "code",
   "execution_count": null,
   "metadata": {},
   "outputs": [],
   "source": [
    "## ','때문에 숫자로 변경이 불가능\n",
    "int(cost)"
   ]
  },
  {
   "cell_type": "code",
   "execution_count": null,
   "metadata": {},
   "outputs": [],
   "source": [
    "## 특정 문자를 다른 문자로 대체하는 함수\n",
    "# replace() \n",
    "cost = cost.replace(\",\", \"\")\n",
    "cost2 = cost2.replace(\",\", \"\")"
   ]
  },
  {
   "cell_type": "code",
   "execution_count": null,
   "metadata": {},
   "outputs": [],
   "source": [
    "print(int(cost) + int(cost2))"
   ]
  },
  {
   "cell_type": "code",
   "execution_count": null,
   "metadata": {},
   "outputs": [],
   "source": [
    "# replace를 이용하여 공백을 제거 \n",
    "# 문자열 사이에 있는 공백도 제거 \n",
    "a.replace(\" \", \"\")"
   ]
  },
  {
   "cell_type": "code",
   "execution_count": 1,
   "metadata": {},
   "outputs": [
    {
     "name": "stdout",
     "output_type": "stream",
     "text": [
      "a b c d\n",
      "['a', 'b', 'c', 'd']\n"
     ]
    }
   ],
   "source": [
    "## split()\n",
    "## 인자값 없이 사용하면 공백을 기준으로 데이터를 나눠준다. \n",
    "b = \"a b c d\"\n",
    "print(b)\n",
    "print(b.split())"
   ]
  },
  {
   "cell_type": "code",
   "execution_count": 2,
   "metadata": {},
   "outputs": [
    {
     "name": "stdout",
     "output_type": "stream",
     "text": [
      "a/b/c/d\n",
      "['a', 'b', 'c', 'd']\n"
     ]
    }
   ],
   "source": [
    "c = \"a/b/c/d\"\n",
    "print(c)\n",
    "print(c.split(\"/\"))"
   ]
  },
  {
   "cell_type": "code",
   "execution_count": 3,
   "metadata": {},
   "outputs": [
    {
     "data": {
      "text/plain": [
       "True"
      ]
     },
     "execution_count": 3,
     "metadata": {},
     "output_type": "execute_result"
    }
   ],
   "source": [
    "## 문자열을 시작값과 비교를 하는 함수 \n",
    "text = \"Hello world\"\n",
    "## text가 시작이 Hello인가?\n",
    "text.split()[0] == 'Hello'"
   ]
  },
  {
   "cell_type": "code",
   "execution_count": 5,
   "metadata": {},
   "outputs": [
    {
     "data": {
      "text/plain": [
       "True"
      ]
     },
     "execution_count": 5,
     "metadata": {},
     "output_type": "execute_result"
    }
   ],
   "source": [
    "text[:len('Hello')] == 'Hello'"
   ]
  },
  {
   "cell_type": "code",
   "execution_count": 6,
   "metadata": {},
   "outputs": [
    {
     "data": {
      "text/plain": [
       "True"
      ]
     },
     "execution_count": 6,
     "metadata": {},
     "output_type": "execute_result"
    }
   ],
   "source": [
    "# startswith(문자열)\n",
    "text.startswith('Hello')"
   ]
  },
  {
   "cell_type": "code",
   "execution_count": 9,
   "metadata": {},
   "outputs": [
    {
     "data": {
      "text/plain": [
       "True"
      ]
     },
     "execution_count": 9,
     "metadata": {},
     "output_type": "execute_result"
    }
   ],
   "source": [
    "file_name = \"a.t.e.s.t.csv\"\n",
    "## 해당하는 파일의 확장자가 csv인가?\n",
    "file_name.split(\".\")[-1] == 'csv'"
   ]
  },
  {
   "cell_type": "code",
   "execution_count": 11,
   "metadata": {},
   "outputs": [
    {
     "data": {
      "text/plain": [
       "True"
      ]
     },
     "execution_count": 11,
     "metadata": {},
     "output_type": "execute_result"
    }
   ],
   "source": [
    "file_name[-len('csv'):] == 'csv'"
   ]
  },
  {
   "cell_type": "code",
   "execution_count": 12,
   "metadata": {},
   "outputs": [
    {
     "data": {
      "text/plain": [
       "True"
      ]
     },
     "execution_count": 12,
     "metadata": {},
     "output_type": "execute_result"
    }
   ],
   "source": [
    "file_name.endswith('csv')"
   ]
  },
  {
   "cell_type": "code",
   "execution_count": 15,
   "metadata": {},
   "outputs": [
    {
     "name": "stdout",
     "output_type": "stream",
     "text": [
      "2\n",
      "0\n"
     ]
    }
   ],
   "source": [
    "# 문자열 데이터에서 특정 문자의 개수를 출력 \n",
    "print(a.count('o'))\n",
    "print(a.count('a'))"
   ]
  },
  {
   "cell_type": "code",
   "execution_count": 16,
   "metadata": {},
   "outputs": [
    {
     "name": "stdout",
     "output_type": "stream",
     "text": [
      "3\n",
      "3\n"
     ]
    }
   ],
   "source": [
    "# 특정문자의 위치를 출력해주는 함수\n",
    "print(a.find('e'))\n",
    "print(a.index('e'))"
   ]
  },
  {
   "cell_type": "code",
   "execution_count": 17,
   "metadata": {},
   "outputs": [
    {
     "name": "stdout",
     "output_type": "stream",
     "text": [
      "-1\n"
     ]
    }
   ],
   "source": [
    "# find()는 해당하는 단어가 존재하지 않는다면 -1 출력\n",
    "print(a.find('a'))"
   ]
  },
  {
   "cell_type": "code",
   "execution_count": 18,
   "metadata": {},
   "outputs": [
    {
     "ename": "ValueError",
     "evalue": "substring not found",
     "output_type": "error",
     "traceback": [
      "\u001b[1;31m---------------------------------------------------------------------------\u001b[0m",
      "\u001b[1;31mValueError\u001b[0m                                Traceback (most recent call last)",
      "Cell \u001b[1;32mIn[18], line 2\u001b[0m\n\u001b[0;32m      1\u001b[0m \u001b[38;5;66;03m# index()는 해당하는 단어가 존재하지 않는다면 에러가 발생\u001b[39;00m\n\u001b[1;32m----> 2\u001b[0m \u001b[38;5;28mprint\u001b[39m(\u001b[43ma\u001b[49m\u001b[38;5;241;43m.\u001b[39;49m\u001b[43mindex\u001b[49m\u001b[43m(\u001b[49m\u001b[38;5;124;43m'\u001b[39;49m\u001b[38;5;124;43ma\u001b[39;49m\u001b[38;5;124;43m'\u001b[39;49m\u001b[43m)\u001b[49m)\n",
      "\u001b[1;31mValueError\u001b[0m: substring not found"
     ]
    }
   ],
   "source": [
    "# index()는 해당하는 단어가 존재하지 않는다면 에러가 발생\n",
    "print(a.index('a'))"
   ]
  },
  {
   "cell_type": "code",
   "execution_count": 19,
   "metadata": {},
   "outputs": [
    {
     "name": "stdout",
     "output_type": "stream",
     "text": [
      "데이터가 존재하지 않는다\n"
     ]
    }
   ],
   "source": [
    "# a 변수에서 'a' 문자열이 존재하면?\n",
    "# if a.find('a') != -1:\n",
    "if a.find('a') >= 0:\n",
    "    print('데이터가 존재')\n",
    "else:\n",
    "    print('데이터가 존재하지 않는다')"
   ]
  },
  {
   "cell_type": "code",
   "execution_count": 21,
   "metadata": {},
   "outputs": [
    {
     "name": "stdout",
     "output_type": "stream",
     "text": [
      "데이터가 존재하지 않는다\n"
     ]
    }
   ],
   "source": [
    "# 시도하다(try)\n",
    "try:\n",
    "    a.index('a')\n",
    "    print('데이터가 존재')\n",
    "# 문제가 발생한다면 (except)\n",
    "except:\n",
    "    print('데이터가 존재하지 않는다')"
   ]
  },
  {
   "cell_type": "markdown",
   "metadata": {},
   "source": [
    "#### 일반 함수 \n",
    "- 어떠한 입력값을 가지고 작업을 수행하고 결과물을 되돌려주는 기능"
   ]
  },
  {
   "cell_type": "code",
   "execution_count": null,
   "metadata": {},
   "outputs": [],
   "source": [
    "# 매개변수가 존재하지 않는 함수를 생성 \n",
    "def func_1():\n",
    "    return \"Hello\""
   ]
  },
  {
   "cell_type": "code",
   "execution_count": null,
   "metadata": {},
   "outputs": [],
   "source": [
    "## 함수 호출 \n",
    "x = func_1()\n",
    "print(x)"
   ]
  },
  {
   "cell_type": "code",
   "execution_count": 22,
   "metadata": {},
   "outputs": [],
   "source": [
    "def func_2():\n",
    "    # 되돌려주는 데이터가 2개 이상인 경우 \n",
    "    return \"Hello\", \"World\""
   ]
  },
  {
   "cell_type": "code",
   "execution_count": 23,
   "metadata": {},
   "outputs": [
    {
     "name": "stdout",
     "output_type": "stream",
     "text": [
      "('Hello', 'World')\n"
     ]
    }
   ],
   "source": [
    "x = func_2()\n",
    "print(x)"
   ]
  },
  {
   "cell_type": "code",
   "execution_count": 24,
   "metadata": {},
   "outputs": [
    {
     "name": "stdout",
     "output_type": "stream",
     "text": [
      "3\n",
      "3.14\n"
     ]
    }
   ],
   "source": [
    "x, y = 3, 3.14\n",
    "print(x)\n",
    "print(y)"
   ]
  },
  {
   "cell_type": "code",
   "execution_count": 25,
   "metadata": {},
   "outputs": [
    {
     "name": "stdout",
     "output_type": "stream",
     "text": [
      "Hello\n",
      "World\n"
     ]
    }
   ],
   "source": [
    "x, y = func_2()\n",
    "print(x)\n",
    "print(y)"
   ]
  },
  {
   "cell_type": "markdown",
   "metadata": {},
   "source": [
    "#### 변수의 종류\n",
    "1. 전역 변수 \n",
    "    - 어디서든 사용이 가능한 변수 \n",
    "    - 함수 내부에서나 외부에서 모든 영역이 사용이 가능한 변수 \n",
    "2. 지역 변수 \n",
    "    - 특정 영역에서만 사용이 가능한 변수 \n",
    "    - 함수나 클래스에서 만들어지는 변수는 해당하는 영역에서만 사용이 가능(외부에서는 사용이 불가능)\n",
    "3. 매개 변수 \n",
    "    - 함수를 생성할때 입력 값들을 저장하기 위한 공간 \n",
    "    - 함수 내부에서만 사용이 가능\n",
    "4. 객체 변수 \n",
    "    - class 내부에서 사용이 되는 변수 \n",
    "    - class 안에서 독립적으로 사용이 되는 변수 \n",
    "5. 클래스 변수\n",
    "    - 같은 클래스에서 서로 공유가 되는 변수 "
   ]
  },
  {
   "cell_type": "code",
   "execution_count": 26,
   "metadata": {},
   "outputs": [],
   "source": [
    "# 매개변수 : _x, _x\n",
    "def func_3(_x, _y):\n",
    "    # 지역변수  : result\n",
    "    result = _x + _y\n",
    "    return result"
   ]
  },
  {
   "cell_type": "code",
   "execution_count": 28,
   "metadata": {},
   "outputs": [
    {
     "name": "stdout",
     "output_type": "stream",
     "text": [
      "12\n"
     ]
    }
   ],
   "source": [
    "# 전역 변수 : func_res\n",
    "func_res = func_3(10, 2)\n",
    "print(func_res)"
   ]
  },
  {
   "cell_type": "code",
   "execution_count": 30,
   "metadata": {},
   "outputs": [
    {
     "ename": "NameError",
     "evalue": "name 'result' is not defined",
     "output_type": "error",
     "traceback": [
      "\u001b[1;31m---------------------------------------------------------------------------\u001b[0m",
      "\u001b[1;31mNameError\u001b[0m                                 Traceback (most recent call last)",
      "Cell \u001b[1;32mIn[30], line 2\u001b[0m\n\u001b[0;32m      1\u001b[0m \u001b[38;5;66;03m# 지역변수, 매개변수를 출력하면 에러가 발생\u001b[39;00m\n\u001b[1;32m----> 2\u001b[0m \u001b[38;5;28mprint\u001b[39m(\u001b[43mresult\u001b[49m)\n",
      "\u001b[1;31mNameError\u001b[0m: name 'result' is not defined"
     ]
    }
   ],
   "source": [
    "# 지역변수, 매개변수를 출력하면 에러가 발생\n",
    "print(result)"
   ]
  },
  {
   "cell_type": "code",
   "execution_count": 31,
   "metadata": {},
   "outputs": [],
   "source": [
    "def func_4(_x):\n",
    "    # 전역변수  : func_res\n",
    "    # 지역변수 : result\n",
    "    # 매개변수 : _x\n",
    "    result = func_res + _x\n",
    "    return result"
   ]
  },
  {
   "cell_type": "code",
   "execution_count": 32,
   "metadata": {},
   "outputs": [
    {
     "name": "stdout",
     "output_type": "stream",
     "text": [
      "17\n",
      "12\n"
     ]
    }
   ],
   "source": [
    "func_res2 = func_4(5)\n",
    "print(func_res2)\n",
    "print(func_res)"
   ]
  },
  {
   "cell_type": "code",
   "execution_count": 33,
   "metadata": {},
   "outputs": [
    {
     "ename": "TypeError",
     "evalue": "func_4() takes 1 positional argument but 2 were given",
     "output_type": "error",
     "traceback": [
      "\u001b[1;31m---------------------------------------------------------------------------\u001b[0m",
      "\u001b[1;31mTypeError\u001b[0m                                 Traceback (most recent call last)",
      "Cell \u001b[1;32mIn[33], line 2\u001b[0m\n\u001b[0;32m      1\u001b[0m \u001b[38;5;66;03m# 매개변수의 개수와 인자의 개수가 다르면 에러가 발생\u001b[39;00m\n\u001b[1;32m----> 2\u001b[0m \u001b[43mfunc_4\u001b[49m\u001b[43m(\u001b[49m\u001b[38;5;241;43m1\u001b[39;49m\u001b[43m,\u001b[49m\u001b[43m \u001b[49m\u001b[38;5;241;43m5\u001b[39;49m\u001b[43m)\u001b[49m\n",
      "\u001b[1;31mTypeError\u001b[0m: func_4() takes 1 positional argument but 2 were given"
     ]
    }
   ],
   "source": [
    "# 매개변수의 개수와 인자의 개수가 다르면 에러가 발생\n",
    "func_4(1, 5)"
   ]
  },
  {
   "cell_type": "code",
   "execution_count": 75,
   "metadata": {},
   "outputs": [],
   "source": [
    "## 함수를 생성할때 매개변수에 기본값을 설정\n",
    "def func_5(_x, _y = 5):\n",
    "    result = _x + _y\n",
    "    return result"
   ]
  },
  {
   "cell_type": "code",
   "execution_count": 76,
   "metadata": {},
   "outputs": [
    {
     "name": "stdout",
     "output_type": "stream",
     "text": [
      "7\n",
      "15\n"
     ]
    }
   ],
   "source": [
    "## _x, _y = 5 ->  _x = 4, _y = 3 ->result = _x(4) + _y(3)\n",
    "# result = 7 -> return 7\n",
    "print(func_5(4, 3))\n",
    "# _x, _y = 5 -> _x = 10 -> result = _x(10) + _y(5)\n",
    "# result = 15 -> return 15\n",
    "print(func_5(10))"
   ]
  },
  {
   "cell_type": "code",
   "execution_count": 34,
   "metadata": {},
   "outputs": [],
   "source": [
    "## 매개변수들에 모두 기본값이 설정되어있다. \n",
    "def func_6(_x = 10, _y = 5, _z = 2):\n",
    "    result = (_x + _y) ** _z\n",
    "    return result"
   ]
  },
  {
   "cell_type": "code",
   "execution_count": 35,
   "metadata": {},
   "outputs": [
    {
     "name": "stdout",
     "output_type": "stream",
     "text": [
      "225\n"
     ]
    }
   ],
   "source": [
    "print(func_6())"
   ]
  },
  {
   "cell_type": "code",
   "execution_count": 36,
   "metadata": {},
   "outputs": [
    {
     "name": "stdout",
     "output_type": "stream",
     "text": [
      "15\t15\n"
     ]
    }
   ],
   "source": [
    "print(func_6(10, 5, 1), end=\"\\t\")\n",
    "print(func_6(_z = 1))"
   ]
  },
  {
   "cell_type": "code",
   "execution_count": 37,
   "metadata": {},
   "outputs": [],
   "source": [
    "## 함수를 생성 \n",
    "## 매개변수 2개 : _start, _end\n",
    "## _start부터 1씩 증가시켜서 _end까지의 누적합 \n",
    "## 만들어진 누적합을 되돌려준다. \n",
    "def sum_c(_start, _end):\n",
    "    # 누적합을 저장하는 변수를 생성\n",
    "    result = 0\n",
    "    ## 지역변수를 2개 생성 \n",
    "    # 시작값 start -> _start와 _end중 작은 데이터 대입\n",
    "    # 종료값 end -> _start와 _end중 큰 데이터 대입\n",
    "    # _start와 _end 중 _end가 크다면?\n",
    "    if _start < _end:\n",
    "        start = _start\n",
    "        end = _end\n",
    "    else:\n",
    "        start = _end\n",
    "        end = _start\n",
    "    # 반복문을 이용하여 시작값은 _start \n",
    "    # 종료값은 _end+1\n",
    "    # 증가값은 1\n",
    "    # for문\n",
    "    for i in range(start, end+1, 1):\n",
    "        # 누적합\n",
    "        # result = result + i\n",
    "        result += i\n",
    "    return result"
   ]
  },
  {
   "cell_type": "code",
   "execution_count": 38,
   "metadata": {},
   "outputs": [
    {
     "name": "stdout",
     "output_type": "stream",
     "text": [
      "55\n",
      "55\n"
     ]
    }
   ],
   "source": [
    "print(sum_c(1, 10))\n",
    "print(sum_c(10, 1))"
   ]
  },
  {
   "cell_type": "code",
   "execution_count": 96,
   "metadata": {},
   "outputs": [],
   "source": [
    "def sum_c2(_start, _end):\n",
    "    # 두개의 매개변수 중 큰 데이터 : max()\n",
    "    # 두개의 매개변수 중 작은 데이터 : min()\n",
    "    start = min(_start, _end)\n",
    "    end = max(_start, _end)\n",
    "\n",
    "    # while문\n",
    "    result = 0\n",
    "\n",
    "    while start <= end:\n",
    "        # result = result + start\n",
    "        result += start\n",
    "        # start = start + 1\n",
    "        start += 1\n",
    "    return result"
   ]
  },
  {
   "cell_type": "code",
   "execution_count": 97,
   "metadata": {},
   "outputs": [
    {
     "name": "stdout",
     "output_type": "stream",
     "text": [
      "55\n",
      "55\n"
     ]
    }
   ],
   "source": [
    "print(sum_c2(1, 10))\n",
    "print(sum_c2(10, 1))"
   ]
  },
  {
   "cell_type": "code",
   "execution_count": 47,
   "metadata": {},
   "outputs": [],
   "source": [
    "## 인자의 개수가 가변인 경우 함수 생성 \n",
    "def func_7(*args):\n",
    "    print(args)\n",
    "    print(type(args))\n",
    "    ## 입력받은 인자들을 모두 누적합 \n",
    "    result = 0\n",
    "    for i in args:\n",
    "        # print(i)\n",
    "        result += i\n",
    "    print(result)\n",
    "    return result"
   ]
  },
  {
   "cell_type": "code",
   "execution_count": 48,
   "metadata": {},
   "outputs": [
    {
     "name": "stdout",
     "output_type": "stream",
     "text": [
      "(1, 8, 3, 6, 8, 1, 2)\n",
      "<class 'tuple'>\n",
      "29\n"
     ]
    }
   ],
   "source": [
    "## args = (10, 20, 30, 40) -> for i in (10, 20, 30, 40)\n",
    "a = func_7(1, 8, 3, 6, 8, 1,2)"
   ]
  },
  {
   "cell_type": "code",
   "execution_count": 49,
   "metadata": {},
   "outputs": [
    {
     "name": "stdout",
     "output_type": "stream",
     "text": [
      "29\n"
     ]
    }
   ],
   "source": [
    "print(a)"
   ]
  },
  {
   "cell_type": "code",
   "execution_count": 50,
   "metadata": {},
   "outputs": [],
   "source": [
    "def func_8(selector , *args):\n",
    "    print(selector)\n",
    "    print(args)"
   ]
  },
  {
   "cell_type": "code",
   "execution_count": 51,
   "metadata": {},
   "outputs": [
    {
     "name": "stdout",
     "output_type": "stream",
     "text": [
      "a\n",
      "(1, 2, 3, 4)\n"
     ]
    }
   ],
   "source": [
    "func_8('a', 1, 2, 3, 4)"
   ]
  },
  {
   "cell_type": "code",
   "execution_count": 118,
   "metadata": {},
   "outputs": [
    {
     "name": "stdout",
     "output_type": "stream",
     "text": [
      "[1, 2, 3, 4]\n",
      "(5, 2, 3)\n"
     ]
    }
   ],
   "source": [
    "#인자가 자료형 데이터라면? \n",
    "func_8( [1,2,3,4], 5,2,3 )"
   ]
  },
  {
   "cell_type": "markdown",
   "metadata": {},
   "source": [
    "#### 반복문 예제 문제 (for문안에 for문이 있는 다중 for문)\n",
    "- 페르마의 마지막 정리가 참인가 확인\n",
    "> a<sup>n</sup> + b<sup>n</sup> = c<sup>n</sup> \n",
    "- 이 식에서 n이 2보다 큰 자연수라면 a, b, c에 들어갈수 있는 자연수는 존재하지 않는다. \n",
    "- n이 3이라고 가정하고 a, b, c에 1부터 10까지 값들을 대입하여 해당하는 조건식이 참인 경우가 존재하는지 확인 "
   ]
  },
  {
   "cell_type": "code",
   "execution_count": null,
   "metadata": {},
   "outputs": [],
   "source": [
    "## 2개의 주사위를 굴려서 합이 5가 나올 경우의수는 무엇인가?\n",
    "# 첫번째 주사위의 경우의 수 1~6\n",
    "for i in range(1, 7, 1):\n",
    "    # print(i)\n",
    "    # 두번째 주사위의 경우의 수 1~6\n",
    "    for j in range(1, 7, 1):\n",
    "        # 2개의 주사위의 합이 5일때\n",
    "        if i + j == 5:\n",
    "            print(f\"첫번째 주사위 : {i}, 두번째 주사위 : {j}\")"
   ]
  },
  {
   "cell_type": "code",
   "execution_count": 52,
   "metadata": {},
   "outputs": [
    {
     "name": "stdout",
     "output_type": "stream",
     "text": [
      "프로그램 종료\n",
      "1000\n"
     ]
    }
   ],
   "source": [
    "n = 3\n",
    "cnt = 0\n",
    "# a의 반복문을 사용 (시작값은 1 종료값 11)\n",
    "for a in range(1, 11, 1):\n",
    "    # b의 반복문을 사용 (시작값은 1 종료값 11)\n",
    "    for b in range(1, 11, 1):\n",
    "        # c의 반복문을 사용 (시작값은 1 종료값11)\n",
    "        for c in range(1, 11, 1):\n",
    "            cnt += 1\n",
    "            # 조건식(페르마 마지막 정리 수식)\n",
    "            if a**n + b**n == c**n:\n",
    "                # 조건식이 참인 경우 a, b, c 출력\n",
    "                print(a, b, c)\n",
    "print('프로그램 종료')\n",
    "print(cnt)"
   ]
  },
  {
   "cell_type": "code",
   "execution_count": 53,
   "metadata": {},
   "outputs": [],
   "source": [
    "# 페르마의 마지막 정리를 함수로 생성 \n",
    "# 매개변수 3개 : n, 시작값, 종료값\n",
    "# 매개변수들에 기본값을 설정 n = 3, 시작값 = 1, 종료값 = 10\n",
    "def fermat(n = 3, start = 1, end = 10):\n",
    "    ## 반복하면서 조건식이 참인 데이터를 특정 변수에 추가 \n",
    "    # 비어있는 리스트를 하나 생성\n",
    "    # result = []\n",
    "    result = list()\n",
    "\n",
    "    for a in range(min(start, end), max(start, end)+1, 1):\n",
    "        for b in range(min(start, end), max(start, end)+1, 1):\n",
    "            for c in range(min(start, end), max(start, end)+1, 1):\n",
    "                if a**n + b**n == c**n:\n",
    "                    # result에 [a, b, c] 추가 \n",
    "                    result.append( [a, b, c] )\n",
    "    return result"
   ]
  },
  {
   "cell_type": "code",
   "execution_count": 54,
   "metadata": {},
   "outputs": [
    {
     "name": "stdout",
     "output_type": "stream",
     "text": [
      "[]\n",
      "[]\n"
     ]
    }
   ],
   "source": [
    "print(fermat())\n",
    "print(fermat(start = 100, end = 120))"
   ]
  },
  {
   "cell_type": "code",
   "execution_count": null,
   "metadata": {},
   "outputs": [],
   "source": [
    "[30, 20, 50, 10] --> [10, 20, 30, 50]\n",
    "\n",
    "result = [10, 20, 30, 50] \n",
    "_list = []"
   ]
  },
  {
   "cell_type": "code",
   "execution_count": 55,
   "metadata": {},
   "outputs": [],
   "source": [
    "## list에서 sort()함수 -> 리스트의 정렬을 오름차순 정렬\n",
    "## reverse 매개변수에 값을 True 변경 -> 내림차순 정렬\n",
    "def sort_c(_list, reverse = False):\n",
    "    # 입력받은 리스트 데이터를 각 원소들끼리 모두 비교 \n",
    "    # 리스트에서 첫번째 데이터를 추출\n",
    "    result = []\n",
    "    for k in range(len(_list)):\n",
    "        data = _list[0]\n",
    "        # 리스트에 있는 2번째 데이터(index = 1)부터 마지막 데이터(index = len(_list)까지 비교\n",
    "        for i in range(1, len(_list), 1):\n",
    "            # print(i)\n",
    "            # print(_list[i])\n",
    "            # data와 list[i] 값을 비교하여 작은 값을 data에 대입\n",
    "            if reverse:\n",
    "                if data < _list[i]:\n",
    "                    data = _list[i]\n",
    "            else:\n",
    "                if data > _list[i]:\n",
    "                    data = _list[i]\n",
    "            # print(data)\n",
    "        # data는 _list에서 가장 작은 데이터\n",
    "        # data를 비어있는 리스트에 추가(append) -> _list에서 해당하는 데이터를 제거(remove)\n",
    "        result.append(data)\n",
    "        _list.remove(data)\n",
    "    print(result)\n",
    "    return result\n",
    "        \n",
    "            \n"
   ]
  },
  {
   "cell_type": "code",
   "execution_count": 57,
   "metadata": {},
   "outputs": [
    {
     "name": "stdout",
     "output_type": "stream",
     "text": [
      "[50, 30, 20, 10]\n"
     ]
    },
    {
     "data": {
      "text/plain": [
       "[50, 30, 20, 10]"
      ]
     },
     "execution_count": 57,
     "metadata": {},
     "output_type": "execute_result"
    }
   ],
   "source": [
    "# data = 30, for i in range(1, 4, 1)\n",
    "#   첫번째 반복 : data = 30, i = 1 -> if data > _list[1] -> if 30 > 20 참\n",
    "#   data = _list[1] -> data = 20\n",
    "#   두번째 반복 : data = 20 i = 2 -> if data > _list[2] -> if 20 > 50 거짓\n",
    "#   data = 20\n",
    "#   세번째 반복 : data = 20, i = 3 -> id data > _list[3] -> if 20 > 10 참\n",
    "#   data = _list[3] -> data = 10\n",
    "sort_c([30, 20, 50, 10],reverse = True)"
   ]
  },
  {
   "cell_type": "code",
   "execution_count": 58,
   "metadata": {},
   "outputs": [],
   "source": [
    "_list2 = [30, 20, 50, 10]\n"
   ]
  },
  {
   "cell_type": "code",
   "execution_count": 59,
   "metadata": {},
   "outputs": [],
   "source": [
    "_list2.sort(reverse=True)"
   ]
  },
  {
   "cell_type": "code",
   "execution_count": 60,
   "metadata": {},
   "outputs": [
    {
     "data": {
      "text/plain": [
       "[50, 30, 20, 10]"
      ]
     },
     "execution_count": 60,
     "metadata": {},
     "output_type": "execute_result"
    }
   ],
   "source": [
    "_list2"
   ]
  },
  {
   "cell_type": "code",
   "execution_count": 61,
   "metadata": {},
   "outputs": [],
   "source": [
    "## 외부의 파일(mod.py)들을 로드 \n",
    "import mod2"
   ]
  },
  {
   "cell_type": "code",
   "execution_count": 149,
   "metadata": {},
   "outputs": [],
   "source": [
    "import importlib"
   ]
  },
  {
   "cell_type": "code",
   "execution_count": 150,
   "metadata": {},
   "outputs": [
    {
     "data": {
      "text/plain": [
       "<module 'mod' from 'd:\\\\python\\\\ezen_2403\\\\python\\\\240330\\\\mod.py'>"
      ]
     },
     "execution_count": 150,
     "metadata": {},
     "output_type": "execute_result"
    }
   ],
   "source": [
    "# 이미 로드한 모듈을 강제적으로 다시 로드\n",
    "importlib.reload(mod)"
   ]
  },
  {
   "cell_type": "code",
   "execution_count": 62,
   "metadata": {},
   "outputs": [
    {
     "name": "stdout",
     "output_type": "stream",
     "text": [
      "[10, 20, 30]\n"
     ]
    },
    {
     "data": {
      "text/plain": [
       "[10, 20, 30]"
      ]
     },
     "execution_count": 62,
     "metadata": {},
     "output_type": "execute_result"
    }
   ],
   "source": [
    "#mod 파일 안에(.) 있는 함수(sort_c)를 호출\n",
    "mod2.sort_c([30, 10, 20])"
   ]
  }
 ],
 "metadata": {
  "kernelspec": {
   "display_name": "Python 3",
   "language": "python",
   "name": "python3"
  },
  "language_info": {
   "codemirror_mode": {
    "name": "ipython",
    "version": 3
   },
   "file_extension": ".py",
   "mimetype": "text/x-python",
   "name": "python",
   "nbconvert_exporter": "python",
   "pygments_lexer": "ipython3",
   "version": "3.11.4"
  }
 },
 "nbformat": 4,
 "nbformat_minor": 2
}
