{
 "cells": [
  {
   "cell_type": "markdown",
   "metadata": {},
   "source": [
    "#### Class\n",
    "- class 선언 -> class 생성 -> class 안에 있는 변수나 함수를 호출"
   ]
  },
  {
   "cell_type": "code",
   "execution_count": null,
   "metadata": {},
   "outputs": [],
   "source": [
    "# class 선언 \n",
    "class Test:\n",
    "    # 생성자 함수(__init__)\n",
    "    def __init__(self, _x, _y):\n",
    "        # class 안에서 저장될 변수를 생성\n",
    "        self.x = _x\n",
    "        self.y = _y "
   ]
  },
  {
   "cell_type": "code",
   "execution_count": null,
   "metadata": {},
   "outputs": [],
   "source": [
    "# 일반적인 변수 \n",
    "x = 10\n",
    "print(x)\n",
    "x = 'test'\n",
    "print(x)"
   ]
  },
  {
   "cell_type": "code",
   "execution_count": 3,
   "metadata": {},
   "outputs": [],
   "source": [
    "# class 생성 -> __init__ 함수가 자동적으로 호출\n",
    "class_1 = Test(10, 3)"
   ]
  },
  {
   "cell_type": "code",
   "execution_count": 4,
   "metadata": {},
   "outputs": [
    {
     "name": "stdout",
     "output_type": "stream",
     "text": [
      "10\n",
      "3\n"
     ]
    }
   ],
   "source": [
    "# class(class_1) 안에(.) 있는 변수(x , y)를 호출\n",
    "print(class_1.x)\n",
    "print(class_1.y)"
   ]
  },
  {
   "cell_type": "code",
   "execution_count": 5,
   "metadata": {},
   "outputs": [],
   "source": [
    "# class 생성 \n",
    "class_2 = Test('test', 'test2')\n",
    "## class 안에 x라는 변수에 'test'\n",
    "## class 안에 y라는 변수에는 'test2'"
   ]
  },
  {
   "cell_type": "code",
   "execution_count": 6,
   "metadata": {},
   "outputs": [
    {
     "name": "stdout",
     "output_type": "stream",
     "text": [
      "10\n",
      "test\n"
     ]
    }
   ],
   "source": [
    "print(class_1.x)\n",
    "print(class_2.x)"
   ]
  },
  {
   "cell_type": "code",
   "execution_count": 7,
   "metadata": {},
   "outputs": [],
   "source": [
    "## class 변수가 존재하는 class 선언\n",
    "class Test2:\n",
    "    # 클래스 변수 선언 \n",
    "    _list = []\n",
    "\n",
    "    # 생성자 함수 \n",
    "    def __init__(self, _user, _age):\n",
    "        self.user = _user\n",
    "        self.age = _age\n",
    "        self._list.append(_user)"
   ]
  },
  {
   "cell_type": "code",
   "execution_count": 8,
   "metadata": {},
   "outputs": [],
   "source": [
    "# 클래스를 생성\n",
    "class_3 = Test2('test', 20)"
   ]
  },
  {
   "cell_type": "code",
   "execution_count": 9,
   "metadata": {},
   "outputs": [
    {
     "name": "stdout",
     "output_type": "stream",
     "text": [
      "test\n",
      "20\n",
      "['test']\n"
     ]
    }
   ],
   "source": [
    "print(class_3.user)\n",
    "print(class_3.age)\n",
    "print(class_3._list)"
   ]
  },
  {
   "cell_type": "code",
   "execution_count": 10,
   "metadata": {},
   "outputs": [],
   "source": [
    "class_4 = Test2('test2', 30)"
   ]
  },
  {
   "cell_type": "code",
   "execution_count": 11,
   "metadata": {},
   "outputs": [
    {
     "name": "stdout",
     "output_type": "stream",
     "text": [
      "test2\n",
      "30\n"
     ]
    }
   ],
   "source": [
    "print(class_4.user)\n",
    "print(class_4.age)"
   ]
  },
  {
   "cell_type": "code",
   "execution_count": 12,
   "metadata": {},
   "outputs": [
    {
     "name": "stdout",
     "output_type": "stream",
     "text": [
      "['test', 'test2']\n",
      "['test', 'test2']\n"
     ]
    }
   ],
   "source": [
    "print(class_4._list)\n",
    "print(class_3._list)"
   ]
  },
  {
   "cell_type": "code",
   "execution_count": 13,
   "metadata": {},
   "outputs": [],
   "source": [
    "## class 변수 + 함수 추가 \n",
    "class Test3:\n",
    "    def __init__(self, _name, _age, _balance = 0):\n",
    "        self.name = _name\n",
    "        self.age = _age\n",
    "        self.balance = _balance\n",
    "    # 일을 한다 함수 \n",
    "    # 매개변수 : 일의 종류 (서빙, 과외, 편의점)\n",
    "    def work(self, _type):\n",
    "        # _type에 따라 balance가 증가 \n",
    "        # 서빙 잔액이 2000000 증가\n",
    "        # 과외 잔액이 2500000 증가\n",
    "        # 편의점 잔액이 1800000 증가\n",
    "        if _type == \"서빙\":\n",
    "            cost = 2000000\n",
    "        elif _type == \"과외\":\n",
    "            cost = 2500000\n",
    "        elif _type == \"편의점\":\n",
    "            cost = 1800000\n",
    "        else:\n",
    "            return \"일의 타입이 등록되어있지 않습니다.\"\n",
    "        # 지갑의 잔액을 증가\n",
    "        self.balance += cost\n",
    "        return f\"{_type} 일을 완료하였습니다. 현재 지갑의 잔액은 {self.balance}입니다.\"\n",
    "    # 돈을 쓰자\n",
    "    # 매개변수 : _type \n",
    "    # _type에 따라 지갑의 잔액이 감소\n",
    "    # 맥스튜디오 : 9800000\n",
    "    # 지갑 : 5000000\n",
    "    # 오마카세 : 100000 \n",
    "    def flex(self, _type):\n",
    "        if _type == '맥스튜디오':\n",
    "            cost = 9800000\n",
    "        elif _type == '지갑':\n",
    "            cost = 5000000\n",
    "        elif _type == '오마카세':\n",
    "            cost = 100000\n",
    "        else:\n",
    "            return \"등록되지 않은 물품입니다.\"\n",
    "        # 현재 지갑이 잔액이 구매하려는 상품의 가격보다 크거나 같은 경우에 구매(잔액이 감소) , 잔액이 부족하다면서 잔액 부족 메시지를 리턴\n",
    "        if self.balance >= cost:\n",
    "            # 구매조건 만족 \n",
    "            # 지갑의 잔액을 감소\n",
    "            self.balance -= cost\n",
    "            result = f\"{_type}물건 구매 완료. 현재 지금의 잔액은 {self.balance}입니다.\"\n",
    "        else:\n",
    "            result = \"지갑의 잔액이 부족\"\n",
    "        return result"
   ]
  },
  {
   "cell_type": "code",
   "execution_count": 14,
   "metadata": {},
   "outputs": [],
   "source": [
    "## Class 생성 -> 이름, 나이, 잔액(기본값이 0) 인자 \n",
    "user1 = Test3('kim', 25)\n",
    "user2 = Test3('park', 30, 100000)"
   ]
  },
  {
   "cell_type": "code",
   "execution_count": 15,
   "metadata": {},
   "outputs": [
    {
     "name": "stdout",
     "output_type": "stream",
     "text": [
      "0\n",
      "100000\n"
     ]
    }
   ],
   "source": [
    "print(user1.balance)\n",
    "print(user2.balance)"
   ]
  },
  {
   "cell_type": "code",
   "execution_count": 16,
   "metadata": {},
   "outputs": [
    {
     "data": {
      "text/plain": [
       "'서빙 일을 완료하였습니다. 현재 지갑의 잔액은 2000000입니다.'"
      ]
     },
     "execution_count": 16,
     "metadata": {},
     "output_type": "execute_result"
    }
   ],
   "source": [
    "#user1이 일을 시작한다 함수 호출\n",
    "user1.work(\"서빙\")"
   ]
  },
  {
   "cell_type": "code",
   "execution_count": 17,
   "metadata": {},
   "outputs": [
    {
     "name": "stdout",
     "output_type": "stream",
     "text": [
      "2000000\n"
     ]
    }
   ],
   "source": [
    "print(user1.balance)"
   ]
  },
  {
   "cell_type": "code",
   "execution_count": 18,
   "metadata": {},
   "outputs": [
    {
     "data": {
      "text/plain": [
       "'오마카세물건 구매 완료. 현재 지금의 잔액은 1900000입니다.'"
      ]
     },
     "execution_count": 18,
     "metadata": {},
     "output_type": "execute_result"
    }
   ],
   "source": [
    "# 돈을 쓰자 flex 호출\n",
    "user1.flex('오마카세')"
   ]
  },
  {
   "cell_type": "code",
   "execution_count": 19,
   "metadata": {},
   "outputs": [
    {
     "data": {
      "text/plain": [
       "'오마카세물건 구매 완료. 현재 지금의 잔액은 0입니다.'"
      ]
     },
     "execution_count": 19,
     "metadata": {},
     "output_type": "execute_result"
    }
   ],
   "source": [
    "user2.flex('오마카세')"
   ]
  },
  {
   "cell_type": "code",
   "execution_count": 20,
   "metadata": {},
   "outputs": [
    {
     "data": {
      "text/plain": [
       "'지갑의 잔액이 부족'"
      ]
     },
     "execution_count": 20,
     "metadata": {},
     "output_type": "execute_result"
    }
   ],
   "source": [
    "user1.flex('지갑')"
   ]
  },
  {
   "cell_type": "code",
   "execution_count": null,
   "metadata": {},
   "outputs": [],
   "source": [
    "user1.work('과외')"
   ]
  },
  {
   "cell_type": "code",
   "execution_count": null,
   "metadata": {},
   "outputs": [],
   "source": [
    "user1.flex('지갑')"
   ]
  },
  {
   "cell_type": "code",
   "execution_count": null,
   "metadata": {},
   "outputs": [],
   "source": [
    "a = \"test\"\n",
    "b = 10\n",
    "c = True"
   ]
  },
  {
   "cell_type": "code",
   "execution_count": null,
   "metadata": {},
   "outputs": [],
   "source": [
    "print(type(a))\n",
    "print(type(b))\n",
    "print(type(c))"
   ]
  },
  {
   "cell_type": "code",
   "execution_count": null,
   "metadata": {},
   "outputs": [],
   "source": [
    "# 문자열데이터에서 문자를 모두 대문자로 바꿔주는 함수\n",
    "a.upper()"
   ]
  },
  {
   "cell_type": "code",
   "execution_count": null,
   "metadata": {},
   "outputs": [],
   "source": [
    "# str Class 생성\n",
    "class_a = str('test')"
   ]
  },
  {
   "cell_type": "code",
   "execution_count": null,
   "metadata": {},
   "outputs": [],
   "source": [
    "class_a.replace('t', 'T')"
   ]
  },
  {
   "cell_type": "code",
   "execution_count": null,
   "metadata": {},
   "outputs": [],
   "source": []
  }
 ],
 "metadata": {
  "kernelspec": {
   "display_name": "Python 3",
   "language": "python",
   "name": "python3"
  },
  "language_info": {
   "codemirror_mode": {
    "name": "ipython",
    "version": 3
   },
   "file_extension": ".py",
   "mimetype": "text/x-python",
   "name": "python",
   "nbconvert_exporter": "python",
   "pygments_lexer": "ipython3",
   "version": "3.11.4"
  }
 },
 "nbformat": 4,
 "nbformat_minor": 2
}
