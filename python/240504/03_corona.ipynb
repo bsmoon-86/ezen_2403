{
 "cells": [
  {
   "cell_type": "code",
   "execution_count": 1,
   "metadata": {},
   "outputs": [],
   "source": [
    "import pandas as pd"
   ]
  },
  {
   "cell_type": "code",
   "execution_count": 2,
   "metadata": {},
   "outputs": [
    {
     "data": {
      "text/html": [
       "<div>\n",
       "<style scoped>\n",
       "    .dataframe tbody tr th:only-of-type {\n",
       "        vertical-align: middle;\n",
       "    }\n",
       "\n",
       "    .dataframe tbody tr th {\n",
       "        vertical-align: top;\n",
       "    }\n",
       "\n",
       "    .dataframe thead th {\n",
       "        text-align: right;\n",
       "    }\n",
       "</style>\n",
       "<table border=\"1\" class=\"dataframe\">\n",
       "  <thead>\n",
       "    <tr style=\"text-align: right;\">\n",
       "      <th></th>\n",
       "      <th>createDt</th>\n",
       "      <th>deathCnt</th>\n",
       "      <th>decideCnt</th>\n",
       "      <th>seq</th>\n",
       "      <th>stateDt</th>\n",
       "      <th>stateTime</th>\n",
       "      <th>updateDt</th>\n",
       "      <th>accExamCnt</th>\n",
       "      <th>accDefRate</th>\n",
       "    </tr>\n",
       "  </thead>\n",
       "  <tbody>\n",
       "    <tr>\n",
       "      <th>0</th>\n",
       "      <td>2022-06-08 09:09:05.982</td>\n",
       "      <td>24305</td>\n",
       "      <td>18188200</td>\n",
       "      <td>904</td>\n",
       "      <td>20220608</td>\n",
       "      <td>00:00</td>\n",
       "      <td>NaN</td>\n",
       "      <td>NaN</td>\n",
       "      <td>NaN</td>\n",
       "    </tr>\n",
       "  </tbody>\n",
       "</table>\n",
       "</div>"
      ],
      "text/plain": [
       "                  createDt  deathCnt  decideCnt  seq   stateDt stateTime  \\\n",
       "0  2022-06-08 09:09:05.982     24305   18188200  904  20220608     00:00   \n",
       "\n",
       "  updateDt  accExamCnt  accDefRate  \n",
       "0      NaN         NaN         NaN  "
      ]
     },
     "execution_count": 2,
     "metadata": {},
     "output_type": "execute_result"
    }
   ],
   "source": [
    "# corona.csv 파일을 로드 (첫번째 열을 인덱스로 사용)\n",
    "df = pd.read_csv(\"../csv/corona.csv\", index_col=0)\n",
    "df.head(1)"
   ]
  },
  {
   "cell_type": "code",
   "execution_count": 3,
   "metadata": {},
   "outputs": [
    {
     "name": "stdout",
     "output_type": "stream",
     "text": [
      "<class 'pandas.core.frame.DataFrame'>\n",
      "Index: 820 entries, 0 to 819\n",
      "Data columns (total 9 columns):\n",
      " #   Column      Non-Null Count  Dtype  \n",
      "---  ------      --------------  -----  \n",
      " 0   createDt    820 non-null    object \n",
      " 1   deathCnt    820 non-null    int64  \n",
      " 2   decideCnt   820 non-null    int64  \n",
      " 3   seq         820 non-null    int64  \n",
      " 4   stateDt     820 non-null    int64  \n",
      " 5   stateTime   820 non-null    object \n",
      " 6   updateDt    817 non-null    object \n",
      " 7   accExamCnt  692 non-null    float64\n",
      " 8   accDefRate  623 non-null    float64\n",
      "dtypes: float64(2), int64(4), object(3)\n",
      "memory usage: 64.1+ KB\n"
     ]
    }
   ],
   "source": [
    "df.info()"
   ]
  },
  {
   "cell_type": "code",
   "execution_count": 4,
   "metadata": {},
   "outputs": [
    {
     "data": {
      "text/plain": [
       "0     2022-06-08 09:09:05.982\n",
       "1     2022-06-07 09:09:00.897\n",
       "2     2022-06-06 09:00:06.734\n",
       "3     2022-06-05 08:53:19.426\n",
       "4     2022-06-04 08:56:49.219\n",
       "                ...          \n",
       "815   2020-03-14 00:00:00.000\n",
       "816   2020-03-13 00:00:00.000\n",
       "817   2020-03-12 00:00:00.000\n",
       "818   2020-03-11 00:00:00.000\n",
       "819   2020-03-10 00:00:00.000\n",
       "Name: createDt, Length: 820, dtype: datetime64[ns]"
      ]
     },
     "execution_count": 4,
     "metadata": {},
     "output_type": "execute_result"
    }
   ],
   "source": [
    "# df에서 createDt컬럼의 타입을 시계열데이터로 변경 \n",
    "\n",
    "# 데이터프레임에서 특정 컬럼의 데이터만 추출 \n",
    "# pd.to_datetime(df.loc[0, 'createDt'])\n",
    "# 스리즈 데이터 형태에서 문자열 내장함수 사용하는 방법?\n",
    "# Series.upper() -> 에러 발생[series에 upper()함수가 존재하지 않는다.]\n",
    "# Series.str.upper() -> 정상적으로 함수가 호출\n",
    "# df['createDt'].dt.strptime('%Y-%m-%d %H:%M:%S')\n",
    "df['createDt'].map(\n",
    "    lambda x : pd.to_datetime(x)\n",
    ")"
   ]
  },
  {
   "cell_type": "code",
   "execution_count": 5,
   "metadata": {},
   "outputs": [],
   "source": [
    "df['createDt'] = pd.to_datetime(df['createDt'])"
   ]
  },
  {
   "cell_type": "code",
   "execution_count": 6,
   "metadata": {},
   "outputs": [
    {
     "name": "stdout",
     "output_type": "stream",
     "text": [
      "<class 'pandas.core.frame.DataFrame'>\n",
      "Index: 820 entries, 0 to 819\n",
      "Data columns (total 9 columns):\n",
      " #   Column      Non-Null Count  Dtype         \n",
      "---  ------      --------------  -----         \n",
      " 0   createDt    820 non-null    datetime64[ns]\n",
      " 1   deathCnt    820 non-null    int64         \n",
      " 2   decideCnt   820 non-null    int64         \n",
      " 3   seq         820 non-null    int64         \n",
      " 4   stateDt     820 non-null    int64         \n",
      " 5   stateTime   820 non-null    object        \n",
      " 6   updateDt    817 non-null    object        \n",
      " 7   accExamCnt  692 non-null    float64       \n",
      " 8   accDefRate  623 non-null    float64       \n",
      "dtypes: datetime64[ns](1), float64(2), int64(4), object(2)\n",
      "memory usage: 64.1+ KB\n"
     ]
    }
   ],
   "source": [
    "df.info()"
   ]
  },
  {
   "cell_type": "code",
   "execution_count": 7,
   "metadata": {},
   "outputs": [],
   "source": [
    "# 시계열 데이터에서 요일만 추출 -> 새로운 파생변수를 생성\n",
    "df['week'] = df['createDt'].dt.weekday"
   ]
  },
  {
   "cell_type": "code",
   "execution_count": 8,
   "metadata": {},
   "outputs": [
    {
     "data": {
      "text/plain": [
       "week\n",
       "2    118\n",
       "1    118\n",
       "6    118\n",
       "5    117\n",
       "4    117\n",
       "0    116\n",
       "3    116\n",
       "Name: count, dtype: int64"
      ]
     },
     "execution_count": 8,
     "metadata": {},
     "output_type": "execute_result"
    }
   ],
   "source": [
    "df['week'].value_counts()"
   ]
  },
  {
   "cell_type": "code",
   "execution_count": 9,
   "metadata": {},
   "outputs": [],
   "source": [
    "import matplotlib.pyplot as plt"
   ]
  },
  {
   "cell_type": "code",
   "execution_count": 10,
   "metadata": {},
   "outputs": [
    {
     "data": {
      "text/html": [
       "<div>\n",
       "<style scoped>\n",
       "    .dataframe tbody tr th:only-of-type {\n",
       "        vertical-align: middle;\n",
       "    }\n",
       "\n",
       "    .dataframe tbody tr th {\n",
       "        vertical-align: top;\n",
       "    }\n",
       "\n",
       "    .dataframe thead th {\n",
       "        text-align: right;\n",
       "    }\n",
       "</style>\n",
       "<table border=\"1\" class=\"dataframe\">\n",
       "  <thead>\n",
       "    <tr style=\"text-align: right;\">\n",
       "      <th></th>\n",
       "      <th>createDt</th>\n",
       "      <th>deathCnt</th>\n",
       "      <th>decideCnt</th>\n",
       "      <th>seq</th>\n",
       "      <th>stateDt</th>\n",
       "      <th>stateTime</th>\n",
       "      <th>updateDt</th>\n",
       "      <th>accExamCnt</th>\n",
       "      <th>accDefRate</th>\n",
       "      <th>week</th>\n",
       "      <th>일일확진자</th>\n",
       "    </tr>\n",
       "  </thead>\n",
       "  <tbody>\n",
       "    <tr>\n",
       "      <th>0</th>\n",
       "      <td>2020-03-10</td>\n",
       "      <td>54</td>\n",
       "      <td>7513</td>\n",
       "      <td>51</td>\n",
       "      <td>20200310</td>\n",
       "      <td>00:00</td>\n",
       "      <td>2021-10-07 10:30:51.51</td>\n",
       "      <td>210144.0</td>\n",
       "      <td>3.919308</td>\n",
       "      <td>1</td>\n",
       "      <td>0.0</td>\n",
       "    </tr>\n",
       "    <tr>\n",
       "      <th>1</th>\n",
       "      <td>2020-03-11</td>\n",
       "      <td>60</td>\n",
       "      <td>7755</td>\n",
       "      <td>52</td>\n",
       "      <td>20200311</td>\n",
       "      <td>00:00</td>\n",
       "      <td>2021-10-07 10:30:51.51</td>\n",
       "      <td>222395.0</td>\n",
       "      <td>3.804175</td>\n",
       "      <td>2</td>\n",
       "      <td>242.0</td>\n",
       "    </tr>\n",
       "    <tr>\n",
       "      <th>2</th>\n",
       "      <td>2020-03-12</td>\n",
       "      <td>66</td>\n",
       "      <td>7869</td>\n",
       "      <td>53</td>\n",
       "      <td>20200312</td>\n",
       "      <td>00:00</td>\n",
       "      <td>2021-10-07 10:30:51.51</td>\n",
       "      <td>234998.0</td>\n",
       "      <td>3.621744</td>\n",
       "      <td>3</td>\n",
       "      <td>114.0</td>\n",
       "    </tr>\n",
       "    <tr>\n",
       "      <th>3</th>\n",
       "      <td>2020-03-13</td>\n",
       "      <td>67</td>\n",
       "      <td>7979</td>\n",
       "      <td>54</td>\n",
       "      <td>20200313</td>\n",
       "      <td>00:00</td>\n",
       "      <td>2021-10-07 10:30:51.51</td>\n",
       "      <td>248647.0</td>\n",
       "      <td>3.458499</td>\n",
       "      <td>4</td>\n",
       "      <td>110.0</td>\n",
       "    </tr>\n",
       "    <tr>\n",
       "      <th>4</th>\n",
       "      <td>2020-03-14</td>\n",
       "      <td>72</td>\n",
       "      <td>8086</td>\n",
       "      <td>55</td>\n",
       "      <td>20200314</td>\n",
       "      <td>00:00</td>\n",
       "      <td>2021-10-07 10:30:51.51</td>\n",
       "      <td>261335.0</td>\n",
       "      <td>3.318000</td>\n",
       "      <td>5</td>\n",
       "      <td>107.0</td>\n",
       "    </tr>\n",
       "  </tbody>\n",
       "</table>\n",
       "</div>"
      ],
      "text/plain": [
       "    createDt  deathCnt  decideCnt  seq   stateDt stateTime  \\\n",
       "0 2020-03-10        54       7513   51  20200310     00:00   \n",
       "1 2020-03-11        60       7755   52  20200311     00:00   \n",
       "2 2020-03-12        66       7869   53  20200312     00:00   \n",
       "3 2020-03-13        67       7979   54  20200313     00:00   \n",
       "4 2020-03-14        72       8086   55  20200314     00:00   \n",
       "\n",
       "                 updateDt  accExamCnt  accDefRate  week  일일확진자  \n",
       "0  2021-10-07 10:30:51.51    210144.0    3.919308     1    0.0  \n",
       "1  2021-10-07 10:30:51.51    222395.0    3.804175     2  242.0  \n",
       "2  2021-10-07 10:30:51.51    234998.0    3.621744     3  114.0  \n",
       "3  2021-10-07 10:30:51.51    248647.0    3.458499     4  110.0  \n",
       "4  2021-10-07 10:30:51.51    261335.0    3.318000     5  107.0  "
      ]
     },
     "execution_count": 10,
     "metadata": {},
     "output_type": "execute_result"
    }
   ],
   "source": [
    "# df에서 일일 확진자 컬럼을 생성 \n",
    "# 날짜를 기준으로 오름차순 정렬\n",
    "df.sort_values('createDt', inplace=True)\n",
    "# 인덱스를 초기화\n",
    "df.reset_index(drop=True, inplace=True)\n",
    "# 일일확진자 컬럼을 생성하여 전날의 데이터와의 차이를 대입 \n",
    "df['일일확진자'] = df['decideCnt'].diff().fillna(0)\n",
    "df.head()"
   ]
  },
  {
   "cell_type": "code",
   "execution_count": 11,
   "metadata": {},
   "outputs": [],
   "source": [
    "# 요일별 일일확진자의 평균 수치가 얼마나 되는가?\n",
    "group_data = df[['week', '일일확진자']].groupby('week').mean()"
   ]
  },
  {
   "cell_type": "code",
   "execution_count": 12,
   "metadata": {},
   "outputs": [],
   "source": [
    "# 그래프 시각화에서 한글깨짐 방지 \n",
    "import platform\n",
    "if platform.system() == 'Darwin':\n",
    "    plt.rc('font', family='AppleGothic')\n",
    "else:\n",
    "    plt.rc('font', family='Malgun Gothic')"
   ]
  },
  {
   "cell_type": "code",
   "execution_count": 13,
   "metadata": {},
   "outputs": [
    {
     "data": {
      "image/png": "[encoded data removed]",
      "text/plain": [
       "<Figure size 640x480 with 1 Axes>"
      ]
     },
     "metadata": {},
     "output_type": "display_data"
    }
   ],
   "source": [
    "# 요일별 데이터를 막대그래프 시각화\n",
    "x = group_data.index\n",
    "y = group_data['일일확진자']\n",
    "plt.bar(x, y)\n",
    "# x축 데이터를 변경 \n",
    "plt.xticks(x, ['일', '월', '화', '수', '목', '금', '토'])\n",
    "plt.show()"
   ]
  }
 ],
 "metadata": {
  "kernelspec": {
   "display_name": "Python 3",
   "language": "python",
   "name": "python3"
  },
  "language_info": {
   "codemirror_mode": {
    "name": "ipython",
    "version": 3
   },
   "file_extension": ".py",
   "mimetype": "text/x-python",
   "name": "python",
   "nbconvert_exporter": "python",
   "pygments_lexer": "ipython3",
   "version": "3.11.4"
  }
 },
 "nbformat": 4,
 "nbformat_minor": 2
}
