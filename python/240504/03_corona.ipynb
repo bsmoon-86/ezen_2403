{
 "cells": [
  {
   "cell_type": "code",
   "execution_count": null,
   "metadata": {},
   "outputs": [],
   "source": [
    "import pandas as pd"
   ]
  },
  {
   "cell_type": "code",
   "execution_count": null,
   "metadata": {},
   "outputs": [],
   "source": [
    "# corona.csv 파일을 로드 (첫번째 열을 인덱스로 사용)\n",
    "df = pd.read_csv(\"../csv/corona.csv\", index_col=0)\n",
    "df.head(1)"
   ]
  },
  {
   "cell_type": "code",
   "execution_count": null,
   "metadata": {},
   "outputs": [],
   "source": [
    "df.info()"
   ]
  },
  {
   "cell_type": "code",
   "execution_count": null,
   "metadata": {},
   "outputs": [],
   "source": [
    "# df에서 createDt컬럼의 타입을 시계열데이터로 변경 \n",
    "\n",
    "# 데이터프레임에서 특정 컬럼의 데이터만 추출 \n",
    "# pd.to_datetime(df.loc[0, 'createDt'])\n",
    "# 스리즈 데이터 형태에서 문자열 내장함수 사용하는 방법?\n",
    "# Series.upper() -> 에러 발생[series에 upper()함수가 존재하지 않는다.]\n",
    "# Series.str.upper() -> 정상적으로 함수가 호출\n",
    "# df['createDt'].dt.strptime('%Y-%m-%d %H:%M:%S')\n",
    "df['createDt'].map(\n",
    "    lambda x : pd.to_datetime(x)\n",
    ")"
   ]
  },
  {
   "cell_type": "code",
   "execution_count": null,
   "metadata": {},
   "outputs": [],
   "source": [
    "df['createDt'] = pd.to_datetime(df['createDt'])"
   ]
  },
  {
   "cell_type": "code",
   "execution_count": null,
   "metadata": {},
   "outputs": [],
   "source": [
    "df.info()"
   ]
  },
  {
   "cell_type": "code",
   "execution_count": null,
   "metadata": {},
   "outputs": [],
   "source": [
    "# 시계열 데이터에서 요일만 추출 -> 새로운 파생변수를 생성\n",
    "df['week'] = df['createDt'].dt.weekday"
   ]
  },
  {
   "cell_type": "code",
   "execution_count": null,
   "metadata": {},
   "outputs": [],
   "source": [
    "df['week'].value_counts()"
   ]
  },
  {
   "cell_type": "code",
   "execution_count": null,
   "metadata": {},
   "outputs": [],
   "source": [
    "import matplotlib.pyplot as plt"
   ]
  },
  {
   "cell_type": "code",
   "execution_count": null,
   "metadata": {},
   "outputs": [],
   "source": [
    "# df에서 일일 확진자 컬럼을 생성 \n",
    "# 날짜를 기준으로 오름차순 정렬\n",
    "df.sort_values('createDt', inplace=True)\n",
    "# 인덱스를 초기화\n",
    "df.reset_index(drop=True, inplace=True)\n",
    "# 일일확진자 컬럼을 생성하여 전날의 데이터와의 차이를 대입 \n",
    "df['일일확진자'] = df['decideCnt'].diff().fillna(0)\n",
    "df.head()"
   ]
  },
  {
   "cell_type": "code",
   "execution_count": null,
   "metadata": {},
   "outputs": [],
   "source": [
    "# 요일별 일일확진자의 평균 수치가 얼마나 되는가?\n",
    "group_data = df[['week', '일일확진자']].groupby('week').mean()"
   ]
  },
  {
   "cell_type": "code",
   "execution_count": null,
   "metadata": {},
   "outputs": [],
   "source": [
    "# 그래프 시각화에서 한글깨짐 방지 \n",
    "import platform\n",
    "if platform.system() == 'Darwin':\n",
    "    plt.rc('font', family='AppleGothic')\n",
    "else:\n",
    "    plt.rc('font', family='Malgun Gothic')"
   ]
  },
  {
   "cell_type": "code",
   "execution_count": null,
   "metadata": {},
   "outputs": [],
   "source": [
    "# 요일별 데이터를 막대그래프 시각화\n",
    "x = group_data.index\n",
    "y = group_data['일일확진자']\n",
    "plt.bar(x, y)\n",
    "# x축 데이터를 변경 \n",
    "plt.xticks(x, ['일', '월', '화', '수', '목', '금', '토'])\n",
    "plt.show()"
   ]
  }
 ],
 "metadata": {
  "kernelspec": {
   "display_name": "Python 3",
   "language": "python",
   "name": "python3"
  },
  "language_info": {
   "codemirror_mode": {
    "name": "ipython",
    "version": 3
   },
   "file_extension": ".py",
   "mimetype": "text/x-python",
   "name": "python",
   "nbconvert_exporter": "python",
   "pygments_lexer": "ipython3",
   "version": "3.11.4"
  }
 },
 "nbformat": 4,
 "nbformat_minor": 2
}
