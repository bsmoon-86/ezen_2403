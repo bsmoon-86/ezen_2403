{
 "cells": [
  {
   "cell_type": "markdown",
   "metadata": {},
   "source": [
    "### 시계열 데이터 타입 \n",
    "- 시간 데이터를 의미 \n",
    "- 년도, 월, 일, 시, 분, 초, 요일 등등 여러개의 데이터의 혼합 형태\n",
    "- 시계열 데이터를 생성 \n",
    "    - datetime 라이브러리를 이용하여 시계열 데이터 생성\n",
    "    - pandas 라이브러리를 이용하여 시계열 데이터 생성"
   ]
  },
  {
   "cell_type": "code",
   "execution_count": 1,
   "metadata": {},
   "outputs": [],
   "source": [
    "# 라이브러리 로드 \n",
    "from datetime import datetime"
   ]
  },
  {
   "cell_type": "code",
   "execution_count": 2,
   "metadata": {},
   "outputs": [
    {
     "name": "stdout",
     "output_type": "stream",
     "text": [
      "<class 'str'>\n"
     ]
    }
   ],
   "source": [
    "time_data = \"2024-05-04 17:21:00\"\n",
    "print(type(time_data))"
   ]
  },
  {
   "cell_type": "code",
   "execution_count": 3,
   "metadata": {},
   "outputs": [
    {
     "name": "stdout",
     "output_type": "stream",
     "text": [
      "2024-05-04 17:21:00\n",
      "<class 'datetime.datetime'>\n"
     ]
    }
   ],
   "source": [
    "# 문자열 데이터를 시계열 데이터 타입으로 변경(parsing)\n",
    "time = datetime.strptime(\n",
    "    time_data, \n",
    "    \"%Y-%m-%d %H:%M:%S\"\n",
    ")\n",
    "print(time)\n",
    "print(type(time))"
   ]
  },
  {
   "cell_type": "code",
   "execution_count": 4,
   "metadata": {},
   "outputs": [
    {
     "name": "stdout",
     "output_type": "stream",
     "text": [
      "2024-05-01 00:00:00\n"
     ]
    }
   ],
   "source": [
    "time_data2 = \"2024년 05월\"\n",
    "time2 = datetime.strptime(\n",
    "    time_data2, \n",
    "    \"%Y년 %m월\"\n",
    ")\n",
    "print(time2)"
   ]
  },
  {
   "cell_type": "code",
   "execution_count": 6,
   "metadata": {},
   "outputs": [
    {
     "data": {
      "text/plain": [
       "'3'"
      ]
     },
     "execution_count": 6,
     "metadata": {},
     "output_type": "execute_result"
    }
   ],
   "source": [
    "# 시계열 데이터를 문자열 데이터로 변경 (요일 데이터를 추출)\n",
    "time2.strftime(\n",
    "    '%w'\n",
    ")"
   ]
  },
  {
   "cell_type": "markdown",
   "metadata": {},
   "source": [
    "### datetime에서 사용되는 format\n",
    "- %Y : 년도 전체를 표기('2024')\n",
    "- %y : 년도를 축약해서 표기('24')\n",
    "- %m : 월을 숫자로 표기('01')\n",
    "- %b : 축약된 월의 이름('Mar')\n",
    "- %B : 월의 이름('March')\n",
    "- %d : 일을 숫자로 표기('20')\n",
    "- %H : 24시를 기준으로 시를 표기('17')\n",
    "- %I : 12시를 기준으로 시를 표기('05')\n",
    "- %p : AM/PM 표기\n",
    "- %M : 분을 표기 \n",
    "- %S : 초를 표기\n",
    "- %a : 요일의 이름을 축약해서 표기('Wed')\n",
    "- %A : 요일의 이름을 표기('Wednesday')\n",
    "- %w : 요일을 숫자로 표기(0:일, 1:월,..., 6:토)"
   ]
  },
  {
   "cell_type": "code",
   "execution_count": 7,
   "metadata": {},
   "outputs": [],
   "source": [
    "import pandas as pd"
   ]
  },
  {
   "cell_type": "code",
   "execution_count": 8,
   "metadata": {},
   "outputs": [
    {
     "data": {
      "text/plain": [
       "Timedelta('0 days 00:00:00.000000100')"
      ]
     },
     "execution_count": 8,
     "metadata": {},
     "output_type": "execute_result"
    }
   ],
   "source": [
    "pd.Timedelta(100)"
   ]
  },
  {
   "cell_type": "code",
   "execution_count": 9,
   "metadata": {},
   "outputs": [
    {
     "data": {
      "text/plain": [
       "Timedelta('100 days 00:00:00')"
      ]
     },
     "execution_count": 9,
     "metadata": {},
     "output_type": "execute_result"
    }
   ],
   "source": [
    "pd.Timedelta(days=100)"
   ]
  },
  {
   "cell_type": "code",
   "execution_count": 10,
   "metadata": {},
   "outputs": [
    {
     "data": {
      "text/plain": [
       "Timestamp('1970-01-01 00:00:00.000000100')"
      ]
     },
     "execution_count": 10,
     "metadata": {},
     "output_type": "execute_result"
    }
   ],
   "source": [
    "pd.Timestamp(100)"
   ]
  },
  {
   "cell_type": "code",
   "execution_count": 11,
   "metadata": {},
   "outputs": [
    {
     "data": {
      "text/plain": [
       "Timestamp('2024-05-04 00:00:00')"
      ]
     },
     "execution_count": 11,
     "metadata": {},
     "output_type": "execute_result"
    }
   ],
   "source": [
    "pd.Timestamp(year=2024, month=5, day=4)"
   ]
  },
  {
   "cell_type": "code",
   "execution_count": 12,
   "metadata": {},
   "outputs": [
    {
     "data": {
      "text/plain": [
       "Timestamp('2024-05-04 00:00:00')"
      ]
     },
     "execution_count": 12,
     "metadata": {},
     "output_type": "execute_result"
    }
   ],
   "source": [
    "# pandas를 이용하여 문자열 데이터를 시계열 데이터로 변경 \n",
    "time_data3 = \"2024-05-04\"\n",
    "# pandas에서 데이터의 타입을 변경하는 함수들의 특징 \n",
    "time3 = pd.to_datetime(time_data3)\n",
    "time3"
   ]
  },
  {
   "cell_type": "code",
   "execution_count": 15,
   "metadata": {},
   "outputs": [
    {
     "data": {
      "text/plain": [
       "Timestamp('2024-05-04 00:00:00')"
      ]
     },
     "execution_count": 15,
     "metadata": {},
     "output_type": "execute_result"
    }
   ],
   "source": [
    "time_data4 = \"2024년05월04일\"\n",
    "time4 = pd.to_datetime(time_data4, format='%Y년%m월%d일')\n",
    "time4"
   ]
  },
  {
   "cell_type": "code",
   "execution_count": null,
   "metadata": {},
   "outputs": [],
   "source": []
  }
 ],
 "metadata": {
  "kernelspec": {
   "display_name": "Python 3",
   "language": "python",
   "name": "python3"
  },
  "language_info": {
   "codemirror_mode": {
    "name": "ipython",
    "version": 3
   },
   "file_extension": ".py",
   "mimetype": "text/x-python",
   "name": "python",
   "nbconvert_exporter": "python",
   "pygments_lexer": "ipython3",
   "version": "3.11.4"
  }
 },
 "nbformat": 4,
 "nbformat_minor": 2
}
