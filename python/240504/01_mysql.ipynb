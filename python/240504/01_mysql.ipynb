{
 "cells": [
  {
   "cell_type": "markdown",
   "metadata": {},
   "source": [
    "### mysql과 python을 연동 \n",
    "1. mysql과 연동할 수 있는 기능을 가진 라이브러리 설치 \n",
    "    - 라이브러리명 : pymysql\n",
    "    - pip install pymysql \n",
    "2. mysql 서버의 정보를 입력하고 연결 \n",
    "    - host(서버의 주소)\n",
    "        - 127.0.0.1, localhost (내 컴퓨터)\n",
    "        - 외부의 주소 : 172.168.1.40\n",
    "    - port(컴퓨터의 보안)\n",
    "        - mysql의 기본 port : 3306\n",
    "    - user(mysql 연결시 사용하는 id)\n",
    "        - mysql의 기본 user : root\n",
    "    - password (mysql 연결시 사용하는 비밀번호)\n",
    "        - root의 비밀번호 : 1234\n",
    "        - 비밀번호가 존재하지 않으면 생략 가능\n",
    "    - db (Database의 이름)\n",
    "        - mysql에서 사용할 데이터베이스의 이름\n",
    "3. DB 서버와 python 공간 사이에 가상 공간을 생성\n",
    "    - Cursor라는 가상 공간 생성\n",
    "4. sql 쿼리문을 이용하여 cursor에 질의를 보낸다. \n",
    "    - 데이터의 변화가 존재하는 쿼리(insert, update, delete)\n",
    "        - 질의를 보낸다 ( execute() )\n",
    "        - DB 서버의 데이터를 변경 ( commit() )\n",
    "        - DB 서버와의 연결을 종료 ( close() )\n",
    "    - 데이터를 조회하는 쿼리 (select)\n",
    "        - 질의를 보낸다 ( execute() )\n",
    "        - 질의에 대한 결과 값을 받아온다. ( fetchall() )\n",
    "            - cursor에서 데이터를 받아오면 cursor에 조회된 데이터는 초기화\n",
    "        - DB 서버와의 연결을 종료 ( close() )"
   ]
  },
  {
   "cell_type": "code",
   "execution_count": 1,
   "metadata": {},
   "outputs": [],
   "source": [
    "# 라이브러리 설치 \n",
    "# !pip install pymysql"
   ]
  },
  {
   "cell_type": "code",
   "execution_count": 2,
   "metadata": {},
   "outputs": [],
   "source": [
    "# 라이브러리 로드 \n",
    "import pymysql"
   ]
  },
  {
   "cell_type": "code",
   "execution_count": 3,
   "metadata": {},
   "outputs": [
    {
     "name": "stdout",
     "output_type": "stream",
     "text": [
      "Collecting cryptography\n",
      "  Downloading cryptography-42.0.7-cp39-abi3-win_amd64.whl (2.9 MB)\n",
      "                                              0.0/2.9 MB ? eta -:--:--\n",
      "     -------------------                      1.4/2.9 MB 29.0 MB/s eta 0:00:01\n",
      "     ---------------------------------------  2.9/2.9 MB 36.8 MB/s eta 0:00:01\n",
      "     ---------------------------------------- 2.9/2.9 MB 30.9 MB/s eta 0:00:00\n",
      "Requirement already satisfied: cffi>=1.12 in c:\\users\\ezen\\appdata\\local\\programs\\python\\python311\\lib\\site-packages (from cryptography) (1.15.1)\n",
      "Requirement already satisfied: pycparser in c:\\users\\ezen\\appdata\\local\\programs\\python\\python311\\lib\\site-packages (from cffi>=1.12->cryptography) (2.21)\n",
      "Installing collected packages: cryptography\n",
      "Successfully installed cryptography-42.0.7\n"
     ]
    },
    {
     "name": "stderr",
     "output_type": "stream",
     "text": [
      "\n",
      "[notice] A new release of pip is available: 23.1.2 -> 24.0\n",
      "[notice] To update, run: python.exe -m pip install --upgrade pip\n"
     ]
    }
   ],
   "source": [
    "# mysql 연결시 에러 발생 시 추가적인 라이브러리 설치 \n",
    "!pip install cryptography"
   ]
  },
  {
   "cell_type": "code",
   "execution_count": 11,
   "metadata": {},
   "outputs": [],
   "source": [
    "# mysql 서버의 정보를 입력하고 연결 \n",
    "_db = pymysql.connect(\n",
    "    host = 'localhost', \n",
    "    port = 3306, \n",
    "    user = 'root', \n",
    "    password=  '1234', \n",
    "    db = 'ezen'\n",
    ")"
   ]
  },
  {
   "cell_type": "code",
   "execution_count": 13,
   "metadata": {},
   "outputs": [],
   "source": [
    "# 가상 공간을 생성 (Cursor)\n",
    "# 기본값으로 가상 공간 생성 -> select 질의에 대한 결과 값이 tuple 형태로 되돌려주는 가상 공간\n",
    "cursor = _db.cursor()\n",
    "# select 질의에 대한 결과 값이 dict 형태로 되돌려주는 가상 공간 생성\n",
    "cursor2 = _db.cursor(pymysql.cursors.DictCursor)"
   ]
  },
  {
   "cell_type": "code",
   "execution_count": 6,
   "metadata": {},
   "outputs": [
    {
     "data": {
      "text/plain": [
       "2"
      ]
     },
     "execution_count": 6,
     "metadata": {},
     "output_type": "execute_result"
    }
   ],
   "source": [
    "# sql 쿼리문을 작성 \n",
    "# user table의 모든 열과 모든 행을 조회\n",
    "select_query = \"select * from user\"\n",
    "\n",
    "# cursor에 질의의 보낸다 \n",
    "cursor.execute(select_query)\n",
    "cursor2.execute(select_query)"
   ]
  },
  {
   "cell_type": "code",
   "execution_count": 7,
   "metadata": {},
   "outputs": [
    {
     "data": {
      "text/plain": [
       "(('test', '1234', 'kim', None), ('test3', '0123', None, None))"
      ]
     },
     "execution_count": 7,
     "metadata": {},
     "output_type": "execute_result"
    }
   ],
   "source": [
    "# cursor에서 결과 값을 되돌려받는다. \n",
    "cursor.fetchall()"
   ]
  },
  {
   "cell_type": "code",
   "execution_count": 8,
   "metadata": {},
   "outputs": [
    {
     "data": {
      "text/plain": [
       "[{'id': 'test', 'pass': '1234', 'name': 'kim', 'phone': None},\n",
       " {'id': 'test3', 'pass': '0123', 'name': None, 'phone': None}]"
      ]
     },
     "execution_count": 8,
     "metadata": {},
     "output_type": "execute_result"
    }
   ],
   "source": [
    "cursor2.fetchall()"
   ]
  },
  {
   "cell_type": "code",
   "execution_count": 9,
   "metadata": {},
   "outputs": [],
   "source": [
    "# DB 서버와의 연결을 종료\n",
    "_db.close()"
   ]
  },
  {
   "cell_type": "code",
   "execution_count": 15,
   "metadata": {},
   "outputs": [
    {
     "data": {
      "text/plain": [
       "1"
      ]
     },
     "execution_count": 15,
     "metadata": {},
     "output_type": "execute_result"
    }
   ],
   "source": [
    "# 데이터의 변화가 존재하는 쿼리문을 생성 \n",
    "insert_query = \"\"\"\n",
    "    insert into \n",
    "    `user`(`id`, `pass`)\n",
    "    values ('test10', '0000')\n",
    "\"\"\"\n",
    "# cursor에 쿼리문을 보낸다. \n",
    "# DB 서버는 아직 데이터가 변화하지 않는다. \n",
    "cursor2.execute(insert_query)"
   ]
  },
  {
   "cell_type": "code",
   "execution_count": 16,
   "metadata": {},
   "outputs": [
    {
     "name": "stdout",
     "output_type": "stream",
     "text": [
      "[{'id': 'test', 'pass': '1234', 'name': 'kim', 'phone': None}, {'id': 'test10', 'pass': '0000', 'name': None, 'phone': None}, {'id': 'test3', 'pass': '0123', 'name': None, 'phone': None}]\n"
     ]
    }
   ],
   "source": [
    "select_query2 = \"\"\"\n",
    "    select * from user\n",
    "\"\"\"\n",
    "cursor2.execute(select_query2)\n",
    "print(cursor2.fetchall())"
   ]
  },
  {
   "cell_type": "code",
   "execution_count": 17,
   "metadata": {},
   "outputs": [],
   "source": [
    "# cursor에서 변경된 데이터를 DB 서버에 동기화\n",
    "_db.commit()"
   ]
  },
  {
   "cell_type": "code",
   "execution_count": null,
   "metadata": {},
   "outputs": [],
   "source": [
    "_db2 = pymysql.connect(\n",
    "    host = 'moons-86.iptime.org', \n",
    "    port = 3306, \n",
    "    user = 'ezen', \n",
    "    password = '1234', \n",
    "    db = 'ezen'\n",
    ")"
   ]
  },
  {
   "cell_type": "code",
   "execution_count": null,
   "metadata": {},
   "outputs": [],
   "source": [
    "# 쿼리문을 생성 + 쿼리문에 들어가는 데이터를 따로 설정 \n",
    "# 내 컴퓨터에 있는 DB server에서 특정 아이디와 비밀번호를 조회 하는 쿼리문 생성 \n",
    "login_query = \"\"\"\n",
    "    select * from user \n",
    "    where \n",
    "    id = 'test' and pass = '1111'\n",
    "\"\"\"\n",
    "cursor2.execute(login_query)\n",
    "cursor2.fetchall()"
   ]
  },
  {
   "cell_type": "code",
   "execution_count": null,
   "metadata": {},
   "outputs": [],
   "source": [
    "# 쿼리문과 데이터를 나눠서 변수에 저장 \n",
    "login_query2 = \"\"\"\n",
    "    select * from user \n",
    "    where \n",
    "    id = %s and pass = %s\n",
    "\"\"\"\n",
    "input_id = input(\"아이디를 입력하시오\")\n",
    "input_pass = input('패스워드를 입력하시오')\n",
    "print(input_id, input_pass)\n",
    "\n",
    "# login_query2에 input_id, input_pass를 대입 -> execute() 자동으로 대입 \n",
    "# execute( 쿼리문, [쿼리문의 %s에 들어갈 데이터] )\n",
    "cursor2.execute(login_query2, [input_id, input_pass])\n",
    "print(cursor2.fetchall())"
   ]
  },
  {
   "cell_type": "code",
   "execution_count": null,
   "metadata": {},
   "outputs": [],
   "source": [
    "test_query = \"\"\"\n",
    "    SELECT * from user\n",
    "\"\"\"\n",
    "test_query2 = \"\"\"\n",
    "    insert into user values ('test4', '0000')\n",
    "\"\"\"\n",
    "# 문자열의 좌우의 공백을 제거(strip) -> 문자를 모두 소문자로 변경(lower) -> 문자열의 시작이 select인가(startswith)\n",
    "print(test_query.strip().lower().startswith('select'))\n",
    "print(test_query2.strip().lower().startswith('select'))\n",
    "# 문자열을 소문자로 변경(lower) -> 문자열을 특정 문자를 기준으로 나눠준다(split())\n",
    "print(test_query.lower().split()[0] == 'select')\n",
    "print(test_query2.lower().split()[0] =='select')"
   ]
  },
  {
   "cell_type": "code",
   "execution_count": null,
   "metadata": {},
   "outputs": [],
   "source": [
    "# 함수 생성 \n",
    "# 매개변수 2개 : 쿼리문, *데이터\n",
    "def query_execute(_query, *_values):\n",
    "    # 질의를 cursor에 보낸다.(execute)\n",
    "    # 만약에 query문이 잘못 되었을때(에러 발생시)\n",
    "    try:\n",
    "        cursor2.execute(_query, _values)\n",
    "    except:\n",
    "        return \"쿼리문 에러 발생\"\n",
    "    # _query가 select문이라면?\n",
    "    if _query.strip().lower().startswith('select'):\n",
    "        # cursor에서 결과값을 되돌려 받는다. \n",
    "        result = cursor2.fetchall()\n",
    "    # _query가 select이 아니라면?\n",
    "    else:\n",
    "        # DB server에 cursor를 동기화\n",
    "        _db.commit()\n",
    "        result = 'Query OK'\n",
    "    return result"
   ]
  },
  {
   "cell_type": "code",
   "execution_count": null,
   "metadata": {},
   "outputs": [],
   "source": [
    "# 함수 호출 (쿼리문만 인자값으로 호출)\n",
    "# 쿼리문 작성 \n",
    "sql_query = \"\"\"\n",
    "    select * from user\n",
    "\"\"\"\n",
    "query_execute(sql_query)"
   ]
  },
  {
   "cell_type": "code",
   "execution_count": null,
   "metadata": {},
   "outputs": [],
   "source": [
    "# 함수 호출 (쿼리문(select) + 데이터)\n",
    "sql_query2 = \"\"\"\n",
    "    SELECT * from user \n",
    "    WHERE id = %s\n",
    "\"\"\"\n",
    "query_execute(sql_query2, 'test3')"
   ]
  },
  {
   "cell_type": "code",
   "execution_count": null,
   "metadata": {},
   "outputs": [],
   "source": [
    "# 함수 호출 (쿼리문(update) + 데이터)\n",
    "sql_query3 = \"\"\"\n",
    "    update user set pass = %s \n",
    "    where id = %s\n",
    "\"\"\"\n",
    "query_execute(sql_query3, '0123', 'test3')"
   ]
  },
  {
   "cell_type": "markdown",
   "metadata": {},
   "source": [
    "### DB 서버와의 연결을 class 화\n",
    "1. 생성자 함수 \n",
    "    - class를 생성할때 class안에서 독립적으로 사용하는 변수의 데이터를 대입을 하는 과정 \n",
    "    - DB server의 정보를 독립 변수에 대입 \n",
    "        - host, port, user, password, db\n",
    "2. sql query문과 데이터를 입력받아서 질의를 보내고 응답 메시지를 되돌려 받는 함수 생성 \n",
    "    - 생성자 함수를 통해서 생성한 DB server의 정보를 가지고 DB server와 연결 \n",
    "    - 가상 공간인 cursor를 생성 \n",
    "    - execute()함수를 이용하여 질의의 보낸다. \n",
    "    - 쿼리문이 select문이라면 가상 공간에서 결과를 되돌려받아서 변수(result)에 대입\n",
    "    - select문이 아니라면 DB server에 가상 공간 데이터를 동기화\n",
    "    - result 변수를 생성하여 'Query OK' 문자열을 대입\n",
    "    - DB server와의 연결을 종료\n",
    "    - result를 되돌려준다. \n"
   ]
  },
  {
   "cell_type": "code",
   "execution_count": null,
   "metadata": {},
   "outputs": [],
   "source": [
    "# class 선언 \n",
    "class MyDB:\n",
    "    # 생성자 함수 -> 매개변수의 기본값은 내 컴퓨터로 지정\n",
    "    def __init__(\n",
    "        self,\n",
    "        _host = 'localhost', \n",
    "        _port = 3306, \n",
    "        _user = 'root', \n",
    "        _pw = '1234', \n",
    "        _db = 'ezen'\n",
    "    ):\n",
    "        # class 내부에서 사용이 되는 독립 변수를 생성 \n",
    "        self.host = _host\n",
    "        self.port = _port\n",
    "        self.user = _user\n",
    "        self.pw = _pw\n",
    "        self.db = _db\n",
    "    \n",
    "    # class 안에서 사용을 하는 내장 함수 생성 \n",
    "    def query_execute(self, _query, *_values):\n",
    "        # DB server와 연결 \n",
    "        _db = pymysql.connect(\n",
    "            host = self.host, \n",
    "            port = self.port, \n",
    "            user = self.user, \n",
    "            password = self.pw, \n",
    "            db = self.db\n",
    "        )\n",
    "        # 가상 공간(cursor를 생성)\n",
    "        cursor = _db.cursor(pymysql.cursors.DictCursor)\n",
    "        try:\n",
    "            # 입력받은 query문을 cursor에 질의를 보낸다. \n",
    "            cursor.execute(_query, _values)\n",
    "        except:\n",
    "            return \"쿼리문 에러 발생\"\n",
    "        # select문인 경우 \n",
    "        if _query.strip().upper().startswith('SELECT'):\n",
    "            # cursor에서 결과값을 되돌려받는다. \n",
    "            result = cursor.fetchall()\n",
    "        # select문이 아닌 경우 \n",
    "        else:\n",
    "            # DB server에 가상 공간 데이터를 동기화\n",
    "            _db.commit()\n",
    "            result = 'Query OK'\n",
    "        # DB server와의 연결을 종료\n",
    "        _db.close()\n",
    "        # result를 되돌려준다. \n",
    "        return result"
   ]
  },
  {
   "cell_type": "code",
   "execution_count": null,
   "metadata": {},
   "outputs": [],
   "source": [
    "# class 생성 (내 컴퓨터에 접속)\n",
    "db1 = MyDB()"
   ]
  },
  {
   "cell_type": "code",
   "execution_count": null,
   "metadata": {},
   "outputs": [],
   "source": [
    "# class 생성 ( 외부의 데이터 서버에 접속 )\n",
    "db2 = MyDB(\n",
    "    _host = 'moons-86.iptime.org', \n",
    "    _user = 'ezen', \n",
    "    _pw = '1234', \n",
    "    _db = 'ezen'\n",
    ")"
   ]
  },
  {
   "cell_type": "code",
   "execution_count": null,
   "metadata": {},
   "outputs": [],
   "source": [
    "# 같은 쿼리문을 db1, db2 질의를 보낸다. \n",
    "test_sql = \"\"\"\n",
    "    select * from emp\n",
    "\"\"\"\n",
    "db1.query_execute(test_sql)"
   ]
  },
  {
   "cell_type": "code",
   "execution_count": null,
   "metadata": {},
   "outputs": [],
   "source": [
    "db2.query_execute(test_sql)"
   ]
  },
  {
   "cell_type": "code",
   "execution_count": null,
   "metadata": {},
   "outputs": [],
   "source": [
    "test_sql2 = \"\"\"\n",
    "    select * from tran_1\n",
    "\"\"\"\n",
    "db1.query_execute(test_sql2)"
   ]
  },
  {
   "cell_type": "code",
   "execution_count": null,
   "metadata": {},
   "outputs": [],
   "source": [
    "db2.query_execute(test_sql2)"
   ]
  },
  {
   "cell_type": "code",
   "execution_count": null,
   "metadata": {},
   "outputs": [],
   "source": [
    "import sys"
   ]
  },
  {
   "cell_type": "code",
   "execution_count": null,
   "metadata": {},
   "outputs": [],
   "source": [
    "# python에서 사용이 되는 환경변수의 목록 \n",
    "sys.path"
   ]
  },
  {
   "cell_type": "code",
   "execution_count": null,
   "metadata": {},
   "outputs": [],
   "source": [
    "import DB_load"
   ]
  },
  {
   "cell_type": "code",
   "execution_count": null,
   "metadata": {},
   "outputs": [],
   "source": [
    "db3 = DB_load.MyDB()"
   ]
  },
  {
   "cell_type": "code",
   "execution_count": null,
   "metadata": {},
   "outputs": [
    {
     "data": {
      "text/plain": [
       "[{'DEPTNO': 10.0, 'DNAME': 'ACCOUNTING', 'LOC': 'NEW YORK'},\n",
       " {'DEPTNO': 20.0, 'DNAME': 'RESEARCH', 'LOC': 'DALLAS'},\n",
       " {'DEPTNO': 30.0, 'DNAME': 'SALES', 'LOC': 'CHICAGO'},\n",
       " {'DEPTNO': 40.0, 'DNAME': 'OPERATIONS', 'LOC': 'BOSTON'}]"
      ]
     },
     "execution_count": 71,
     "metadata": {},
     "output_type": "execute_result"
    }
   ],
   "source": [
    "sql = \"\"\"\n",
    "    select * from dept\n",
    "\"\"\"\n",
    "db3.query_execute(sql)"
   ]
  },
  {
   "cell_type": "markdown",
   "metadata": {},
   "source": [
    "#### 데이터 프레임의 결합 \n",
    "1. moons-86.iptime.org 서버에서 접속\n",
    "2. tran_1, tran_2, tran_d_1, tran_d_2 table의 데이터를 모두 로드 \n",
    "3. 로드한 4개의 테이블의 정보를 데이터프레임으로 변환\n",
    "4. tran_1, tran_2는 단순한 행 결합 \n",
    "5. tran_d_1, tran_d_2는 단순한 행 결합\n",
    "6. 4번 과정과 5번과정에서 나온 데이터프레임을 조인 결합 \n"
   ]
  },
  {
   "cell_type": "code",
   "execution_count": null,
   "metadata": {},
   "outputs": [],
   "source": [
    "import pandas as pd"
   ]
  },
  {
   "cell_type": "code",
   "execution_count": null,
   "metadata": {},
   "outputs": [],
   "source": [
    "# class를 생성하여 외부의 데이터베이스에 접속\n",
    "new_db = DB_load.MyDB(\n",
    "    _host = 'moons-86.iptime.org', \n",
    "    _port = 3306, \n",
    "    _user = 'ezen', \n",
    "    _pw = '1234', \n",
    "    _db = 'ezen'\n",
    ")"
   ]
  },
  {
   "cell_type": "code",
   "execution_count": null,
   "metadata": {},
   "outputs": [],
   "source": [
    "tran_1_query = \"\"\"\n",
    "    select * from tran_1\n",
    "\"\"\"\n",
    "tran_1 = new_db.query_execute(tran_1_query)"
   ]
  },
  {
   "cell_type": "code",
   "execution_count": null,
   "metadata": {},
   "outputs": [],
   "source": [
    "tran_1"
   ]
  },
  {
   "cell_type": "code",
   "execution_count": null,
   "metadata": {},
   "outputs": [],
   "source": [
    "# tran_1 데이터의 타입은 list 안에 dict\n",
    "# 데이터프레임으로 변환 \n",
    "df1 = pd.DataFrame(tran_1)\n",
    "df1.head()"
   ]
  },
  {
   "cell_type": "code",
   "execution_count": null,
   "metadata": {},
   "outputs": [],
   "source": [
    "tran_2_query = \"\"\"\n",
    "    select * from tran_2\n",
    "\"\"\"\n",
    "tran_2 = new_db.query_execute(tran_2_query)\n",
    "df2 = pd.DataFrame(tran_2)\n",
    "df2.head()"
   ]
  },
  {
   "cell_type": "code",
   "execution_count": null,
   "metadata": {},
   "outputs": [],
   "source": [
    "tran_df = pd.concat( [df1, df2], axis = 0, ignore_index=True )"
   ]
  },
  {
   "cell_type": "code",
   "execution_count": null,
   "metadata": {},
   "outputs": [],
   "source": [
    "tran_df.info()"
   ]
  },
  {
   "cell_type": "code",
   "execution_count": null,
   "metadata": {},
   "outputs": [],
   "source": [
    "tran_d_1_query = \"\"\"\n",
    "    select * from tran_d_1\n",
    "\"\"\"\n",
    "tran_d_1 = new_db.query_execute(tran_d_1_query)\n",
    "df3 = pd.DataFrame(tran_d_1)\n",
    "df3.head()"
   ]
  },
  {
   "cell_type": "code",
   "execution_count": null,
   "metadata": {},
   "outputs": [],
   "source": [
    "tran_d_2_query = \"\"\"\n",
    "    select * from tran_d_2\n",
    "\"\"\"\n",
    "tran_d_2 = new_db.query_execute(tran_d_2_query)\n",
    "df4 = pd.DataFrame(tran_d_2)\n",
    "df4.head()"
   ]
  },
  {
   "cell_type": "code",
   "execution_count": null,
   "metadata": {},
   "outputs": [],
   "source": [
    "# df3, df4를 단순 행 결합 \n",
    "tran_d = pd.concat([df3, df4], axis=0, ignore_index=True)"
   ]
  },
  {
   "cell_type": "code",
   "execution_count": null,
   "metadata": {},
   "outputs": [],
   "source": [
    "tran_d.info()"
   ]
  },
  {
   "cell_type": "code",
   "execution_count": null,
   "metadata": {},
   "outputs": [],
   "source": [
    "# tran_df, tran_d 데이터프레임을 조인 결합 \n",
    "# tran_df을 기준으로 결합 \n",
    "# 조건식? transaction_id\n",
    "tran_df.head(1)"
   ]
  },
  {
   "cell_type": "code",
   "execution_count": null,
   "metadata": {},
   "outputs": [],
   "source": [
    "tran_d.head(1)"
   ]
  },
  {
   "cell_type": "code",
   "execution_count": null,
   "metadata": {},
   "outputs": [],
   "source": [
    "total_df = pd.merge(\n",
    "    tran_df, tran_d, on = 'transaction_id', how = 'left'\n",
    ")"
   ]
  },
  {
   "cell_type": "code",
   "execution_count": null,
   "metadata": {},
   "outputs": [
    {
     "data": {
      "text/html": [
       "<div>\n",
       "<style scoped>\n",
       "    .dataframe tbody tr th:only-of-type {\n",
       "        vertical-align: middle;\n",
       "    }\n",
       "\n",
       "    .dataframe tbody tr th {\n",
       "        vertical-align: top;\n",
       "    }\n",
       "\n",
       "    .dataframe thead th {\n",
       "        text-align: right;\n",
       "    }\n",
       "</style>\n",
       "<table border=\"1\" class=\"dataframe\">\n",
       "  <thead>\n",
       "    <tr style=\"text-align: right;\">\n",
       "      <th></th>\n",
       "      <th>transaction_id</th>\n",
       "      <th>price</th>\n",
       "      <th>payment_date</th>\n",
       "      <th>customer_id</th>\n",
       "      <th>detail_id</th>\n",
       "      <th>item_id</th>\n",
       "      <th>quantity</th>\n",
       "    </tr>\n",
       "  </thead>\n",
       "  <tbody>\n",
       "    <tr>\n",
       "      <th>0</th>\n",
       "      <td>T0000000113</td>\n",
       "      <td>210000</td>\n",
       "      <td>2019-02-01 01:36:57</td>\n",
       "      <td>PL563502</td>\n",
       "      <td>0</td>\n",
       "      <td>S005</td>\n",
       "      <td>1</td>\n",
       "    </tr>\n",
       "  </tbody>\n",
       "</table>\n",
       "</div>"
      ],
      "text/plain": [
       "  transaction_id   price         payment_date customer_id  detail_id item_id  \\\n",
       "0    T0000000113  210000  2019-02-01 01:36:57    PL563502          0    S005   \n",
       "\n",
       "   quantity  \n",
       "0         1  "
      ]
     },
     "execution_count": 70,
     "metadata": {},
     "output_type": "execute_result"
    }
   ],
   "source": [
    "total_df.head(1)"
   ]
  },
  {
   "cell_type": "code",
   "execution_count": null,
   "metadata": {},
   "outputs": [],
   "source": [
    "total_query = \"\"\"\n",
    "    select \n",
    "    tran.transaction_id, \n",
    "    price, payment_date, customer_id, detail_id, item_id, \n",
    "    quantity\n",
    "    from\n",
    "    (select * from tran_1\n",
    "    union \n",
    "    select * from tran_2) as tran\n",
    "    left join \n",
    "    (select * from tran_d_1\n",
    "    union\n",
    "    select * from tran_d_2) as tran_d\n",
    "    on tran.transaction_id = tran_d.transaction_id\n",
    "\"\"\"\n",
    "pd.DataFrame(new_db.query_execute(total_query))"
   ]
  },
  {
   "cell_type": "code",
   "execution_count": null,
   "metadata": {},
   "outputs": [],
   "source": []
  }
 ],
 "metadata": {
  "kernelspec": {
   "display_name": "Python 3",
   "language": "python",
   "name": "python3"
  },
  "language_info": {
   "codemirror_mode": {
    "name": "ipython",
    "version": 3
   },
   "file_extension": ".py",
   "mimetype": "text/x-python",
   "name": "python",
   "nbconvert_exporter": "python",
   "pygments_lexer": "ipython3",
   "version": "3.11.4"
  }
 },
 "nbformat": 4,
 "nbformat_minor": 2
}
