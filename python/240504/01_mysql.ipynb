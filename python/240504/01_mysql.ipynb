{
 "cells": [
  {
   "cell_type": "markdown",
   "metadata": {},
   "source": [
    "### mysql과 python을 연동 \n",
    "1. mysql과 연동할 수 있는 기능을 가진 라이브러리 설치 \n",
    "    - 라이브러리명 : pymysql\n",
    "    - pip install pymysql \n",
    "2. mysql 서버의 정보를 입력하고 연결 \n",
    "    - host(서버의 주소)\n",
    "        - 127.0.0.1, localhost (내 컴퓨터)\n",
    "        - 외부의 주소 : 172.168.1.40\n",
    "    - port(컴퓨터의 보안)\n",
    "        - mysql의 기본 port : 3306\n",
    "    - user(mysql 연결시 사용하는 id)\n",
    "        - mysql의 기본 user : root\n",
    "    - password (mysql 연결시 사용하는 비밀번호)\n",
    "        - root의 비밀번호 : 1234\n",
    "        - 비밀번호가 존재하지 않으면 생략 가능\n",
    "    - db (Database의 이름)\n",
    "        - mysql에서 사용할 데이터베이스의 이름\n",
    "3. DB 서버와 python 공간 사이에 가상 공간을 생성\n",
    "    - Cursor라는 가상 공간 생성\n",
    "4. sql 쿼리문을 이용하여 cursor에 질의를 보낸다. \n",
    "    - 데이터의 변화가 존재하는 쿼리(insert, update, delete)\n",
    "        - 질의를 보낸다 ( execute() )\n",
    "        - DB 서버의 데이터를 변경 ( commit() )\n",
    "        - DB 서버와의 연결을 종료 ( close() )\n",
    "    - 데이터를 조회하는 쿼리 (select)\n",
    "        - 질의를 보낸다 ( execute() )\n",
    "        - 질의에 대한 결과 값을 받아온다. ( fetchall() )\n",
    "            - cursor에서 데이터를 받아오면 cursor에 조회된 데이터는 초기화\n",
    "        - DB 서버와의 연결을 종료 ( close() )"
   ]
  },
  {
   "cell_type": "code",
   "execution_count": null,
   "metadata": {},
   "outputs": [],
   "source": [
    "# 라이브러리 설치 \n",
    "# !pip install pymysql"
   ]
  },
  {
   "cell_type": "code",
   "execution_count": 2,
   "metadata": {},
   "outputs": [],
   "source": [
    "# 라이브러리 로드 \n",
    "import pymysql"
   ]
  },
  {
   "cell_type": "code",
   "execution_count": null,
   "metadata": {},
   "outputs": [],
   "source": [
    "# mysql 연결시 에러 발생 시 추가적인 라이브러리 설치 \n",
    "!pip install cryptography"
   ]
  },
  {
   "cell_type": "code",
   "execution_count": 9,
   "metadata": {},
   "outputs": [],
   "source": [
    "# mysql 서버의 정보를 입력하고 연결 \n",
    "_db = pymysql.connect(\n",
    "    host = 'localhost', \n",
    "    port = 3306, \n",
    "    user = 'root', \n",
    "    password=  '1234', \n",
    "    db = 'ezen'\n",
    ")"
   ]
  },
  {
   "cell_type": "code",
   "execution_count": 10,
   "metadata": {},
   "outputs": [],
   "source": [
    "# 가상 공간을 생성 (Cursor)\n",
    "# 기본값으로 가상 공간 생성 -> select 질의에 대한 결과 값이 tuple 형태로 되돌려주는 가상 공간\n",
    "cursor = _db.cursor()\n",
    "# select 질의에 대한 결과 값이 dict 형태로 되돌려주는 가상 공간 생성\n",
    "cursor2 = _db.cursor(pymysql.cursors.DictCursor)"
   ]
  },
  {
   "cell_type": "code",
   "execution_count": 5,
   "metadata": {},
   "outputs": [
    {
     "data": {
      "text/plain": [
       "1"
      ]
     },
     "execution_count": 5,
     "metadata": {},
     "output_type": "execute_result"
    }
   ],
   "source": [
    "# sql 쿼리문을 작성 \n",
    "# user table의 모든 열과 모든 행을 조회\n",
    "select_query = \"select * from user\"\n",
    "\n",
    "# cursor에 질의의 보낸다 \n",
    "cursor.execute(select_query)\n",
    "cursor2.execute(select_query)"
   ]
  },
  {
   "cell_type": "code",
   "execution_count": 6,
   "metadata": {},
   "outputs": [
    {
     "data": {
      "text/plain": [
       "(('test', '1234', 'kim', None),)"
      ]
     },
     "execution_count": 6,
     "metadata": {},
     "output_type": "execute_result"
    }
   ],
   "source": [
    "# cursor에서 결과 값을 되돌려받는다. \n",
    "cursor.fetchall()"
   ]
  },
  {
   "cell_type": "code",
   "execution_count": 7,
   "metadata": {},
   "outputs": [
    {
     "data": {
      "text/plain": [
       "[{'id': 'test', 'pass': '1234', 'name': 'kim', 'phone': None}]"
      ]
     },
     "execution_count": 7,
     "metadata": {},
     "output_type": "execute_result"
    }
   ],
   "source": [
    "cursor2.fetchall()"
   ]
  },
  {
   "cell_type": "code",
   "execution_count": 8,
   "metadata": {},
   "outputs": [],
   "source": [
    "# DB 서버와의 연결을 종료\n",
    "_db.close()"
   ]
  },
  {
   "cell_type": "code",
   "execution_count": 11,
   "metadata": {},
   "outputs": [
    {
     "data": {
      "text/plain": [
       "1"
      ]
     },
     "execution_count": 11,
     "metadata": {},
     "output_type": "execute_result"
    }
   ],
   "source": [
    "# 데이터의 변화가 존재하는 쿼리문을 생성 \n",
    "insert_query = \"\"\"\n",
    "    insert into \n",
    "    `user`(`id`, `pass`)\n",
    "    values ('test3', '0000')\n",
    "\"\"\"\n",
    "# cursor에 쿼리문을 보낸다. \n",
    "# DB 서버는 아직 데이터가 변화하지 않는다. \n",
    "cursor2.execute(insert_query)"
   ]
  },
  {
   "cell_type": "code",
   "execution_count": 12,
   "metadata": {},
   "outputs": [
    {
     "name": "stdout",
     "output_type": "stream",
     "text": [
      "[{'id': 'test', 'pass': '1234', 'name': 'kim', 'phone': None}, {'id': 'test3', 'pass': '0000', 'name': None, 'phone': None}]\n"
     ]
    }
   ],
   "source": [
    "select_query2 = \"\"\"\n",
    "    select * from user\n",
    "\"\"\"\n",
    "cursor2.execute(select_query2)\n",
    "print(cursor2.fetchall())"
   ]
  },
  {
   "cell_type": "code",
   "execution_count": 13,
   "metadata": {},
   "outputs": [],
   "source": [
    "# cursor에서 변경된 데이터를 DB 서버에 동기화\n",
    "_db.commit()"
   ]
  },
  {
   "cell_type": "code",
   "execution_count": 14,
   "metadata": {},
   "outputs": [],
   "source": [
    "_db2 = pymysql.connect(\n",
    "    host = 'moons-86.iptime.org', \n",
    "    port = 3306, \n",
    "    user = 'ezen', \n",
    "    password = '1234', \n",
    "    db = 'ezen'\n",
    ")"
   ]
  },
  {
   "cell_type": "code",
   "execution_count": 16,
   "metadata": {},
   "outputs": [
    {
     "data": {
      "text/plain": [
       "()"
      ]
     },
     "execution_count": 16,
     "metadata": {},
     "output_type": "execute_result"
    }
   ],
   "source": [
    "# 쿼리문을 생성 + 쿼리문에 들어가는 데이터를 따로 설정 \n",
    "# 내 컴퓨터에 있는 DB server에서 특정 아이디와 비밀번호를 조회 하는 쿼리문 생성 \n",
    "login_query = \"\"\"\n",
    "    select * from user \n",
    "    where \n",
    "    id = 'test' and pass = '1111'\n",
    "\"\"\"\n",
    "cursor2.execute(login_query)\n",
    "cursor2.fetchall()"
   ]
  },
  {
   "cell_type": "code",
   "execution_count": 18,
   "metadata": {},
   "outputs": [
    {
     "name": "stdout",
     "output_type": "stream",
     "text": [
      "test 0000\n",
      "()\n"
     ]
    }
   ],
   "source": [
    "# 쿼리문과 데이터를 나눠서 변수에 저장 \n",
    "login_query2 = \"\"\"\n",
    "    select * from user \n",
    "    where \n",
    "    id = %s and pass = %s\n",
    "\"\"\"\n",
    "input_id = input(\"아이디를 입력하시오\")\n",
    "input_pass = input('패스워드를 입력하시오')\n",
    "print(input_id, input_pass)\n",
    "\n",
    "# login_query2에 input_id, input_pass를 대입 -> execute() 자동으로 대입 \n",
    "# execute( 쿼리문, [쿼리문의 %s에 들어갈 데이터] )\n",
    "cursor2.execute(login_query2, [input_id, input_pass])\n",
    "print(cursor2.fetchall())"
   ]
  },
  {
   "cell_type": "code",
   "execution_count": 27,
   "metadata": {},
   "outputs": [
    {
     "name": "stdout",
     "output_type": "stream",
     "text": [
      "False\n",
      "False\n",
      "True\n",
      "False\n"
     ]
    }
   ],
   "source": [
    "test_query = \"\"\"\n",
    "    SELECT * from user\n",
    "\"\"\"\n",
    "test_query2 = \"\"\"\n",
    "    insert into user values ('test4', '0000')\n",
    "\"\"\"\n",
    "# 문자열의 좌우의 공백을 제거(strip) -> 문자를 모두 소문자로 변경(lower) -> 문자열의 시작이 select인가(startswith)\n",
    "print(test_query.strip().lower().startswith('select'))\n",
    "print(test_query2.strip().lower().startswith('select'))\n",
    "# 문자열을 소문자로 변경(lower) -> 문자열을 특정 문자를 기준으로 나눠준다(split())\n",
    "print(test_query.lower().split()[0] == 'select')\n",
    "print(test_query2.lower().split()[0] =='select')"
   ]
  },
  {
   "cell_type": "code",
   "execution_count": 28,
   "metadata": {},
   "outputs": [],
   "source": [
    "# 함수 생성 \n",
    "# 매개변수 2개 : 쿼리문, *데이터\n",
    "def query_execute(_query, *_values):\n",
    "    # 질의를 cursor에 보낸다.(execute)\n",
    "    # 만약에 query문이 잘못 되었을때(에러 발생시)\n",
    "    try:\n",
    "        cursor2.execute(_query, _values)\n",
    "    except:\n",
    "        return \"쿼리문 에러 발생\"\n",
    "    # _query가 select문이라면?\n",
    "    if _query.strip().lower().startswith('select'):\n",
    "        # cursor에서 결과값을 되돌려 받는다. \n",
    "        result = cursor2.fetchall()\n",
    "    # _query가 select이 아니라면?\n",
    "    else:\n",
    "        # DB server에 cursor를 동기화\n",
    "        _db.commit()\n",
    "        result = 'Query OK'\n",
    "    return result"
   ]
  },
  {
   "cell_type": "code",
   "execution_count": 29,
   "metadata": {},
   "outputs": [
    {
     "data": {
      "text/plain": [
       "[{'id': 'test', 'pass': '1234', 'name': 'kim', 'phone': None},\n",
       " {'id': 'test3', 'pass': '0000', 'name': None, 'phone': None}]"
      ]
     },
     "execution_count": 29,
     "metadata": {},
     "output_type": "execute_result"
    }
   ],
   "source": [
    "# 함수 호출 (쿼리문만 인자값으로 호출)\n",
    "# 쿼리문 작성 \n",
    "sql_query = \"\"\"\n",
    "    select * from user\n",
    "\"\"\"\n",
    "query_execute(sql_query)"
   ]
  },
  {
   "cell_type": "code",
   "execution_count": 30,
   "metadata": {},
   "outputs": [
    {
     "data": {
      "text/plain": [
       "[{'id': 'test3', 'pass': '0000', 'name': None, 'phone': None}]"
      ]
     },
     "execution_count": 30,
     "metadata": {},
     "output_type": "execute_result"
    }
   ],
   "source": [
    "# 함수 호출 (쿼리문(select) + 데이터)\n",
    "sql_query2 = \"\"\"\n",
    "    SELECT * from user \n",
    "    WHERE id = %s\n",
    "\"\"\"\n",
    "query_execute(sql_query2, 'test3')"
   ]
  },
  {
   "cell_type": "code",
   "execution_count": 31,
   "metadata": {},
   "outputs": [
    {
     "data": {
      "text/plain": [
       "'Query OK'"
      ]
     },
     "execution_count": 31,
     "metadata": {},
     "output_type": "execute_result"
    }
   ],
   "source": [
    "# 함수 호출 (쿼리문(update) + 데이터)\n",
    "sql_query3 = \"\"\"\n",
    "    update user set pass = %s \n",
    "    where id = %s\n",
    "\"\"\"\n",
    "query_execute(sql_query3, '0123', 'test3')"
   ]
  },
  {
   "cell_type": "markdown",
   "metadata": {},
   "source": [
    "### DB 서버와의 연결을 class 화\n",
    "1. 생성자 함수 \n",
    "    - class를 생성할때 class안에서 독립적으로 사용하는 변수의 데이터를 대입을 하는 과정 \n",
    "    - DB server의 정보를 독립 변수에 대입 \n",
    "        - host, port, user, password, db\n",
    "2. sql query문과 데이터를 입력받아서 질의를 보내고 응답 메시지를 되돌려 받는 함수 생성 \n",
    "    - 생성자 함수를 통해서 생성한 DB server의 정보를 가지고 DB server와 연결 \n",
    "    - 가상 공간인 cursor를 생성 \n",
    "    - execute()함수를 이용하여 질의의 보낸다. \n",
    "    - 쿼리문이 select문이라면 가상 공간에서 결과를 되돌려받아서 변수(result)에 대입\n",
    "    - select문이 아니라면 DB server에 가상 공간 데이터를 동기화\n",
    "    - result 변수를 생성하여 'Query OK' 문자열을 대입\n",
    "    - DB server와의 연결을 종료\n",
    "    - result를 되돌려준다. \n"
   ]
  },
  {
   "cell_type": "code",
   "execution_count": 33,
   "metadata": {},
   "outputs": [],
   "source": [
    "# class 선언 \n",
    "class MyDB:\n",
    "    # 생성자 함수 -> 매개변수의 기본값은 내 컴퓨터로 지정\n",
    "    def __init__(\n",
    "        self,\n",
    "        _host = 'localhost', \n",
    "        _port = 3306, \n",
    "        _user = 'root', \n",
    "        _pw = '1234', \n",
    "        _db = 'ezen'\n",
    "    ):\n",
    "        # class 내부에서 사용이 되는 독립 변수를 생성 \n",
    "        self.host = _host\n",
    "        self.port = _port\n",
    "        self.user = _user\n",
    "        self.pw = _pw\n",
    "        self.db = _db\n",
    "    \n",
    "    # class 안에서 사용을 하는 내장 함수 생성 \n",
    "    def query_execute(self, _query, *_values):\n",
    "        # DB server와 연결 \n",
    "        _db = pymysql.connect(\n",
    "            host = self.host, \n",
    "            port = self.port, \n",
    "            user = self.user, \n",
    "            password = self.pw, \n",
    "            db = self.db\n",
    "        )\n",
    "        # 가상 공간(cursor를 생성)\n",
    "        cursor = _db.cursor(pymysql.cursors.dictCursor)\n",
    "        try:\n",
    "            # 입력받은 query문을 cursor에 질의를 보낸다. \n",
    "            cursor.execute(_query, _values)\n",
    "        except:\n",
    "            return \"쿼리문 에러 발생\"\n",
    "        # select문인 경우 \n",
    "        if _query.strip().upper().startswith('SELECT'):\n",
    "            # cursor에서 결과값을 되돌려받는다. \n",
    "            result = cursor.fetchall()\n",
    "        # select문이 아닌 경우 \n",
    "            # DB server에 가상 공간 데이터를 동기화\n",
    "            _db.commit()\n",
    "            result = 'Query OK'\n",
    "        # DB server와의 연결을 종료\n",
    "        _db.close()\n",
    "        # result를 되돌려준다. \n",
    "        return result"
   ]
  },
  {
   "cell_type": "code",
   "execution_count": 34,
   "metadata": {},
   "outputs": [],
   "source": [
    "# class 생성 (내 컴퓨터에 접속)\n",
    "db1 = MyDB()"
   ]
  },
  {
   "cell_type": "code",
   "execution_count": 35,
   "metadata": {},
   "outputs": [],
   "source": [
    "# class 생성 ( 외부의 데이터 서버에 접속 )\n",
    "db2 = MyDB(\n",
    "    _host = 'moons-86.iptime.org', \n",
    "    _user = 'ezen', \n",
    "    _pw = '1234', \n",
    "    _db = 'ezen'\n",
    ")"
   ]
  },
  {
   "cell_type": "code",
   "execution_count": null,
   "metadata": {},
   "outputs": [],
   "source": []
  }
 ],
 "metadata": {
  "kernelspec": {
   "display_name": "Python 3",
   "language": "python",
   "name": "python3"
  },
  "language_info": {
   "codemirror_mode": {
    "name": "ipython",
    "version": 3
   },
   "file_extension": ".py",
   "mimetype": "text/x-python",
   "name": "python",
   "nbconvert_exporter": "python",
   "pygments_lexer": "ipython3",
   "version": "3.11.4"
  }
 },
 "nbformat": 4,
 "nbformat_minor": 2
}
