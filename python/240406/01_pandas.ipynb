{
 "cells": [
  {
   "cell_type": "code",
   "execution_count": null,
   "metadata": {},
   "outputs": [],
   "source": [
    "## 라이브러리 설치 \n",
    "!pip install pandas"
   ]
  },
  {
   "cell_type": "code",
   "execution_count": null,
   "metadata": {},
   "outputs": [],
   "source": [
    "## 라이브러리 로드 \n",
    "import pandas as pd"
   ]
  },
  {
   "cell_type": "code",
   "execution_count": null,
   "metadata": {},
   "outputs": [],
   "source": [
    "# 1차원 데이터 형인 Series를 생성 \n",
    "pd_series = pd.Series([5000, 6000, 6500, 6500])"
   ]
  },
  {
   "cell_type": "code",
   "execution_count": null,
   "metadata": {},
   "outputs": [],
   "source": [
    "print(pd_series)"
   ]
  },
  {
   "cell_type": "code",
   "execution_count": null,
   "metadata": {},
   "outputs": [],
   "source": [
    "# Series는 Class이고 Series 안에는 적어도 2개의 변수가 존재 \n",
    "print(pd_series.index)\n",
    "print(pd_series.values)"
   ]
  },
  {
   "cell_type": "code",
   "execution_count": null,
   "metadata": {},
   "outputs": [],
   "source": [
    "pd_series2 = pd.Series([500, 1000, 1000, 1200])"
   ]
  },
  {
   "cell_type": "code",
   "execution_count": null,
   "metadata": {},
   "outputs": [],
   "source": [
    "pd_series2"
   ]
  },
  {
   "cell_type": "code",
   "execution_count": null,
   "metadata": {},
   "outputs": [],
   "source": [
    "# 스리즈 데이터들의 합 (각 원소들끼리 합)\n",
    "print(pd_series)\n",
    "print(pd_series2)"
   ]
  },
  {
   "cell_type": "code",
   "execution_count": null,
   "metadata": {},
   "outputs": [],
   "source": [
    "print(pd_series + pd_series2)"
   ]
  },
  {
   "cell_type": "code",
   "execution_count": null,
   "metadata": {},
   "outputs": [],
   "source": [
    "# list데이터들의 합은 두개의 리스트가 확장 \n",
    "_list = [1,2,3,4]\n",
    "_list2 = [10, 20, 30, 40]"
   ]
  },
  {
   "cell_type": "code",
   "execution_count": null,
   "metadata": {},
   "outputs": [],
   "source": [
    "print(_list + _list2)"
   ]
  },
  {
   "cell_type": "code",
   "execution_count": null,
   "metadata": {},
   "outputs": [],
   "source": [
    "## Series 형태의 데이터에 index 값을 지정 \n",
    "## 주의할 점 : 데이터의 개수와 인덱스의 개수는 같아야 된다. \n",
    "pd_series3 = pd.Series(\n",
    "    [5000, 6000, 6500, 6500], \n",
    "    index = ['아메리카노', '카페라떼', '카페모카', '카푸치노']\n",
    ")"
   ]
  },
  {
   "cell_type": "code",
   "execution_count": null,
   "metadata": {},
   "outputs": [],
   "source": [
    "pd_series3"
   ]
  },
  {
   "cell_type": "code",
   "execution_count": null,
   "metadata": {},
   "outputs": [],
   "source": [
    "## 데이터의 개수와 인덱스의 개수가 다르면 에러 발생\n",
    "pd_series4 = pd.Series(\n",
    "    [5000, 6000, 6500, 6500], \n",
    "    index = ['아메리카노', '카페라떼', '카페모카']\n",
    ")"
   ]
  },
  {
   "cell_type": "code",
   "execution_count": null,
   "metadata": {},
   "outputs": [],
   "source": [
    "## 2차원 데이터형인 DataFrame 생성 \n",
    "data = [\n",
    "    [1,2,3], \n",
    "    [4,5,6], \n",
    "    [7,8,9]\n",
    "]\n",
    "df = pd.DataFrame(data)"
   ]
  },
  {
   "cell_type": "code",
   "execution_count": null,
   "metadata": {},
   "outputs": [],
   "source": [
    "df"
   ]
  },
  {
   "cell_type": "code",
   "execution_count": null,
   "metadata": {},
   "outputs": [],
   "source": [
    "## DataFrame라는 Class에는 적어도 3개의 변수는 존재\n",
    "print(df.values)\n",
    "print(df.index)\n",
    "print(df.columns)"
   ]
  },
  {
   "cell_type": "markdown",
   "metadata": {},
   "source": [
    "### DataFrame을 dict 형태로 간단하게 표현\n",
    "- df =  {\n",
    "    column1 : Series, \n",
    "    column2 : Series2\n",
    "}\n",
    "- df['column1'] -> Series"
   ]
  },
  {
   "cell_type": "code",
   "execution_count": null,
   "metadata": {},
   "outputs": [],
   "source": [
    "df[1]"
   ]
  },
  {
   "cell_type": "code",
   "execution_count": null,
   "metadata": {},
   "outputs": [],
   "source": [
    "## 컬럼의 이름을 변경 \n",
    "## case1 (DataFrame 안에 있는 rename 함수를 이용)\n",
    "## rename()\n",
    "## 매개변수 index -> 인덱스를 값을 변경할때 사용 dict 형태 데이터를 인자 값으로 사용\n",
    "## 매개변수 columns -> 컬럼의 값을 변경할때 사용 dict 형태 데이터를 인자 값으로 사용\n",
    "## 매개변수 inplace -> 기본값(False) : 기준이 되는 데이터프레임 변경하지 않는다. \n",
    "## True로 인자값을 설정하면 데이터프레임을 변경(출력이 존재하지 않는다. )\n",
    "df.rename(\n",
    "    columns={\n",
    "        0 : 'A', \n",
    "        1 : 'B', \n",
    "        2 : 'C'\n",
    "    }, \n",
    "    inplace = True\n",
    ")"
   ]
  },
  {
   "cell_type": "code",
   "execution_count": null,
   "metadata": {},
   "outputs": [],
   "source": [
    "df"
   ]
  },
  {
   "cell_type": "code",
   "execution_count": null,
   "metadata": {},
   "outputs": [],
   "source": [
    "## case2(DataFrame 안에 있는 변수의 데이터를 변경)\n",
    "df.columns = ['a', 'b', 'c']"
   ]
  },
  {
   "cell_type": "code",
   "execution_count": null,
   "metadata": {},
   "outputs": [],
   "source": [
    "df"
   ]
  },
  {
   "cell_type": "code",
   "execution_count": null,
   "metadata": {},
   "outputs": [],
   "source": [
    "df['c']"
   ]
  },
  {
   "cell_type": "code",
   "execution_count": null,
   "metadata": {},
   "outputs": [],
   "source": [
    "# openapi, DataBase 에서 데이터를 로드하는 경우 \n",
    "# Data의 형태 [{}, {}] or {key:[], key1:[]}\n",
    "data2 = [\n",
    "    {\n",
    "        'name' : 'test', \n",
    "        'age' : 20\n",
    "    }, \n",
    "    {\n",
    "        'name' : 'test2', \n",
    "        'age' : 30\n",
    "    }\n",
    "]\n",
    "df2 = pd.DataFrame(data2)"
   ]
  },
  {
   "cell_type": "code",
   "execution_count": null,
   "metadata": {},
   "outputs": [],
   "source": [
    "df2"
   ]
  },
  {
   "cell_type": "code",
   "execution_count": null,
   "metadata": {},
   "outputs": [],
   "source": [
    "data3 = {\n",
    "    'name' : ['test', 'test2', 'test3'], \n",
    "    'age' : [20, 30, 40]\n",
    "}\n",
    "df3 = pd.DataFrame(data3)"
   ]
  },
  {
   "cell_type": "code",
   "execution_count": null,
   "metadata": {},
   "outputs": [],
   "source": [
    "df3"
   ]
  },
  {
   "cell_type": "markdown",
   "metadata": {},
   "source": [
    "- loc[인덱스의 조건, 컬럼의 조건]\n",
    "    - 인덱스의 값을 기준으로 데이터프레임을 필터링\n",
    "    - 컬럼의 값을 기준으로 데이터프레임을 필터링\n",
    "- iloc[인덱스의 조건, 컬럼의 조건]\n",
    "    - 인덱스의 위치를 기준으로 데이터프레임을 필터링\n",
    "    - 컬럼의 위치를 기준으로 데이터프레임을 필터링"
   ]
  },
  {
   "cell_type": "code",
   "execution_count": null,
   "metadata": {},
   "outputs": [],
   "source": [
    "## df3에서 30이라는 데이터만 출력 \n",
    "## loc 조건 -> index의 값이 1, columns의 값이 age\n",
    "df3.loc[1, 'age']"
   ]
  },
  {
   "cell_type": "code",
   "execution_count": null,
   "metadata": {},
   "outputs": [],
   "source": [
    "# df3['age']\n",
    "df3.loc[: , 'age']"
   ]
  },
  {
   "cell_type": "code",
   "execution_count": null,
   "metadata": {},
   "outputs": [],
   "source": [
    "df3.loc[1]"
   ]
  },
  {
   "cell_type": "code",
   "execution_count": null,
   "metadata": {},
   "outputs": [],
   "source": [
    "## iloc를 이용하여 30 데이터를 출력\n",
    "## index는 위치는 1, columns 위치는 1\n",
    "df3.iloc[1, 1]"
   ]
  },
  {
   "cell_type": "code",
   "execution_count": null,
   "metadata": {},
   "outputs": [],
   "source": [
    "## df3에서 나이가 30살 이상인 데이터만 출력\n",
    "## 인덱스의 조건 : age가 30 이상인 경우\n",
    "## 컬럼의 조건 : 전체\n",
    "# df3.loc[:,'age']\n",
    "flag = df3['age'] >= 30\n",
    "df3.loc[flag]"
   ]
  },
  {
   "cell_type": "code",
   "execution_count": null,
   "metadata": {},
   "outputs": [],
   "source": [
    "## bool형태 데이터의 부정 -> not()\n",
    "not(True)"
   ]
  },
  {
   "cell_type": "code",
   "execution_count": null,
   "metadata": {},
   "outputs": [],
   "source": [
    "# 스리즈 데이터에서 데이터의 타입이 bool인 데이터에서 부정 \n",
    "~flag"
   ]
  },
  {
   "cell_type": "code",
   "execution_count": null,
   "metadata": {},
   "outputs": [],
   "source": [
    "df3.loc[~flag]"
   ]
  },
  {
   "cell_type": "markdown",
   "metadata": {},
   "source": [
    "### 결측치 \n",
    "1. 데이터프레임에서 value 값이 존재하지 않는 경우 \n",
    "2. NaN으로 표시 "
   ]
  },
  {
   "cell_type": "code",
   "execution_count": null,
   "metadata": {},
   "outputs": [],
   "source": [
    "import numpy as np"
   ]
  },
  {
   "cell_type": "code",
   "execution_count": null,
   "metadata": {},
   "outputs": [],
   "source": [
    "data4 = {\n",
    "    'A' : [1, 2, 3, 4, np.nan],\n",
    "    'B' : [1, 2, np.nan, 4, 5], \n",
    "    'C' : [np.nan, 2, 3, 4, 5]\n",
    "}\n",
    "df4 = pd.DataFrame(data4)"
   ]
  },
  {
   "cell_type": "code",
   "execution_count": null,
   "metadata": {},
   "outputs": [],
   "source": [
    "df4"
   ]
  },
  {
   "cell_type": "code",
   "execution_count": null,
   "metadata": {},
   "outputs": [],
   "source": [
    "## 결측치가 존재하는가?\n",
    "## 데이터프레임의 정보를 확인\n",
    "df4.info()"
   ]
  },
  {
   "cell_type": "code",
   "execution_count": null,
   "metadata": {},
   "outputs": [],
   "source": [
    "## 결측치의 유무를 확인 \n",
    "## 존재 여부 판단하는 키워드(is) + 결측치(na) -> isna()\n",
    "## sum() : 합계를 구하는 함수 \n",
    "## axis 매개변수 : 기본값(0|rows) : 행의 값들을 모두 더한다. \n",
    "##                1|columns : 열의 값들을 모두 더한다. \n",
    "df4.isna().sum(axis=0)"
   ]
  },
  {
   "cell_type": "code",
   "execution_count": null,
   "metadata": {},
   "outputs": [],
   "source": [
    "## 결측치를 제거 \n",
    "## 제거 키워드(drop) + 결측치(na) -> dropna(axis = {0, 1} )\n",
    "## axis -> 0(rows) : 결측치가 포함된 행을 제거 (기본값)\n",
    "##         1(columns) : 결측치가 포함된 열을 제거 \n",
    "df4.dropna(axis=1)"
   ]
  },
  {
   "cell_type": "code",
   "execution_count": null,
   "metadata": {},
   "outputs": [],
   "source": [
    "## 결측치를 특정한 데이터로 채워준다. \n",
    "## 채워준다 키워드(fill) + 결측치(na) -> fillna()\n",
    "## fillna(data) : 결측치를 data로 채워준다. \n",
    "## fillna(method = {'ffill' | 'bfill'} )\n",
    "    # ffill : 결측치 전의 데이터로 결측치를 채워준다. \n",
    "    # bfill : 결측치 후의 데이터로 결측치를 채워준다. \n",
    "df4.fillna(10)"
   ]
  },
  {
   "cell_type": "code",
   "execution_count": null,
   "metadata": {},
   "outputs": [],
   "source": [
    "df4.fillna(method='ffill')"
   ]
  },
  {
   "cell_type": "code",
   "execution_count": null,
   "metadata": {},
   "outputs": [],
   "source": [
    "df4.fillna(method='bfill')"
   ]
  },
  {
   "cell_type": "code",
   "execution_count": null,
   "metadata": {},
   "outputs": [],
   "source": [
    "## 데이터의 통계요약정보를 확인하는 함수 \n",
    "df4.describe()"
   ]
  },
  {
   "cell_type": "markdown",
   "metadata": {},
   "source": [
    "### 외부의 데이터파일을 로드 \n",
    "- 엑셀파일 \n",
    "    - read_excel()\n",
    "        - xls, xlsx 파일들을 로드 할때 사용이 되는 함수\n",
    "        - 추가적으로 라이브러리(openpyxl) 설치가 필요한 경우가 존재 \n",
    "- 그 외의 데이터파일\n",
    "    - read_csv()\n",
    "        - csv, tsv 파일들을 로드 할때 사용이 되는 함수 \n",
    "    - read_json()\n",
    "        - json 파일들을 로드 할때 사용이 되는 함수 \n",
    "    - read_xml()\n",
    "        - xml 파일들을 로드 할때 사용이 되는 함수 \n",
    "    - encoding 매개변수\n",
    "        - 기본값(UTF-8) \n",
    "        - CP949, EUC-KR : 데이터들이 한글인 경우 UTF-8 에러 발생하는 경우에 사용\n"
   ]
  },
  {
   "cell_type": "markdown",
   "metadata": {},
   "source": [
    "#### 파일의 경로 \n",
    "1. 절대 경로\n",
    "    - 절대적인 주소 \n",
    "    - 환경이 변하더라도 같은 위치를 지정\n",
    "    - EX) c:/users/admin/document/a.txt, https://www.google.com\n",
    "2. 상대 경로\n",
    "    - 상대적인 주소\n",
    "    - 환경이 변할때 위치도 같이 변화\n",
    "    - ./ : 현재 작업중인 디렉토리\n",
    "    - ../ : 상위 디렉토리로 이동\n",
    "    - 디렉토리명/ : 하위 디렉토리로 이동\n",
    "    - ex) 상위 디렉토리 이동(../) -> csv 디렉토리 이동(csv/) -> ../csv/corona.csv"
   ]
  },
  {
   "cell_type": "code",
   "execution_count": null,
   "metadata": {},
   "outputs": [],
   "source": [
    "## 절대 경로를 이용하여 데이터파일 로드 \n",
    "corona = pd.read_csv(r\"D:\\python\\ezen_2403\\python\\csv\\corona.csv\")"
   ]
  },
  {
   "cell_type": "code",
   "execution_count": null,
   "metadata": {},
   "outputs": [],
   "source": [
    "## 상대 경로를 이용하여 데이터파일을 로드 \n",
    "## 상위 디렉토리 이동(../) -> csv 하위 디렉토리 이동(csv/) -> corona.csv\n",
    "corona2 = pd.read_csv(\"../csv/corona.csv\")"
   ]
  },
  {
   "cell_type": "code",
   "execution_count": null,
   "metadata": {},
   "outputs": [],
   "source": [
    "corona2"
   ]
  },
  {
   "cell_type": "code",
   "execution_count": null,
   "metadata": {},
   "outputs": [],
   "source": [
    "## 상위의 n개의 데이터만 확인 \n",
    "corona.head()"
   ]
  },
  {
   "cell_type": "code",
   "execution_count": null,
   "metadata": {},
   "outputs": [],
   "source": [
    "## 하위의 n개의 데이터만 확인 \n",
    "corona.tail(3)"
   ]
  },
  {
   "cell_type": "code",
   "execution_count": 91,
   "metadata": {},
   "outputs": [
    {
     "name": "stdout",
     "output_type": "stream",
     "text": [
      "<class 'pandas.core.frame.DataFrame'>\n",
      "RangeIndex: 820 entries, 0 to 819\n",
      "Data columns (total 11 columns):\n",
      " #   Column  Non-Null Count  Dtype  \n",
      "---  ------  --------------  -----  \n",
      " 0   등록일시    820 non-null    object \n",
      " 1   총사망자    820 non-null    int64  \n",
      " 2   총확진자    820 non-null    int64  \n",
      " 3   게시글번호   820 non-null    int64  \n",
      " 4   기준일     820 non-null    int64  \n",
      " 5   기준시간    820 non-null    object \n",
      " 6   수정일시    817 non-null    object \n",
      " 7   누적의심자   692 non-null    float64\n",
      " 8   누적확진율   623 non-null    float64\n",
      " 9   일일사망자   820 non-null    int32  \n",
      " 10  일일확진자   820 non-null    float64\n",
      "dtypes: float64(3), int32(1), int64(4), object(3)\n",
      "memory usage: 67.4+ KB\n"
     ]
    }
   ],
   "source": [
    "## 데이터프레임의 정보를 확인 \n",
    "corona.info()"
   ]
  },
  {
   "cell_type": "code",
   "execution_count": null,
   "metadata": {},
   "outputs": [],
   "source": [
    "## 특정한 컬럼을 제거 \n",
    "## drop( 조건 , axis= {0|1} ) : 특정한 행이나 열을 제거할때 사용\n",
    "### axis 매개변수 : 행을 제거할 것인가(0, rows), 열을 제거할것인가(1, columns)\n",
    "### inplace 매개변수 : 기본값(False) -> Class 안에 데이터를 변경하지 않는다. \n",
    "###                     True로 변경 -> Class 안에 데이터를 변경한다. \n",
    "corona.drop( 'Unnamed: 0' , axis = 1, inplace=True)"
   ]
  },
  {
   "cell_type": "code",
   "execution_count": null,
   "metadata": {},
   "outputs": [],
   "source": [
    "## 컬럼의 이름을 변경 \n",
    "## case1 (rename() 함수를 이용)\n",
    "corona.rename(\n",
    "    columns = {\n",
    "        'createDt' : '등록일시', \n",
    "        'deathCnt' : '총사망자', \n",
    "        'decideCnt' : '총확진자', \n",
    "        'seq' : '게시글번호', \n",
    "        'stateDt' : '기준일', \n",
    "        'stateTime' : '기준시간', \n",
    "        'updateDt' : '수정일시', \n",
    "        'accExamCnt' : '누적의심자', \n",
    "        'accDefRate' : '누적확진율'\n",
    "    }\n",
    ")"
   ]
  },
  {
   "cell_type": "code",
   "execution_count": null,
   "metadata": {},
   "outputs": [],
   "source": [
    "# case2 (Class 안에 columns 변수의 데이터를 변경)\n",
    "corona.columns = ['등록일시', '총사망자', '총확진자', '게시글번호', '기준일',\n",
    "                  '기준시간', '수정일시', '누적의심자', '누적확진자']"
   ]
  },
  {
   "cell_type": "code",
   "execution_count": null,
   "metadata": {},
   "outputs": [],
   "source": [
    "corona.head(1)"
   ]
  },
  {
   "cell_type": "code",
   "execution_count": null,
   "metadata": {},
   "outputs": [],
   "source": [
    "## 결측치의 개수를 확인 \n",
    "## 존재 여부 판단(is) + 결측치(na) --> 합계 sum()\n",
    "corona.isna().sum()"
   ]
  },
  {
   "cell_type": "code",
   "execution_count": null,
   "metadata": {},
   "outputs": [],
   "source": [
    "## 누적확진자 컬럼의 이름을 누적확진율로 변경 \n",
    "corona.rename(columns = {\n",
    "    '누적확진자' : '누적확진율'\n",
    "}, inplace=True)"
   ]
  },
  {
   "cell_type": "code",
   "execution_count": 92,
   "metadata": {},
   "outputs": [
    {
     "data": {
      "text/html": [
       "<div>\n",
       "<style scoped>\n",
       "    .dataframe tbody tr th:only-of-type {\n",
       "        vertical-align: middle;\n",
       "    }\n",
       "\n",
       "    .dataframe tbody tr th {\n",
       "        vertical-align: top;\n",
       "    }\n",
       "\n",
       "    .dataframe thead th {\n",
       "        text-align: right;\n",
       "    }\n",
       "</style>\n",
       "<table border=\"1\" class=\"dataframe\">\n",
       "  <thead>\n",
       "    <tr style=\"text-align: right;\">\n",
       "      <th></th>\n",
       "      <th>등록일시</th>\n",
       "      <th>총사망자</th>\n",
       "      <th>총확진자</th>\n",
       "      <th>게시글번호</th>\n",
       "      <th>기준일</th>\n",
       "      <th>기준시간</th>\n",
       "      <th>수정일시</th>\n",
       "      <th>누적의심자</th>\n",
       "      <th>누적확진율</th>\n",
       "      <th>일일사망자</th>\n",
       "      <th>일일확진자</th>\n",
       "    </tr>\n",
       "  </thead>\n",
       "  <tbody>\n",
       "    <tr>\n",
       "      <th>692</th>\n",
       "      <td>2022-02-01 09:06:24.411</td>\n",
       "      <td>6772</td>\n",
       "      <td>864026</td>\n",
       "      <td>776</td>\n",
       "      <td>20220201</td>\n",
       "      <td>00:00</td>\n",
       "      <td>2022-02-09 13:04:21.424</td>\n",
       "      <td>NaN</td>\n",
       "      <td>NaN</td>\n",
       "      <td>17</td>\n",
       "      <td>18338.0</td>\n",
       "    </tr>\n",
       "    <tr>\n",
       "      <th>693</th>\n",
       "      <td>2022-02-02 09:04:49.92</td>\n",
       "      <td>6787</td>\n",
       "      <td>884294</td>\n",
       "      <td>777</td>\n",
       "      <td>20220202</td>\n",
       "      <td>00:00</td>\n",
       "      <td>2022-02-09 13:04:29.013</td>\n",
       "      <td>NaN</td>\n",
       "      <td>NaN</td>\n",
       "      <td>15</td>\n",
       "      <td>20268.0</td>\n",
       "    </tr>\n",
       "    <tr>\n",
       "      <th>694</th>\n",
       "      <td>2022-02-03 08:46:14.856</td>\n",
       "      <td>6812</td>\n",
       "      <td>907200</td>\n",
       "      <td>778</td>\n",
       "      <td>20220203</td>\n",
       "      <td>00:00</td>\n",
       "      <td>2022-02-09 13:04:42.741</td>\n",
       "      <td>NaN</td>\n",
       "      <td>NaN</td>\n",
       "      <td>25</td>\n",
       "      <td>22906.0</td>\n",
       "    </tr>\n",
       "    <tr>\n",
       "      <th>695</th>\n",
       "      <td>2022-02-04 08:58:40.476</td>\n",
       "      <td>6836</td>\n",
       "      <td>934638</td>\n",
       "      <td>779</td>\n",
       "      <td>20220204</td>\n",
       "      <td>00:00</td>\n",
       "      <td>2022-02-09 13:04:52.382</td>\n",
       "      <td>NaN</td>\n",
       "      <td>NaN</td>\n",
       "      <td>24</td>\n",
       "      <td>27438.0</td>\n",
       "    </tr>\n",
       "    <tr>\n",
       "      <th>696</th>\n",
       "      <td>2022-02-05 10:25:08.782</td>\n",
       "      <td>6858</td>\n",
       "      <td>970983</td>\n",
       "      <td>780</td>\n",
       "      <td>20220205</td>\n",
       "      <td>00:00</td>\n",
       "      <td>2022-02-09 13:05:01.221</td>\n",
       "      <td>NaN</td>\n",
       "      <td>NaN</td>\n",
       "      <td>22</td>\n",
       "      <td>36345.0</td>\n",
       "    </tr>\n",
       "    <tr>\n",
       "      <th>...</th>\n",
       "      <td>...</td>\n",
       "      <td>...</td>\n",
       "      <td>...</td>\n",
       "      <td>...</td>\n",
       "      <td>...</td>\n",
       "      <td>...</td>\n",
       "      <td>...</td>\n",
       "      <td>...</td>\n",
       "      <td>...</td>\n",
       "      <td>...</td>\n",
       "      <td>...</td>\n",
       "    </tr>\n",
       "    <tr>\n",
       "      <th>815</th>\n",
       "      <td>2022-06-04 08:56:49.219</td>\n",
       "      <td>24238</td>\n",
       "      <td>18153814</td>\n",
       "      <td>900</td>\n",
       "      <td>20220604</td>\n",
       "      <td>00:00</td>\n",
       "      <td>2022-06-08 09:11:26.303</td>\n",
       "      <td>NaN</td>\n",
       "      <td>NaN</td>\n",
       "      <td>9</td>\n",
       "      <td>12039.0</td>\n",
       "    </tr>\n",
       "    <tr>\n",
       "      <th>816</th>\n",
       "      <td>2022-06-05 08:53:19.426</td>\n",
       "      <td>24258</td>\n",
       "      <td>18163648</td>\n",
       "      <td>901</td>\n",
       "      <td>20220605</td>\n",
       "      <td>00:00</td>\n",
       "      <td>2022-06-08 09:11:04.758</td>\n",
       "      <td>NaN</td>\n",
       "      <td>NaN</td>\n",
       "      <td>20</td>\n",
       "      <td>9834.0</td>\n",
       "    </tr>\n",
       "    <tr>\n",
       "      <th>817</th>\n",
       "      <td>2022-06-06 09:00:06.734</td>\n",
       "      <td>24279</td>\n",
       "      <td>18168670</td>\n",
       "      <td>902</td>\n",
       "      <td>20220606</td>\n",
       "      <td>00:00</td>\n",
       "      <td>2022-06-08 09:10:50.441</td>\n",
       "      <td>NaN</td>\n",
       "      <td>NaN</td>\n",
       "      <td>21</td>\n",
       "      <td>5022.0</td>\n",
       "    </tr>\n",
       "    <tr>\n",
       "      <th>818</th>\n",
       "      <td>2022-06-07 09:09:00.897</td>\n",
       "      <td>24299</td>\n",
       "      <td>18174842</td>\n",
       "      <td>903</td>\n",
       "      <td>20220607</td>\n",
       "      <td>00:00</td>\n",
       "      <td>2022-06-08 09:10:36.846</td>\n",
       "      <td>NaN</td>\n",
       "      <td>NaN</td>\n",
       "      <td>20</td>\n",
       "      <td>6172.0</td>\n",
       "    </tr>\n",
       "    <tr>\n",
       "      <th>819</th>\n",
       "      <td>2022-06-08 09:09:05.982</td>\n",
       "      <td>24305</td>\n",
       "      <td>18188200</td>\n",
       "      <td>904</td>\n",
       "      <td>20220608</td>\n",
       "      <td>00:00</td>\n",
       "      <td>NaN</td>\n",
       "      <td>NaN</td>\n",
       "      <td>NaN</td>\n",
       "      <td>6</td>\n",
       "      <td>13358.0</td>\n",
       "    </tr>\n",
       "  </tbody>\n",
       "</table>\n",
       "<p>128 rows × 11 columns</p>\n",
       "</div>"
      ],
      "text/plain": [
       "                        등록일시   총사망자      총확진자  게시글번호       기준일   기준시간  \\\n",
       "692  2022-02-01 09:06:24.411   6772    864026    776  20220201  00:00   \n",
       "693   2022-02-02 09:04:49.92   6787    884294    777  20220202  00:00   \n",
       "694  2022-02-03 08:46:14.856   6812    907200    778  20220203  00:00   \n",
       "695  2022-02-04 08:58:40.476   6836    934638    779  20220204  00:00   \n",
       "696  2022-02-05 10:25:08.782   6858    970983    780  20220205  00:00   \n",
       "..                       ...    ...       ...    ...       ...    ...   \n",
       "815  2022-06-04 08:56:49.219  24238  18153814    900  20220604  00:00   \n",
       "816  2022-06-05 08:53:19.426  24258  18163648    901  20220605  00:00   \n",
       "817  2022-06-06 09:00:06.734  24279  18168670    902  20220606  00:00   \n",
       "818  2022-06-07 09:09:00.897  24299  18174842    903  20220607  00:00   \n",
       "819  2022-06-08 09:09:05.982  24305  18188200    904  20220608  00:00   \n",
       "\n",
       "                        수정일시  누적의심자  누적확진율  일일사망자    일일확진자  \n",
       "692  2022-02-09 13:04:21.424    NaN    NaN     17  18338.0  \n",
       "693  2022-02-09 13:04:29.013    NaN    NaN     15  20268.0  \n",
       "694  2022-02-09 13:04:42.741    NaN    NaN     25  22906.0  \n",
       "695  2022-02-09 13:04:52.382    NaN    NaN     24  27438.0  \n",
       "696  2022-02-09 13:05:01.221    NaN    NaN     22  36345.0  \n",
       "..                       ...    ...    ...    ...      ...  \n",
       "815  2022-06-08 09:11:26.303    NaN    NaN      9  12039.0  \n",
       "816  2022-06-08 09:11:04.758    NaN    NaN     20   9834.0  \n",
       "817  2022-06-08 09:10:50.441    NaN    NaN     21   5022.0  \n",
       "818  2022-06-08 09:10:36.846    NaN    NaN     20   6172.0  \n",
       "819                      NaN    NaN    NaN      6  13358.0  \n",
       "\n",
       "[128 rows x 11 columns]"
      ]
     },
     "execution_count": 92,
     "metadata": {},
     "output_type": "execute_result"
    }
   ],
   "source": [
    "## 누적의심자의 데이터 결측치인 데이터만 출력 \n",
    "## loc[인덱스의 조건(1차원 데이터|단일데이터), 컬럼의 조건(1차원 데이터|단일데이터)]\n",
    "## 인덱스의 조건 : 누적의심자가 결측치인 ()\n",
    "## 컬럼의 조건 : 전체\n",
    "flag = corona['누적의심자'].isna()\n",
    "corona.loc[flag]"
   ]
  },
  {
   "cell_type": "code",
   "execution_count": null,
   "metadata": {},
   "outputs": [],
   "source": [
    "## 누적의심자, 누적확진율이 모두 결측치인 데이터만 확인 \n",
    "flag2 = corona['누적확진율'].isna()\n",
    "corona.loc[ flag | flag2 ]\n"
   ]
  },
  {
   "cell_type": "code",
   "execution_count": null,
   "metadata": {},
   "outputs": [],
   "source": [
    "corona.head(3)"
   ]
  },
  {
   "cell_type": "code",
   "execution_count": null,
   "metadata": {},
   "outputs": [],
   "source": [
    "## 등록일시를 기준으로 오름차순 정렬 \n",
    "## 정렬을 변경하는 함수(sort) + 값(values) -> sort_values()\n",
    "## ascending 매개변수 : True(기본값) -> 오름차순 정렬 ,  False -> 내림차순 정렬\n",
    "corona.sort_values(['등록일시'], inplace=True)"
   ]
  },
  {
   "cell_type": "code",
   "execution_count": null,
   "metadata": {},
   "outputs": [],
   "source": [
    "corona.head(3)"
   ]
  },
  {
   "cell_type": "code",
   "execution_count": null,
   "metadata": {},
   "outputs": [],
   "source": [
    "## 인덱스의 값들을 초기화\n",
    "## 초기화(reset) + 인덱스(index) -> reset_index()\n",
    "# drop 매개변수 : False(기본값) -> 기존의 인덱스를 컬럼으로 이동, True -> 기존의 인덱스는 제거\n",
    "corona.reset_index(drop=True, inplace=True)"
   ]
  },
  {
   "cell_type": "code",
   "execution_count": null,
   "metadata": {},
   "outputs": [],
   "source": [
    "corona.head()"
   ]
  },
  {
   "cell_type": "code",
   "execution_count": null,
   "metadata": {},
   "outputs": [],
   "source": [
    "# 리스트 하나 생성 첫번째 데이터는 0\n",
    "_list = [0]\n",
    "\n",
    "## 파생변수 일일사망자 추가\n",
    "## 819번 반복 \n",
    "# corona.loc[1, '총사망자'] - corona.loc[0, '총사망자']\n",
    "# corona.loc[2, '총사망자'] - corona.loc[1, '총사망자']\n",
    "for i in range(1, len(corona), 1):\n",
    "    data = corona.loc[ i ,'총사망자'] - corona.loc[ i-1 , '총사망자']\n",
    "    _list.append(data)"
   ]
  },
  {
   "cell_type": "code",
   "execution_count": null,
   "metadata": {},
   "outputs": [],
   "source": [
    "len(_list)"
   ]
  },
  {
   "cell_type": "code",
   "execution_count": null,
   "metadata": {},
   "outputs": [],
   "source": [
    "## 1차원 리스트를 데이터프레임에 새로운 컬럼(파생변수)에 대입 -> dict에 새로운 키(컬럼의 이름) : 벨류(1차원 데이터) 추가  \n",
    "corona['일일사망자'] = _list"
   ]
  },
  {
   "cell_type": "code",
   "execution_count": null,
   "metadata": {},
   "outputs": [],
   "source": [
    "corona.head()"
   ]
  },
  {
   "cell_type": "code",
   "execution_count": null,
   "metadata": {},
   "outputs": [],
   "source": [
    "# case2 ( shift() 함수를 이용 )\n",
    "### shift(n) : n만큼 인덱스를 이동(기본값은 1)\n",
    "corona['일일사망자2'] = (corona['총사망자'] - corona['총사망자'].shift(1)).fillna(0)"
   ]
  },
  {
   "cell_type": "code",
   "execution_count": null,
   "metadata": {},
   "outputs": [],
   "source": [
    "corona.head()"
   ]
  },
  {
   "cell_type": "code",
   "execution_count": null,
   "metadata": {},
   "outputs": [],
   "source": [
    "# case3 ( diff() 함수를 이용 )\n",
    "### diff(n) : n만큼 인덱스가 이동한 데이터와의 차이를 출력(기본값 1)\n",
    "corona['일일사망자3'] = corona['총사망자'].diff(1).fillna(0)"
   ]
  },
  {
   "cell_type": "code",
   "execution_count": null,
   "metadata": {},
   "outputs": [],
   "source": [
    "corona.head()"
   ]
  },
  {
   "cell_type": "code",
   "execution_count": null,
   "metadata": {},
   "outputs": [],
   "source": [
    "corona.describe()"
   ]
  },
  {
   "cell_type": "code",
   "execution_count": null,
   "metadata": {},
   "outputs": [],
   "source": [
    "## 일일사망자가 음수인 데이터 : 이상치\n",
    "flag = corona['일일사망자'] < 0\n",
    "corona.loc[flag]"
   ]
  },
  {
   "cell_type": "code",
   "execution_count": null,
   "metadata": {},
   "outputs": [],
   "source": [
    "## 인덱스가 444번부터 448번까지의 데이터를 확인 \n",
    "corona.loc[444:448]"
   ]
  },
  {
   "cell_type": "code",
   "execution_count": null,
   "metadata": {},
   "outputs": [],
   "source": [
    "## 인덱스 445에 등록일시 데이터를 변경 \n",
    "corona.loc[445, '등록일시'] = \"2021-05-31 00:00:00.000\""
   ]
  },
  {
   "cell_type": "code",
   "execution_count": null,
   "metadata": {},
   "outputs": [],
   "source": [
    "corona.loc[445]"
   ]
  },
  {
   "cell_type": "markdown",
   "metadata": {},
   "source": [
    "#### 복습 \n",
    "1. 등록일시를 기준으로 오름차순 정렬 변경\n",
    "2. 인덱스를 초기화하고 기존의 인덱스는 제거 \n",
    "3. 일일사망자, 일일사망자2, 일일사망자3 컬럼의 제거 \n",
    "4. 일일사망자 컬럼을 생성하여 shift() 함수를 이용하여 데이터를 대입하고 결측치는 0으로 대체\n",
    "5. 일일확진자 컬럼을 생성하고 diff() 함수를 이용하여 데이터를 대입하고 결측치는 0으로 대체"
   ]
  },
  {
   "cell_type": "code",
   "execution_count": null,
   "metadata": {},
   "outputs": [],
   "source": [
    "## 오름차순 정렬 변경 \n",
    "corona = corona.sort_values(['등록일시'], ascending=True)"
   ]
  },
  {
   "cell_type": "code",
   "execution_count": null,
   "metadata": {},
   "outputs": [],
   "source": [
    "## 인덱스를 초기화하고 기존의 인덱스는 제거 \n",
    "corona = corona.reset_index(drop=True)"
   ]
  },
  {
   "cell_type": "code",
   "execution_count": null,
   "metadata": {},
   "outputs": [],
   "source": [
    "corona = corona.drop(['일일사망자','일일사망자2', '일일사망자3'], axis=1)"
   ]
  },
  {
   "cell_type": "code",
   "execution_count": null,
   "metadata": {},
   "outputs": [],
   "source": [
    "corona['일일사망자'] = (corona['총사망자'] - corona['총사망자'].shift(1)).fillna(0)"
   ]
  },
  {
   "cell_type": "code",
   "execution_count": null,
   "metadata": {},
   "outputs": [],
   "source": [
    "corona['일일확진자'] = corona['총확진자'].diff(1).fillna(0)"
   ]
  },
  {
   "cell_type": "code",
   "execution_count": null,
   "metadata": {},
   "outputs": [],
   "source": [
    "## 특정 컬럼의 데이터의 타입을 변경 \n",
    "corona['일일사망자'] =  corona['일일사망자'].astype('int')"
   ]
  },
  {
   "cell_type": "code",
   "execution_count": null,
   "metadata": {},
   "outputs": [],
   "source": [
    "## map() : python에 내장된 map() 존재\n",
    "##         Series에 내장된 map() 존재\n",
    "\n",
    "## python에 내장된 map() 함수 \n",
    "## map( 함수명 , 1차원데이터 ) -> 결과물이 mapping형태로 출력 -> 해당 형태를 list 변경해서 확인 \n",
    "_list = [1, 4, 7]\n",
    "\n",
    "# 일반 함수 + map()\n",
    "def change(x):\n",
    "    result = x ** 2\n",
    "    return result\n",
    "list(\n",
    "    map(\n",
    "        change, \n",
    "        _list\n",
    "    )\n",
    ")\n"
   ]
  },
  {
   "cell_type": "code",
   "execution_count": null,
   "metadata": {},
   "outputs": [],
   "source": [
    "# lambda 함수 : 함수를 선언함과 동시에 호출\n",
    "list(\n",
    "    map(\n",
    "        lambda y : y ** 2, \n",
    "        _list\n",
    "    )\n",
    ")"
   ]
  },
  {
   "cell_type": "markdown",
   "metadata": {},
   "source": [
    "- map() - python에 내장된 map() 함수를 호출 -> 결과값은 mapping\n",
    "- Series.map() - Series에 내장된 map() 함수를 호출 -> 결과값은 Series"
   ]
  },
  {
   "cell_type": "code",
   "execution_count": null,
   "metadata": {},
   "outputs": [],
   "source": [
    "## 일일확진자 데이터를 int형태로 변경 (map() 함수를 이용)\n",
    "\n",
    "## 일반함수 + map()\n",
    "def change(x):\n",
    "    # x의 타입은? -> float\n",
    "    result = int(x)\n",
    "    return result\n",
    "corona['일일확진자'].map(change)"
   ]
  },
  {
   "cell_type": "code",
   "execution_count": null,
   "metadata": {},
   "outputs": [],
   "source": [
    "## lambda + map()\n",
    "corona['일일확진자'].map(\n",
    "    lambda y : str(int(y)) + '명'\n",
    ")"
   ]
  },
  {
   "cell_type": "code",
   "execution_count": null,
   "metadata": {},
   "outputs": [],
   "source": [
    "## 지금까지 한 작업을 엑셀로 저장 \n",
    "## 데이터의 형태를 변경 (to) + 엑셀(excel) -> to_excel()\n",
    "## to_excel({파일의 위치 + 파일 이름}, index= {bool})\n",
    "corona.to_excel(\"./corona.xlsx\")"
   ]
  },
  {
   "cell_type": "code",
   "execution_count": null,
   "metadata": {},
   "outputs": [],
   "source": [
    "!pip install openpyxl"
   ]
  }
 ],
 "metadata": {
  "kernelspec": {
   "display_name": "Python 3",
   "language": "python",
   "name": "python3"
  },
  "language_info": {
   "codemirror_mode": {
    "name": "ipython",
    "version": 3
   },
   "file_extension": ".py",
   "mimetype": "text/x-python",
   "name": "python",
   "nbconvert_exporter": "python",
   "pygments_lexer": "ipython3",
   "version": "3.11.4"
  }
 },
 "nbformat": 4,
 "nbformat_minor": 2
}
