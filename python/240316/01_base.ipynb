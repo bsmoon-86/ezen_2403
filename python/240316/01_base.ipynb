{
 "cells": [
  {
   "cell_type": "code",
   "execution_count": null,
   "metadata": {},
   "outputs": [],
   "source": [
    "a = 10\n",
    "print(a)"
   ]
  },
  {
   "cell_type": "code",
   "execution_count": null,
   "metadata": {},
   "outputs": [],
   "source": [
    "# 주석\n",
    "# 주석의 단축키 : Ctrl + /"
   ]
  },
  {
   "cell_type": "code",
   "execution_count": null,
   "metadata": {},
   "outputs": [],
   "source": [
    "# 변수 생성 \n",
    "# 변수의 타입 \n",
    "# 숫자형 (int, float), 문자형 (str), 논리값 (bool)\n",
    "a = 10\n",
    "b = \"test\"\n",
    "c = True\n",
    "print(a, type(a))\n",
    "print(b, type(b))\n",
    "print(c, type(c))"
   ]
  },
  {
   "cell_type": "code",
   "execution_count": null,
   "metadata": {},
   "outputs": [],
   "source": [
    "# 데이터의 타입을 변경 (숫자 -> 문자)\n",
    "a = str(a)\n",
    "print(a, type(a))"
   ]
  },
  {
   "cell_type": "code",
   "execution_count": null,
   "metadata": {},
   "outputs": [],
   "source": [
    "# 문자를 숫자의 타입을 변경\n",
    "a = int(a)\n",
    "print(a, type(a))\n",
    "# 에러 발생 -> ','는 숫자로 변환이 불가능\n",
    "d = \"1,000\"\n",
    "d = int(d)\n",
    "print(d, type(d))"
   ]
  },
  {
   "cell_type": "code",
   "execution_count": null,
   "metadata": {},
   "outputs": [],
   "source": [
    "# 문자를 불형 데이터 타입으로 변경\n",
    "# 문자의 데이터의 존재 유무에 따라 True, False\n",
    "x = \"hello\"\n",
    "y = \"\"\n",
    "x = bool(x)\n",
    "y = bool(y)\n",
    "print(x, y)"
   ]
  },
  {
   "cell_type": "code",
   "execution_count": null,
   "metadata": {},
   "outputs": [],
   "source": [
    "# 숫자를 불형 데이터 타입으로 변경 \n",
    "# 0이라면 False, 0을 제외하면 True\n",
    "x = 1\n",
    "y = 0\n",
    "x = bool(x)\n",
    "y = bool(y)\n",
    "print(x, y)"
   ]
  },
  {
   "cell_type": "code",
   "execution_count": null,
   "metadata": {},
   "outputs": [],
   "source": [
    "## 산술 연산자 \n",
    "# +, -, *, /, //, %, **\n",
    "a = 10\n",
    "b = 3\n",
    "print(a + b)\n",
    "print(a - b)\n",
    "print(a * b)\n",
    "print(a / b)\n",
    "print(a // b)\n",
    "print(a % b)\n",
    "print(a ** b)"
   ]
  },
  {
   "cell_type": "code",
   "execution_count": null,
   "metadata": {},
   "outputs": [],
   "source": [
    "# 문자형 데이터를 +, * 연산자를 사용하는 경우\n",
    "x = \"Hello\"\n",
    "y = 'World'\n",
    "print(x + y)\n",
    "print(x * 3)"
   ]
  },
  {
   "cell_type": "code",
   "execution_count": null,
   "metadata": {},
   "outputs": [],
   "source": [
    "# 불형 데이터에서  + 를 사용\n",
    "print(True + True)\n",
    "print(True + False)\n",
    "print(False + False)"
   ]
  },
  {
   "cell_type": "code",
   "execution_count": null,
   "metadata": {},
   "outputs": [],
   "source": [
    "# 대입 연산자 \n",
    "# +=, -=, *=, /=, //=, %=, **=\n",
    "a += 3"
   ]
  },
  {
   "cell_type": "code",
   "execution_count": null,
   "metadata": {},
   "outputs": [],
   "source": [
    "print(a)"
   ]
  },
  {
   "cell_type": "code",
   "execution_count": null,
   "metadata": {},
   "outputs": [],
   "source": [
    "# 비교 연산자 \n",
    "# 두개의 데이터를 비교하여 참/거짓 형태로 출력 \n",
    "a = 10\n",
    "b = 3\n",
    "print(a == b)\n",
    "print(a != b)\n",
    "print(a > b)\n",
    "print(a < b)"
   ]
  },
  {
   "cell_type": "code",
   "execution_count": null,
   "metadata": {},
   "outputs": [],
   "source": [
    "# 논리 연산자 \n",
    "# 두개의 논리값(참/거짓)들을 판단하는 연산자\n",
    "# and (두개의 논리값이 모두 참인 경우에만 참)\n",
    "print(True & True)\n",
    "print(True & False)\n",
    "print(False and False)"
   ]
  },
  {
   "cell_type": "code",
   "execution_count": null,
   "metadata": {},
   "outputs": [],
   "source": [
    "# or (두개의 논리값 중 하나라도 참이면 참을 출력)\n",
    "print(True | True)\n",
    "print(True | False)\n",
    "print(False or False)"
   ]
  },
  {
   "cell_type": "code",
   "execution_count": null,
   "metadata": {},
   "outputs": [],
   "source": [
    "print(not(True))"
   ]
  },
  {
   "cell_type": "markdown",
   "metadata": {},
   "source": [
    "# title1\n",
    "## title2\n",
    "### title3\n",
    "#### title4"
   ]
  },
  {
   "cell_type": "markdown",
   "metadata": {},
   "source": [
    "#### 비순서형 리스트 \n",
    "- list1\n",
    "- list2\n",
    "- list3 \n",
    "    - sub1\n",
    "    - sub2\n",
    "#### 순서형 리스트 \n",
    "1. list1\n",
    "3. list2\n",
    "2. list3\n",
    "    1. sub1\n",
    "    2. sub2"
   ]
  },
  {
   "cell_type": "markdown",
   "metadata": {},
   "source": [
    "### 조건문 \n",
    "- if문\n",
    "    - if 조건식 : 조건식이 참인 경우에 실행 코드를 작성\n",
    "    - else : if의 조건식이 거짓일때 실행 코드를 작성\n",
    "    - (조건식이 여러개라면 elif 조건식를 이용하여 조건식을 추가 )"
   ]
  },
  {
   "cell_type": "code",
   "execution_count": null,
   "metadata": {},
   "outputs": [],
   "source": [
    "a = 11\n",
    "# 만약에 a가 10보다 작다면?\n",
    "if a < 10:\n",
    "    print('a는 10보다 작다')"
   ]
  },
  {
   "cell_type": "code",
   "execution_count": null,
   "metadata": {},
   "outputs": [],
   "source": [
    "a = 'test1'\n",
    "# 만약에 a가 test 라면?\n",
    "if a == 'test':\n",
    "    print('성공')\n",
    "# a가 test 아니라면?\n",
    "else:\n",
    "    print('실패')"
   ]
  },
  {
   "cell_type": "code",
   "execution_count": null,
   "metadata": {},
   "outputs": [],
   "source": [
    "input_id = input('아이디를 입력하시오')\n",
    "input_pass = input('패스워드를 입력하시오')\n",
    "print(input_id, input_pass)\n",
    "\n",
    "# 만약에 input_id가 test 이고 input_pass가 1234라면? -> 성공\n",
    "if input_id == 'test':\n",
    "    # input_id가 test 일때\n",
    "    if input_pass == '1234':\n",
    "        # input_pass가 1234 일때\n",
    "        print('성공')\n",
    "    else:\n",
    "        # input_pass가 1234가 아닐때\n",
    "        print('실패')\n",
    "else : \n",
    "    # input_id가 test 아닐때\n",
    "    print('실패')\n",
    "\n",
    "if (input_id == 'test') and (input_pass == '1234'):\n",
    "    print('성공')\n",
    "else :\n",
    "    print('실패')\n"
   ]
  },
  {
   "cell_type": "code",
   "execution_count": null,
   "metadata": {},
   "outputs": [],
   "source": [
    "## 조건식이 여러개인 경우 \n",
    "score = int(\n",
    "        input('점수를 입력하시오')\n",
    "    )\n",
    "\n",
    "# 만약에 score가 90점 이상이라면?\n",
    "if score >= 90:\n",
    "    print('A')\n",
    "# 만약에 90점 미만이고 80점 이상이라면?\n",
    "elif score >= 80 :\n",
    "    print('B')\n",
    "# 만약에 80점 미만이고 70점 이상이라면?\n",
    "elif score >= 70:\n",
    "    print('C')\n",
    "# score가 70점 미만이라면? (위의 조건식들이 모두 거짓이라면?)\n",
    "else:\n",
    "    print('F')\n",
    "\n",
    "print('프로그램 종료')\n",
    "\n"
   ]
  },
  {
   "cell_type": "markdown",
   "metadata": {},
   "source": [
    "### 자료형 데이터 \n",
    "- 튜플 \n",
    "    - 자료형 데이터 중 가장 간단한 구조로 이루어진 데이터들의 모음\n",
    "    - () 를 사용하여 데이터들을 묶어준다. \n",
    "    - 튜플 안에 데이터들을 수정, 추가, 삭제가 불가능\n",
    "- 리스트 \n",
    "    - [] 를 사용하여 데이터들을 묶어준다. \n",
    "    - 튜플과 달리 각각 데이터들을 수정하거나 데이터를 추가, 삭제가 가능\n",
    "- 딕셔너리 \n",
    "    - {} 를 사용하여 데이터들을 묶어준다. \n",
    "    - key : value 형태로 데이터들을 생성\n",
    "    - key 값들은 리스트에서 index의 값들과 같은 역할"
   ]
  },
  {
   "cell_type": "code",
   "execution_count": null,
   "metadata": {},
   "outputs": [],
   "source": [
    "# 튜플 데이터를 생성 \n",
    "a = (1, 'Hello')\n",
    "b = (3, 3.14)\n",
    "print(a, type(a))\n",
    "print(b, type(b))"
   ]
  },
  {
   "cell_type": "code",
   "execution_count": null,
   "metadata": {},
   "outputs": [],
   "source": [
    "# 튜플의 결합\n",
    "c = a + b\n",
    "d = a * 3\n",
    "print(c)\n",
    "print(d)"
   ]
  },
  {
   "cell_type": "code",
   "execution_count": null,
   "metadata": {},
   "outputs": [],
   "source": [
    "# 튜플 데이터를 강제로 불형 데이터로 변환 \n",
    "x = ()\n",
    "y = ('')\n",
    "z = (1, 'hello')\n",
    "print(bool(x))\n",
    "print(bool(y))\n",
    "print(bool(z))"
   ]
  },
  {
   "cell_type": "code",
   "execution_count": null,
   "metadata": {},
   "outputs": [],
   "source": [
    "# 튜플 안에 데이터가 존재하는가?\n",
    "z = ()\n",
    "# if len(z) != 0:\n",
    "# if 뒤의 조건식에 데이터가 입력된다면 강제적으로 bool형태로 변환\n",
    "if z:\n",
    "    print('z에는 데이터가 존재')\n",
    "else:\n",
    "    print('z에는 데이터가 존재하지 않는다.')"
   ]
  },
  {
   "cell_type": "code",
   "execution_count": null,
   "metadata": {},
   "outputs": [],
   "source": [
    "## 리스트 데이터를 생성 \n",
    "list_1 = [20, 10, 40, 30]\n",
    "list_2 = [10, 20, 40, 30]"
   ]
  },
  {
   "cell_type": "code",
   "execution_count": null,
   "metadata": {},
   "outputs": [],
   "source": [
    "## 리스트의 순서를 오름차순 정렬\n",
    "list_1.sort()\n",
    "print(list_1)"
   ]
  },
  {
   "cell_type": "code",
   "execution_count": null,
   "metadata": {},
   "outputs": [],
   "source": [
    "## 리스트의 순서를 역순으로 변경 \n",
    "list_2.reverse()\n",
    "print(list_2)"
   ]
  },
  {
   "cell_type": "code",
   "execution_count": null,
   "metadata": {},
   "outputs": [],
   "source": [
    "# 문자 데이터들의 모음인 리스트에서 오름차순 정렬\n",
    "list_3 = ['ab', 'c', 'b', 'ac']\n",
    "list_3.sort()\n",
    "print(list_3)"
   ]
  },
  {
   "cell_type": "code",
   "execution_count": null,
   "metadata": {},
   "outputs": [],
   "source": [
    "# 내림차순 정렬 변경\n",
    "list_1.sort()\n",
    "list_1.reverse()\n",
    "print(list_1)"
   ]
  },
  {
   "cell_type": "code",
   "execution_count": null,
   "metadata": {},
   "outputs": [],
   "source": [
    "list_3.sort(reverse=True)\n",
    "print(list_3)"
   ]
  },
  {
   "cell_type": "code",
   "execution_count": null,
   "metadata": {},
   "outputs": [],
   "source": [
    "## 데이터를 추가하는 함수 : append()\n",
    "list_1.append(20)\n",
    "print(list_1)"
   ]
  },
  {
   "cell_type": "code",
   "execution_count": null,
   "metadata": {},
   "outputs": [],
   "source": [
    "## insert(위치, 데이터)\n",
    "list_1.insert(2, 11)\n",
    "print(list_1)"
   ]
  },
  {
   "cell_type": "code",
   "execution_count": null,
   "metadata": {},
   "outputs": [],
   "source": [
    "# 리스트에서 데이터를 제거 \n",
    "# 맨뒤의 데이터를 제거 : pop()\n",
    "list_1.pop()\n",
    "print(list_1)"
   ]
  },
  {
   "cell_type": "code",
   "execution_count": null,
   "metadata": {},
   "outputs": [],
   "source": [
    "# 특정한 데이터를 제거  : remove(데이터)\n",
    "list_1.remove(11)\n",
    "print(list_1)"
   ]
  },
  {
   "cell_type": "code",
   "execution_count": null,
   "metadata": {},
   "outputs": [],
   "source": [
    "# 특정 위치의 데이터를 제거 : del\n",
    "del list_1[1]\n",
    "print(list_1)"
   ]
  },
  {
   "cell_type": "code",
   "execution_count": null,
   "metadata": {},
   "outputs": [],
   "source": [
    "# 리스트의 결합 :  리스트를 확장 \n",
    "list_1.extend(list_2)\n",
    "print(list_1)"
   ]
  },
  {
   "cell_type": "code",
   "execution_count": null,
   "metadata": {},
   "outputs": [],
   "source": [
    "list_1 + [40, 20, 10, 30, 40, 20, 10]"
   ]
  },
  {
   "cell_type": "code",
   "execution_count": null,
   "metadata": {},
   "outputs": [],
   "source": [
    "# copy() : 데이터를 복사\n",
    "new_list = list_1.copy()\n",
    "new_list2 = list_1"
   ]
  },
  {
   "cell_type": "code",
   "execution_count": null,
   "metadata": {},
   "outputs": [],
   "source": [
    "print(new_list)\n",
    "print(new_list2)\n",
    "print(list_1)"
   ]
  },
  {
   "cell_type": "code",
   "execution_count": null,
   "metadata": {},
   "outputs": [],
   "source": [
    "# new_list를 수정 \n",
    "new_list.remove(10)\n",
    "print(new_list)\n",
    "print(new_list2)\n",
    "print(list_1)"
   ]
  },
  {
   "cell_type": "code",
   "execution_count": null,
   "metadata": {},
   "outputs": [],
   "source": [
    "# new_list2를 수정 \n",
    "new_list2.remove(20)\n",
    "print(new_list)\n",
    "print(new_list2)\n",
    "print(list_1)"
   ]
  },
  {
   "cell_type": "code",
   "execution_count": null,
   "metadata": {},
   "outputs": [],
   "source": [
    "# 딕셔너리 \n",
    "# key : value로 데이터들이 이루어진다. \n",
    "dict_1 = {\n",
    "    'name' : 'test', \n",
    "    'age' : 20, \n",
    "    'phone' : '01012345678'\n",
    "}"
   ]
  },
  {
   "cell_type": "code",
   "execution_count": null,
   "metadata": {},
   "outputs": [],
   "source": [
    "print(dict_1, type(dict_1))"
   ]
  },
  {
   "cell_type": "code",
   "execution_count": null,
   "metadata": {},
   "outputs": [],
   "source": [
    "# 리스트에서 특정 위치의 데이터를 추출\n",
    "# 리스트명[위치]\n",
    "# 리스트명[시작위치:종료위치]\n",
    "print(new_list[3])\n",
    "print(new_list[2:4])\n",
    "print(new_list[4:])\n",
    "print(new_list[:3])"
   ]
  },
  {
   "cell_type": "code",
   "execution_count": null,
   "metadata": {},
   "outputs": [],
   "source": [
    "# 딕셔너리 데이터에서 특정 위치의 데이터 추출\n",
    "print(dict_1['name'])\n",
    "print(dict_1['age'])"
   ]
  },
  {
   "cell_type": "markdown",
   "metadata": {},
   "source": [
    "### 외부에서 데이터를 로드하는 경우 일반적인 데이터의 형태\n",
    "1. 리스트 안에 딕셔너리 \n",
    "    - [{'name' :'test','age':20 }, {'name' : 'test2', 'age':23}, ...]\n",
    "2. 딕셔너리 안에 리스트\n",
    "    - {'name' : ['test', 'test2'], 'age' : [20, 23], ...}"
   ]
  },
  {
   "cell_type": "code",
   "execution_count": null,
   "metadata": {},
   "outputs": [],
   "source": [
    "sample_data = [\n",
    "    {'name':'test', 'age':20}, \n",
    "    {'name' : 'test2','age' : 23}\n",
    "]\n",
    "## sample_data 2차원 데이터 형태\n",
    "## sample_data에서 'test' 문자열만 출력\n",
    "print(sample_data)\n",
    "print(sample_data[0])\n",
    "print(sample_data[0]['name'])"
   ]
  },
  {
   "cell_type": "code",
   "execution_count": 84,
   "metadata": {},
   "outputs": [
    {
     "name": "stdout",
     "output_type": "stream",
     "text": [
      "{'name': ['test', 'test2'], 'age': [20, 23]}\n",
      "[20, 23]\n",
      "23\n"
     ]
    }
   ],
   "source": [
    "sample_data2 = {\n",
    "    'name' : ['test', 'test2'], \n",
    "    'age' : [20, 23]\n",
    "}\n",
    "# sample_data2에서 23를 추출\n",
    "print(sample_data2)\n",
    "print(sample_data2['age'])\n",
    "print(sample_data2['age'][1])\n"
   ]
  },
  {
   "cell_type": "markdown",
   "metadata": {},
   "source": [
    "### 반복문 \n",
    "- for문\n",
    "    - for i in range(시작값, 종료값, 증감값)\n",
    "        - i라는 변수에 range에 있는 시작값으로 대입하여 반복 실행할 때마다 i 값을 증감값 만큼 더해서 실행\n",
    "        - 종료값이 되거나 커진다면(작아진다면) 반복 실행을 종료\n",
    "    - for i in 자료형데이터(튜플, 리스트)\n",
    "        - i라는 변수에 (튜플이나 리스트)의 각 원소 값들이 대입되어 반복 실행"
   ]
  },
  {
   "cell_type": "code",
   "execution_count": 91,
   "metadata": {},
   "outputs": [
    {
     "name": "stdout",
     "output_type": "stream",
     "text": [
      "range(0, 10)\n",
      "[1, 2, 3, 4, 5, 6, 7, 8, 9]\n",
      "[0, 1, 2, 3, 4, 5, 6, 7, 8, 9]\n"
     ]
    }
   ],
   "source": [
    "# range()함수\n",
    "# 일반적인 range(시작값, 종료값, 증감값)\n",
    "print(range(10))\n",
    "print(list(range(1, 10, 1)))\n",
    "print(list(range(10)))"
   ]
  },
  {
   "cell_type": "code",
   "execution_count": 92,
   "metadata": {},
   "outputs": [
    {
     "name": "stdout",
     "output_type": "stream",
     "text": [
      "1\n",
      "2\n",
      "3\n",
      "4\n"
     ]
    }
   ],
   "source": [
    "# for문 \n",
    "for i in range(1, 5, 1):\n",
    "    print(i)"
   ]
  },
  {
   "cell_type": "code",
   "execution_count": 93,
   "metadata": {},
   "outputs": [
    {
     "name": "stdout",
     "output_type": "stream",
     "text": [
      "test\n",
      "test2\n",
      "test3\n"
     ]
    }
   ],
   "source": [
    "_list = ['test', 'test2', 'test3']\n",
    "for i in _list:\n",
    "    print(i)"
   ]
  },
  {
   "cell_type": "code",
   "execution_count": 95,
   "metadata": {},
   "outputs": [
    {
     "name": "stdout",
     "output_type": "stream",
     "text": [
      "test\n",
      "test2\n",
      "test3\n"
     ]
    }
   ],
   "source": [
    "for i in range(0, len(_list), 1):\n",
    "    # i 에 들어오는 데이터는 : (0, 1, 2)\n",
    "    # print(i)\n",
    "    print(_list[i])"
   ]
  },
  {
   "cell_type": "code",
   "execution_count": 96,
   "metadata": {},
   "outputs": [
    {
     "name": "stdout",
     "output_type": "stream",
     "text": [
      "55\n"
     ]
    }
   ],
   "source": [
    "# 1부터 10까지의 합(반복문 이용)\n",
    "result = 0\n",
    "\n",
    "result += 1\n",
    "result += 2\n",
    "result += 3\n",
    "result += 4\n",
    "result += 5\n",
    "result += 6\n",
    "result += 7\n",
    "result += 8\n",
    "result += 9\n",
    "result += 10\n",
    "print(result)"
   ]
  },
  {
   "cell_type": "code",
   "execution_count": null,
   "metadata": {},
   "outputs": [],
   "source": [
    "result = 0\n",
    "result2 = 0\n",
    "\n",
    "for i in range(1, 11, 1):\n",
    "    # print(i)\n",
    "    # 첫번째 반복 : i = 1, result = 0 --> result = result(0) + i(1) --> result = 1\n",
    "    # 두번째 반복 : i = 2, result = 1 --> result = result(1) + i(2) --> result = 3\n",
    "    # 세번째 반복 : i = 3, result = 3 --> result = result(3) + i(3) --> result = 6\n",
    "    # 네번째 반복 : i = 4, result = 6 --> result = result(6) + i(4) --> result = 10\n",
    "    result = result + i\n",
    "    result2 += i\n",
    "\n",
    "    print(result, result2)"
   ]
  },
  {
   "cell_type": "code",
   "execution_count": null,
   "metadata": {},
   "outputs": [],
   "source": [
    "# while문\n",
    "\n",
    "# 초기값(시작값)\n",
    "i = 1\n",
    "\n",
    "# while 조건식 작성\n",
    "while i <= 10:\n",
    "    print(i)\n",
    "    i = i + 2"
   ]
  },
  {
   "cell_type": "code",
   "execution_count": 101,
   "metadata": {},
   "outputs": [
    {
     "name": "stdout",
     "output_type": "stream",
     "text": [
      "55\n"
     ]
    }
   ],
   "source": [
    "# 합계라는 초기값을 0을 대입 생성\n",
    "result = 0\n",
    "# 초기값을 설정 \n",
    "i = 1\n",
    "while i < 11:\n",
    "    # 첫번째 반복 : i = 1, result = 0 --> result = result(0) + i(1) --> result = 1\n",
    "    # 두번째 반복 : i = 2, result = 1 --> result = result(1) + i(2) --> result = 3\n",
    "    result = result + i\n",
    "    # 첫번째 반복 : i = 1, i = i(1) + 1 --> i = 2\n",
    "    # 두번째 반복 : i = 2, i = i(2) + 1 --> i = 3\n",
    "    i = i + 1\n",
    "print(result)"
   ]
  },
  {
   "cell_type": "code",
   "execution_count": 102,
   "metadata": {},
   "outputs": [
    {
     "name": "stdout",
     "output_type": "stream",
     "text": [
      "65\n"
     ]
    }
   ],
   "source": [
    "result = 0 \n",
    "i = 1\n",
    "while i < 11:\n",
    "    # 첫번째반복 : i = 1, i = i(1) + 1 --> i = 2\n",
    "    # 두번째반복 : i = 2, i = i(2) + 1 --> i = 3\n",
    "    # ...\n",
    "    # 마지막반복 : i = 10, i = i(10) + 1 --> i = 11\n",
    "    i += 1\n",
    "    # 첫번째반복 : i = 2, result = 0 --> result = result(0) + i(2) --> result = 2\n",
    "    # 두번째반복 : i = 3, result = 2 --> result = result(2) + i(3) -- > result = 5\n",
    "    # ...\n",
    "    # 마지막반복 : i = 11, result = 54 --> result = result(54) + i(11) --> result = 65\n",
    "    result += i\n",
    "\n",
    "print(result)"
   ]
  },
  {
   "cell_type": "code",
   "execution_count": 104,
   "metadata": {},
   "outputs": [
    {
     "name": "stdout",
     "output_type": "stream",
     "text": [
      "1\n",
      "2\n",
      "3\n",
      "4\n"
     ]
    }
   ],
   "source": [
    "## break  : 반복문을 강제로 종료\n",
    "for i in range(1, 10, 1):\n",
    "    print(i)\n",
    "    if i == 4:\n",
    "        break"
   ]
  },
  {
   "cell_type": "code",
   "execution_count": 108,
   "metadata": {},
   "outputs": [
    {
     "name": "stdout",
     "output_type": "stream",
     "text": [
      "64 2016\n"
     ]
    }
   ],
   "source": [
    "# 1부터 100까지의 합계를 구하는 중 \n",
    "# 누적합이 2000을 넘어가는 시점이 언제인가?\n",
    "result = 0\n",
    "for i in range(1, 101, 1):\n",
    "    # 63번째 반복 : i = 63, result = 1963 --> result(1963) >= 2000 -> False -> break 실행되지 않는다\n",
    "    # 64번째 반복 : i = 64, result = 2016 --> result(2016) >= 2000 -> True -> break 실행(반복문이 종료)\n",
    "    if result >= 2000:\n",
    "        break\n",
    "    # 63번째 반복 : result = result(1963) + i(63) --> result = 2016\n",
    "    result += i\n",
    "print(i, result)"
   ]
  },
  {
   "cell_type": "code",
   "execution_count": 109,
   "metadata": {},
   "outputs": [
    {
     "name": "stdout",
     "output_type": "stream",
     "text": [
      "63 2016\n"
     ]
    }
   ],
   "source": [
    "result = 0\n",
    "for i in range(1, 101, 1):\n",
    "    result += i\n",
    "    if result >= 2000:\n",
    "        break\n",
    "print(i, result)"
   ]
  },
  {
   "cell_type": "code",
   "execution_count": 113,
   "metadata": {},
   "outputs": [
    {
     "name": "stdout",
     "output_type": "stream",
     "text": [
      "400 80200\n"
     ]
    }
   ],
   "source": [
    "# 1부터 n값까지 누적합을 할때 누적합이 80000이 넘어가는 시점이 언제인가?\n",
    "result = 0\n",
    "i = 1\n",
    "# 반복횟수를 모르는 경우 (무한 반복 -> 특정한 조건이 참이되면 break를 이용하여 반복문을 종료)\n",
    "while True:\n",
    "    result += i\n",
    "    if result >= 80000:\n",
    "        break\n",
    "    i += 1\n",
    "print(i, result)"
   ]
  }
 ],
 "metadata": {
  "kernelspec": {
   "display_name": "Python 3",
   "language": "python",
   "name": "python3"
  },
  "language_info": {
   "codemirror_mode": {
    "name": "ipython",
    "version": 3
   },
   "file_extension": ".py",
   "mimetype": "text/x-python",
   "name": "python",
   "nbconvert_exporter": "python",
   "pygments_lexer": "ipython3",
   "version": "3.11.4"
  }
 },
 "nbformat": 4,
 "nbformat_minor": 2
}
