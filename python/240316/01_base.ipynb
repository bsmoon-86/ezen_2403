{
 "cells": [
  {
   "cell_type": "code",
   "execution_count": null,
   "metadata": {},
   "outputs": [],
   "source": [
    "a = 10\n",
    "print(a)"
   ]
  },
  {
   "cell_type": "code",
   "execution_count": null,
   "metadata": {},
   "outputs": [],
   "source": [
    "# 주석\n",
    "# 주석의 단축키 : Ctrl + /"
   ]
  },
  {
   "cell_type": "code",
   "execution_count": null,
   "metadata": {},
   "outputs": [],
   "source": [
    "# 변수 생성 \n",
    "# 변수의 타입 \n",
    "# 숫자형 (int, float), 문자형 (str), 논리값 (bool)\n",
    "a = 10\n",
    "b = \"test\"\n",
    "c = True\n",
    "print(a, type(a))\n",
    "print(b, type(b))\n",
    "print(c, type(c))"
   ]
  },
  {
   "cell_type": "code",
   "execution_count": null,
   "metadata": {},
   "outputs": [],
   "source": [
    "# 데이터의 타입을 변경 (숫자 -> 문자)\n",
    "a = str(a)\n",
    "print(a, type(a))"
   ]
  },
  {
   "cell_type": "code",
   "execution_count": null,
   "metadata": {},
   "outputs": [],
   "source": [
    "# 문자를 숫자의 타입을 변경\n",
    "a = int(a)\n",
    "print(a, type(a))\n",
    "# 에러 발생 -> ','는 숫자로 변환이 불가능\n",
    "d = \"1,000\"\n",
    "d = int(d)\n",
    "print(d, type(d))"
   ]
  },
  {
   "cell_type": "code",
   "execution_count": null,
   "metadata": {},
   "outputs": [],
   "source": [
    "# 문자를 불형 데이터 타입으로 변경\n",
    "# 문자의 데이터의 존재 유무에 따라 True, False\n",
    "x = \"hello\"\n",
    "y = \"\"\n",
    "x = bool(x)\n",
    "y = bool(y)\n",
    "print(x, y)"
   ]
  },
  {
   "cell_type": "code",
   "execution_count": null,
   "metadata": {},
   "outputs": [],
   "source": [
    "# 숫자를 불형 데이터 타입으로 변경 \n",
    "# 0이라면 False, 0을 제외하면 True\n",
    "x = 1\n",
    "y = 0\n",
    "x = bool(x)\n",
    "y = bool(y)\n",
    "print(x, y)"
   ]
  },
  {
   "cell_type": "code",
   "execution_count": null,
   "metadata": {},
   "outputs": [],
   "source": [
    "## 산술 연산자 \n",
    "# +, -, *, /, //, %, **\n",
    "a = 10\n",
    "b = 3\n",
    "print(a + b)\n",
    "print(a - b)\n",
    "print(a * b)\n",
    "print(a / b)\n",
    "print(a // b)\n",
    "print(a % b)\n",
    "print(a ** b)"
   ]
  },
  {
   "cell_type": "code",
   "execution_count": null,
   "metadata": {},
   "outputs": [],
   "source": [
    "# 문자형 데이터를 +, * 연산자를 사용하는 경우\n",
    "x = \"Hello\"\n",
    "y = 'World'\n",
    "print(x + y)\n",
    "print(x * 3)"
   ]
  },
  {
   "cell_type": "code",
   "execution_count": null,
   "metadata": {},
   "outputs": [],
   "source": [
    "# 불형 데이터에서  + 를 사용\n",
    "print(True + True)\n",
    "print(True + False)\n",
    "print(False + False)"
   ]
  },
  {
   "cell_type": "code",
   "execution_count": null,
   "metadata": {},
   "outputs": [],
   "source": [
    "# 대입 연산자 \n",
    "# +=, -=, *=, /=, //=, %=, **=\n",
    "a += 3"
   ]
  },
  {
   "cell_type": "code",
   "execution_count": null,
   "metadata": {},
   "outputs": [],
   "source": [
    "print(a)"
   ]
  },
  {
   "cell_type": "code",
   "execution_count": null,
   "metadata": {},
   "outputs": [],
   "source": [
    "# 비교 연산자 \n",
    "# 두개의 데이터를 비교하여 참/거짓 형태로 출력 \n",
    "a = 10\n",
    "b = 3\n",
    "print(a == b)\n",
    "print(a != b)\n",
    "print(a > b)\n",
    "print(a < b)"
   ]
  },
  {
   "cell_type": "code",
   "execution_count": null,
   "metadata": {},
   "outputs": [],
   "source": [
    "# 논리 연산자 \n",
    "# 두개의 논리값(참/거짓)들을 판단하는 연산자\n",
    "# and (두개의 논리값이 모두 참인 경우에만 참)\n",
    "print(True & True)\n",
    "print(True & False)\n",
    "print(False and False)"
   ]
  },
  {
   "cell_type": "code",
   "execution_count": null,
   "metadata": {},
   "outputs": [],
   "source": [
    "# or (두개의 논리값 중 하나라도 참이면 참을 출력)\n",
    "print(True | True)\n",
    "print(True | False)\n",
    "print(False or False)"
   ]
  },
  {
   "cell_type": "code",
   "execution_count": null,
   "metadata": {},
   "outputs": [],
   "source": [
    "print(not(True))"
   ]
  },
  {
   "cell_type": "markdown",
   "metadata": {},
   "source": [
    "# title1\n",
    "## title2\n",
    "### title3\n",
    "#### title4"
   ]
  },
  {
   "cell_type": "markdown",
   "metadata": {},
   "source": [
    "#### 비순서형 리스트 \n",
    "- list1\n",
    "- list2\n",
    "- list3 \n",
    "    - sub1\n",
    "    - sub2\n",
    "#### 순서형 리스트 \n",
    "1. list1\n",
    "3. list2\n",
    "2. list3\n",
    "    1. sub1\n",
    "    2. sub2"
   ]
  },
  {
   "cell_type": "markdown",
   "metadata": {},
   "source": [
    "### 조건문 \n",
    "- if문\n",
    "    - if 조건식 : 조건식이 참인 경우에 실행 코드를 작성\n",
    "    - else : if의 조건식이 거짓일때 실행 코드를 작성\n",
    "    - (조건식이 여러개라면 elif 조건식를 이용하여 조건식을 추가 )"
   ]
  },
  {
   "cell_type": "code",
   "execution_count": null,
   "metadata": {},
   "outputs": [],
   "source": [
    "a = 11\n",
    "# 만약에 a가 10보다 작다면?\n",
    "if a < 10:\n",
    "    print('a는 10보다 작다')"
   ]
  },
  {
   "cell_type": "code",
   "execution_count": null,
   "metadata": {},
   "outputs": [],
   "source": [
    "a = 'test1'\n",
    "# 만약에 a가 test 라면?\n",
    "if a == 'test':\n",
    "    print('성공')\n",
    "# a가 test 아니라면?\n",
    "else:\n",
    "    print('실패')"
   ]
  },
  {
   "cell_type": "code",
   "execution_count": null,
   "metadata": {},
   "outputs": [],
   "source": [
    "input_id = input('아이디를 입력하시오')\n",
    "input_pass = input('패스워드를 입력하시오')\n",
    "print(input_id, input_pass)\n",
    "\n",
    "# 만약에 input_id가 test 이고 input_pass가 1234라면? -> 성공\n",
    "if input_id == 'test':\n",
    "    # input_id가 test 일때\n",
    "    if input_pass == '1234':\n",
    "        # input_pass가 1234 일때\n",
    "        print('성공')\n",
    "    else:\n",
    "        # input_pass가 1234가 아닐때\n",
    "        print('실패')\n",
    "else : \n",
    "    # input_id가 test 아닐때\n",
    "    print('실패')\n",
    "\n",
    "if (input_id == 'test') and (input_pass == '1234'):\n",
    "    print('성공')\n",
    "else :\n",
    "    print('실패')\n"
   ]
  },
  {
   "cell_type": "code",
   "execution_count": null,
   "metadata": {},
   "outputs": [],
   "source": [
    "## 조건식이 여러개인 경우 \n",
    "score = int(\n",
    "        input('점수를 입력하시오')\n",
    "    )\n",
    "\n",
    "# 만약에 score가 90점 이상이라면?\n",
    "if score >= 90:\n",
    "    print('A')\n",
    "# 만약에 90점 미만이고 80점 이상이라면?\n",
    "elif score >= 80 :\n",
    "    print('B')\n",
    "# 만약에 80점 미만이고 70점 이상이라면?\n",
    "elif score >= 70:\n",
    "    print('C')\n",
    "# score가 70점 미만이라면? (위의 조건식들이 모두 거짓이라면?)\n",
    "else:\n",
    "    print('F')\n",
    "\n",
    "print('프로그램 종료')\n",
    "\n"
   ]
  },
  {
   "cell_type": "markdown",
   "metadata": {},
   "source": [
    "### 자료형 데이터 \n",
    "- 튜플 \n",
    "    - 자료형 데이터 중 가장 간단한 구조로 이루어진 데이터들의 모음\n",
    "    - () 를 사용하여 데이터들을 묶어준다. \n",
    "    - 튜플 안에 데이터들을 수정, 추가, 삭제가 불가능\n",
    "- 리스트 \n",
    "    - [] 를 사용하여 데이터들을 묶어준다. \n",
    "    - 튜플과 달리 각각 데이터들을 수정하거나 데이터를 추가, 삭제가 가능\n",
    "- 딕셔너리 \n",
    "    - {} 를 사용하여 데이터들을 묶어준다. \n",
    "    - key : value 형태로 데이터들을 생성\n",
    "    - key 값들은 리스트에서 index의 값들과 같은 역할"
   ]
  },
  {
   "cell_type": "code",
   "execution_count": null,
   "metadata": {},
   "outputs": [],
   "source": [
    "# 튜플 데이터를 생성 \n",
    "a = (1, 'Hello')\n",
    "b = (3, 3.14)\n",
    "print(a, type(a))\n",
    "print(b, type(b))"
   ]
  },
  {
   "cell_type": "code",
   "execution_count": null,
   "metadata": {},
   "outputs": [],
   "source": [
    "# 튜플의 결합\n",
    "c = a + b\n",
    "d = a * 3\n",
    "print(c)\n",
    "print(d)"
   ]
  },
  {
   "cell_type": "code",
   "execution_count": null,
   "metadata": {},
   "outputs": [],
   "source": [
    "# 튜플 데이터를 강제로 불형 데이터로 변환 \n",
    "x = ()\n",
    "y = ('')\n",
    "z = (1, 'hello')\n",
    "print(bool(x))\n",
    "print(bool(y))\n",
    "print(bool(z))"
   ]
  },
  {
   "cell_type": "code",
   "execution_count": null,
   "metadata": {},
   "outputs": [],
   "source": [
    "# 튜플 안에 데이터가 존재하는가?\n",
    "z = ()\n",
    "# if len(z) != 0:\n",
    "# if 뒤의 조건식에 데이터가 입력된다면 강제적으로 bool형태로 변환\n",
    "if z:\n",
    "    print('z에는 데이터가 존재')\n",
    "else:\n",
    "    print('z에는 데이터가 존재하지 않는다.')"
   ]
  },
  {
   "cell_type": "code",
   "execution_count": null,
   "metadata": {},
   "outputs": [],
   "source": [
    "## 리스트 데이터를 생성 \n",
    "list_1 = [20, 10, 40, 30]\n",
    "list_2 = [10, 20, 40, 30]"
   ]
  },
  {
   "cell_type": "code",
   "execution_count": null,
   "metadata": {},
   "outputs": [],
   "source": [
    "## 리스트의 순서를 오름차순 정렬\n",
    "list_1.sort()\n",
    "print(list_1)"
   ]
  },
  {
   "cell_type": "code",
   "execution_count": null,
   "metadata": {},
   "outputs": [],
   "source": [
    "## 리스트의 순서를 역순으로 변경 \n",
    "list_2.reverse()\n",
    "print(list_2)"
   ]
  },
  {
   "cell_type": "code",
   "execution_count": null,
   "metadata": {},
   "outputs": [],
   "source": [
    "# 문자 데이터들의 모음인 리스트에서 오름차순 정렬\n",
    "list_3 = ['ab', 'c', 'b', 'ac']\n",
    "list_3.sort()\n",
    "print(list_3)"
   ]
  },
  {
   "cell_type": "code",
   "execution_count": null,
   "metadata": {},
   "outputs": [],
   "source": [
    "# 내림차순 정렬 변경\n",
    "list_1.sort()\n",
    "list_1.reverse()\n",
    "print(list_1)"
   ]
  },
  {
   "cell_type": "code",
   "execution_count": null,
   "metadata": {},
   "outputs": [],
   "source": [
    "list_3.sort(reverse=True)\n",
    "print(list_3)"
   ]
  },
  {
   "cell_type": "code",
   "execution_count": null,
   "metadata": {},
   "outputs": [],
   "source": [
    "## 데이터를 추가하는 함수 : append()\n",
    "list_1.append(20)\n",
    "print(list_1)"
   ]
  },
  {
   "cell_type": "code",
   "execution_count": null,
   "metadata": {},
   "outputs": [],
   "source": [
    "## insert(위치, 데이터)\n",
    "list_1.insert(2, 11)\n",
    "print(list_1)"
   ]
  },
  {
   "cell_type": "code",
   "execution_count": null,
   "metadata": {},
   "outputs": [],
   "source": [
    "# 리스트에서 데이터를 제거 \n",
    "# 맨뒤의 데이터를 제거 : pop()\n",
    "list_1.pop()\n",
    "print(list_1)"
   ]
  },
  {
   "cell_type": "code",
   "execution_count": null,
   "metadata": {},
   "outputs": [],
   "source": [
    "# 특정한 데이터를 제거  : remove(데이터)\n",
    "list_1.remove(11)\n",
    "print(list_1)"
   ]
  },
  {
   "cell_type": "code",
   "execution_count": null,
   "metadata": {},
   "outputs": [],
   "source": [
    "# 특정 위치의 데이터를 제거 : del\n",
    "del list_1[1]\n",
    "print(list_1)"
   ]
  },
  {
   "cell_type": "code",
   "execution_count": null,
   "metadata": {},
   "outputs": [],
   "source": [
    "# 리스트의 결합 :  리스트를 확장 \n",
    "list_1.extend(list_2)\n",
    "print(list_1)"
   ]
  },
  {
   "cell_type": "code",
   "execution_count": null,
   "metadata": {},
   "outputs": [],
   "source": [
    "list_1 + [40, 20, 10, 30, 40, 20, 10]"
   ]
  },
  {
   "cell_type": "code",
   "execution_count": null,
   "metadata": {},
   "outputs": [],
   "source": [
    "# copy() : 데이터를 복사\n",
    "new_list = list_1.copy()\n",
    "new_list2 = list_1"
   ]
  },
  {
   "cell_type": "code",
   "execution_count": null,
   "metadata": {},
   "outputs": [],
   "source": [
    "print(new_list)\n",
    "print(new_list2)\n",
    "print(list_1)"
   ]
  },
  {
   "cell_type": "code",
   "execution_count": null,
   "metadata": {},
   "outputs": [],
   "source": [
    "# new_list를 수정 \n",
    "new_list.remove(10)\n",
    "print(new_list)\n",
    "print(new_list2)\n",
    "print(list_1)"
   ]
  },
  {
   "cell_type": "code",
   "execution_count": null,
   "metadata": {},
   "outputs": [],
   "source": [
    "# new_list2를 수정 \n",
    "new_list2.remove(20)\n",
    "print(new_list)\n",
    "print(new_list2)\n",
    "print(list_1)"
   ]
  },
  {
   "cell_type": "code",
   "execution_count": null,
   "metadata": {},
   "outputs": [],
   "source": [
    "# 딕셔너리 \n",
    "# key : value로 데이터들이 이루어진다. \n",
    "dict_1 = {\n",
    "    'name' : 'test', \n",
    "    'age' : 20, \n",
    "    'phone' : '01012345678'\n",
    "}"
   ]
  },
  {
   "cell_type": "code",
   "execution_count": null,
   "metadata": {},
   "outputs": [],
   "source": [
    "print(dict_1, type(dict_1))"
   ]
  },
  {
   "cell_type": "code",
   "execution_count": null,
   "metadata": {},
   "outputs": [],
   "source": [
    "# 리스트에서 특정 위치의 데이터를 추출\n",
    "# 리스트명[위치]\n",
    "# 리스트명[시작위치:종료위치]\n",
    "print(new_list[3])\n",
    "print(new_list[2:4])\n",
    "print(new_list[4:])\n",
    "print(new_list[:3])"
   ]
  },
  {
   "cell_type": "code",
   "execution_count": null,
   "metadata": {},
   "outputs": [],
   "source": [
    "# 딕셔너리 데이터에서 특정 위치의 데이터 추출\n",
    "print(dict_1['name'])\n",
    "print(dict_1['age'])"
   ]
  },
  {
   "cell_type": "markdown",
   "metadata": {},
   "source": [
    "### 외부에서 데이터를 로드하는 경우 일반적인 데이터의 형태\n",
    "1. 리스트 안에 딕셔너리 \n",
    "    - [{'name' :'test','age':20 }, {'name' : 'test2', 'age':23}, ...]\n",
    "2. 딕셔너리 안에 리스트\n",
    "    - {'name' : ['test', 'test2'], 'age' : [20, 23], ...}"
   ]
  },
  {
   "cell_type": "code",
   "execution_count": null,
   "metadata": {},
   "outputs": [],
   "source": [
    "sample_data = [\n",
    "    {\n",
    "        'name':'test', \n",
    "        'age':20\n",
    "    }, \n",
    "    {\n",
    "        'name' : 'test2',\n",
    "        'age' : 23 \n",
    "    }\n",
    "]\n",
    "## sample_data 2차원 데이터 형태\n",
    "## sample_data에서 'test' 문자열만 출력\n",
    "print(sample_data)\n",
    "print(sample_data[0])\n",
    "print(sample_data[0]['name'])"
   ]
  },
  {
   "cell_type": "code",
   "execution_count": null,
   "metadata": {},
   "outputs": [],
   "source": [
    "sample_data2 = {\n",
    "    'name' : ['test', 'test2'], \n",
    "    'age' : [20, 23]\n",
    "}\n",
    "# sample_data2에서 23를 추출\n",
    "\n"
   ]
  }
 ],
 "metadata": {
  "kernelspec": {
   "display_name": "Python 3",
   "language": "python",
   "name": "python3"
  },
  "language_info": {
   "codemirror_mode": {
    "name": "ipython",
    "version": 3
   },
   "file_extension": ".py",
   "mimetype": "text/x-python",
   "name": "python",
   "nbconvert_exporter": "python",
   "pygments_lexer": "ipython3",
   "version": "3.11.4"
  }
 },
 "nbformat": 4,
 "nbformat_minor": 2
}
