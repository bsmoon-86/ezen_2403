{
 "cells": [
  {
   "cell_type": "markdown",
   "metadata": {},
   "source": [
    "## drinks\n",
    "1. csv 폴더 안에 있는 drinks.csv 파일 로드 \n",
    "2. 데이터프레임의 정보를 출력하고 결측치가 존재하는가?\n",
    "3. 컬럼의 이름들이 영문으로 되어있기 때문에 한글로 컬럼의 이름을 변경\n",
    "4. 특정 컬럼에 결측치가 존재하기 때문에 결측치를 특정 문자로 대체\n",
    "5. '총술소비량' 파생변수를 생성하여 술소비량 데이터들의 합산 대입\n",
    "6. '순수알콜량'과 '총술소비량' 데이터를 기준으로 '도수'컬럼을 생성\n",
    "7. 과연 한국의 총술소비량이 전체에서 몇위인가? 한국 사람들은 얼마나 독한 술을 먹는가?"
   ]
  },
  {
   "cell_type": "code",
   "execution_count": null,
   "metadata": {},
   "outputs": [],
   "source": [
    "import pandas as pd"
   ]
  },
  {
   "cell_type": "code",
   "execution_count": null,
   "metadata": {},
   "outputs": [],
   "source": [
    "# drinks.csv 파일 로드 \n",
    "# 상위 폴더 이동(../) + csv 하위폴더로 이동(csv/) + drinks.csv\n",
    "drinks = pd.read_csv(\"../csv/drinks.csv\")"
   ]
  },
  {
   "cell_type": "code",
   "execution_count": null,
   "metadata": {},
   "outputs": [],
   "source": [
    "drinks.head()"
   ]
  },
  {
   "cell_type": "code",
   "execution_count": null,
   "metadata": {},
   "outputs": [],
   "source": [
    "## 데이터프레임의 정보를 확인 \n",
    "drinks.info()"
   ]
  },
  {
   "cell_type": "code",
   "execution_count": null,
   "metadata": {},
   "outputs": [],
   "source": [
    "drinks.describe()"
   ]
  },
  {
   "cell_type": "code",
   "execution_count": null,
   "metadata": {},
   "outputs": [],
   "source": [
    "drinks['continent'].describe()"
   ]
  },
  {
   "cell_type": "code",
   "execution_count": null,
   "metadata": {},
   "outputs": [],
   "source": [
    "drinks['continent'].value_counts()"
   ]
  },
  {
   "cell_type": "code",
   "execution_count": null,
   "metadata": {},
   "outputs": [],
   "source": [
    "## 결측치의 개수를 확인\n",
    "drinks.isna().sum()"
   ]
  },
  {
   "cell_type": "code",
   "execution_count": null,
   "metadata": {},
   "outputs": [],
   "source": [
    "## 컬럼의 이름을 변경 \n",
    "drinks.columns = ['국가', '맥주소비량', '위스키소비량', '와인소비량', '순수알콜량', \n",
    "                  '대륙']"
   ]
  },
  {
   "cell_type": "code",
   "execution_count": null,
   "metadata": {},
   "outputs": [],
   "source": [
    "drinks.head(1)"
   ]
  },
  {
   "cell_type": "code",
   "execution_count": null,
   "metadata": {},
   "outputs": [],
   "source": [
    "# 대륙 컬럼에 있는 결측치를 'OT' 문자열로 대체\n",
    "drinks['대륙'] = drinks['대륙'].fillna('OT')"
   ]
  },
  {
   "cell_type": "code",
   "execution_count": null,
   "metadata": {},
   "outputs": [],
   "source": [
    "drinks"
   ]
  },
  {
   "cell_type": "code",
   "execution_count": null,
   "metadata": {},
   "outputs": [],
   "source": [
    "# 백업데이터를 생성 \n",
    "df = drinks.copy()"
   ]
  },
  {
   "cell_type": "code",
   "execution_count": null,
   "metadata": {},
   "outputs": [],
   "source": [
    "# case1\n",
    "df['맥주소비량'] + df['위스키소비량'] + df[\"와인소비량\"]"
   ]
  },
  {
   "cell_type": "code",
   "execution_count": null,
   "metadata": {},
   "outputs": [],
   "source": [
    "# case2\n",
    "df['총술소비량'] = df.loc[:,\"맥주소비량\" : \"와인소비량\"].sum(axis=1)"
   ]
  },
  {
   "cell_type": "code",
   "execution_count": null,
   "metadata": {},
   "outputs": [],
   "source": [
    "df.head()"
   ]
  },
  {
   "cell_type": "code",
   "execution_count": null,
   "metadata": {},
   "outputs": [],
   "source": [
    "## '도수'컬럼을 생성하여 (순수알콜량 / 총술소비량) * 100\n",
    "df['도수'] = ((df['순수알콜량'] / df['총술소비량']) * 100).fillna(0)"
   ]
  },
  {
   "cell_type": "code",
   "execution_count": null,
   "metadata": {},
   "outputs": [],
   "source": [
    "df.head()"
   ]
  },
  {
   "cell_type": "code",
   "execution_count": null,
   "metadata": {},
   "outputs": [],
   "source": [
    "## 총술소비량이 가장 높은 국가 10위까지 확인 \n",
    "df.sort_values(['총술소비량'], ascending=False).head(10)"
   ]
  },
  {
   "cell_type": "code",
   "execution_count": null,
   "metadata": {},
   "outputs": [],
   "source": [
    "## 총술소비량을 기준으로 내림차순 정렬 \n",
    "df.sort_values(['총술소비량'], ascending=False, inplace=True)"
   ]
  },
  {
   "cell_type": "code",
   "execution_count": null,
   "metadata": {},
   "outputs": [],
   "source": [
    "df.head()"
   ]
  },
  {
   "cell_type": "code",
   "execution_count": null,
   "metadata": {},
   "outputs": [],
   "source": [
    "## 한국의 데이터만 필터링 \n",
    "## df['국가'] == South Korea\n",
    "flag = df['국가'] == 'South Korea'\n",
    "df.loc[flag]"
   ]
  },
  {
   "cell_type": "code",
   "execution_count": null,
   "metadata": {},
   "outputs": [],
   "source": [
    "# df의 인덱스를 초기화 (기존의 인덱스는 제거)\n",
    "df.reset_index(drop=True, inplace=True)"
   ]
  },
  {
   "cell_type": "code",
   "execution_count": null,
   "metadata": {},
   "outputs": [],
   "source": [
    "flag = df['국가'] == 'South Korea'\n",
    "df.loc[flag]"
   ]
  },
  {
   "cell_type": "code",
   "execution_count": 54,
   "metadata": {},
   "outputs": [],
   "source": [
    "## 도수를 기준으로 한국의 랭킹을 확인 \n",
    "# 도수를 기준으로 내림차순 정렬\n",
    "df.sort_values(['도수'], ascending=False, inplace=True)"
   ]
  },
  {
   "cell_type": "code",
   "execution_count": 56,
   "metadata": {},
   "outputs": [],
   "source": [
    "# 인덱스를 초기화하고 기존의 인덱스는 제거\n",
    "df.reset_index(drop=True, inplace=True)"
   ]
  },
  {
   "cell_type": "code",
   "execution_count": 57,
   "metadata": {},
   "outputs": [
    {
     "data": {
      "text/html": [
       "<div>\n",
       "<style scoped>\n",
       "    .dataframe tbody tr th:only-of-type {\n",
       "        vertical-align: middle;\n",
       "    }\n",
       "\n",
       "    .dataframe tbody tr th {\n",
       "        vertical-align: top;\n",
       "    }\n",
       "\n",
       "    .dataframe thead th {\n",
       "        text-align: right;\n",
       "    }\n",
       "</style>\n",
       "<table border=\"1\" class=\"dataframe\">\n",
       "  <thead>\n",
       "    <tr style=\"text-align: right;\">\n",
       "      <th></th>\n",
       "      <th>국가</th>\n",
       "      <th>맥주소비량</th>\n",
       "      <th>위스키소비량</th>\n",
       "      <th>와인소비량</th>\n",
       "      <th>순수알콜량</th>\n",
       "      <th>대륙</th>\n",
       "      <th>총술소비량</th>\n",
       "      <th>도수</th>\n",
       "    </tr>\n",
       "  </thead>\n",
       "  <tbody>\n",
       "    <tr>\n",
       "      <th>14</th>\n",
       "      <td>South Korea</td>\n",
       "      <td>140</td>\n",
       "      <td>16</td>\n",
       "      <td>9</td>\n",
       "      <td>9.8</td>\n",
       "      <td>AS</td>\n",
       "      <td>165</td>\n",
       "      <td>5.939394</td>\n",
       "    </tr>\n",
       "  </tbody>\n",
       "</table>\n",
       "</div>"
      ],
      "text/plain": [
       "             국가  맥주소비량  위스키소비량  와인소비량  순수알콜량  대륙  총술소비량        도수\n",
       "14  South Korea    140      16      9    9.8  AS    165  5.939394"
      ]
     },
     "execution_count": 57,
     "metadata": {},
     "output_type": "execute_result"
    }
   ],
   "source": [
    "flag = df['국가'] == 'South Korea'\n",
    "df.loc[flag]"
   ]
  },
  {
   "cell_type": "code",
   "execution_count": 58,
   "metadata": {},
   "outputs": [],
   "source": [
    "import matplotlib.pyplot as plt"
   ]
  },
  {
   "cell_type": "code",
   "execution_count": 62,
   "metadata": {},
   "outputs": [],
   "source": [
    "# 총술소비량 데이터를 기준으로 막대그래프 생성 \n",
    "df2 = df.copy()\n",
    "df2.sort_values(['총술소비량'], ascending=False, inplace=True)\n",
    "df2.reset_index(drop=True, inplace=True)"
   ]
  },
  {
   "cell_type": "code",
   "execution_count": 70,
   "metadata": {},
   "outputs": [],
   "source": [
    "# df2에서 한국의 인덱스의 값과 총술소비량 데이터를 추출하여 변수에 대입 \n",
    "flag = df2['국가'] == 'South Korea'\n",
    "korea_index = df2.loc[flag].index[0]\n",
    "korea_value = df2.loc[korea_index, '총술소비량']"
   ]
  },
  {
   "cell_type": "code",
   "execution_count": 74,
   "metadata": {},
   "outputs": [
    {
     "name": "stderr",
     "output_type": "stream",
     "text": [
      "C:\\Users\\EZEN\\AppData\\Roaming\\Python\\Python311\\site-packages\\IPython\\core\\pylabtools.py:152: UserWarning: Glyph 52509 (\\N{HANGUL SYLLABLE CONG}) missing from current font.\n",
      "  fig.canvas.print_figure(bytes_io, **kw)\n",
      "C:\\Users\\EZEN\\AppData\\Roaming\\Python\\Python311\\site-packages\\IPython\\core\\pylabtools.py:152: UserWarning: Glyph 49696 (\\N{HANGUL SYLLABLE SUL}) missing from current font.\n",
      "  fig.canvas.print_figure(bytes_io, **kw)\n",
      "C:\\Users\\EZEN\\AppData\\Roaming\\Python\\Python311\\site-packages\\IPython\\core\\pylabtools.py:152: UserWarning: Glyph 49548 (\\N{HANGUL SYLLABLE SO}) missing from current font.\n",
      "  fig.canvas.print_figure(bytes_io, **kw)\n",
      "C:\\Users\\EZEN\\AppData\\Roaming\\Python\\Python311\\site-packages\\IPython\\core\\pylabtools.py:152: UserWarning: Glyph 48708 (\\N{HANGUL SYLLABLE BI}) missing from current font.\n",
      "  fig.canvas.print_figure(bytes_io, **kw)\n",
      "C:\\Users\\EZEN\\AppData\\Roaming\\Python\\Python311\\site-packages\\IPython\\core\\pylabtools.py:152: UserWarning: Glyph 47049 (\\N{HANGUL SYLLABLE RYANG}) missing from current font.\n",
      "  fig.canvas.print_figure(bytes_io, **kw)\n"
     ]
    },
    {
     "data": {
      "image/png": "[encoded data removed]",
      "text/plain": [
       "<Figure size 2000x800 with 1 Axes>"
      ]
     },
     "metadata": {},
     "output_type": "display_data"
    }
   ],
   "source": [
    "# x축 데이터 : 국가명\n",
    "# y축 데이터 : 총술소비량\n",
    "x = df2.index\n",
    "y = df2['총술소비량']\n",
    "\n",
    "# 그래프의 크기를 변경 \n",
    "plt.figure(figsize=(20, 8))\n",
    "graph = plt.bar(x, y)\n",
    "graph[korea_index].set_color('r')\n",
    "\n",
    "# 그래프에 주석을 추가 \n",
    "plt.annotate(\n",
    "    f\"South Korea / rank : {korea_index + 1}, 총술소비량 : {korea_value}\", \n",
    "    # 주석데이터가 의미하는 막대의 좌표\n",
    "    xy = (korea_index, korea_value), \n",
    "    # 주석의 위치\n",
    "    xytext = (korea_index + 10, korea_value + 100) , \n",
    "    # 주석과 막대 사이에 화살표를 추가 \n",
    "    arrowprops= {\n",
    "        'facecolor' : 'r', \n",
    "        'edgecolor' : 'k', \n",
    "        'headwidth' : 20, \n",
    "        'headlength' : 20, \n",
    "        'width' : 10, \n",
    "        'shrink' : 0.1\n",
    "    }\n",
    ")\n",
    "\n",
    "# x축의 데이터들을 회전 \n",
    "plt.xticks(rotation=90)\n",
    "plt.show()"
   ]
  },
  {
   "cell_type": "code",
   "execution_count": null,
   "metadata": {},
   "outputs": [],
   "source": []
  }
 ],
 "metadata": {
  "kernelspec": {
   "display_name": "Python 3",
   "language": "python",
   "name": "python3"
  },
  "language_info": {
   "codemirror_mode": {
    "name": "ipython",
    "version": 3
   },
   "file_extension": ".py",
   "mimetype": "text/x-python",
   "name": "python",
   "nbconvert_exporter": "python",
   "pygments_lexer": "ipython3",
   "version": "3.11.4"
  }
 },
 "nbformat": 4,
 "nbformat_minor": 2
}
