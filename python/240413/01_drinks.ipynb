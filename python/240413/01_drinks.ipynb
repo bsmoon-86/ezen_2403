{
 "cells": [
  {
   "cell_type": "markdown",
   "metadata": {},
   "source": [
    "## drinks\n",
    "1. csv 폴더 안에 있는 drinks.csv 파일 로드 \n",
    "2. 데이터프레임의 정보를 출력하고 결측치가 존재하는가?\n",
    "3. 컬럼의 이름들이 영문으로 되어있기 때문에 한글로 컬럼의 이름을 변경\n",
    "4. 특정 컬럼에 결측치가 존재하기 때문에 결측치를 특정 문자로 대체\n",
    "5. '총술소비량' 파생변수를 생성하여 술소비량 데이터들의 합산 대입\n",
    "6. '순수알콜량'과 '총술소비량' 데이터를 기준으로 '도수'컬럼을 생성\n",
    "7. 과연 한국의 총술소비량이 전체에서 몇위인가? 한국 사람들은 얼마나 독한 술을 먹는가?"
   ]
  },
  {
   "cell_type": "code",
   "execution_count": null,
   "metadata": {},
   "outputs": [],
   "source": [
    "import pandas as pd"
   ]
  },
  {
   "cell_type": "code",
   "execution_count": null,
   "metadata": {},
   "outputs": [],
   "source": [
    "# drinks.csv 파일 로드 \n",
    "# 상위 폴더 이동(../) + csv 하위폴더로 이동(csv/) + drinks.csv\n",
    "drinks = pd.read_csv(\"../csv/drinks.csv\")"
   ]
  },
  {
   "cell_type": "code",
   "execution_count": null,
   "metadata": {},
   "outputs": [],
   "source": [
    "drinks.head()"
   ]
  },
  {
   "cell_type": "code",
   "execution_count": null,
   "metadata": {},
   "outputs": [],
   "source": [
    "## 데이터프레임의 정보를 확인 \n",
    "drinks.info()"
   ]
  },
  {
   "cell_type": "code",
   "execution_count": null,
   "metadata": {},
   "outputs": [],
   "source": [
    "drinks.describe()"
   ]
  },
  {
   "cell_type": "code",
   "execution_count": null,
   "metadata": {},
   "outputs": [],
   "source": [
    "drinks['continent'].describe()"
   ]
  },
  {
   "cell_type": "code",
   "execution_count": null,
   "metadata": {},
   "outputs": [],
   "source": [
    "drinks['continent'].value_counts()"
   ]
  },
  {
   "cell_type": "code",
   "execution_count": null,
   "metadata": {},
   "outputs": [],
   "source": [
    "## 결측치의 개수를 확인\n",
    "drinks.isna().sum()"
   ]
  },
  {
   "cell_type": "code",
   "execution_count": null,
   "metadata": {},
   "outputs": [],
   "source": [
    "## 컬럼의 이름을 변경 \n",
    "drinks.columns = ['국가', '맥주소비량', '위스키소비량', '와인소비량', '순수알콜량', \n",
    "                  '대륙']"
   ]
  },
  {
   "cell_type": "code",
   "execution_count": null,
   "metadata": {},
   "outputs": [],
   "source": [
    "drinks.head(1)"
   ]
  },
  {
   "cell_type": "code",
   "execution_count": null,
   "metadata": {},
   "outputs": [],
   "source": [
    "# 대륙 컬럼에 있는 결측치를 'OT' 문자열로 대체\n",
    "drinks['대륙'] = drinks['대륙'].fillna('OT')"
   ]
  },
  {
   "cell_type": "code",
   "execution_count": null,
   "metadata": {},
   "outputs": [],
   "source": [
    "drinks"
   ]
  },
  {
   "cell_type": "code",
   "execution_count": null,
   "metadata": {},
   "outputs": [],
   "source": [
    "# 백업데이터를 생성 \n",
    "df = drinks.copy()"
   ]
  },
  {
   "cell_type": "code",
   "execution_count": null,
   "metadata": {},
   "outputs": [],
   "source": [
    "# case1\n",
    "df['맥주소비량'] + df['위스키소비량'] + df[\"와인소비량\"]"
   ]
  },
  {
   "cell_type": "code",
   "execution_count": null,
   "metadata": {},
   "outputs": [],
   "source": [
    "# case2\n",
    "df['총술소비량'] = df.loc[:,\"맥주소비량\" : \"와인소비량\"].sum(axis=1)"
   ]
  },
  {
   "cell_type": "code",
   "execution_count": null,
   "metadata": {},
   "outputs": [],
   "source": [
    "df.head()"
   ]
  },
  {
   "cell_type": "code",
   "execution_count": null,
   "metadata": {},
   "outputs": [],
   "source": [
    "## '도수'컬럼을 생성하여 (순수알콜량 / 총술소비량) * 100\n",
    "df['도수'] = ((df['순수알콜량'] / df['총술소비량']) * 100).fillna(0)"
   ]
  },
  {
   "cell_type": "code",
   "execution_count": null,
   "metadata": {},
   "outputs": [],
   "source": [
    "df.head()"
   ]
  },
  {
   "cell_type": "code",
   "execution_count": null,
   "metadata": {},
   "outputs": [],
   "source": [
    "## 총술소비량이 가장 높은 국가 10위까지 확인 \n",
    "df.sort_values(['총술소비량'], ascending=False).head(10)"
   ]
  },
  {
   "cell_type": "code",
   "execution_count": null,
   "metadata": {},
   "outputs": [],
   "source": [
    "## 총술소비량을 기준으로 내림차순 정렬 \n",
    "df.sort_values(['총술소비량'], ascending=False, inplace=True)"
   ]
  },
  {
   "cell_type": "code",
   "execution_count": null,
   "metadata": {},
   "outputs": [],
   "source": [
    "df.head()"
   ]
  },
  {
   "cell_type": "code",
   "execution_count": null,
   "metadata": {},
   "outputs": [],
   "source": [
    "## 한국의 데이터만 필터링 \n",
    "## df['국가'] == South Korea\n",
    "flag = df['국가'] == 'South Korea'\n",
    "df.loc[flag]"
   ]
  },
  {
   "cell_type": "code",
   "execution_count": null,
   "metadata": {},
   "outputs": [],
   "source": [
    "# df의 인덱스를 초기화 (기존의 인덱스는 제거)\n",
    "df.reset_index(drop=True, inplace=True)"
   ]
  },
  {
   "cell_type": "code",
   "execution_count": null,
   "metadata": {},
   "outputs": [],
   "source": [
    "flag = df['국가'] == 'South Korea'\n",
    "df.loc[flag]"
   ]
  },
  {
   "cell_type": "code",
   "execution_count": null,
   "metadata": {},
   "outputs": [],
   "source": [
    "## 도수를 기준으로 한국의 랭킹을 확인 \n",
    "# 도수를 기준으로 내림차순 정렬\n",
    "df.sort_values(['도수'], ascending=False, inplace=True)"
   ]
  },
  {
   "cell_type": "code",
   "execution_count": null,
   "metadata": {},
   "outputs": [],
   "source": [
    "# 인덱스를 초기화하고 기존의 인덱스는 제거\n",
    "df.reset_index(drop=True, inplace=True)"
   ]
  },
  {
   "cell_type": "code",
   "execution_count": null,
   "metadata": {},
   "outputs": [],
   "source": [
    "flag = df['국가'] == 'South Korea'\n",
    "df.loc[flag]"
   ]
  },
  {
   "cell_type": "code",
   "execution_count": null,
   "metadata": {},
   "outputs": [],
   "source": [
    "import matplotlib.pyplot as plt"
   ]
  },
  {
   "cell_type": "code",
   "execution_count": null,
   "metadata": {},
   "outputs": [],
   "source": [
    "# 총술소비량 데이터를 기준으로 막대그래프 생성 \n",
    "df2 = df.copy()\n",
    "df2.sort_values(['총술소비량'], ascending=False, inplace=True)\n",
    "df2.reset_index(drop=True, inplace=True)"
   ]
  },
  {
   "cell_type": "code",
   "execution_count": null,
   "metadata": {},
   "outputs": [],
   "source": [
    "# df2에서 한국의 인덱스의 값과 총술소비량 데이터를 추출하여 변수에 대입 \n",
    "flag = df2['국가'] == 'South Korea'\n",
    "korea_index = df2.loc[flag].index[0]\n",
    "korea_value = df2.loc[korea_index, '총술소비량']"
   ]
  },
  {
   "cell_type": "code",
   "execution_count": null,
   "metadata": {},
   "outputs": [],
   "source": [
    "import platform\n",
    "if platform.system() == 'Darwin':\n",
    "    # MAC의 경우 \n",
    "    plt.rc('font', family='AppleGothic')\n",
    "else:\n",
    "    plt.rc('font', family='Malgun Gothic')"
   ]
  },
  {
   "cell_type": "code",
   "execution_count": null,
   "metadata": {},
   "outputs": [],
   "source": [
    "# x축 데이터 : 국가명\n",
    "# y축 데이터 : 총술소비량\n",
    "x = df2.index\n",
    "y = df2['총술소비량']\n",
    "\n",
    "# 그래프의 크기를 변경 \n",
    "plt.figure(figsize=(20, 8))\n",
    "graph = plt.bar(x, y)\n",
    "graph[korea_index].set_color('r')\n",
    "\n",
    "# 그래프에 주석을 추가 \n",
    "plt.annotate(\n",
    "    f\"South Korea / rank : {korea_index + 1}, 총술소비량 : {korea_value}\", \n",
    "    # 주석데이터가 의미하는 막대의 좌표\n",
    "    xy = (korea_index, korea_value), \n",
    "    # 주석의 위치\n",
    "    xytext = (korea_index + 10, korea_value + 100) , \n",
    "    # 주석의 크기를 변경\n",
    "    fontsize = 20,\n",
    "    # 주석과 막대 사이에 화살표를 추가 \n",
    "    arrowprops= {\n",
    "        'facecolor' : 'r', \n",
    "        'edgecolor' : 'k', \n",
    "        'headwidth' : 20, \n",
    "        'headlength' : 20, \n",
    "        'width' : 10, \n",
    "        'shrink' : 0.1\n",
    "    }\n",
    ")\n",
    "\n",
    "# x축의 데이터들을 회전 \n",
    "plt.xticks(rotation=90)\n",
    "plt.show()"
   ]
  },
  {
   "cell_type": "markdown",
   "metadata": {},
   "source": [
    "- df 데이터를 이용한 그래프 시각화\n",
    "- 도수 컬럼을 기준으로 막대그래프 생성\n",
    "- 한국의 막대의 색을 변경 \n",
    "- 주석을 생성하여 South Korea : 랭킹(index+1), value : 도수 추가"
   ]
  },
  {
   "cell_type": "code",
   "execution_count": null,
   "metadata": {},
   "outputs": [],
   "source": [
    "df.head()"
   ]
  },
  {
   "cell_type": "code",
   "execution_count": 88,
   "metadata": {},
   "outputs": [],
   "source": [
    "# 한국이 몇번째 위치에 데이터가 존재하는가?\n",
    "flag = df['국가'] == 'South Korea'\n",
    "korea_index = df.loc[flag].index[0]\n",
    "korea_value = df.loc[korea_index, '도수']"
   ]
  },
  {
   "cell_type": "code",
   "execution_count": 94,
   "metadata": {},
   "outputs": [
    {
     "data": {
      "image/png": "[encoded data removed]",
      "text/plain": [
       "<Figure size 2000x800 with 1 Axes>"
      ]
     },
     "metadata": {},
     "output_type": "display_data"
    }
   ],
   "source": [
    "# 막대 그래프를 생성 \n",
    "# x 데이터 : df의 인덱스 값\n",
    "x = df.index\n",
    "# y 데이터 :df의 도수 컬럼의 데이터\n",
    "y = df['도수']\n",
    "\n",
    "# 그래프의 크기를 변경\n",
    "plt.figure(figsize=(20, 8))\n",
    "graph = plt.bar(x, y)\n",
    "# 특정 막대의 색상을 변경\n",
    "graph[korea_index].set_color('k')\n",
    "\n",
    "# 그래프에 주석을 추가 \n",
    "plt.annotate(\n",
    "    # 주석의 텍스트를 입력\n",
    "    f\"South Korea Rank : {korea_index + 1}, 도수 : {korea_value}\", \n",
    "    # 주석이 설명하는 막대의 위치 \n",
    "    xy = (korea_index, korea_value),\n",
    "    # 주석의 위치\n",
    "    xytext= (korea_index + 10, korea_value+10),\n",
    "    # 화살표를 추가 (주석의 위치부터 주석이 설명하는 막대의 위치)\n",
    "    arrowprops= {\n",
    "        # 화살표의 내부의 색상\n",
    "        'facecolor' : 'r', \n",
    "        # 화살표 테두리의 색상\n",
    "        'edgecolor' : 'k', \n",
    "        # 화살표 머리의 너비 \n",
    "        'headwidth' : 20, \n",
    "        # 화살표 머리의 길이\n",
    "        'headlength' : 20, \n",
    "        # 화살표 꼬리의 너비 \n",
    "        'width' : 10, \n",
    "        # 화살표와 주석 사이의 거리 (비율)\n",
    "        'shrink' : 0.1\n",
    "    }\n",
    "\n",
    ")\n",
    "\n",
    "plt.show()"
   ]
  },
  {
   "cell_type": "code",
   "execution_count": null,
   "metadata": {},
   "outputs": [],
   "source": []
  }
 ],
 "metadata": {
  "kernelspec": {
   "display_name": "Python 3",
   "language": "python",
   "name": "python3"
  },
  "language_info": {
   "codemirror_mode": {
    "name": "ipython",
    "version": 3
   },
   "file_extension": ".py",
   "mimetype": "text/x-python",
   "name": "python",
   "nbconvert_exporter": "python",
   "pygments_lexer": "ipython3",
   "version": "3.11.4"
  }
 },
 "nbformat": 4,
 "nbformat_minor": 2
}
