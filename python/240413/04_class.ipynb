{
 "cells": [
  {
   "cell_type": "code",
   "execution_count": 18,
   "metadata": {},
   "outputs": [],
   "source": [
    "class Test:\n",
    "    # 생성자 함수 \n",
    "    def __init__(self, values, index = \"\", columns = \"\"):\n",
    "        self.values = values\n",
    "        if not(index):\n",
    "            self.index = range(len(values))\n",
    "        else:\n",
    "            self.index = index\n",
    "        if not(columns):\n",
    "            self.columns = range(len(values[0]))\n",
    "        else:\n",
    "            self.columns = columns\n",
    "    # class를 호출할때 실행이 되는 함수 \n",
    "    def __repr__(self):\n",
    "        for i in self.values:\n",
    "            print(i)\n",
    "        return \"\"\n",
    "\n",
    "    def index_drop(self, index, inplace=False):\n",
    "        if inplace:\n",
    "            del self.values[index]\n",
    "        else:\n",
    "            result = self.values.copy()\n",
    "            del result[index]\n",
    "            return result"
   ]
  },
  {
   "cell_type": "code",
   "execution_count": 19,
   "metadata": {},
   "outputs": [],
   "source": [
    "# Test Class 생성\n",
    "df = Test(\n",
    "    [\n",
    "        [1,2,3], \n",
    "        [4,5,6], \n",
    "        [7,8,9]\n",
    "    ]\n",
    ")"
   ]
  },
  {
   "cell_type": "code",
   "execution_count": 20,
   "metadata": {},
   "outputs": [
    {
     "name": "stdout",
     "output_type": "stream",
     "text": [
      "range(0, 3)\n",
      "range(0, 3)\n",
      "[[1, 2, 3], [4, 5, 6], [7, 8, 9]]\n"
     ]
    }
   ],
   "source": [
    "print(df.index)\n",
    "print(df.columns)\n",
    "print(df.values)"
   ]
  },
  {
   "cell_type": "code",
   "execution_count": 23,
   "metadata": {},
   "outputs": [],
   "source": [
    "df.index_drop(0, inplace=True)"
   ]
  },
  {
   "cell_type": "code",
   "execution_count": 24,
   "metadata": {},
   "outputs": [
    {
     "name": "stdout",
     "output_type": "stream",
     "text": [
      "[4, 5, 6]\n",
      "[7, 8, 9]\n"
     ]
    },
    {
     "data": {
      "text/plain": []
     },
     "execution_count": 24,
     "metadata": {},
     "output_type": "execute_result"
    }
   ],
   "source": [
    "df"
   ]
  },
  {
   "cell_type": "code",
   "execution_count": null,
   "metadata": {},
   "outputs": [],
   "source": []
  }
 ],
 "metadata": {
  "kernelspec": {
   "display_name": "Python 3",
   "language": "python",
   "name": "python3"
  },
  "language_info": {
   "codemirror_mode": {
    "name": "ipython",
    "version": 3
   },
   "file_extension": ".py",
   "mimetype": "text/x-python",
   "name": "python",
   "nbconvert_exporter": "python",
   "pygments_lexer": "ipython3",
   "version": "3.11.4"
  }
 },
 "nbformat": 4,
 "nbformat_minor": 2
}
