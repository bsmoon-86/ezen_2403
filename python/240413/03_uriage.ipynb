{
 "cells": [
  {
   "cell_type": "markdown",
   "metadata": {},
   "source": [
    "### uriage \n",
    "1. csv 폴더 안에 있는 uriage.csv 로드 \n",
    "2. 데이터프레임의 상단의 5개의 데이터를 추출 확인\n",
    "3. 데이터프레임의 정보를 확인 \n",
    "4. 데이터프레임에 결측치가 존재하는가?\n",
    "5. 데이터의 문제가 얼마나 있는가?"
   ]
  },
  {
   "cell_type": "code",
   "execution_count": null,
   "metadata": {},
   "outputs": [],
   "source": [
    "import pandas as pd"
   ]
  },
  {
   "cell_type": "code",
   "execution_count": null,
   "metadata": {},
   "outputs": [],
   "source": [
    "df = pd.read_csv(\"../csv/uriage.csv\")"
   ]
  },
  {
   "cell_type": "code",
   "execution_count": null,
   "metadata": {},
   "outputs": [],
   "source": [
    "df.head()"
   ]
  },
  {
   "cell_type": "code",
   "execution_count": null,
   "metadata": {},
   "outputs": [],
   "source": [
    "df.info()"
   ]
  },
  {
   "cell_type": "code",
   "execution_count": null,
   "metadata": {},
   "outputs": [],
   "source": [
    "df.isna().sum()"
   ]
  },
  {
   "cell_type": "code",
   "execution_count": null,
   "metadata": {},
   "outputs": [],
   "source": [
    "df.describe()"
   ]
  },
  {
   "cell_type": "markdown",
   "metadata": {},
   "source": [
    "### uriage 데이터에서 문제점 \n",
    "1. item_name의 데이터가 대/소문자 문제\n",
    "    - 모든 문자열을 대문자나 아니면 소문자로 통일\n",
    "    - upper(), lower()\n",
    "2. item_name의 데이터가 문자열 사이에 공백 존재 \n",
    "    - 문자열 사이의 공백을 제거 \n",
    "    - strip() : 문자열 시작과 끝에 있는 공백을 제거 \n",
    "    - replace() : 특정 문자를 선택하여 다른 문자로 대체"
   ]
  },
  {
   "cell_type": "code",
   "execution_count": null,
   "metadata": {},
   "outputs": [],
   "source": [
    "df.loc[2, 'item_name'] = df.loc[2,'item_name'].upper()"
   ]
  },
  {
   "cell_type": "code",
   "execution_count": null,
   "metadata": {},
   "outputs": [],
   "source": [
    "df.head()"
   ]
  },
  {
   "cell_type": "code",
   "execution_count": null,
   "metadata": {},
   "outputs": [],
   "source": [
    "len(df)"
   ]
  },
  {
   "cell_type": "code",
   "execution_count": null,
   "metadata": {},
   "outputs": [],
   "source": [
    "# case 1 ( for문을 이용하여 item_name의 데이터들을 모두 대문자로 변경 )\n",
    "df2 = df.copy()\n",
    "# for i in range(0, len(df2), 1):\n",
    "for i in range(len(df2)):\n",
    "    # print(i)\n",
    "    df2.loc[i, 'item_name'] = df2.loc[i, 'item_name'].upper()\n",
    "df2.head()"
   ]
  },
  {
   "cell_type": "code",
   "execution_count": null,
   "metadata": {},
   "outputs": [],
   "source": [
    "# case2 (map 함수를 이용하여 문자를 변경)\n",
    "# Series.map(함수) --> 함수의 종류 (일반 def 함수, lambda함수)\n",
    "def change(x):\n",
    "    # print(type(x), x)\n",
    "    return x.lower()\n",
    "df2['item_name'].map(change)"
   ]
  },
  {
   "cell_type": "code",
   "execution_count": null,
   "metadata": {},
   "outputs": [],
   "source": [
    "df2['item_name'].map(\n",
    "    lambda x : x.lower()\n",
    ")"
   ]
  },
  {
   "cell_type": "code",
   "execution_count": null,
   "metadata": {},
   "outputs": [],
   "source": [
    "# case3 (while 문)\n",
    "# 초기 값을 지정\n",
    "i = 0\n",
    "# while 조건식 (해당 조건식이 거짓이 될때까지 반복 실행)\n",
    "while i < len(df2):\n",
    "    # 반복 실행 할 코드 \n",
    "    df2.loc[i, 'item_name'] = df2.loc[i, 'item_name'].lower()\n",
    "    # i의 값을 1씩 증가\n",
    "    i += 1\n",
    "df2.head()"
   ]
  },
  {
   "cell_type": "code",
   "execution_count": null,
   "metadata": {},
   "outputs": [],
   "source": [
    "# case4 ( Series에서 문자열 함수를 사용 )\n",
    "df['item_name'].str.upper()"
   ]
  },
  {
   "cell_type": "code",
   "execution_count": null,
   "metadata": {},
   "outputs": [],
   "source": [
    "## item_name에 있는 문자열 사이의 공백을 제거 \n",
    "df['item_name'].str.replace(\" \", \"\")"
   ]
  },
  {
   "cell_type": "code",
   "execution_count": null,
   "metadata": {},
   "outputs": [],
   "source": [
    "df['item_name'].str.upper().str.replace(\" \", \"\")"
   ]
  },
  {
   "cell_type": "code",
   "execution_count": null,
   "metadata": {},
   "outputs": [],
   "source": [
    "a = df['item_name'].str.upper()\n",
    "df['item_name'] = a.str.replace(\" \", \"\")"
   ]
  },
  {
   "cell_type": "code",
   "execution_count": null,
   "metadata": {},
   "outputs": [],
   "source": [
    "df.head()"
   ]
  },
  {
   "cell_type": "markdown",
   "metadata": {},
   "source": [
    "### 결측치를 특정 데이터로 대체\n",
    "1. item_name이 상품A인 데이터만 추출 \n",
    "2. 상품A이고 item_price가 결측치인 데이터만 추출 \n",
    "3. 상품A이고 item_price가 결측치가 아닌 데이터만 추출"
   ]
  },
  {
   "cell_type": "code",
   "execution_count": null,
   "metadata": {},
   "outputs": [],
   "source": [
    "# 인덱스의 조건식을 생성 \n",
    "flag = df['item_name'] == '상품A'\n",
    "flag_null = df['item_price'].isna()"
   ]
  },
  {
   "cell_type": "code",
   "execution_count": null,
   "metadata": {},
   "outputs": [],
   "source": [
    "flag_null"
   ]
  },
  {
   "cell_type": "code",
   "execution_count": null,
   "metadata": {},
   "outputs": [],
   "source": [
    "# item_name이 상품A이고 item_price가 결측치인 데이터를 출력\n",
    "df.loc[flag & flag_null]"
   ]
  },
  {
   "cell_type": "code",
   "execution_count": null,
   "metadata": {},
   "outputs": [],
   "source": [
    "# item_name이 상품A이고 item_price가 결측치가 아닌(flag_null의 부정) 데이터를 출력 \n",
    "df.loc[flag & ~flag_null, 'item_price'].value_counts()"
   ]
  },
  {
   "cell_type": "code",
   "execution_count": null,
   "metadata": {},
   "outputs": [],
   "source": [
    "mean_data = df.loc[flag & ~flag_null, 'item_price'].mean()\n",
    "mean_data"
   ]
  },
  {
   "cell_type": "code",
   "execution_count": null,
   "metadata": {},
   "outputs": [],
   "source": [
    "# item_name이 상품A이고 item_price가 결측치인 데이터에서 item_price 컬럼의 데이터만 출력\n",
    "# Series 데이터에 단일 데이터를 대입한다면 Series의 모든 value는 대입하는 단일 데이터로 변경\n",
    "df.loc[flag & flag_null, 'item_price'] = mean_data"
   ]
  },
  {
   "cell_type": "code",
   "execution_count": null,
   "metadata": {},
   "outputs": [],
   "source": [
    "df.loc[flag & flag_null]"
   ]
  },
  {
   "cell_type": "code",
   "execution_count": null,
   "metadata": {},
   "outputs": [],
   "source": [
    "## item_name에 데이터들에서 중복 데이터를 모두 제거하고 리스트형태로 데이터를 생성\n",
    "df['item_name']\n",
    "\n",
    "# 데이터가 추가될 공간을 생성 (빈 리스트 생성)\n",
    "item_list = []\n",
    "item_list2 = []\n",
    "item_list3 = []\n",
    "for i in range(len(df)):\n",
    "    data = df.loc[i, 'item_name']\n",
    "    # item_list에 data가 존재하는가?\n",
    "    # 존재하지 않는다면 item_list에 data를 추가 \n",
    "    # 존재한다면 아무 행동도 하지 않는다. \n",
    "    # in 연산자 : 포함 여부 \n",
    "    # case1\n",
    "    if data not in item_list:\n",
    "        item_list.append(data)\n",
    "    # case2\n",
    "    # list의 내장함수를 이용\n",
    "    # count() 이용하면 0과 같은 경우 : 데이터가 존재 하지 않는다. \n",
    "    # index() 이용하면 에러가 발생하는 경우 : 데이터가 존재 하지 않는다\n",
    "    if item_list2.count(data) == 0:\n",
    "        item_list2.append(data)\n",
    "    \n",
    "    # 시도한다. \n",
    "    try:\n",
    "        item_list3.index(data)\n",
    "    except:\n",
    "        # try의 코드가 에러가 발생한다면\n",
    "        item_list3.append(data)\n",
    "print(item_list)\n",
    "print(item_list2)\n",
    "print(item_list3)"
   ]
  },
  {
   "cell_type": "code",
   "execution_count": null,
   "metadata": {},
   "outputs": [],
   "source": [
    "# 집합(set) 데이터로 변환 : 중복데이터가 제거 \n",
    "set(df['item_name'])"
   ]
  },
  {
   "cell_type": "code",
   "execution_count": 66,
   "metadata": {},
   "outputs": [
    {
     "data": {
      "text/plain": [
       "array(['상품A', '상품S', '상품Z', '상품V', '상품O', '상품U', '상품L', '상품C', '상품I',\n",
       "       '상품R', '상품X', '상품G', '상품P', '상품Q', '상품Y', '상품N', '상품W', '상품E',\n",
       "       '상품K', '상품B', '상품F', '상품D', '상품M', '상품H', '상품T', '상품J'],\n",
       "      dtype=object)"
      ]
     },
     "execution_count": 66,
     "metadata": {},
     "output_type": "execute_result"
    }
   ],
   "source": [
    "# Series에서 중복 데이터를 제거하는 함수\n",
    "df['item_name'].unique()"
   ]
  }
 ],
 "metadata": {
  "kernelspec": {
   "display_name": "Python 3",
   "language": "python",
   "name": "python3"
  },
  "language_info": {
   "codemirror_mode": {
    "name": "ipython",
    "version": 3
   },
   "file_extension": ".py",
   "mimetype": "text/x-python",
   "name": "python",
   "nbconvert_exporter": "python",
   "pygments_lexer": "ipython3",
   "version": "3.11.4"
  }
 },
 "nbformat": 4,
 "nbformat_minor": 2
}
