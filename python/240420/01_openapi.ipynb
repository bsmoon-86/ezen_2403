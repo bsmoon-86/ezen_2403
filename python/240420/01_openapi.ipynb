{
 "cells": [
  {
   "cell_type": "code",
   "execution_count": null,
   "metadata": {},
   "outputs": [],
   "source": [
    "# 라이브러리 설치 \n",
    "# !pip install requests"
   ]
  },
  {
   "cell_type": "code",
   "execution_count": null,
   "metadata": {},
   "outputs": [],
   "source": [
    "# openapi에 데이터를 요청하기 위한 라이브러리 로드 \n",
    "import requests"
   ]
  },
  {
   "cell_type": "code",
   "execution_count": null,
   "metadata": {},
   "outputs": [],
   "source": [
    "# openapi의 주소를 변수에 저장 \n",
    "url = \"http://openapi.molit.go.kr/OpenAPI_ToolInstallPackage/service/rest/RTMSOBJSvc/getRTMSDataSvcAptTradeDev\"\n",
    "\n",
    "service_key = 'dtbWOdJ/Cz5HE0DGLU+CRPe7pOW0NIQBUcGEqsHZaTRiYCI/5+zugwzQjcvuId7NPdg6rUiW+ft3fm7yqyD4pw=='"
   ]
  },
  {
   "cell_type": "code",
   "execution_count": null,
   "metadata": {},
   "outputs": [],
   "source": [
    "param = {\n",
    "    'ServiceKey' : service_key, \n",
    "    'numOfRows' : 10, \n",
    "    'LAWD_CD' : 11110, \n",
    "    'DEAL_YMD' : 202401\n",
    "}\n",
    "\n",
    "response = requests.get(url, params=param)"
   ]
  },
  {
   "cell_type": "code",
   "execution_count": null,
   "metadata": {},
   "outputs": [],
   "source": [
    "from pprint import pprint"
   ]
  },
  {
   "cell_type": "code",
   "execution_count": null,
   "metadata": {},
   "outputs": [],
   "source": [
    "pprint(response.text)"
   ]
  },
  {
   "cell_type": "code",
   "execution_count": null,
   "metadata": {},
   "outputs": [],
   "source": [
    "# xml데이터를 dict형태로 변경을 시켜주는 라이브러리 설치 \n",
    "# !pip install xmltodict"
   ]
  },
  {
   "cell_type": "code",
   "execution_count": null,
   "metadata": {},
   "outputs": [],
   "source": [
    "# 라이브러리 로드 \n",
    "import xmltodict"
   ]
  },
  {
   "cell_type": "code",
   "execution_count": null,
   "metadata": {},
   "outputs": [],
   "source": [
    "# xml 데이터를 dict 형태로 데이터의 타입을 변환\n",
    "data = xmltodict.parse(response.content)"
   ]
  },
  {
   "cell_type": "code",
   "execution_count": null,
   "metadata": {},
   "outputs": [],
   "source": [
    "res_data = data['response']['body']['items']['item']"
   ]
  },
  {
   "cell_type": "code",
   "execution_count": null,
   "metadata": {},
   "outputs": [],
   "source": [
    "import pandas as pd"
   ]
  },
  {
   "cell_type": "code",
   "execution_count": null,
   "metadata": {},
   "outputs": [],
   "source": [
    "df = pd.DataFrame(res_data)"
   ]
  },
  {
   "cell_type": "code",
   "execution_count": null,
   "metadata": {},
   "outputs": [],
   "source": [
    "df.to_csv(\"아파트 실거래가.csv\")"
   ]
  },
  {
   "cell_type": "code",
   "execution_count": null,
   "metadata": {},
   "outputs": [],
   "source": [
    "# service_key와 같은 외부에 공유가 되면 문제가 되는 데이터들은 데이터를 숨긴다. (환경 변수 설정)\n",
    "# .env 파일에 공유가 되면 안되는 데이터들을 저장 \n",
    "# env 관련 기능 라이브러리 설치 \n",
    "# !pip install python-dotenv"
   ]
  },
  {
   "cell_type": "code",
   "execution_count": null,
   "metadata": {},
   "outputs": [],
   "source": [
    "# 라이브러리 로드 \n",
    "from dotenv import load_dotenv"
   ]
  },
  {
   "cell_type": "code",
   "execution_count": null,
   "metadata": {},
   "outputs": [],
   "source": [
    "# .env 파일을 로드 \n",
    "load_dotenv()"
   ]
  },
  {
   "cell_type": "code",
   "execution_count": null,
   "metadata": {},
   "outputs": [],
   "source": [
    "import os"
   ]
  },
  {
   "cell_type": "code",
   "execution_count": null,
   "metadata": {},
   "outputs": [],
   "source": [
    "print(os.getenv('service_key'))"
   ]
  },
  {
   "cell_type": "code",
   "execution_count": 27,
   "metadata": {},
   "outputs": [],
   "source": [
    "# openapi 함수 \n",
    "# 특정 주소에 요청을 보낸다 함수를 생성 \n",
    "def request_url(_url, _param):\n",
    "    response = requests.get(_url, params=_param)\n",
    "\n",
    "    result = response.content\n",
    "\n",
    "    return result"
   ]
  },
  {
   "cell_type": "code",
   "execution_count": 28,
   "metadata": {},
   "outputs": [
    {
     "name": "stdout",
     "output_type": "stream",
     "text": [
      "dict_keys([])\n"
     ]
    }
   ],
   "source": []
  },
  {
   "cell_type": "code",
   "execution_count": 29,
   "metadata": {},
   "outputs": [],
   "source": [
    "# parameter를 생성하는 함수 \n",
    "def create_param(_url, _keys, _values, _type = 'xml'):\n",
    "    # _key의 데이터와 _values 데이터들을 dict로 생성\n",
    "    params = dict()\n",
    "\n",
    "    # for문을 이용(변수가 2개)\n",
    "    for key, value in zip(_keys, _values):\n",
    "        params[key] = value\n",
    "    \n",
    "    # request_url함수를 호출\n",
    "    response_data = request_url(_url, params)\n",
    "    \n",
    "    # response_data를 xml인 경우 dict 형태로 변환\n",
    "    if _type == 'xml':\n",
    "        result = xmltodict.parse(response_data)\n",
    "    else:\n",
    "        result = response_data\n",
    "    return result\n"
   ]
  },
  {
   "cell_type": "code",
   "execution_count": 31,
   "metadata": {},
   "outputs": [],
   "source": [
    "# create_param함수를 호출 \n",
    "# 첫번째 인자 : openapi의 주소\n",
    "# 두번재 인자 : 요청변수의 key 값들을 리스트의 형태\n",
    "# 세번째 인자 : 요청변수에 맞는 value 값들을 리스트의 형태\n",
    "# 네번째 인자 : 기본값은 xml, 변경하려면 json\n",
    "service_key = os.getenv('service_key')\n",
    "# 두번째 인자 값을 생성\n",
    "_list = ['ServiceKey', 'numOfRows', 'LAWD_CD', 'DEAL_YMD']\n",
    "# 세번째 인자 값을 생성\n",
    "_list2 = [service_key, 5, 11110, 202312]\n",
    "data2 = create_param(\n",
    "    url, \n",
    "    _list, \n",
    "    _list2\n",
    ")"
   ]
  },
  {
   "cell_type": "code",
   "execution_count": 32,
   "metadata": {},
   "outputs": [
    {
     "data": {
      "text/plain": [
       "{'response': {'header': {'resultCode': '00', 'resultMsg': 'NORMAL SERVICE.'},\n",
       "  'body': {'items': {'item': [{'거래금액': '90,000',\n",
       "      '거래유형': '직거래',\n",
       "      '건축년도': '2007',\n",
       "      '년': '2023',\n",
       "      '도로명': '필운대로2길',\n",
       "      '도로명건물본번호코드': '00002',\n",
       "      '도로명건물부번호코드': '00000',\n",
       "      '도로명시군구코드': '11110',\n",
       "      '도로명일련번호코드': '03',\n",
       "      '도로명지상지하코드': '0',\n",
       "      '도로명코드': '4100525',\n",
       "      '동': None,\n",
       "      '등기일자': '23.12.20',\n",
       "      '매도자': None,\n",
       "      '매수자': None,\n",
       "      '법정동': '필운동',\n",
       "      '법정동본번코드': '0174',\n",
       "      '법정동부번코드': '0001',\n",
       "      '법정동시군구코드': '11110',\n",
       "      '법정동읍면동코드': '11300',\n",
       "      '법정동지번코드': '1',\n",
       "      '아파트': '두레엘리시안',\n",
       "      '월': '12',\n",
       "      '일': '1',\n",
       "      '일련번호': '11110-2175',\n",
       "      '전용면적': '84.74',\n",
       "      '중개사소재지': None,\n",
       "      '지번': '174-1',\n",
       "      '지역코드': '11110',\n",
       "      '층': '2',\n",
       "      '해제사유발생일': None,\n",
       "      '해제여부': None},\n",
       "     {'거래금액': '179,000',\n",
       "      '거래유형': '중개거래',\n",
       "      '건축년도': '2008',\n",
       "      '년': '2023',\n",
       "      '도로명': '사직로8길',\n",
       "      '도로명건물본번호코드': '00004',\n",
       "      '도로명건물부번호코드': '00000',\n",
       "      '도로명시군구코드': '11110',\n",
       "      '도로명일련번호코드': '03',\n",
       "      '도로명지상지하코드': '0',\n",
       "      '도로명코드': '4100135',\n",
       "      '동': '104',\n",
       "      '등기일자': '24.02.01',\n",
       "      '매도자': None,\n",
       "      '매수자': None,\n",
       "      '법정동': '사직동',\n",
       "      '법정동본번코드': '0009',\n",
       "      '법정동부번코드': '0000',\n",
       "      '법정동시군구코드': '11110',\n",
       "      '법정동읍면동코드': '11500',\n",
       "      '법정동지번코드': '1',\n",
       "      '아파트': '광화문스페이스본(101동~105동)',\n",
       "      '월': '12',\n",
       "      '일': '2',\n",
       "      '일련번호': '11110-2203',\n",
       "      '전용면적': '151.81',\n",
       "      '중개사소재지': '서울 종로구',\n",
       "      '지번': '9',\n",
       "      '지역코드': '11110',\n",
       "      '층': '11',\n",
       "      '해제사유발생일': None,\n",
       "      '해제여부': None},\n",
       "     {'거래금액': '280,000',\n",
       "      '거래유형': '중개거래',\n",
       "      '건축년도': '2020',\n",
       "      '년': '2023',\n",
       "      '도로명': '새문안로2길',\n",
       "      '도로명건물본번호코드': '00010',\n",
       "      '도로명건물부번호코드': '00000',\n",
       "      '도로명시군구코드': '11110',\n",
       "      '도로명일련번호코드': '01',\n",
       "      '도로명지상지하코드': '0',\n",
       "      '도로명코드': '4100157',\n",
       "      '동': None,\n",
       "      '등기일자': '24.02.22',\n",
       "      '매도자': None,\n",
       "      '매수자': None,\n",
       "      '법정동': '신문로2가',\n",
       "      '법정동본번코드': '0171',\n",
       "      '법정동부번코드': '0000',\n",
       "      '법정동시군구코드': '11110',\n",
       "      '법정동읍면동코드': '12100',\n",
       "      '법정동지번코드': '1',\n",
       "      '아파트': '디팰리스',\n",
       "      '월': '12',\n",
       "      '일': '11',\n",
       "      '일련번호': '11110-2539',\n",
       "      '전용면적': '118.749',\n",
       "      '중개사소재지': '서울 성동구',\n",
       "      '지번': '171',\n",
       "      '지역코드': '11110',\n",
       "      '층': '16',\n",
       "      '해제사유발생일': None,\n",
       "      '해제여부': None},\n",
       "     {'거래금액': '16,000',\n",
       "      '거래유형': '직거래',\n",
       "      '건축년도': '2017',\n",
       "      '년': '2023',\n",
       "      '도로명': '대학로',\n",
       "      '도로명건물본번호코드': '00033',\n",
       "      '도로명건물부번호코드': '00000',\n",
       "      '도로명시군구코드': '11110',\n",
       "      '도로명일련번호코드': '00',\n",
       "      '도로명지상지하코드': '0',\n",
       "      '도로명코드': '3100002',\n",
       "      '동': '포레스트힐시티',\n",
       "      '등기일자': '24.01.05',\n",
       "      '매도자': None,\n",
       "      '매수자': None,\n",
       "      '법정동': '효제동',\n",
       "      '법정동본번코드': '0065',\n",
       "      '법정동부번코드': '0002',\n",
       "      '법정동시군구코드': '11110',\n",
       "      '법정동읍면동코드': '16200',\n",
       "      '법정동지번코드': '1',\n",
       "      '아파트': '포레스트힐시티',\n",
       "      '월': '12',\n",
       "      '일': '26',\n",
       "      '일련번호': '11110-2440',\n",
       "      '전용면적': '18.505',\n",
       "      '중개사소재지': None,\n",
       "      '지번': '65-2',\n",
       "      '지역코드': '11110',\n",
       "      '층': '12',\n",
       "      '해제사유발생일': None,\n",
       "      '해제여부': None},\n",
       "     {'거래금액': '70,000',\n",
       "      '거래유형': '중개거래',\n",
       "      '건축년도': '1992',\n",
       "      '년': '2023',\n",
       "      '도로명': '동망산길',\n",
       "      '도로명건물본번호코드': '00019',\n",
       "      '도로명건물부번호코드': '00000',\n",
       "      '도로명시군구코드': '11110',\n",
       "      '도로명일련번호코드': '01',\n",
       "      '도로명지상지하코드': '0',\n",
       "      '도로명코드': '4100065',\n",
       "      '동': '102',\n",
       "      '등기일자': '24.01.12',\n",
       "      '매도자': None,\n",
       "      '매수자': None,\n",
       "      '법정동': '창신동',\n",
       "      '법정동본번코드': '0702',\n",
       "      '법정동부번코드': '0000',\n",
       "      '법정동시군구코드': '11110',\n",
       "      '법정동읍면동코드': '17400',\n",
       "      '법정동지번코드': '1',\n",
       "      '아파트': '창신쌍용1',\n",
       "      '월': '12',\n",
       "      '일': '2',\n",
       "      '일련번호': '11110-37',\n",
       "      '전용면적': '79.87',\n",
       "      '중개사소재지': '서울 종로구',\n",
       "      '지번': '702',\n",
       "      '지역코드': '11110',\n",
       "      '층': '10',\n",
       "      '해제사유발생일': None,\n",
       "      '해제여부': None}]},\n",
       "   'numOfRows': '5',\n",
       "   'pageNo': '1',\n",
       "   'totalCount': '20'}}}"
      ]
     },
     "execution_count": 32,
     "metadata": {},
     "output_type": "execute_result"
    }
   ],
   "source": [
    "data2"
   ]
  },
  {
   "cell_type": "code",
   "execution_count": 40,
   "metadata": {},
   "outputs": [],
   "source": [
    "# openapi 모듈을 로드 \n",
    "import openapi\n",
    "import importlib"
   ]
  },
  {
   "cell_type": "code",
   "execution_count": 41,
   "metadata": {},
   "outputs": [
    {
     "data": {
      "text/plain": [
       "<module 'openapi' from 'd:\\\\python\\\\ezen_2403\\\\python\\\\240420\\\\openapi.py'>"
      ]
     },
     "execution_count": 41,
     "metadata": {},
     "output_type": "execute_result"
    }
   ],
   "source": [
    "# 모듈을 강제 리로드 \n",
    "importlib.reload(openapi)"
   ]
  },
  {
   "cell_type": "code",
   "execution_count": 37,
   "metadata": {},
   "outputs": [],
   "source": [
    "# 코로나 데이터의 api 주소값을 변수에 저장 \n",
    "corona_url = 'http://apis.data.go.kr/1352000/ODMS_COVID_05/callCovid05Api'\n",
    "# 서비스키는 dotenv를 이용하여 로드 \n",
    "service_key = os.getenv('service_key')\n",
    "\n",
    "# openapi 안에 있는 request 함수를 호출 \n",
    "key_list = ['serviceKey', 'pageNo', 'numOfRows', 'apiType']\n",
    "value_list = [service_key, 1, 50, 'JSON']\n",
    "\n",
    "corona_data = openapi.request(\n",
    "    corona_url, \n",
    "    key_list, \n",
    "    value_list, \n",
    "    'json'\n",
    ")"
   ]
  },
  {
   "cell_type": "code",
   "execution_count": 39,
   "metadata": {},
   "outputs": [
    {
     "data": {
      "text/plain": [
       "b'{\"pageNo\":\"1\",\"resultCode\":\"00\",\"totalCount\":14916,\"items\":[{\"criticalRate\":\"5.26\",\"death\":\"600\",\"deathRate\":\"28.24\",\"confCaseRate\":\"5.37\",\"createDt\":\"2021-08-09\",\"confCase\":\"11409\",\"gubun\":\"70-79\"},{\"criticalRate\":\"5.41\",\"death\":\"591\",\"deathRate\":\"28.37\",\"confCaseRate\":\"5.95\",\"createDt\":\"2021-07-28\",\"confCase\":\"10922\",\"gubun\":\"70-79\"},{\"criticalRate\":\"2.94\",\"death\":\"1\",\"deathRate\":\"100.00\",\"confCaseRate\":\"41.46\",\"createDt\":\"2020-02-20\",\"confCase\":\"34\",\"gubun\":\"\\xeb\\x82\\xa8\\xec\\x84\\xb1\"},{\"criticalRate\":\"0.07\",\"death\":\"15\",\"deathRate\":\"0.78\",\"confCaseRate\":\"15.00\",\"createDt\":\"2021-05-24\",\"confCase\":\"20474\",\"gubun\":\"40-49\"},{\"criticalRate\":\"1.68\",\"death\":\"275\",\"deathRate\":\"52.28\",\"confCaseRate\":\"47.72\",\"createDt\":\"2020-11-30\",\"confCase\":\"16321\",\"gubun\":\"\\xeb\\x82\\xa8\\xec\\x84\\xb1\"},{\"criticalRate\":\"0.04\",\"death\":\"7\",\"deathRate\":\"0.38\",\"confCaseRate\":\"13.45\",\"createDt\":\"2021-04-27\",\"confCase\":\"16121\",\"gubun\":\"30-39\"},{\"criticalRate\":\"0.04\",\"death\":\"21\",\"deathRate\":\"0.81\",\"confCaseRate\":\"15.95\",\"createDt\":\"2021-10-11\",\"confCase\":\"53084\",\"gubun\":\"30-39\"},{\"criticalRate\":\"2.78\",\"death\":\"38\",\"deathRate\":\"14.39\",\"confCaseRate\":\"12.29\",\"createDt\":\"2020-05-22\",\"confCase\":\"1369\",\"gubun\":\"60-69\"},{\"criticalRate\":\"0.12\",\"death\":\"14197\",\"deathRate\":\"48.96\",\"confCaseRate\":\"46.73\",\"createDt\":\"2022-10-24\",\"confCase\":\"11827121\",\"gubun\":\"\\xeb\\x82\\xa8\\xec\\x84\\xb1\"},{\"criticalRate\":\"0.21\",\"death\":\"1493\",\"deathRate\":\"13.51\",\"confCaseRate\":\"9.27\",\"createDt\":\"2022-03-16\",\"confCase\":\"707136\",\"gubun\":\"60-69\"},{\"criticalRate\":\"1.77\",\"death\":\"792\",\"deathRate\":\"50.25\",\"confCaseRate\":\"50.72\",\"createDt\":\"2021-02-24\",\"confCase\":\"44688\",\"gubun\":\"\\xec\\x97\\xac\\xec\\x84\\xb1\"},{\"criticalRate\":\"2.69\",\"death\":\"14424\",\"deathRate\":\"58.82\",\"confCaseRate\":\"2.92\",\"createDt\":\"2022-06-26\",\"confCase\":\"535253\",\"gubun\":\"80 \\xec\\x9d\\xb4\\xec\\x83\\x81\"},{\"criticalRate\":\"3.68\",\"death\":\"1339\",\"deathRate\":\"26.70\",\"confCaseRate\":\"6.17\",\"createDt\":\"2021-12-23\",\"confCase\":\"36415\",\"gubun\":\"70-79\"},{\"criticalRate\":\"0\",\"death\":\"37\",\"deathRate\":\"0.11\",\"confCaseRate\":\"10.14\",\"createDt\":\"2023-03-09\",\"confCase\":\"3101848\",\"gubun\":\"0-9\"},{\"criticalRate\":\"\",\"death\":\"\",\"deathRate\":\"\",\"confCaseRate\":\"0.00\",\"createDt\":\"2020-01-29\",\"confCase\":\"0\",\"gubun\":\"80 \\xec\\x9d\\xb4\\xec\\x83\\x81\"},{\"criticalRate\":\"0.04\",\"death\":\"31\",\"deathRate\":\"0.65\",\"confCaseRate\":\"14.61\",\"createDt\":\"2021-12-20\",\"confCase\":\"83313\",\"gubun\":\"30-39\"},{\"criticalRate\":\"0.00\",\"death\":\"9\",\"deathRate\":\"0.04\",\"confCaseRate\":\"13.10\",\"createDt\":\"2022-06-18\",\"confCase\":\"2392951\",\"gubun\":\"10-19\"},{\"criticalRate\":\"20.26\",\"death\":\"770\",\"deathRate\":\"55.88\",\"confCaseRate\":\"4.97\",\"createDt\":\"2021-01-27\",\"confCase\":\"3801\",\"gubun\":\"80 \\xec\\x9d\\xb4\\xec\\x83\\x81\"},{\"criticalRate\":\"0.17\",\"death\":\"2\",\"deathRate\":\"0.83\",\"confCaseRate\":\"10.66\",\"createDt\":\"2020-04-25\",\"confCase\":\"1143\",\"gubun\":\"30-39\"},{\"criticalRate\":\"0.45\",\"death\":\"7720\",\"deathRate\":\"22.69\",\"confCaseRate\":\"5.59\",\"createDt\":\"2023-03-03\",\"confCase\":\"1707949\",\"gubun\":\"70-79\"},{\"criticalRate\":\"0.04\",\"death\":\"7\",\"deathRate\":\"0.38\",\"confCaseRate\":\"13.49\",\"createDt\":\"2021-05-02\",\"confCase\":\"16623\",\"gubun\":\"30-39\"},{\"criticalRate\":\"0.00\",\"death\":\"0\",\"deathRate\":\"0.00\",\"confCaseRate\":\"15.86\",\"createDt\":\"2021-01-03\",\"confCase\":\"10029\",\"gubun\":\"20-29\"},{\"criticalRate\":\"0.05\",\"death\":\"19\",\"deathRate\":\"0.89\",\"confCaseRate\":\"15.87\",\"createDt\":\"2021-08-13\",\"confCase\":\"34932\",\"gubun\":\"40-49\"},{\"criticalRate\":\"0\",\"death\":\"138\",\"deathRate\":\"0.46\",\"confCaseRate\":\"14.57\",\"createDt\":\"2022-11-15\",\"confCase\":\"3829371\",\"gubun\":\"30-39\"},{\"criticalRate\":\"1.05\",\"death\":\"249\",\"deathRate\":\"12.18\",\"confCaseRate\":\"14.04\",\"createDt\":\"2021-07-12\",\"confCase\":\"23743\",\"gubun\":\"60-69\"},{\"criticalRate\":\"0.41\",\"death\":\"5\",\"deathRate\":\"11.90\",\"confCaseRate\":\"19.30\",\"createDt\":\"2020-03-06\",\"confCase\":\"1213\",\"gubun\":\"50-59\"},{\"criticalRate\":\"0\",\"death\":\"24\",\"deathRate\":\"0.07\",\"confCaseRate\":\"12.26\",\"createDt\":\"2023-08-22\",\"confCase\":\"4194959\",\"gubun\":\"10-19\"},{\"criticalRate\":\"0.82\",\"death\":\"1505\",\"deathRate\":\"49.33\",\"confCaseRate\":\"46.91\",\"createDt\":\"2021-11-12\",\"confCase\":\"183269\",\"gubun\":\"\\xec\\x97\\xac\\xec\\x84\\xb1\"},{\"criticalRate\":\"0\",\"death\":\"0\",\"deathRate\":\"0\",\"confCaseRate\":\"3.49\",\"createDt\":\"2023-06-30\",\"confCase\":\"1126367\",\"gubun\":\"80 \\xec\\x9d\\xb4\\xec\\x83\\x81\"},{\"criticalRate\":\"0.31\",\"death\":\"54\",\"deathRate\":\"3.28\",\"confCaseRate\":\"18.55\",\"createDt\":\"2021-03-09\",\"confCase\":\"17301\",\"gubun\":\"50-59\"},{\"criticalRate\":\"0.04\",\"death\":\"35\",\"deathRate\":\"0.65\",\"confCaseRate\":\"14.54\",\"createDt\":\"2021-12-29\",\"confCase\":\"90292\",\"gubun\":\"30-39\"},{\"criticalRate\":\"1.94\",\"death\":\"20389\",\"deathRate\":\"59.62\",\"confCaseRate\":\"3.42\",\"createDt\":\"2023-03-23\",\"confCase\":\"1049965\",\"gubun\":\"80 \\xec\\x9d\\xb4\\xec\\x83\\x81\"},{\"criticalRate\":\"0.00\",\"death\":\"0\",\"deathRate\":\"0.00\",\"confCaseRate\":\"3.48\",\"createDt\":\"2021-01-03\",\"confCase\":\"2203\",\"gubun\":\"0-9\"},{\"criticalRate\":\"0.00\",\"death\":\"0\",\"deathRate\":\"0.00\",\"confCaseRate\":\"8.42\",\"createDt\":\"2021-08-30\",\"confCase\":\"21060\",\"gubun\":\"10-19\"},{\"criticalRate\":\"0\",\"death\":\"16\",\"deathRate\":\"0\",\"confCaseRate\":\"13\",\"createDt\":\"2022-10-06\",\"confCase\":\"3185877\",\"gubun\":\"10-19\"},{\"criticalRate\":\"0.01\",\"death\":\"327\",\"deathRate\":\"1.34\",\"confCaseRate\":\"15.43\",\"createDt\":\"2022-06-19\",\"confCase\":\"2820255\",\"gubun\":\"40-49\"},{\"criticalRate\":\"1\",\"death\":\"368\",\"deathRate\":\"14.38\",\"confCaseRate\":\"11.16\",\"createDt\":\"2021-10-09\",\"confCase\":\"36806\",\"gubun\":\"60-69\"},{\"criticalRate\":\"1.69\",\"death\":\"582\",\"deathRate\":\"49.11\",\"confCaseRate\":\"49.00\",\"createDt\":\"2021-01-13\",\"confCase\":\"34391\",\"gubun\":\"\\xeb\\x82\\xa8\\xec\\x84\\xb1\"},{\"criticalRate\":\"1\",\"death\":\"435\",\"deathRate\":\"14.51\",\"confCaseRate\":\"11.52\",\"createDt\":\"2021-11-09\",\"confCase\":\"44175\",\"gubun\":\"60-69\"},{\"criticalRate\":\"0\",\"death\":\"67\",\"deathRate\":\"0\",\"confCaseRate\":\"15\",\"createDt\":\"2022-09-02\",\"confCase\":\"3489487\",\"gubun\":\"20-29\"},{\"criticalRate\":\"0\",\"death\":\"18\",\"deathRate\":\"0.06\",\"confCaseRate\":\"12.65\",\"createDt\":\"2022-12-16\",\"confCase\":\"3550472\",\"gubun\":\"10-19\"},{\"criticalRate\":\"0.21\",\"death\":\"3\",\"deathRate\":\"1.20\",\"confCaseRate\":\"13.27\",\"createDt\":\"2020-05-03\",\"confCase\":\"1432\",\"gubun\":\"40-49\"},{\"criticalRate\":\"0.03\",\"death\":\"1452\",\"deathRate\":\"4.05\",\"confCaseRate\":\"13.11\",\"createDt\":\"2023-08-28\",\"confCase\":\"4514538\",\"gubun\":\"50-59\"},{\"criticalRate\":\"0.00\",\"death\":\"0\",\"deathRate\":\"0.00\",\"confCaseRate\":\"4.10\",\"createDt\":\"2021-03-06\",\"confCase\":\"3775\",\"gubun\":\"0-9\"},{\"criticalRate\":\"0.11\",\"death\":\"17587\",\"deathRate\":\"49.4\",\"confCaseRate\":\"46\",\"createDt\":\"2023-08-17\",\"confCase\":\"15653860\",\"gubun\":\"\\xeb\\x82\\xa8\\xec\\x84\\xb1\"},{\"criticalRate\":\"0\",\"death\":\"22\",\"deathRate\":\"0.06\",\"confCaseRate\":\"12.43\",\"createDt\":\"2023-03-14\",\"confCase\":\"3808637\",\"gubun\":\"10-19\"},{\"criticalRate\":\"0.11\",\"death\":\"15706\",\"deathRate\":\"51.11\",\"confCaseRate\":\"53.47\",\"createDt\":\"2022-12-04\",\"confCase\":\"14602366\",\"gubun\":\"\\xec\\x97\\xac\\xec\\x84\\xb1\"},{\"criticalRate\":\"1.77\",\"death\":\"113\",\"deathRate\":\"47.08\",\"confCaseRate\":\"59.64\",\"createDt\":\"2020-04-25\",\"confCase\":\"6392\",\"gubun\":\"\\xec\\x97\\xac\\xec\\x84\\xb1\"},{\"criticalRate\":\"0\",\"death\":\"136\",\"deathRate\":\"0.47\",\"confCaseRate\":\"14.59\",\"createDt\":\"2022-10-12\",\"confCase\":\"3651911\",\"gubun\":\"30-39\"},{\"criticalRate\":\"0.06\",\"death\":\"25\",\"deathRate\":\"1.06\",\"confCaseRate\":\"15.99\",\"createDt\":\"2021-09-13\",\"confCase\":\"43870\",\"gubun\":\"40-49\"}],\"numOfRows\":\"50\",\"resultMsg\":\"NORMAL SERVICE\"}'"
      ]
     },
     "execution_count": 39,
     "metadata": {},
     "output_type": "execute_result"
    }
   ],
   "source": [
    "corona_data"
   ]
  },
  {
   "cell_type": "code",
   "execution_count": null,
   "metadata": {},
   "outputs": [],
   "source": []
  }
 ],
 "metadata": {
  "kernelspec": {
   "display_name": "Python 3",
   "language": "python",
   "name": "python3"
  },
  "language_info": {
   "codemirror_mode": {
    "name": "ipython",
    "version": 3
   },
   "file_extension": ".py",
   "mimetype": "text/x-python",
   "name": "python",
   "nbconvert_exporter": "python",
   "pygments_lexer": "ipython3",
   "version": "3.11.4"
  }
 },
 "nbformat": 4,
 "nbformat_minor": 2
}
