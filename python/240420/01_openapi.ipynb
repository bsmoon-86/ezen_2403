{
 "cells": [
  {
   "cell_type": "code",
   "execution_count": null,
   "metadata": {},
   "outputs": [],
   "source": [
    "# 라이브러리 설치 \n",
    "# !pip install requests"
   ]
  },
  {
   "cell_type": "code",
   "execution_count": null,
   "metadata": {},
   "outputs": [],
   "source": [
    "# openapi에 데이터를 요청하기 위한 라이브러리 로드 \n",
    "import requests"
   ]
  },
  {
   "cell_type": "code",
   "execution_count": null,
   "metadata": {},
   "outputs": [],
   "source": [
    "# openapi의 주소를 변수에 저장 \n",
    "url = \"http://openapi.molit.go.kr/OpenAPI_ToolInstallPackage/service/rest/RTMSOBJSvc/getRTMSDataSvcAptTradeDev\"\n",
    "\n",
    "service_key = 'dtbWOdJ/Cz5HE0DGLU+CRPe7pOW0NIQBUcGEqsHZaTRiYCI/5+zugwzQjcvuId7NPdg6rUiW+ft3fm7yqyD4pw=='"
   ]
  },
  {
   "cell_type": "code",
   "execution_count": null,
   "metadata": {},
   "outputs": [],
   "source": [
    "param = {\n",
    "    'ServiceKey' : service_key, \n",
    "    'numOfRows' : 10, \n",
    "    'LAWD_CD' : 11110, \n",
    "    'DEAL_YMD' : 202401\n",
    "}\n",
    "\n",
    "response = requests.get(url, params=param)"
   ]
  },
  {
   "cell_type": "code",
   "execution_count": null,
   "metadata": {},
   "outputs": [],
   "source": [
    "from pprint import pprint"
   ]
  },
  {
   "cell_type": "code",
   "execution_count": null,
   "metadata": {},
   "outputs": [],
   "source": [
    "pprint(response.text)"
   ]
  },
  {
   "cell_type": "code",
   "execution_count": null,
   "metadata": {},
   "outputs": [],
   "source": [
    "# xml데이터를 dict형태로 변경을 시켜주는 라이브러리 설치 \n",
    "# !pip install xmltodict"
   ]
  },
  {
   "cell_type": "code",
   "execution_count": null,
   "metadata": {},
   "outputs": [],
   "source": [
    "# 라이브러리 로드 \n",
    "import xmltodict"
   ]
  },
  {
   "cell_type": "code",
   "execution_count": null,
   "metadata": {},
   "outputs": [],
   "source": [
    "# xml 데이터를 dict 형태로 데이터의 타입을 변환\n",
    "data = xmltodict.parse(response.content)"
   ]
  },
  {
   "cell_type": "code",
   "execution_count": null,
   "metadata": {},
   "outputs": [],
   "source": [
    "res_data = data['response']['body']['items']['item']"
   ]
  },
  {
   "cell_type": "code",
   "execution_count": null,
   "metadata": {},
   "outputs": [],
   "source": [
    "import pandas as pd"
   ]
  },
  {
   "cell_type": "code",
   "execution_count": null,
   "metadata": {},
   "outputs": [],
   "source": [
    "df = pd.DataFrame(res_data)"
   ]
  },
  {
   "cell_type": "code",
   "execution_count": null,
   "metadata": {},
   "outputs": [],
   "source": [
    "df.to_csv(\"아파트 실거래가.csv\")"
   ]
  },
  {
   "cell_type": "code",
   "execution_count": null,
   "metadata": {},
   "outputs": [],
   "source": [
    "# service_key와 같은 외부에 공유가 되면 문제가 되는 데이터들은 데이터를 숨긴다. (환경 변수 설정)\n",
    "# .env 파일에 공유가 되면 안되는 데이터들을 저장 \n",
    "# env 관련 기능 라이브러리 설치 \n",
    "# !pip install python-dotenv"
   ]
  },
  {
   "cell_type": "code",
   "execution_count": null,
   "metadata": {},
   "outputs": [],
   "source": [
    "# 라이브러리 로드 \n",
    "from dotenv import load_dotenv"
   ]
  },
  {
   "cell_type": "code",
   "execution_count": null,
   "metadata": {},
   "outputs": [],
   "source": [
    "# .env 파일을 로드 \n",
    "load_dotenv()"
   ]
  },
  {
   "cell_type": "code",
   "execution_count": null,
   "metadata": {},
   "outputs": [],
   "source": [
    "import os"
   ]
  },
  {
   "cell_type": "code",
   "execution_count": null,
   "metadata": {},
   "outputs": [],
   "source": [
    "print(os.getenv('service_key'))"
   ]
  },
  {
   "cell_type": "code",
   "execution_count": 27,
   "metadata": {},
   "outputs": [],
   "source": [
    "# openapi 함수 \n",
    "# 특정 주소에 요청을 보낸다 함수를 생성 \n",
    "def request_url(_url, _param):\n",
    "    response = requests.get(_url, params=_param)\n",
    "\n",
    "    result = response.content\n",
    "\n",
    "    return result"
   ]
  },
  {
   "cell_type": "code",
   "execution_count": 28,
   "metadata": {},
   "outputs": [
    {
     "name": "stdout",
     "output_type": "stream",
     "text": [
      "dict_keys([])\n"
     ]
    }
   ],
   "source": []
  },
  {
   "cell_type": "code",
   "execution_count": 29,
   "metadata": {},
   "outputs": [],
   "source": [
    "# parameter를 생성하는 함수 \n",
    "def create_param(_url, _keys, _values, _type = 'xml'):\n",
    "    # _key의 데이터와 _values 데이터들을 dict로 생성\n",
    "    params = dict()\n",
    "\n",
    "    # for문을 이용(변수가 2개)\n",
    "    for key, value in zip(_keys, _values):\n",
    "        params[key] = value\n",
    "    \n",
    "    # request_url함수를 호출\n",
    "    response_data = request_url(_url, params)\n",
    "    \n",
    "    # response_data를 xml인 경우 dict 형태로 변환\n",
    "    if _type == 'xml':\n",
    "        result = xmltodict.parse(response_data)\n",
    "    else:\n",
    "        result = response_data\n",
    "    return result\n"
   ]
  },
  {
   "cell_type": "code",
   "execution_count": 31,
   "metadata": {},
   "outputs": [],
   "source": [
    "# create_param함수를 호출 \n",
    "# 첫번째 인자 : openapi의 주소\n",
    "# 두번재 인자 : 요청변수의 key 값들을 리스트의 형태\n",
    "# 세번째 인자 : 요청변수에 맞는 value 값들을 리스트의 형태\n",
    "# 네번째 인자 : 기본값은 xml, 변경하려면 json\n",
    "service_key = os.getenv('service_key')\n",
    "# 두번째 인자 값을 생성\n",
    "_list = ['ServiceKey', 'numOfRows', 'LAWD_CD', 'DEAL_YMD']\n",
    "# 세번째 인자 값을 생성\n",
    "_list2 = [service_key, 5, 11110, 202312]\n",
    "data2 = create_param(\n",
    "    url, \n",
    "    _list, \n",
    "    _list2\n",
    ")"
   ]
  },
  {
   "cell_type": "code",
   "execution_count": 32,
   "metadata": {},
   "outputs": [
    {
     "data": {
      "text/plain": [
       "{'response': {'header': {'resultCode': '00', 'resultMsg': 'NORMAL SERVICE.'},\n",
       "  'body': {'items': {'item': [{'거래금액': '90,000',\n",
       "      '거래유형': '직거래',\n",
       "      '건축년도': '2007',\n",
       "      '년': '2023',\n",
       "      '도로명': '필운대로2길',\n",
       "      '도로명건물본번호코드': '00002',\n",
       "      '도로명건물부번호코드': '00000',\n",
       "      '도로명시군구코드': '11110',\n",
       "      '도로명일련번호코드': '03',\n",
       "      '도로명지상지하코드': '0',\n",
       "      '도로명코드': '4100525',\n",
       "      '동': None,\n",
       "      '등기일자': '23.12.20',\n",
       "      '매도자': None,\n",
       "      '매수자': None,\n",
       "      '법정동': '필운동',\n",
       "      '법정동본번코드': '0174',\n",
       "      '법정동부번코드': '0001',\n",
       "      '법정동시군구코드': '11110',\n",
       "      '법정동읍면동코드': '11300',\n",
       "      '법정동지번코드': '1',\n",
       "      '아파트': '두레엘리시안',\n",
       "      '월': '12',\n",
       "      '일': '1',\n",
       "      '일련번호': '11110-2175',\n",
       "      '전용면적': '84.74',\n",
       "      '중개사소재지': None,\n",
       "      '지번': '174-1',\n",
       "      '지역코드': '11110',\n",
       "      '층': '2',\n",
       "      '해제사유발생일': None,\n",
       "      '해제여부': None},\n",
       "     {'거래금액': '179,000',\n",
       "      '거래유형': '중개거래',\n",
       "      '건축년도': '2008',\n",
       "      '년': '2023',\n",
       "      '도로명': '사직로8길',\n",
       "      '도로명건물본번호코드': '00004',\n",
       "      '도로명건물부번호코드': '00000',\n",
       "      '도로명시군구코드': '11110',\n",
       "      '도로명일련번호코드': '03',\n",
       "      '도로명지상지하코드': '0',\n",
       "      '도로명코드': '4100135',\n",
       "      '동': '104',\n",
       "      '등기일자': '24.02.01',\n",
       "      '매도자': None,\n",
       "      '매수자': None,\n",
       "      '법정동': '사직동',\n",
       "      '법정동본번코드': '0009',\n",
       "      '법정동부번코드': '0000',\n",
       "      '법정동시군구코드': '11110',\n",
       "      '법정동읍면동코드': '11500',\n",
       "      '법정동지번코드': '1',\n",
       "      '아파트': '광화문스페이스본(101동~105동)',\n",
       "      '월': '12',\n",
       "      '일': '2',\n",
       "      '일련번호': '11110-2203',\n",
       "      '전용면적': '151.81',\n",
       "      '중개사소재지': '서울 종로구',\n",
       "      '지번': '9',\n",
       "      '지역코드': '11110',\n",
       "      '층': '11',\n",
       "      '해제사유발생일': None,\n",
       "      '해제여부': None},\n",
       "     {'거래금액': '280,000',\n",
       "      '거래유형': '중개거래',\n",
       "      '건축년도': '2020',\n",
       "      '년': '2023',\n",
       "      '도로명': '새문안로2길',\n",
       "      '도로명건물본번호코드': '00010',\n",
       "      '도로명건물부번호코드': '00000',\n",
       "      '도로명시군구코드': '11110',\n",
       "      '도로명일련번호코드': '01',\n",
       "      '도로명지상지하코드': '0',\n",
       "      '도로명코드': '4100157',\n",
       "      '동': None,\n",
       "      '등기일자': '24.02.22',\n",
       "      '매도자': None,\n",
       "      '매수자': None,\n",
       "      '법정동': '신문로2가',\n",
       "      '법정동본번코드': '0171',\n",
       "      '법정동부번코드': '0000',\n",
       "      '법정동시군구코드': '11110',\n",
       "      '법정동읍면동코드': '12100',\n",
       "      '법정동지번코드': '1',\n",
       "      '아파트': '디팰리스',\n",
       "      '월': '12',\n",
       "      '일': '11',\n",
       "      '일련번호': '11110-2539',\n",
       "      '전용면적': '118.749',\n",
       "      '중개사소재지': '서울 성동구',\n",
       "      '지번': '171',\n",
       "      '지역코드': '11110',\n",
       "      '층': '16',\n",
       "      '해제사유발생일': None,\n",
       "      '해제여부': None},\n",
       "     {'거래금액': '16,000',\n",
       "      '거래유형': '직거래',\n",
       "      '건축년도': '2017',\n",
       "      '년': '2023',\n",
       "      '도로명': '대학로',\n",
       "      '도로명건물본번호코드': '00033',\n",
       "      '도로명건물부번호코드': '00000',\n",
       "      '도로명시군구코드': '11110',\n",
       "      '도로명일련번호코드': '00',\n",
       "      '도로명지상지하코드': '0',\n",
       "      '도로명코드': '3100002',\n",
       "      '동': '포레스트힐시티',\n",
       "      '등기일자': '24.01.05',\n",
       "      '매도자': None,\n",
       "      '매수자': None,\n",
       "      '법정동': '효제동',\n",
       "      '법정동본번코드': '0065',\n",
       "      '법정동부번코드': '0002',\n",
       "      '법정동시군구코드': '11110',\n",
       "      '법정동읍면동코드': '16200',\n",
       "      '법정동지번코드': '1',\n",
       "      '아파트': '포레스트힐시티',\n",
       "      '월': '12',\n",
       "      '일': '26',\n",
       "      '일련번호': '11110-2440',\n",
       "      '전용면적': '18.505',\n",
       "      '중개사소재지': None,\n",
       "      '지번': '65-2',\n",
       "      '지역코드': '11110',\n",
       "      '층': '12',\n",
       "      '해제사유발생일': None,\n",
       "      '해제여부': None},\n",
       "     {'거래금액': '70,000',\n",
       "      '거래유형': '중개거래',\n",
       "      '건축년도': '1992',\n",
       "      '년': '2023',\n",
       "      '도로명': '동망산길',\n",
       "      '도로명건물본번호코드': '00019',\n",
       "      '도로명건물부번호코드': '00000',\n",
       "      '도로명시군구코드': '11110',\n",
       "      '도로명일련번호코드': '01',\n",
       "      '도로명지상지하코드': '0',\n",
       "      '도로명코드': '4100065',\n",
       "      '동': '102',\n",
       "      '등기일자': '24.01.12',\n",
       "      '매도자': None,\n",
       "      '매수자': None,\n",
       "      '법정동': '창신동',\n",
       "      '법정동본번코드': '0702',\n",
       "      '법정동부번코드': '0000',\n",
       "      '법정동시군구코드': '11110',\n",
       "      '법정동읍면동코드': '17400',\n",
       "      '법정동지번코드': '1',\n",
       "      '아파트': '창신쌍용1',\n",
       "      '월': '12',\n",
       "      '일': '2',\n",
       "      '일련번호': '11110-37',\n",
       "      '전용면적': '79.87',\n",
       "      '중개사소재지': '서울 종로구',\n",
       "      '지번': '702',\n",
       "      '지역코드': '11110',\n",
       "      '층': '10',\n",
       "      '해제사유발생일': None,\n",
       "      '해제여부': None}]},\n",
       "   'numOfRows': '5',\n",
       "   'pageNo': '1',\n",
       "   'totalCount': '20'}}}"
      ]
     },
     "execution_count": 32,
     "metadata": {},
     "output_type": "execute_result"
    }
   ],
   "source": [
    "data2"
   ]
  },
  {
   "cell_type": "code",
   "execution_count": null,
   "metadata": {},
   "outputs": [],
   "source": []
  }
 ],
 "metadata": {
  "kernelspec": {
   "display_name": "Python 3",
   "language": "python",
   "name": "python3"
  },
  "language_info": {
   "codemirror_mode": {
    "name": "ipython",
    "version": 3
   },
   "file_extension": ".py",
   "mimetype": "text/x-python",
   "name": "python",
   "nbconvert_exporter": "python",
   "pygments_lexer": "ipython3",
   "version": "3.11.4"
  }
 },
 "nbformat": 4,
 "nbformat_minor": 2
}
