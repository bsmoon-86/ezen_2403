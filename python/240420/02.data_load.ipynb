{
 "cells": [
  {
   "cell_type": "markdown",
   "metadata": {},
   "source": [
    "### 특정 경로에 있는 파일의 목록을 로드 \n",
    "1. 일반적인 방법 -> 상대경로, 절대경로를 이용하여 파일을 하나씩 로드 \n",
    "2. 특정 경로에 있는 파일의 목록(list)을 기준으로 데이터 로드 \n",
    "    - os 라이브러리 이용\n",
    "    - glob 라이브러리 이용"
   ]
  },
  {
   "cell_type": "code",
   "execution_count": 1,
   "metadata": {},
   "outputs": [],
   "source": [
    "import os \n",
    "import glob\n",
    "import pandas as pd"
   ]
  },
  {
   "cell_type": "code",
   "execution_count": 2,
   "metadata": {},
   "outputs": [
    {
     "name": "stdout",
     "output_type": "stream",
     "text": [
      "['201701_expense_list.csv', '201702_expense_list.csv', '201703_expense_list.csv', '201704_expense_list.csv', '201705_expense_list.csv', '201706_expense_list.csv', '201707_expense_list.csv', '201708_expense_list.csv', '201709_expense_list.csv', '201710_expense_list.csv', '201711_expense_list.csv', '201712_expense_list.csv']\n"
     ]
    }
   ],
   "source": [
    "# os 라이브러리를 이용 \n",
    "# os 라이브러리 안에 있는 함수 : 목록(list) + 파일리스트를 확인하는 키워드(dir) = listdir(경로)\n",
    "# 경로 : 상위 폴더로 이동(../) -> csv 폴더로 이동(csv/) -> 2017 폴더로 이동(2017/) \n",
    "print(os.listdir(\"../csv/2017/\"))"
   ]
  },
  {
   "cell_type": "code",
   "execution_count": 3,
   "metadata": {},
   "outputs": [],
   "source": [
    "file_list = os.listdir('../csv/2021/')"
   ]
  },
  {
   "cell_type": "code",
   "execution_count": 4,
   "metadata": {},
   "outputs": [],
   "source": [
    "file = file_list[0]"
   ]
  },
  {
   "cell_type": "code",
   "execution_count": 5,
   "metadata": {},
   "outputs": [
    {
     "data": {
      "text/plain": [
       "True"
      ]
     },
     "execution_count": 5,
     "metadata": {},
     "output_type": "execute_result"
    }
   ],
   "source": [
    "# 문자열에서 마지막 3글자를 출력하려면?\n",
    "file[-3: ] == 'csv'"
   ]
  },
  {
   "cell_type": "code",
   "execution_count": 6,
   "metadata": {},
   "outputs": [
    {
     "data": {
      "text/plain": [
       "True"
      ]
     },
     "execution_count": 6,
     "metadata": {},
     "output_type": "execute_result"
    }
   ],
   "source": [
    "file.split('.')[-1] == 'csv'"
   ]
  },
  {
   "cell_type": "code",
   "execution_count": 7,
   "metadata": {},
   "outputs": [
    {
     "data": {
      "text/plain": [
       "True"
      ]
     },
     "execution_count": 7,
     "metadata": {},
     "output_type": "execute_result"
    }
   ],
   "source": [
    "# 문자열의 마지막 문자가 특정 문자와 같은가?\n",
    "file.endswith('csv')"
   ]
  },
  {
   "cell_type": "code",
   "execution_count": 8,
   "metadata": {},
   "outputs": [
    {
     "data": {
      "text/plain": [
       "('202101_expense_list', '.csv')"
      ]
     },
     "execution_count": 8,
     "metadata": {},
     "output_type": "execute_result"
    }
   ],
   "source": [
    "# 파일 이름에서 확장자를 분리하는 함수 \n",
    "os.path.splitext(file)"
   ]
  },
  {
   "cell_type": "code",
   "execution_count": null,
   "metadata": {},
   "outputs": [],
   "source": [
    "## file_list에서 특정 확장자를 제외하고 모두 제거 \n",
    "file_list2 = file_list.copy()\n",
    "\n",
    "for file in file_list:\n",
    "    # print(file)\n",
    "    # file의 확장자가 csv가 아니라면 \n",
    "    if file.split('.')[-1] == 'csv':\n",
    "        print(file.split('.')[-1])\n",
    "    else:\n",
    "        print(file)\n",
    "        file_list2.remove(file)"
   ]
  },
  {
   "cell_type": "code",
   "execution_count": 10,
   "metadata": {},
   "outputs": [
    {
     "data": {
      "text/plain": [
       "['202101_expense_list.csv',\n",
       " '202102_expense_list.csv',\n",
       " '202103_expense_list.csv',\n",
       " '202104_expense_list.csv',\n",
       " '202105_expense_list.csv',\n",
       " '202106_expense_list.csv',\n",
       " '202107_expense_list.csv',\n",
       " '202108_expense_list.csv',\n",
       " '202109_expense_list.csv',\n",
       " '202110_expense_list.csv',\n",
       " '202111_expense_list.csv',\n",
       " '202112_expense_list.csv']"
      ]
     },
     "execution_count": 10,
     "metadata": {},
     "output_type": "execute_result"
    }
   ],
   "source": [
    "file_list2"
   ]
  },
  {
   "cell_type": "code",
   "execution_count": 11,
   "metadata": {},
   "outputs": [],
   "source": [
    "# file_list에서 특정 확장자를 가진 데이터를 새로운 리스트에 추가 \n",
    "file_list3 = []\n",
    "\n",
    "for file in file_list:\n",
    "    if file.endswith('csv'):\n",
    "        file_list3.append(file)\n"
   ]
  },
  {
   "cell_type": "code",
   "execution_count": 12,
   "metadata": {},
   "outputs": [
    {
     "data": {
      "text/plain": [
       "['202101_expense_list.csv',\n",
       " '202102_expense_list.csv',\n",
       " '202103_expense_list.csv',\n",
       " '202104_expense_list.csv',\n",
       " '202105_expense_list.csv',\n",
       " '202106_expense_list.csv',\n",
       " '202107_expense_list.csv',\n",
       " '202108_expense_list.csv',\n",
       " '202109_expense_list.csv',\n",
       " '202110_expense_list.csv',\n",
       " '202111_expense_list.csv',\n",
       " '202112_expense_list.csv']"
      ]
     },
     "execution_count": 12,
     "metadata": {},
     "output_type": "execute_result"
    }
   ],
   "source": [
    "file_list3"
   ]
  },
  {
   "cell_type": "code",
   "execution_count": 13,
   "metadata": {},
   "outputs": [],
   "source": [
    "from glob import glob"
   ]
  },
  {
   "cell_type": "code",
   "execution_count": 14,
   "metadata": {},
   "outputs": [],
   "source": [
    "glob_list = glob(\"../csv/2021/*.csv\")"
   ]
  },
  {
   "cell_type": "code",
   "execution_count": 21,
   "metadata": {},
   "outputs": [
    {
     "data": {
      "text/plain": [
       "['../csv/2021\\\\202101_expense_list.csv',\n",
       " '../csv/2021\\\\202102_expense_list.csv',\n",
       " '../csv/2021\\\\202103_expense_list.csv',\n",
       " '../csv/2021\\\\202104_expense_list.csv',\n",
       " '../csv/2021\\\\202105_expense_list.csv',\n",
       " '../csv/2021\\\\202106_expense_list.csv',\n",
       " '../csv/2021\\\\202107_expense_list.csv',\n",
       " '../csv/2021\\\\202108_expense_list.csv',\n",
       " '../csv/2021\\\\202109_expense_list.csv',\n",
       " '../csv/2021\\\\202110_expense_list.csv',\n",
       " '../csv/2021\\\\202111_expense_list.csv',\n",
       " '../csv/2021\\\\202112_expense_list.csv']"
      ]
     },
     "execution_count": 21,
     "metadata": {},
     "output_type": "execute_result"
    }
   ],
   "source": [
    "glob_list"
   ]
  },
  {
   "cell_type": "code",
   "execution_count": 15,
   "metadata": {},
   "outputs": [],
   "source": [
    "i = 1\n",
    "for file in glob_list:\n",
    "    # print(file)\n",
    "    globals()[f\"df{i}\"] = pd.read_csv(file)\n",
    "    i += 1\n"
   ]
  },
  {
   "cell_type": "code",
   "execution_count": 16,
   "metadata": {},
   "outputs": [],
   "source": [
    "# 전역변수가 저장되어 있는 공간 \n",
    "globals()['df20'] = 'test'"
   ]
  },
  {
   "cell_type": "code",
   "execution_count": 17,
   "metadata": {},
   "outputs": [
    {
     "data": {
      "text/plain": [
       "'test'"
      ]
     },
     "execution_count": 17,
     "metadata": {},
     "output_type": "execute_result"
    }
   ],
   "source": [
    "df20"
   ]
  },
  {
   "cell_type": "code",
   "execution_count": 18,
   "metadata": {},
   "outputs": [],
   "source": [
    "i = 21\n",
    "globals()[f\"df{i}\"] = 'test1111'"
   ]
  },
  {
   "cell_type": "code",
   "execution_count": 19,
   "metadata": {},
   "outputs": [
    {
     "data": {
      "text/plain": [
       "'test1111'"
      ]
     },
     "execution_count": 19,
     "metadata": {},
     "output_type": "execute_result"
    }
   ],
   "source": [
    "df21"
   ]
  },
  {
   "cell_type": "code",
   "execution_count": 20,
   "metadata": {},
   "outputs": [
    {
     "ename": "NameError",
     "evalue": "name 'df' is not defined",
     "output_type": "error",
     "traceback": [
      "\u001b[1;31m---------------------------------------------------------------------------\u001b[0m",
      "\u001b[1;31mNameError\u001b[0m                                 Traceback (most recent call last)",
      "Cell \u001b[1;32mIn[20], line 1\u001b[0m\n\u001b[1;32m----> 1\u001b[0m \u001b[43mdf\u001b[49m\u001b[38;5;241m.\u001b[39mhead()\n",
      "\u001b[1;31mNameError\u001b[0m: name 'df' is not defined"
     ]
    }
   ],
   "source": [
    "df.head()"
   ]
  },
  {
   "cell_type": "code",
   "execution_count": null,
   "metadata": {},
   "outputs": [],
   "source": [
    "df10.head()"
   ]
  }
 ],
 "metadata": {
  "kernelspec": {
   "display_name": "Python 3",
   "language": "python",
   "name": "python3"
  },
  "language_info": {
   "codemirror_mode": {
    "name": "ipython",
    "version": 3
   },
   "file_extension": ".py",
   "mimetype": "text/x-python",
   "name": "python",
   "nbconvert_exporter": "python",
   "pygments_lexer": "ipython3",
   "version": "3.11.4"
  }
 },
 "nbformat": 4,
 "nbformat_minor": 2
}
