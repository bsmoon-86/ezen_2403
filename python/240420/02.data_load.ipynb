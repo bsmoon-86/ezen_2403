{
 "cells": [
  {
   "cell_type": "markdown",
   "metadata": {},
   "source": [
    "### 특정 경로에 있는 파일의 목록을 로드 \n",
    "1. 일반적인 방법 -> 상대경로, 절대경로를 이용하여 파일을 하나씩 로드 \n",
    "2. 특정 경로에 있는 파일의 목록(list)을 기준으로 데이터 로드 \n",
    "    - os 라이브러리 이용\n",
    "    - glob 라이브러리 이용"
   ]
  },
  {
   "cell_type": "code",
   "execution_count": 1,
   "metadata": {},
   "outputs": [],
   "source": [
    "import os \n",
    "import glob\n",
    "import pandas as pd"
   ]
  },
  {
   "cell_type": "code",
   "execution_count": 2,
   "metadata": {},
   "outputs": [
    {
     "name": "stdout",
     "output_type": "stream",
     "text": [
      "['201701_expense_list.csv', '201702_expense_list.csv', '201703_expense_list.csv', '201704_expense_list.csv', '201705_expense_list.csv', '201706_expense_list.csv', '201707_expense_list.csv', '201708_expense_list.csv', '201709_expense_list.csv', '201710_expense_list.csv', '201711_expense_list.csv', '201712_expense_list.csv']\n"
     ]
    }
   ],
   "source": [
    "# os 라이브러리를 이용 \n",
    "# os 라이브러리 안에 있는 함수 : 목록(list) + 파일리스트를 확인하는 키워드(dir) = listdir(경로)\n",
    "# 경로 : 상위 폴더로 이동(../) -> csv 폴더로 이동(csv/) -> 2017 폴더로 이동(2017/) \n",
    "print(os.listdir(\"../csv/2017/\"))"
   ]
  },
  {
   "cell_type": "code",
   "execution_count": 8,
   "metadata": {},
   "outputs": [],
   "source": [
    "file_list = os.listdir('../csv/2021/')"
   ]
  },
  {
   "cell_type": "code",
   "execution_count": 10,
   "metadata": {},
   "outputs": [],
   "source": [
    "file = file_list[0]"
   ]
  },
  {
   "cell_type": "code",
   "execution_count": 19,
   "metadata": {},
   "outputs": [
    {
     "data": {
      "text/plain": [
       "True"
      ]
     },
     "execution_count": 19,
     "metadata": {},
     "output_type": "execute_result"
    }
   ],
   "source": [
    "# 문자열에서 마지막 3글자를 출력하려면?\n",
    "file[-3: ] == 'csv'"
   ]
  },
  {
   "cell_type": "code",
   "execution_count": 20,
   "metadata": {},
   "outputs": [
    {
     "data": {
      "text/plain": [
       "True"
      ]
     },
     "execution_count": 20,
     "metadata": {},
     "output_type": "execute_result"
    }
   ],
   "source": [
    "file.split('.')[-1] == 'csv'"
   ]
  },
  {
   "cell_type": "code",
   "execution_count": 23,
   "metadata": {},
   "outputs": [
    {
     "data": {
      "text/plain": [
       "True"
      ]
     },
     "execution_count": 23,
     "metadata": {},
     "output_type": "execute_result"
    }
   ],
   "source": [
    "# 문자열의 마지막 문자가 특정 문자와 같은가?\n",
    "file.endswith('csv')"
   ]
  },
  {
   "cell_type": "code",
   "execution_count": 24,
   "metadata": {},
   "outputs": [
    {
     "data": {
      "text/plain": [
       "('202101_expense_list', '.csv')"
      ]
     },
     "execution_count": 24,
     "metadata": {},
     "output_type": "execute_result"
    }
   ],
   "source": [
    "# 파일 이름에서 확장자를 분리하는 함수 \n",
    "os.path.splitext(file)"
   ]
  },
  {
   "cell_type": "code",
   "execution_count": null,
   "metadata": {},
   "outputs": [],
   "source": [
    "## file_list에서 특정 확장자를 제외하고 모두 제거 \n",
    "file_list2 = file_list.copy()\n",
    "\n",
    "for file in file_list:\n",
    "    # print(file)\n",
    "    # file의 확장자가 csv가 아니라면 \n",
    "    if file.split('.')[-1] == 'csv':\n",
    "        print(file.split('.')[-1])\n",
    "    else:\n",
    "        print(file)\n",
    "        file_list2.remove(file)"
   ]
  },
  {
   "cell_type": "code",
   "execution_count": null,
   "metadata": {},
   "outputs": [],
   "source": [
    "file_list2"
   ]
  },
  {
   "cell_type": "code",
   "execution_count": 41,
   "metadata": {},
   "outputs": [],
   "source": [
    "# file_list에서 특정 확장자를 가진 데이터를 새로운 리스트에 추가 \n",
    "file_list3 = []\n",
    "\n",
    "for file in file_list:\n",
    "    if file.endswith('csv'):\n",
    "        file_list3.append(file)\n"
   ]
  },
  {
   "cell_type": "code",
   "execution_count": null,
   "metadata": {},
   "outputs": [],
   "source": [
    "file_list3"
   ]
  },
  {
   "cell_type": "code",
   "execution_count": 48,
   "metadata": {},
   "outputs": [],
   "source": [
    "from glob import glob"
   ]
  },
  {
   "cell_type": "code",
   "execution_count": 52,
   "metadata": {},
   "outputs": [],
   "source": [
    "glob_list = glob(\"../csv/2021/*.csv\")"
   ]
  },
  {
   "cell_type": "code",
   "execution_count": 62,
   "metadata": {},
   "outputs": [],
   "source": [
    "i = 1\n",
    "for file in glob_list:\n",
    "    # print(file)\n",
    "    globals()[f\"df{i}\"] = pd.read_csv(file)\n",
    "    i += 1\n"
   ]
  },
  {
   "cell_type": "code",
   "execution_count": 58,
   "metadata": {},
   "outputs": [],
   "source": [
    "# 전역변수가 저장되어 있는 공간 \n",
    "globals()['df20'] = 'test'"
   ]
  },
  {
   "cell_type": "code",
   "execution_count": 59,
   "metadata": {},
   "outputs": [
    {
     "data": {
      "text/plain": [
       "'test'"
      ]
     },
     "execution_count": 59,
     "metadata": {},
     "output_type": "execute_result"
    }
   ],
   "source": [
    "df20"
   ]
  },
  {
   "cell_type": "code",
   "execution_count": 60,
   "metadata": {},
   "outputs": [],
   "source": [
    "i = 21\n",
    "globals()[f\"df{i}\"] = 'test1111'"
   ]
  },
  {
   "cell_type": "code",
   "execution_count": 61,
   "metadata": {},
   "outputs": [
    {
     "data": {
      "text/plain": [
       "'test1111'"
      ]
     },
     "execution_count": 61,
     "metadata": {},
     "output_type": "execute_result"
    }
   ],
   "source": [
    "df21"
   ]
  },
  {
   "cell_type": "code",
   "execution_count": null,
   "metadata": {},
   "outputs": [],
   "source": [
    "df.head()"
   ]
  },
  {
   "cell_type": "code",
   "execution_count": 66,
   "metadata": {},
   "outputs": [
    {
     "data": {
      "text/html": [
       "<div>\n",
       "<style scoped>\n",
       "    .dataframe tbody tr th:only-of-type {\n",
       "        vertical-align: middle;\n",
       "    }\n",
       "\n",
       "    .dataframe tbody tr th {\n",
       "        vertical-align: top;\n",
       "    }\n",
       "\n",
       "    .dataframe thead th {\n",
       "        text-align: right;\n",
       "    }\n",
       "</style>\n",
       "<table border=\"1\" class=\"dataframe\">\n",
       "  <thead>\n",
       "    <tr style=\"text-align: right;\">\n",
       "      <th></th>\n",
       "      <th>nid</th>\n",
       "      <th>title</th>\n",
       "      <th>url</th>\n",
       "      <th>dept_nm_lvl_1</th>\n",
       "      <th>dept_nm_lvl_2</th>\n",
       "      <th>dept_nm_lvl_3</th>\n",
       "      <th>dept_nm_lvl_4</th>\n",
       "      <th>dept_nm_lvl_5</th>\n",
       "      <th>exec_yr</th>\n",
       "      <th>exec_month</th>\n",
       "      <th>expense_budget</th>\n",
       "      <th>expense_execution</th>\n",
       "      <th>category</th>\n",
       "      <th>dept_nm_full</th>\n",
       "      <th>exec_dt</th>\n",
       "      <th>exec_loc</th>\n",
       "      <th>exec_purpose</th>\n",
       "      <th>target_nm</th>\n",
       "      <th>payment_method</th>\n",
       "      <th>exec_amount</th>\n",
       "    </tr>\n",
       "  </thead>\n",
       "  <tbody>\n",
       "    <tr>\n",
       "      <th>0</th>\n",
       "      <td>24041525</td>\n",
       "      <td>2021년 10월 사업소 보건환경연구원 연구지원부 업무추진비 - 전체</td>\n",
       "      <td>http://opengov.seoul.go.kr/expense/24041525</td>\n",
       "      <td>사업소</td>\n",
       "      <td>보건환경연구원</td>\n",
       "      <td>연구지원부</td>\n",
       "      <td>NaN</td>\n",
       "      <td>NaN</td>\n",
       "      <td>2021</td>\n",
       "      <td>10</td>\n",
       "      <td>0</td>\n",
       "      <td>0</td>\n",
       "      <td>NaN</td>\n",
       "      <td>보건환경연구원 연구지원부</td>\n",
       "      <td>2021-10-29 12:01</td>\n",
       "      <td>우면당손칼국수(서초구 매헌로 25)</td>\n",
       "      <td>환경 정책 대책 간담회</td>\n",
       "      <td>원장 등 5명(접종완료자1명포함)</td>\n",
       "      <td>카드</td>\n",
       "      <td>68000</td>\n",
       "    </tr>\n",
       "    <tr>\n",
       "      <th>1</th>\n",
       "      <td>24041525</td>\n",
       "      <td>2021년 10월 사업소 보건환경연구원 연구지원부 업무추진비 - 전체</td>\n",
       "      <td>http://opengov.seoul.go.kr/expense/24041525</td>\n",
       "      <td>사업소</td>\n",
       "      <td>보건환경연구원</td>\n",
       "      <td>연구지원부</td>\n",
       "      <td>NaN</td>\n",
       "      <td>NaN</td>\n",
       "      <td>2021</td>\n",
       "      <td>10</td>\n",
       "      <td>0</td>\n",
       "      <td>0</td>\n",
       "      <td>NaN</td>\n",
       "      <td>보건환경연구원 연구지원부</td>\n",
       "      <td>2021-10-28 13:24</td>\n",
       "      <td>강남교자(중구 장충단로13길 13)</td>\n",
       "      <td>미세먼지 대책 간담회</td>\n",
       "      <td>원장 등 2명</td>\n",
       "      <td>제로페이</td>\n",
       "      <td>25000</td>\n",
       "    </tr>\n",
       "    <tr>\n",
       "      <th>2</th>\n",
       "      <td>24041525</td>\n",
       "      <td>2021년 10월 사업소 보건환경연구원 연구지원부 업무추진비 - 전체</td>\n",
       "      <td>http://opengov.seoul.go.kr/expense/24041525</td>\n",
       "      <td>사업소</td>\n",
       "      <td>보건환경연구원</td>\n",
       "      <td>연구지원부</td>\n",
       "      <td>NaN</td>\n",
       "      <td>NaN</td>\n",
       "      <td>2021</td>\n",
       "      <td>10</td>\n",
       "      <td>0</td>\n",
       "      <td>0</td>\n",
       "      <td>NaN</td>\n",
       "      <td>보건환경연구원 연구지원부</td>\n",
       "      <td>2021-10-27 12:38</td>\n",
       "      <td>동지섣달꽃본듯이(서초구 원터6길 3)</td>\n",
       "      <td>주요 연구결과 홍보 계획 관련 논의 간담회</td>\n",
       "      <td>원장 등 5명(접종완료자1명포함)</td>\n",
       "      <td>카드</td>\n",
       "      <td>144000</td>\n",
       "    </tr>\n",
       "    <tr>\n",
       "      <th>3</th>\n",
       "      <td>24041525</td>\n",
       "      <td>2021년 10월 사업소 보건환경연구원 연구지원부 업무추진비 - 전체</td>\n",
       "      <td>http://opengov.seoul.go.kr/expense/24041525</td>\n",
       "      <td>사업소</td>\n",
       "      <td>보건환경연구원</td>\n",
       "      <td>연구지원부</td>\n",
       "      <td>NaN</td>\n",
       "      <td>NaN</td>\n",
       "      <td>2021</td>\n",
       "      <td>10</td>\n",
       "      <td>0</td>\n",
       "      <td>0</td>\n",
       "      <td>NaN</td>\n",
       "      <td>보건환경연구원 연구지원부</td>\n",
       "      <td>2021-10-26 00:00</td>\n",
       "      <td>소속 직원</td>\n",
       "      <td>연구지원부 소속 상근직원 경조사비</td>\n",
       "      <td>원장</td>\n",
       "      <td>현금</td>\n",
       "      <td>50000</td>\n",
       "    </tr>\n",
       "    <tr>\n",
       "      <th>4</th>\n",
       "      <td>24041525</td>\n",
       "      <td>2021년 10월 사업소 보건환경연구원 연구지원부 업무추진비 - 전체</td>\n",
       "      <td>http://opengov.seoul.go.kr/expense/24041525</td>\n",
       "      <td>사업소</td>\n",
       "      <td>보건환경연구원</td>\n",
       "      <td>연구지원부</td>\n",
       "      <td>NaN</td>\n",
       "      <td>NaN</td>\n",
       "      <td>2021</td>\n",
       "      <td>10</td>\n",
       "      <td>0</td>\n",
       "      <td>0</td>\n",
       "      <td>NaN</td>\n",
       "      <td>보건환경연구원 연구지원부</td>\n",
       "      <td>2021-10-26 00:00</td>\n",
       "      <td>소속 직원</td>\n",
       "      <td>연구지원부 소속 직원 경조사비</td>\n",
       "      <td>원장</td>\n",
       "      <td>현금</td>\n",
       "      <td>50000</td>\n",
       "    </tr>\n",
       "  </tbody>\n",
       "</table>\n",
       "</div>"
      ],
      "text/plain": [
       "        nid                                   title  \\\n",
       "0  24041525  2021년 10월 사업소 보건환경연구원 연구지원부 업무추진비 - 전체   \n",
       "1  24041525  2021년 10월 사업소 보건환경연구원 연구지원부 업무추진비 - 전체   \n",
       "2  24041525  2021년 10월 사업소 보건환경연구원 연구지원부 업무추진비 - 전체   \n",
       "3  24041525  2021년 10월 사업소 보건환경연구원 연구지원부 업무추진비 - 전체   \n",
       "4  24041525  2021년 10월 사업소 보건환경연구원 연구지원부 업무추진비 - 전체   \n",
       "\n",
       "                                           url dept_nm_lvl_1 dept_nm_lvl_2  \\\n",
       "0  http://opengov.seoul.go.kr/expense/24041525           사업소       보건환경연구원   \n",
       "1  http://opengov.seoul.go.kr/expense/24041525           사업소       보건환경연구원   \n",
       "2  http://opengov.seoul.go.kr/expense/24041525           사업소       보건환경연구원   \n",
       "3  http://opengov.seoul.go.kr/expense/24041525           사업소       보건환경연구원   \n",
       "4  http://opengov.seoul.go.kr/expense/24041525           사업소       보건환경연구원   \n",
       "\n",
       "  dept_nm_lvl_3 dept_nm_lvl_4 dept_nm_lvl_5  exec_yr  exec_month  \\\n",
       "0         연구지원부           NaN           NaN     2021          10   \n",
       "1         연구지원부           NaN           NaN     2021          10   \n",
       "2         연구지원부           NaN           NaN     2021          10   \n",
       "3         연구지원부           NaN           NaN     2021          10   \n",
       "4         연구지원부           NaN           NaN     2021          10   \n",
       "\n",
       "   expense_budget  expense_execution category   dept_nm_full  \\\n",
       "0               0                  0      NaN  보건환경연구원 연구지원부   \n",
       "1               0                  0      NaN  보건환경연구원 연구지원부   \n",
       "2               0                  0      NaN  보건환경연구원 연구지원부   \n",
       "3               0                  0      NaN  보건환경연구원 연구지원부   \n",
       "4               0                  0      NaN  보건환경연구원 연구지원부   \n",
       "\n",
       "            exec_dt              exec_loc             exec_purpose  \\\n",
       "0  2021-10-29 12:01   우면당손칼국수(서초구 매헌로 25)             환경 정책 대책 간담회   \n",
       "1  2021-10-28 13:24   강남교자(중구 장충단로13길 13)              미세먼지 대책 간담회   \n",
       "2  2021-10-27 12:38  동지섣달꽃본듯이(서초구 원터6길 3)  주요 연구결과 홍보 계획 관련 논의 간담회   \n",
       "3  2021-10-26 00:00                 소속 직원       연구지원부 소속 상근직원 경조사비   \n",
       "4  2021-10-26 00:00                 소속 직원         연구지원부 소속 직원 경조사비   \n",
       "\n",
       "            target_nm payment_method  exec_amount  \n",
       "0  원장 등 5명(접종완료자1명포함)             카드        68000  \n",
       "1             원장 등 2명           제로페이        25000  \n",
       "2  원장 등 5명(접종완료자1명포함)             카드       144000  \n",
       "3                  원장             현금        50000  \n",
       "4                  원장             현금        50000  "
      ]
     },
     "execution_count": 66,
     "metadata": {},
     "output_type": "execute_result"
    }
   ],
   "source": [
    "df10.head()"
   ]
  }
 ],
 "metadata": {
  "kernelspec": {
   "display_name": "Python 3",
   "language": "python",
   "name": "python3"
  },
  "language_info": {
   "codemirror_mode": {
    "name": "ipython",
    "version": 3
   },
   "file_extension": ".py",
   "mimetype": "text/x-python",
   "name": "python",
   "nbconvert_exporter": "python",
   "pygments_lexer": "ipython3",
   "version": "3.11.4"
  }
 },
 "nbformat": 4,
 "nbformat_minor": 2
}
